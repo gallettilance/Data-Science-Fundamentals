{
 "cells": [
  {
   "attachments": {},
   "cell_type": "markdown",
   "metadata": {},
   "source": [
    "# Worksheet 09\n",
    "\n",
    "Name:  JINGYI ZHANG\n",
    "UID: U26578499\n",
    "\n",
    "### Topics\n",
    "\n",
    "- Clustering Review\n",
    "- Clustering Aggregation"
   ]
  },
  {
   "cell_type": "markdown",
   "metadata": {},
   "source": [
    "### Clustering Aggregation\n",
    "\n",
    "| Point | C | P |\n",
    "|-------|---|---|\n",
    "| A     | 0 | a |\n",
    "| B     | 0 | b |\n",
    "| C     | 2 | b |\n",
    "| D     | 1 | c |\n",
    "| E     | 1 | d |\n",
    "\n",
    "a) Fill in the following table where for each pair of points determine whether C and P agree or disagree on how to cluster that pair."
   ]
  },
  {
   "cell_type": "markdown",
   "metadata": {},
   "source": [
    "| Pair | Disagreement |\n",
    "|------|--------------|\n",
    "| A  B |      No      |\n",
    "| A  C |      Yes       |\n",
    "| A  D |      No       |\n",
    "| A  E |      No       |\n",
    "| B  C |      Yes       |\n",
    "| B  D |      No       |\n",
    "| B  E |      No       |\n",
    "| C  D |      Yes       |\n",
    "| C  E |      Yes       |\n",
    "| D  E |      Yes       |\n"
   ]
  },
  {
   "cell_type": "markdown",
   "metadata": {},
   "source": [
    "As datasets become very large, this process can become computationally challenging.\n",
    "\n",
    "b) Given N points, what is the formula for the number of unique pairs of points one can create?"
   ]
  },
  {
   "cell_type": "markdown",
   "metadata": {},
   "source": [
    "The formula for the unique number of points is: C(N, 2) = (N * N - 1) / 2"
   ]
  },
  {
   "cell_type": "markdown",
   "metadata": {},
   "source": [
    "Assume that clustering C clusters all points in the same cluster and clustering P clusters points as such:\n",
    "\n",
    "| Point | P |\n",
    "|-------|---|\n",
    "| A     | 0 |\n",
    "| B     | 0 |\n",
    "| C     | 0 |\n",
    "| D     | 1 |\n",
    "| E     | 1 |\n",
    "| F     | 2 |\n",
    "| G     | 2 |\n",
    "| H     | 2 |\n",
    "| I     | 2 |\n",
    "\n",
    "c) What is the maximum number of disagreements there could be for a dataset of this size? (use the formula from b)?"
   ]
  },
  {
   "cell_type": "markdown",
   "metadata": {},
   "source": [
    "max number of disagreement = [ 9 * ( 9-1) ] /2 = 36"
   ]
  },
  {
   "cell_type": "markdown",
   "metadata": {},
   "source": [
    "d) If we look at cluster 0. There are (3 x 2) / 2 = 3 pairs that agree with C (since all points in C are in the same cluster). For each cluster, determine how many agreements there are. How many total agreements are there? How many disagreements does that mean there are between C and P?"
   ]
  },
  {
   "cell_type": "markdown",
   "metadata": {},
   "source": [
    "In cluster 0, we have three data points labeled as (A, B, C). Since they are all part of the same cluster in both clustering configurations C and P, there is unanimous agreement among these points regarding their cluster assignments. To quantify this agreement, we use the combination formula which in this case is calculated as (3 * 2)/2 = 3 agreements. Similarly, for the other clusters, the calculations yield 1 and 6 agreements respectively. Adding these, we get a total of 1+3+6=10 agreements. Given that there are 36 possible pairwise comparisons among all points, and only 10 of these are agreements, it follows that there are 26 disagreements in total。"
   ]
  },
  {
   "cell_type": "markdown",
   "metadata": {},
   "source": [
    "e) Assuming that filtering the dataset by cluster number is a computationally easy operation, describe an algorithm inspired by the above process that can efficiently compute disagreement distances on large datasets."
   ]
  },
  {
   "cell_type": "markdown",
   "metadata": {},
   "source": [
    "# Efficient Disagreement Distance Calculation Algorithm\n",
    "\n",
    "This document outlines an algorithm designed to efficiently calculate disagreement distances between two clustering schemes on large datasets.\n",
    "\n",
    "## Algorithm Steps\n",
    "\n",
    "### Step 1: Preprocess Input\n",
    "\n",
    "**Input:**\n",
    "- Dataset `D` with points assigned to clusters under two schemes, `C` and `P`.\n",
    "\n",
    "**Operation:**\n",
    "- Create mappings for each point's cluster membership in `C` and `P` using lists or arrays, `C[i]` and `P[i]`, where `i` indexes the points.\n",
    "\n",
    "### Step 2: Cluster Filtering\n",
    "\n",
    "**Operation:**\n",
    "- Organize points into hash tables or dictionaries for each cluster in `C` and `P`. This allows quick retrieval of all points belonging to a specific cluster.\n",
    "\n",
    "### Step 3: Calculate Agreements\n",
    "\n",
    "**Operation:**\n",
    "- For each cluster `k` in `C`, and each cluster `j` in `P`:\n",
    "  - Identify points common to both `C[k]` and `P[j]` (the intersection).\n",
    "  - Calculate the number of agreements using the combination formula n * (n-1) / 2, where `n` is the number of intersecting points.\n",
    "\n",
    "### Step 4: Compute Disagreements\n",
    "\n",
    "**Calculation:**\n",
    "- Subtract the total number of agreements (from Step 3) from the total potential pairwise combinations n * (n-1) / 2, where `N` is the total number of points).\n",
    "\n",
    "### Step 5: Optimization Considerations\n",
    "\n",
    "- **Batch Processing:** Handle large datasets in chunks to manage memory efficiently.\n",
    "- **Parallel Processing:** Use multi-threading or distributed computing to process cluster pairs concurrently.\n",
    "- **Efficient Data Structures:** Use hash maps for cluster memberships and balanced trees for operations like sorting and finding intersections.\n",
    "\n",
    "### Step 6: Output\n",
    "\n",
    "**Return:**\n",
    "- Total number of disagreements, optimized for handling large datasets.\n",
    "\n",
    "## Usage\n",
    "\n",
    "This algorithm is suitable for large datasets where computational efficiency and memory management are critical. It is optimized for scalability and can be adapted to multi-threaded or distributed computing environments.\n",
    "\n",
    "\n"
   ]
  }
 ],
 "metadata": {
  "interpreter": {
   "hash": "76ca05dc3ea24b2e3b98cdb7774adfbb40773424bf5109b477fd793f623715af"
  },
  "kernelspec": {
   "display_name": "Python 3 (ipykernel)",
   "language": "python",
   "name": "python3"
  },
  "language_info": {
   "codemirror_mode": {
    "name": "ipython",
    "version": 3
   },
   "file_extension": ".py",
   "mimetype": "text/x-python",
   "name": "python",
   "nbconvert_exporter": "python",
   "pygments_lexer": "ipython3",
   "version": "3.11.1"
  },
  "orig_nbformat": 4
 },
 "nbformat": 4,
 "nbformat_minor": 2
}
