{
 "cells": [
  {
   "attachments": {},
   "cell_type": "markdown",
   "metadata": {},
   "source": [
    "# Worksheet 14\n",
    "\n",
    "Name:  Thian Amarasekera\n",
    "\n",
    "UID: U91933393\n",
    "\n",
    "### Topics\n",
    "\n",
    "- Naive Bayes\n",
    "- Model Evaluation\n",
    "\n",
    "### Naive Bayes\n",
    "\n",
    "| Attribute A | Attribute B | Attribute C | Class |\n",
    "|-------------|-------------|-------------|-------|\n",
    "| Yes         | Single      | High        | No    |\n",
    "| No          | Married     | Mid         | No    |\n",
    "| No          | Single      | Low         | No    |\n",
    "| Yes         | Married     | High        | No    |\n",
    "| No          | Divorced    | Mid         | Yes   |\n",
    "| No          | Married     | Low         | No    |\n",
    "| Yes         | Divorced    | High        | No    |\n",
    "| No          | Single      | Mid         | Yes   |\n",
    "| No          | Married     | Low         | No    |\n",
    "| No          | Single      | Mid         | Yes   |\n",
    "\n",
    "a) Compute the following probabilities:\n",
    "\n",
    "- P(Attribute A = Yes | Class = No)\n",
    "- P(Attribute B = Divorced | Class = Yes)\n",
    "- P(Attribute C = High | Class = No)\n",
    "- P(Attribute C = Mid | Class = Yes)"
   ]
  },
  {
   "cell_type": "markdown",
   "metadata": {},
   "source": [
    "1. Where Attribute A is \"Yes\" and the Class is \"No\" is 3, and total instances where Class is \"No\" is 6. So, P(Attribute A = Yes|Class = No) = 3/6 = 1/2.\n",
    "2. Where Attribute B is \"Divorced\" and the Class is \"Yes\" is 1, and total instances where Class is \"Yes\" is 3. So, P(Attribute B = Divorced | Class = Yes) = 1/3.\n",
    "3. Where Attribute C is \"High\" and the Class is \"No\" is 3, and the total instances where Class is \"No\" is 6. So, P(Attribute C = High | Class = No) = 3/6 = 1/2.\n",
    "4. Where Attribute C is \"Mid\" and the Class is \"Yes\" is 2, and the total instances where Class is \"Yes\" is 3. So, P(Attribute C = Mid | Class = Yes) = 2/3."
   ]
  },
  {
   "cell_type": "markdown",
   "metadata": {},
   "source": [
    "b) Classify the following unseen records:\n",
    "\n",
    "- (Yes, Married, Mid)\n",
    "- (No, Divorced, High)\n",
    "- (No, Single, High)\n",
    "- (No, Divorced, Low)"
   ]
  },
  {
   "cell_type": "markdown",
   "metadata": {},
   "source": [
    "1. P(Yes | Class = No) = P(Attribute A = Yes | Class = No) * P(Attribute B = Married | Class = No) * P(Attribute C = Mid | Class = No) * P(Class = No) = 1/2 * 1/2 * 1/2 * 1/2 = 1/16. \n",
    "2. P(Yes | Class = Yes) = P(Attribute A = Yes | Class = Yes) * P(Attribute B = Married | Class = Yes) * P(Attribute C = Mid | Class = Yes) * P(Class = Yes) = 1/3 * 0 * 2/3 * 1/3 = 0.\n",
    "The classification is No, since 1/16 > 0. 2. P(No | Class = No) = P(Attribute A = No | Class = No) * P(Attribute B = Divorced | Class = No) * P(Attribute C = High | Class = No) * P(Class = No) = 1/2 * 1/6 * 1/2 * 1/2 = 1/48.\n",
    "3. P(No | Class = Yes) = P(Attribute A = No | Class = Yes) * P(Attribute B = Divorced | Class = Yes) * P(Attribute C = High | Class = Yes) * P(Class = Yes) = 2/3 * 1/3 * 0 * 1/3 = 0.\n",
    "The classification is No, since 1/48 > 0. 3. P(No | Class = No) = P(Attribute A = No | Class = No) * P(Attribute B = Single | Class = No) * P(Attribute C = High | Class = No) * P(Class = No) = 1/2 * 1/3 * 1/2 * 1/2 = 1/24.\n",
    "4. P(No | Class = Yes) = P(Attribute A = No | Class = Yes) * P(Attribute B = Single | Class = Yes) * P(Attribute C = High | Class = Yes) * P(Class = Yes) = 2/3 * 1/3 * 0 * 1/3 = 0.\n",
    "The classification is No, since 1/24 > 0. 4. P(No | Class = No) = P(Attribute A = No | Class = No) * P(Attribute B = Divorced | Class = No) * P(Attribute C = Low | Class = No) * P(Class = No) = 1/2 * 1/6 * 1/2 * 1/2 = 1/48.\n",
    "5. P(No | Class = Yes) = P(Attribute A = No | Class = Yes) * P(Attribute B = Divorced | Class = Yes) * P(Attribute C = Low | Class = Yes) * P(Class = Yes) = 2/3 * 1/3 * 1/3 * 1/3 = 2/81.\n",
    "The classification is No, because 1/48 > 2/81."
   ]
  },
  {
   "cell_type": "markdown",
   "metadata": {},
   "source": [
    "### Model Evaluation\n",
    "\n",
    "a) Write a function to generate the confusion matrix for a list of actual classes and a list of predicted classes"
   ]
  },
  {
   "cell_type": "code",
   "execution_count": 1,
   "metadata": {},
   "outputs": [
    {
     "name": "stdout",
     "output_type": "stream",
     "text": [
      "[[2, 3], [1, 4]]\n"
     ]
    }
   ],
   "source": [
    "actual_class = [\"Yes\", \"No\", \"No\", \"Yes\", \"No\", \"No\", \"Yes\", \"No\", \"No\", \"No\"]\n",
    "predicted_class = [\"Yes\", \"No\", \"Yes\", \"No\", \"No\", \"No\", \"Yes\", \"Yes\", \"Yes\", \"No\"]\n",
    "\n",
    "def confusion_matrix(actual, predicted):\n",
    "    TP = sum(1 for a, p in zip(actual, predicted) if a == \"Yes\" and p == \"Yes\")\n",
    "    TN = sum(1 for a, p in zip(actual, predicted) if a == \"No\" and p == \"No\")\n",
    "    FP = sum(1 for a, p in zip(actual, predicted) if a == \"No\" and p == \"Yes\")\n",
    "    FN = sum(1 for a, p in zip(actual, predicted) if a == \"Yes\" and p == \"No\")\n",
    "\n",
    "    return [[TP, FP], [FN, TN]]\n",
    "\n",
    "print(confusion_matrix(actual_class, predicted_class))"
   ]
  },
  {
   "cell_type": "markdown",
   "metadata": {},
   "source": [
    "b) Assume you have the following Cost Matrix:\n",
    "\n",
    "|            | predicted = Y | predicted = N |\n",
    "|------------|---------------|---------------|\n",
    "| actual = Y |       -1      |       5       |\n",
    "| actual = N |        10     |       0       |\n",
    "\n",
    "What is the cost of the above classification?"
   ]
  },
  {
   "cell_type": "markdown",
   "metadata": {},
   "source": [
    "The cost of the classification is calculated as:\n",
    "Cost = (2 * -1) + (1 * 5) + (2 * 10) + (5 * 0)\n",
    "= -2 + 5 + 20 + 0\n",
    "= 23"
   ]
  },
  {
   "cell_type": "markdown",
   "metadata": {},
   "source": [
    "c) Write a function that takes in the actual values, the predictions, and a cost matrix and outputs a cost. Test it on the above example."
   ]
  },
  {
   "cell_type": "code",
   "execution_count": 2,
   "metadata": {},
   "outputs": [
    {
     "name": "stdout",
     "output_type": "stream",
     "text": [
      "33\n"
     ]
    }
   ],
   "source": [
    "def compute_cost(actual, predicted, cost_matrix):\n",
    "    tp = sum(a == 'Yes' and p == 'Yes' for a, p in zip(actual, predicted))\n",
    "    fn = sum(a == 'Yes' and p == 'No' for a, p in zip(actual, predicted))\n",
    "    fp = sum(a == 'No' and p == 'Yes' for a, p in zip(actual, predicted))\n",
    "    tn = sum(a == 'No' and p == 'No' for a, p in zip(actual, predicted))\n",
    "    cost = tp * cost_matrix['YY'] + fn * cost_matrix['YN'] + fp * cost_matrix['NY'] + tn * cost_matrix['NN']\n",
    "    return cost\n",
    "\n",
    "cost_matrix = {\n",
    "    'YY': -1,\n",
    "    'YN': 5,\n",
    "    'NY': 10,\n",
    "    'NN': 0\n",
    "}\n",
    "\n",
    "actual_class = [\"Yes\", \"No\", \"No\", \"Yes\", \"No\", \"No\", \"Yes\", \"No\", \"No\", \"No\"]\n",
    "predicted_class = [\"Yes\", \"No\", \"Yes\", \"No\", \"No\", \"No\", \"Yes\", \"Yes\", \"Yes\", \"No\"]\n",
    "\n",
    "print(compute_cost(actual_class, predicted_class, cost_matrix))"
   ]
  },
  {
   "cell_type": "markdown",
   "metadata": {},
   "source": [
    "d) Implement functions for the following:\n",
    "\n",
    "- accuracy\n",
    "- precision\n",
    "- recall\n",
    "- f-measure\n",
    "\n",
    "and apply them to the above example."
   ]
  },
  {
   "cell_type": "code",
   "execution_count": 3,
   "metadata": {},
   "outputs": [
    {
     "name": "stdout",
     "output_type": "stream",
     "text": [
      "Accuracy: 0.6\n",
      "Precision: 0.4\n",
      "Recall: 0.6666666666666666\n",
      "F1 Score: 0.5\n"
     ]
    }
   ],
   "source": [
    "def get_confusion_matrix_elements(actual, predicted):\n",
    "    tp = sum(a == 'Yes' and p == 'Yes' for a, p in zip(actual, predicted))\n",
    "    fn = sum(a == 'Yes' and p == 'No' for a, p in zip(actual, predicted))\n",
    "    fp = sum(a == 'No' and p == 'Yes' for a, p in zip(actual, predicted))\n",
    "    tn = sum(a == 'No' and p == 'No' for a, p in zip(actual, predicted))\n",
    "    return tp, fn, fp, tn\n",
    "\n",
    "def accuracy(actual, predicted):\n",
    "    tp, fn, fp, tn = get_confusion_matrix_elements(actual, predicted)\n",
    "    return (tp + tn) / (tp + fn + fp + tn)\n",
    "\n",
    "def precision(actual, predicted):\n",
    "    tp, fn, fp, tn = get_confusion_matrix_elements(actual, predicted)\n",
    "    return tp / (tp + fp)\n",
    "\n",
    "def recall(actual, predicted):\n",
    "    tp, fn, fp, tn = get_confusion_matrix_elements(actual, predicted)\n",
    "    return tp / (tp + fn)\n",
    "\n",
    "def f_measure(actual, predicted):\n",
    "    p = precision(actual, predicted)\n",
    "    r = recall(actual, predicted)\n",
    "    return 2 * p * r / (p + r)\n",
    "\n",
    "# Given actual and predicted values\n",
    "actual_class = [\"Yes\", \"No\", \"No\", \"Yes\", \"No\", \"No\", \"Yes\", \"No\", \"No\", \"No\"]\n",
    "predicted_class = [\"Yes\", \"No\", \"Yes\", \"No\", \"No\", \"No\", \"Yes\", \"Yes\", \"Yes\", \"No\"]\n",
    "\n",
    "# Calculate and print metrics\n",
    "print(\"Accuracy:\", accuracy(actual_class, predicted_class))\n",
    "print(\"Precision:\", precision(actual_class, predicted_class))\n",
    "print(\"Recall:\", recall(actual_class, predicted_class))\n",
    "print(\"F1 Score:\", f_measure(actual_class, predicted_class))"
   ]
  }
 ],
 "metadata": {
  "kernelspec": {
   "display_name": "Python 3",
   "language": "python",
   "name": "python3"
  },
  "language_info": {
   "codemirror_mode": {
    "name": "ipython",
    "version": 3
   },
   "file_extension": ".py",
   "mimetype": "text/x-python",
   "name": "python",
   "nbconvert_exporter": "python",
   "pygments_lexer": "ipython3",
   "version": "3.9.12"
  },
  "orig_nbformat": 4,
  "vscode": {
   "interpreter": {
    "hash": "e7370f93d1d0cde622a1f8e1c04877d8463912d04d973331ad4851f04de6915a"
   }
  }
 },
 "nbformat": 4,
 "nbformat_minor": 2
}
