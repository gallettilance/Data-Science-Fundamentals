{
 "cells": [
  {
   "attachments": {},
   "cell_type": "markdown",
   "metadata": {},
   "source": [
    "# Worksheet 14\n",
    "\n",
    "Name:  Ruihang Liu\n",
    "UID: U49596386\n",
    "\n",
    "### Topics\n",
    "\n",
    "- Naive Bayes\n",
    "- Model Evaluation\n",
    "\n",
    "### Naive Bayes\n",
    "\n",
    "| Attribute A | Attribute B | Attribute C | Class |\n",
    "|-------------|-------------|-------------|-------|\n",
    "| Yes         | Single      | High        | No    |\n",
    "| No          | Married     | Mid         | No    |\n",
    "| No          | Single      | Low         | No    |\n",
    "| Yes         | Married     | High        | No    |\n",
    "| No          | Divorced    | Mid         | Yes   |\n",
    "| No          | Married     | Low         | No    |\n",
    "| Yes         | Divorced    | High        | No    |\n",
    "| No          | Single      | Mid         | Yes   |\n",
    "| No          | Married     | Low         | No    |\n",
    "| No          | Single      | Mid         | Yes   |\n",
    "\n",
    "a) Compute the following probabilities:\n",
    "\n",
    "- P(Attribute A = Yes | Class = No) = 3/7\n",
    "- P(Attribute B = Divorced | Class = Yes) = 1/3\n",
    "- P(Attribute C = High | Class = No) = 3/7\n",
    "- P(Attribute C = Mid | Class = Yes) = 1"
   ]
  },
  {
   "cell_type": "markdown",
   "metadata": {},
   "source": [
    "b) Classify the following unseen records:\n",
    "\n",
    "- (Yes, Married, Mid)\n",
    "    - Pr(A = Yes ｜ Class = Yes) * Pr(B = Married ｜ Class = Yes) * Pr(C = Mid ｜ Class = Yes) = 0\n",
    "    - Pr(A = Yes ｜ Class = No) * Pr(B = Married ｜ Class = No) * Pr(C = Mid ｜ Class = No) = 3/7 * 4/7 * 1 = 12/49\n",
    "    - So, Classify as **No**\n",
    "- (No, Divorced, High)\n",
    "    - Pr(A = No ｜ Class = Yes) * Pr(B = Divorced ｜ Class = Yes) * Pr(C = High ｜ Class = Yes) = 0\n",
    "    - Pr(A = No ｜ Class = No) * Pr(B = Divorced ｜ Class = No) * Pr(C = High ｜ Class = No) = 12/343\n",
    "    - So, Classify as **No**\n",
    "- (No, Single, High)\n",
    "    - Pr(A = No ｜ Class = Yes) * Pr(B = Single ｜ Class = Yes) * Pr(C = High ｜ Class = Yes) = 0\n",
    "    - Pr(A = No ｜ Class = No) * Pr(B = Single ｜ Class = No) * Pr(C = High ｜ Class = No) = 24/343\n",
    "    - So, Classify as **No**\n",
    "- (No, Divorced, Low)\n",
    "    - Pr(A = No ｜ Class = Yes) * Pr(B = Divorced ｜ Class = Yes) * Pr(C = Low ｜ Class = Yes) = 0\n",
    "    - Pr(A = No ｜ Class = No) * Pr(B = Divorced ｜ Class = No) * Pr(C = Low ｜ Class = No) = 12/343\n",
    "    - So, Classify as **No**\n"
   ]
  },
  {
   "cell_type": "markdown",
   "metadata": {},
   "source": [
    "### Model Evaluation\n",
    "\n",
    "a) Write a function to generate the confusion matrix for a list of actual classes and a list of predicted classes"
   ]
  },
  {
   "cell_type": "code",
   "execution_count": 1,
   "metadata": {},
   "outputs": [
    {
     "name": "stdout",
     "output_type": "stream",
     "text": [
      "[[2, 1], [3, 4]]\n"
     ]
    }
   ],
   "source": [
    "actual_class = [\"Yes\", \"No\", \"No\", \"Yes\", \"No\", \"No\", \"Yes\", \"No\", \"No\", \"No\"]\n",
    "predicted_class = [\"Yes\", \"No\", \"Yes\", \"No\", \"No\", \"No\", \"Yes\", \"Yes\", \"Yes\", \"No\"]\n",
    "\n",
    "def get_confusion_matrix(actual, predicted):\n",
    "    yes_yes, yes_no, no_no, no_yes = 0,0,0,0\n",
    "\n",
    "    for i in range(len(actual)):\n",
    "        if predicted[i] == \"Yes\" and actual[i] == \"Yes\":\n",
    "            yes_yes += 1\n",
    "        elif predicted[i] == \"No\" and actual[i] == \"No\":\n",
    "            no_no += 1\n",
    "        elif predicted[i] == \"Yes\" and actual[i] == \"No\":\n",
    "            yes_no += 1\n",
    "        elif predicted[i] == \"No\" and actual[i] == \"Yes\":\n",
    "            no_yes += 1\n",
    "    \n",
    "    return [[yes_yes, no_yes], \n",
    "            [yes_no, no_no]]\n",
    "    \n",
    "print(get_confusion_matrix(actual_class, predicted_class))"
   ]
  },
  {
   "cell_type": "markdown",
   "metadata": {},
   "source": [
    "b) Assume you have the following Cost Matrix:\n",
    "\n",
    "|            | predicted = Y | predicted = N |\n",
    "|------------|---------------|---------------|\n",
    "| actual = Y |       -1      |       5       |\n",
    "| actual = N |        10     |       0       |\n",
    "\n",
    "What is the cost of the above classification?"
   ]
  },
  {
   "cell_type": "markdown",
   "metadata": {},
   "source": [
    "-1 * 2 + 5 * 1 + 3 * 10 + 0 = 33"
   ]
  },
  {
   "cell_type": "markdown",
   "metadata": {},
   "source": [
    "c) Write a function that takes in the actual values, the predictions, and a cost matrix and outputs a cost. Test it on the above example."
   ]
  },
  {
   "cell_type": "code",
   "execution_count": 2,
   "metadata": {},
   "outputs": [
    {
     "data": {
      "text/plain": [
       "33"
      ]
     },
     "execution_count": 2,
     "metadata": {},
     "output_type": "execute_result"
    }
   ],
   "source": [
    "cost_matrix = [[-1, 5], [10, 0]]\n",
    "\n",
    "def get_cost(actual, predicted, cost_matrix):\n",
    "    cost = 0\n",
    "    confusion_matrix = get_confusion_matrix(actual, predicted)\n",
    "\n",
    "    for i in range(len(confusion_matrix)):\n",
    "        for j in range(len(confusion_matrix[i])):\n",
    "            cost += confusion_matrix[i][j] * cost_matrix[i][j]\n",
    "    \n",
    "    return cost\n",
    "\n",
    "get_cost(actual_class, predicted_class, cost_matrix)"
   ]
  },
  {
   "cell_type": "markdown",
   "metadata": {},
   "source": [
    "d) Implement functions for the following:\n",
    "\n",
    "- accuracy\n",
    "- precision\n",
    "- recall\n",
    "- f-measure\n",
    "\n",
    "and apply them to the above example."
   ]
  },
  {
   "cell_type": "code",
   "execution_count": 3,
   "metadata": {},
   "outputs": [
    {
     "name": "stdout",
     "output_type": "stream",
     "text": [
      "Accuracy: 0.6\n",
      "Precision: 0.4\n",
      "Recall: 0.6666666666666666\n",
      "F-measure: 0.5\n"
     ]
    }
   ],
   "source": [
    "def get_accuracy(actual_class, predicted_class):\n",
    "    correct = 0\n",
    "    for ir in range(len(actual_class)):\n",
    "        if actual_class[ir] == predicted_class[ir]:\n",
    "            correct += 1\n",
    "    return correct / len(actual_class)\n",
    "\n",
    "    \n",
    "def get_precision(actual_class, predicted_class):\n",
    "    TP = 0\n",
    "    FP = 0\n",
    "    for ir in range(len(actual_class)):\n",
    "        if actual_class[ir] == \"Yes\" and predicted_class[ir] == \"Yes\":\n",
    "            TP += 1\n",
    "        if actual_class[ir] == \"No\" and predicted_class[ir] == \"Yes\":\n",
    "            FP += 1\n",
    "    return TP / (TP + FP)\n",
    "\n",
    "\n",
    "def get_recall(actual_class, predicted_class):\n",
    "    TP = 0\n",
    "    FN = 0\n",
    "    for ir in range(len(actual_class)):\n",
    "        if actual_class[ir] == \"Yes\" and predicted_class[ir] == \"Yes\":\n",
    "            TP += 1\n",
    "        if actual_class[ir] == \"Yes\" and predicted_class[ir] == \"No\":\n",
    "            FN += 1\n",
    "    return TP / (TP + FN)\n",
    "\n",
    "\n",
    "def get_f_measure(actual_class, predicted_class):\n",
    "    precision = get_precision(actual_class, predicted_class)\n",
    "    recall = get_recall(actual_class, predicted_class)\n",
    "    return 2 * (precision * recall) / (precision + recall)\n",
    "\n",
    "\n",
    "print(\"Accuracy:\", get_accuracy(actual_class, predicted_class))\n",
    "print(\"Precision:\", get_precision(actual_class, predicted_class))\n",
    "print(\"Recall:\", get_recall(actual_class, predicted_class))\n",
    "print(\"F-measure:\", get_f_measure(actual_class, predicted_class))"
   ]
  }
 ],
 "metadata": {
  "kernelspec": {
   "display_name": "Python 3",
   "language": "python",
   "name": "python3"
  },
  "language_info": {
   "codemirror_mode": {
    "name": "ipython",
    "version": 3
   },
   "file_extension": ".py",
   "mimetype": "text/x-python",
   "name": "python",
   "nbconvert_exporter": "python",
   "pygments_lexer": "ipython3",
   "version": "3.9.13"
  },
  "orig_nbformat": 4,
  "vscode": {
   "interpreter": {
    "hash": "e7370f93d1d0cde622a1f8e1c04877d8463912d04d973331ad4851f04de6915a"
   }
  }
 },
 "nbformat": 4,
 "nbformat_minor": 2
}
