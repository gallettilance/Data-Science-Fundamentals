{
 "cells": [
  {
   "attachments": {},
   "cell_type": "markdown",
   "metadata": {},
   "source": [
    "# Worksheet 14\n",
    "\n",
    "Name:  Tianyi Wang\n",
    "\n",
    "UID: U94598267\n",
    "\n",
    "### Topics\n",
    "\n",
    "- Naive Bayes\n",
    "- Model Evaluation\n",
    "\n",
    "### Naive Bayes\n",
    "\n",
    "| Attribute A | Attribute B | Attribute C | Class |\n",
    "|-------------|-------------|-------------|-------|\n",
    "| Yes         | Single      | High        | No    |\n",
    "| No          | Married     | Mid         | No    |\n",
    "| No          | Single      | Low         | No    |\n",
    "| Yes         | Married     | High        | No    |\n",
    "| No          | Divorced    | Mid         | Yes   |\n",
    "| No          | Married     | Low         | No    |\n",
    "| Yes         | Divorced    | High        | No    |\n",
    "| No          | Single      | Mid         | Yes   |\n",
    "| No          | Married     | Low         | No    |\n",
    "| No          | Single      | Mid         | Yes   |\n",
    "\n",
    "a) Compute the following probabilities:\n",
    "\n",
    "- P(Attribute A = Yes | Class = No)\n",
    "- P(Attribute B = Divorced | Class = Yes)\n",
    "- P(Attribute C = High | Class = No)\n",
    "- P(Attribute C = Mid | Class = Yes)"
   ]
  },
  {
   "cell_type": "markdown",
   "metadata": {},
   "source": [
    "- P(Attribute A = Yes | Class = No) = 3/7\n",
    "- P(Attribute B = Divorced | Class = Yes) = 1/3\n",
    "- P(Attribute C = High | Class = No) = 3/7\n",
    "- P(Attribute C = Mid | Class = Yes) = 3/3 = 1"
   ]
  },
  {
   "cell_type": "markdown",
   "metadata": {},
   "source": [
    "b) Classify the following unseen records:\n",
    "\n",
    "- (Yes, Married, Mid)\n",
    "- (No, Divorced, High)\n",
    "- (No, Single, High)\n",
    "- (No, Divorced, Low)"
   ]
  },
  {
   "cell_type": "markdown",
   "metadata": {},
   "source": [
    "- (Yes, Married, Mid) = No\n",
    "- (No, Divorced, High) = Yes\n",
    "- (No, Single, High) = Yes\n",
    "- (No, Divorced, Low) = No"
   ]
  },
  {
   "cell_type": "markdown",
   "metadata": {},
   "source": [
    "### Model Evaluation\n",
    "\n",
    "a) Write a function to generate the confusion matrix for a list of actual classes and a list of predicted classes"
   ]
  },
  {
   "cell_type": "code",
   "execution_count": 2,
   "metadata": {},
   "outputs": [
    {
     "name": "stdout",
     "output_type": "stream",
     "text": [
      "{'True Positives': 2, 'False Negatives': 1, 'False Positives': 3, 'True Negatives': 4}\n"
     ]
    }
   ],
   "source": [
    "actual_class = [\"Yes\", \"No\", \"No\", \"Yes\", \"No\", \"No\", \"Yes\", \"No\", \"No\", \"No\"]\n",
    "predicted_class = [\"Yes\", \"No\", \"Yes\", \"No\", \"No\", \"No\", \"Yes\", \"Yes\", \"Yes\", \"No\"]\n",
    "\n",
    "def confusion_matrix(actual, predicted):\n",
    "    tp = tn = fp = fn = 0\n",
    "    for i in range(len(actual)):\n",
    "        if actual[i] == \"Yes\" and predicted[i] == \"Yes\":\n",
    "            tp += 1\n",
    "        elif actual[i] == \"No\" and predicted[i] == \"No\":\n",
    "            tn += 1\n",
    "        elif actual[i] == \"No\" and predicted[i] == \"Yes\":\n",
    "            fp += 1\n",
    "        else:\n",
    "            fn += 1\n",
    "    return {\n",
    "        \"True Positives\": tp,\n",
    "        \"False Negatives\": fn,\n",
    "        \"False Positives\": fp,\n",
    "        \"True Negatives\": tn\n",
    "    }\n",
    "\n",
    "print(confusion_matrix(actual_class, predicted_class))"
   ]
  },
  {
   "cell_type": "markdown",
   "metadata": {},
   "source": [
    "b) Assume you have the following Cost Matrix:\n",
    "\n",
    "|            | predicted = Y | predicted = N |\n",
    "|------------|---------------|---------------|\n",
    "| actual = Y |       -1      |       5       |\n",
    "| actual = N |        10     |       0       |\n",
    "\n",
    "What is the cost of the above classification?"
   ]
  },
  {
   "cell_type": "markdown",
   "metadata": {},
   "source": [
    "33"
   ]
  },
  {
   "cell_type": "markdown",
   "metadata": {},
   "source": [
    "c) Write a function that takes in the actual values, the predictions, and a cost matrix and outputs a cost. Test it on the above example."
   ]
  },
  {
   "cell_type": "code",
   "execution_count": 5,
   "metadata": {},
   "outputs": [
    {
     "name": "stdout",
     "output_type": "stream",
     "text": [
      "33\n"
     ]
    }
   ],
   "source": [
    "def calculate_cost(actual, predicted, cost_matrix): \n",
    "    total_cost = 0\n",
    "    for i in range(len(actual)):\n",
    "        actual_class = actual[i]\n",
    "        predicted_class = predicted[i]\n",
    "        total_cost +=  cost_matrix[actual_class][predicted_class]\n",
    "    return total_cost\n",
    "\n",
    "cost_matrix = {\n",
    "    \"Yes\": {\"Yes\": -1, \"No\": 5},\n",
    "    \"No\": {\"Yes\": 10, \"No\": 0}\n",
    "}\n",
    "\n",
    "print(calculate_cost(actual_class, predicted_class, cost_matrix))"
   ]
  },
  {
   "cell_type": "markdown",
   "metadata": {},
   "source": [
    "d) Implement functions for the following:\n",
    "\n",
    "- accuracy\n",
    "- precision\n",
    "- recall\n",
    "- f-measure\n",
    "\n",
    "and apply them to the above example."
   ]
  },
  {
   "cell_type": "code",
   "execution_count": 7,
   "metadata": {},
   "outputs": [
    {
     "name": "stdout",
     "output_type": "stream",
     "text": [
      "0.6\n",
      "0.4\n",
      "0.6666666666666666\n",
      "0.5\n"
     ]
    }
   ],
   "source": [
    "def accuracy(actual, predicted):\n",
    "    correct = sum(1 for a, p in zip(actual, predicted) if a == p)\n",
    "    total = len(actual)\n",
    "    return correct / total\n",
    "\n",
    "def precision(actual, predicted, positive_class):\n",
    "    true_positives = sum(1 for a, p in zip(actual, predicted) if a == positive_class and p == positive_class)\n",
    "    false_positives = sum(1 for a, p in zip(actual, predicted) if a != positive_class and p == positive_class)\n",
    "    return true_positives / (true_positives + false_positives)\n",
    "\n",
    "def recall(actual, predicted, positive_class):\n",
    "    true_positives = sum(1 for a, p in zip(actual, predicted) if a == positive_class and p == positive_class)\n",
    "    false_negatives = sum(1 for a, p in zip(actual, predicted) if a == positive_class and p != positive_class)\n",
    "    return true_positives / (true_positives + false_negatives)\n",
    "\n",
    "def f_measure(precision, recall, beta=1):\n",
    "    return (1 + beta**2) * (precision * recall) / ((beta**2 * precision) + recall)\n",
    "\n",
    "\n",
    "print(accuracy(actual_class, predicted_class))\n",
    "print(precision(actual_class, predicted_class, \"Yes\"))\n",
    "print(recall(actual_class, predicted_class, \"Yes\"))\n",
    "print(f_measure(precision(actual_class, predicted_class, \"Yes\"), recall(actual_class, predicted_class, \"Yes\")))"
   ]
  }
 ],
 "metadata": {
  "kernelspec": {
   "display_name": "Python 3",
   "language": "python",
   "name": "python3"
  },
  "language_info": {
   "codemirror_mode": {
    "name": "ipython",
    "version": 3
   },
   "file_extension": ".py",
   "mimetype": "text/x-python",
   "name": "python",
   "nbconvert_exporter": "python",
   "pygments_lexer": "ipython3",
   "version": "3.11.6"
  },
  "orig_nbformat": 4,
  "vscode": {
   "interpreter": {
    "hash": "e7370f93d1d0cde622a1f8e1c04877d8463912d04d973331ad4851f04de6915a"
   }
  }
 },
 "nbformat": 4,
 "nbformat_minor": 2
}
