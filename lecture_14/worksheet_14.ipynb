{
 "cells": [
  {
   "attachments": {},
   "cell_type": "markdown",
   "metadata": {},
   "source": [
    "# Worksheet 14\n",
    "\n",
    "Name: Gersian Collaku\n",
    "UID: U85715518\n",
    "\n",
    "### Topics\n",
    "\n",
    "- Naive Bayes\n",
    "- Model Evaluation\n",
    "\n",
    "### Naive Bayes\n",
    "\n",
    "| Attribute A | Attribute B | Attribute C | Class |\n",
    "|-------------|-------------|-------------|-------|\n",
    "| Yes         | Single      | High        | No    |\n",
    "| No          | Married     | Mid         | No    |\n",
    "| No          | Single      | Low         | No    |\n",
    "| Yes         | Married     | High        | No    |\n",
    "| No          | Divorced    | Mid         | Yes   |\n",
    "| No          | Married     | Low         | No    |\n",
    "| Yes         | Divorced    | High        | No    |\n",
    "| No          | Single      | Mid         | Yes   |\n",
    "| No          | Married     | Low         | No    |\n",
    "| No          | Single      | Mid         | Yes   |\n",
    "\n",
    "a) Compute the following probabilities:\n",
    "\n",
    "- P(Attribute A = Yes | Class = No)\n",
    "- P(Attribute B = Divorced | Class = Yes)\n",
    "- P(Attribute C = High | Class = No)\n",
    "- P(Attribute C = Mid | Class = Yes)"
   ]
  },
  {
   "cell_type": "markdown",
   "metadata": {},
   "source": [
    "3/7, 1/3, 3/7, 3/3\n",
    "\n"
   ]
  },
  {
   "cell_type": "markdown",
   "metadata": {},
   "source": [
    "b) Classify the following unseen records:\n",
    "\n",
    "- (Yes, Married, Mid)\n",
    "- (No, Divorced, High)\n",
    "- (No, Single, High)\n",
    "- (No, Divorced, Low)"
   ]
  },
  {
   "cell_type": "markdown",
   "metadata": {},
   "source": [
    "no <br>\n",
    "no <br>\n",
    "no <br>\n",
    "no <br>"
   ]
  },
  {
   "cell_type": "markdown",
   "metadata": {},
   "source": [
    "### Model Evaluation\n",
    "\n",
    "a) Write a function to generate the confusion matrix for a list of actual classes and a list of predicted classes"
   ]
  },
  {
   "cell_type": "code",
   "execution_count": 1,
   "metadata": {},
   "outputs": [
    {
     "name": "stdout",
     "output_type": "stream",
     "text": [
      "[[2, 4], [3, 1]]\n"
     ]
    }
   ],
   "source": [
    "actual_class = [\"Yes\", \"No\", \"No\", \"Yes\", \"No\", \"No\", \"Yes\", \"No\", \"No\", \"No\"]\n",
    "predicted_class = [\"Yes\", \"No\", \"Yes\", \"No\", \"No\", \"No\", \"Yes\", \"Yes\", \"Yes\", \"No\"]\n",
    "\n",
    "def confusion_matrix(actual, predicted):\n",
    "    a = 0\n",
    "    b = 0\n",
    "    c = 0\n",
    "    d = 0\n",
    "    for i in range(len(actual)):\n",
    "        if actual[i] == predicted[i] and actual[i] == \"Yes\":\n",
    "            a += 1\n",
    "        elif actual[i] == predicted[i] and actual[i] == \"No\":\n",
    "            b += 1\n",
    "        elif actual[i] != predicted[i] and actual[i] == \"No\":\n",
    "            c += 1\n",
    "        elif actual[i] != predicted[i] and actual[i] == \"Yes\":\n",
    "            d += 1\n",
    "    return [[a, b], [c, d]]\n",
    "\n",
    "print(confusion_matrix(actual_class, predicted_class))"
   ]
  },
  {
   "cell_type": "markdown",
   "metadata": {},
   "source": [
    "b) Assume you have the following Cost Matrix:\n",
    "\n",
    "|            | predicted = Y | predicted = N |\n",
    "|------------|---------------|---------------|\n",
    "| actual = Y |       -1      |       5       |\n",
    "| actual = N |        10     |       0       |\n",
    "\n",
    "What is the cost of the above classification?"
   ]
  },
  {
   "cell_type": "markdown",
   "metadata": {},
   "source": []
  },
  {
   "cell_type": "markdown",
   "metadata": {},
   "source": [
    "c) Write a function that takes in the actual values, the predictions, and a cost matrix and outputs a cost. Test it on the above example."
   ]
  },
  {
   "cell_type": "code",
   "execution_count": 2,
   "metadata": {},
   "outputs": [
    {
     "data": {
      "text/plain": [
       "48"
      ]
     },
     "execution_count": 2,
     "metadata": {},
     "output_type": "execute_result"
    }
   ],
   "source": [
    "import numpy as np\n",
    "def return_cost(actual, predicted, cost_matrix):\n",
    "    conf_matrix = confusion_matrix(actual, predicted)\n",
    "    c = 0\n",
    "\n",
    "    for i in range(len(cost_matrix)):\n",
    "        for j in range(len(cost_matrix[0])):\n",
    "            c += cost_matrix[i][j] * conf_matrix[i][j]\n",
    "    return c \n",
    "\n",
    "cost_matrix = np.array([[-1, 5], [10, 0]])\n",
    "return_cost(actual_class, predicted_class, cost_matrix)"
   ]
  },
  {
   "cell_type": "markdown",
   "metadata": {},
   "source": [
    "d) Implement functions for the following:\n",
    "\n",
    "- accuracy\n",
    "- precision\n",
    "- recall\n",
    "- f-measure\n",
    "\n",
    "and apply them to the above example."
   ]
  },
  {
   "cell_type": "code",
   "execution_count": 3,
   "metadata": {},
   "outputs": [
    {
     "name": "stdout",
     "output_type": "stream",
     "text": [
      "0.6\n",
      "0.4\n",
      "0.3333333333333333\n",
      "0.3636363636363636\n"
     ]
    }
   ],
   "source": [
    "def accuracy(predicted, actual):\n",
    "    total = 0\n",
    "    for i, j in zip(predicted, actual):\n",
    "        if i == j:\n",
    "            total += 1\n",
    "    return total/len(predicted)\n",
    "\n",
    "def precision(confusion_matrix):\n",
    "    return confusion_matrix[0][0]/(confusion_matrix[0][0] + confusion_matrix[1][0])\n",
    "\n",
    "def recall(confusion_matrix):\n",
    "    return confusion_matrix[0][0]/(confusion_matrix[0][0] + confusion_matrix[0][1])\n",
    "\n",
    "def f_measure(confusion_matrix):\n",
    "    return 2*precision(confusion_matrix)*recall(confusion_matrix)/(precision(confusion_matrix) + recall(confusion_matrix))\n",
    "\n",
    "print(accuracy(predicted_class, actual_class))\n",
    "print(precision(confusion_matrix(actual_class, predicted_class)))\n",
    "print(recall(confusion_matrix(actual_class, predicted_class)))\n",
    "print(f_measure(confusion_matrix(actual_class, predicted_class)))"
   ]
  }
 ],
 "metadata": {
  "kernelspec": {
   "display_name": "Python 3",
   "language": "python",
   "name": "python3"
  },
  "language_info": {
   "codemirror_mode": {
    "name": "ipython",
    "version": 3
   },
   "file_extension": ".py",
   "mimetype": "text/x-python",
   "name": "python",
   "nbconvert_exporter": "python",
   "pygments_lexer": "ipython3",
   "version": "3.9.4"
  },
  "orig_nbformat": 4,
  "vscode": {
   "interpreter": {
    "hash": "e7370f93d1d0cde622a1f8e1c04877d8463912d04d973331ad4851f04de6915a"
   }
  }
 },
 "nbformat": 4,
 "nbformat_minor": 2
}
