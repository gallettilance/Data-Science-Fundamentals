{
 "cells": [
  {
   "cell_type": "markdown",
   "metadata": {},
   "source": [
    "# Worksheet 14\n",
    "\n",
    "Name:  \n",
    "UID: \n",
    "\n",
    "### Topics\n",
    "\n",
    "- Naive Bayes\n",
    "- Model Evaluation\n",
    "\n",
    "### Naive Bayes\n",
    "\n",
    "| Attribute A | Attribute B | Attribute C | Class |\n",
    "|-------------|-------------|-------------|-------|\n",
    "| Yes         | Single      | High        | No    |\n",
    "| No          | Married     | Mid         | No    |\n",
    "| No          | Single      | Low         | No    |\n",
    "| Yes         | Married     | High        | No    |\n",
    "| No          | Divorced    | Mid         | Yes   |\n",
    "| No          | Married     | Low         | No    |\n",
    "| Yes         | Divorced    | High        | No    |\n",
    "| No          | Single      | Mid         | Yes   |\n",
    "| No          | Married     | Low         | No    |\n",
    "| No          | Single      | Mid         | Yes   |\n",
    "\n",
    "a) Compute the following probabilities:\n",
    "\n",
    "- P(Attribute A = Yes | Class = No)\n",
    "- P(Attribute B = Divorced | Class = Yes)\n",
    "- P(Attribute C = High | Class = No)\n",
    "- P(Attribute C = Mid | Class = Yes)"
   ]
  },
  {
   "cell_type": "markdown",
   "metadata": {},
   "source": [
    "1. 3/7\n",
    "2. 1/3\n",
    "3. 3/7\n",
    "4. 2/3"
   ]
  },
  {
   "cell_type": "markdown",
   "metadata": {},
   "source": [
    "b) Classify the following unseen records:\n",
    "\n",
    "- (Yes, Married, Mid)\n",
    "- (No, Divorced, High)\n",
    "- (No, Single, High)\n",
    "- (No, Divorced, Low)"
   ]
  },
  {
   "cell_type": "markdown",
   "metadata": {},
   "source": [
    "1. No\n",
    "2. No\n",
    "3. No\n",
    "4. No"
   ]
  },
  {
   "cell_type": "markdown",
   "metadata": {},
   "source": [
    "### Model Evaluation\n",
    "\n",
    "a) Write a function to generate the confusion matrix for a list of actual classes and a list of predicted classes"
   ]
  },
  {
   "cell_type": "code",
   "execution_count": 1,
   "metadata": {},
   "outputs": [
    {
     "name": "stdout",
     "output_type": "stream",
     "text": [
      "(2, 4, 3, 1)\n"
     ]
    }
   ],
   "source": [
    "actual_class = [\"Yes\", \"No\", \"No\", \"Yes\", \"No\", \"No\", \"Yes\", \"No\", \"No\", \"No\"]\n",
    "predicted_class = [\"Yes\", \"No\", \"Yes\", \"No\", \"No\", \"No\", \"Yes\", \"Yes\", \"Yes\", \"No\"]\n",
    "\n",
    "def confusion_matrix(actual, predicted):\n",
    "    tp = 0\n",
    "    tn = 0\n",
    "    fp = 0\n",
    "    fn = 0\n",
    "    for i in range(len(actual)):\n",
    "        if actual[i] == \"Yes\" and predicted[i] == \"Yes\":\n",
    "            tp += 1\n",
    "        elif actual[i] == \"No\" and predicted[i] == \"No\":\n",
    "            tn += 1\n",
    "        elif actual[i] == \"No\" and predicted[i] == \"Yes\":\n",
    "            fp += 1\n",
    "        elif actual[i] == \"Yes\" and predicted[i] == \"No\":\n",
    "            fn += 1\n",
    "    return tp, tn, fp, fn\n",
    "\n",
    "\n",
    "print(confusion_matrix(actual_class, predicted_class))"
   ]
  },
  {
   "cell_type": "markdown",
   "metadata": {},
   "source": [
    "b) Assume you have the following Cost Matrix:\n",
    "\n",
    "|            | predicted = Y | predicted = N |\n",
    "|------------|---------------|---------------|\n",
    "| actual = Y |       -1      |       5       |\n",
    "| actual = N |        10     |       0       |\n",
    "\n",
    "What is the cost of the above classification?"
   ]
  },
  {
   "cell_type": "markdown",
   "metadata": {},
   "source": [
    "15"
   ]
  },
  {
   "cell_type": "markdown",
   "metadata": {},
   "source": [
    "c) Write a function that takes in the actual values, the predictions, and a cost matrix and outputs a cost. Test it on the above example."
   ]
  },
  {
   "cell_type": "code",
   "execution_count": 2,
   "metadata": {},
   "outputs": [
    {
     "name": "stdout",
     "output_type": "stream",
     "text": [
      "Cost: 15\n"
     ]
    }
   ],
   "source": [
    "def compute_classification_cost(actuals, predictions, cost_matrix):\n",
    "    assert len(actuals) == len(predictions), \"Actuals and predictions should have the same length.\"\n",
    "    YY, YN, NY, NN = 0, 0, 0, 0\n",
    "    for actual, predicted in zip(actuals, predictions):\n",
    "        if actual == 'Y' and predicted == 'Y':\n",
    "            YY += 1\n",
    "        elif actual == 'Y' and predicted == 'N':\n",
    "            YN += 1\n",
    "        elif actual == 'N' and predicted == 'Y':\n",
    "            NY += 1\n",
    "        elif actual == 'N' and predicted == 'N':\n",
    "            NN += 1\n",
    "    cost = YY * cost_matrix['YY'] + YN * cost_matrix['YN'] + NY * cost_matrix['NY'] + NN * cost_matrix['NN']\n",
    "    \n",
    "    return cost\n",
    "actuals = ['Y', 'Y', 'Y', 'N', 'N', 'N', 'N'] # Example actual values (3 Ys and 4 Ns based on distribution)\n",
    "predictions = ['N', 'N', 'N', 'N', 'N', 'N', 'N'] # All are predicted as No\n",
    "cost_matrix = {\n",
    "    'YY': -1,\n",
    "    'YN': 5,\n",
    "    'NY': 10,\n",
    "    'NN': 0\n",
    "}\n",
    "\n",
    "cost = compute_classification_cost(actuals, predictions, cost_matrix)\n",
    "print(f\"Cost: {cost}\")"
   ]
  },
  {
   "cell_type": "markdown",
   "metadata": {},
   "source": [
    "d) Implement functions for the following:\n",
    "\n",
    "- accuracy\n",
    "- precision\n",
    "- recall\n",
    "- f-measure\n",
    "\n",
    "and apply them to the above example."
   ]
  },
  {
   "cell_type": "code",
   "execution_count": 3,
   "metadata": {},
   "outputs": [
    {
     "name": "stdout",
     "output_type": "stream",
     "text": [
      "Accuracy: 0.57\n",
      "Precision: 0.00\n",
      "Recall: 0.00\n",
      "F-measure: 0.00\n"
     ]
    }
   ],
   "source": [
    "def accuracy(actuals, predictions):\n",
    "    correct = sum(a == p for a, p in zip(actuals, predictions))\n",
    "    return correct / len(actuals)\n",
    "def precision(actuals, predictions):\n",
    "    true_positive = sum(a == 'Y' and p == 'Y' for a, p in zip(actuals, predictions))\n",
    "    predicted_positive = sum(p == 'Y' for p in predictions)\n",
    "    return true_positive / predicted_positive if predicted_positive != 0 else 0\n",
    "def recall(actuals, predictions):\n",
    "    true_positive = sum(a == 'Y' and p == 'Y' for a, p in zip(actuals, predictions))\n",
    "    actual_positive = sum(a == 'Y' for a in actuals)\n",
    "    return true_positive / actual_positive if actual_positive != 0 else 0\n",
    "def f_measure(actuals, predictions):\n",
    "    p = precision(actuals, predictions)\n",
    "    r = recall(actuals, predictions)\n",
    "    return 2 * p * r / (p + r) if p + r != 0 else 0\n",
    "actuals = ['Y', 'Y', 'Y', 'N', 'N', 'N', 'N'] \n",
    "predictions = ['N', 'N', 'N', 'N', 'N', 'N', 'N'] \n",
    "print(f\"Accuracy: {accuracy(actuals, predictions):.2f}\")\n",
    "print(f\"Precision: {precision(actuals, predictions):.2f}\")\n",
    "print(f\"Recall: {recall(actuals, predictions):.2f}\")\n",
    "print(f\"F-measure: {f_measure(actuals, predictions):.2f}\")"
   ]
  }
 ],
 "metadata": {
  "kernelspec": {
   "display_name": "Python 3 (ipykernel)",
   "language": "python",
   "name": "python3"
  },
  "language_info": {
   "codemirror_mode": {
    "name": "ipython",
    "version": 3
   },
   "file_extension": ".py",
   "mimetype": "text/x-python",
   "name": "python",
   "nbconvert_exporter": "python",
   "pygments_lexer": "ipython3",
   "version": "3.11.5"
  },
  "vscode": {
   "interpreter": {
    "hash": "e7370f93d1d0cde622a1f8e1c04877d8463912d04d973331ad4851f04de6915a"
   }
  }
 },
 "nbformat": 4,
 "nbformat_minor": 2
}
