{
 "cells": [
  {
   "attachments": {},
   "cell_type": "markdown",
   "metadata": {},
   "source": [
    "# Worksheet 16\n",
    "\n",
    "Name: Ryan Chung \n",
    "UID: U33101958\n",
    "\n",
    "### Topics\n",
    "\n",
    "- Support Vector Machines (Non-linear case)\n",
    "\n",
    "## Support Vector Machines\n",
    "\n",
    "Follow along in class to implement the perceptron algorithm and create an animation of the algorithm."
   ]
  },
  {
   "attachments": {},
   "cell_type": "markdown",
   "metadata": {},
   "source": [
    "a) As we saw in class, the form\n",
    "$$w^T x + b = 0$$\n",
    "while simple, does not expose the inner product `<x_i, x_j>` which we know `w` depends on, having done the math. This is critical to applying the \"kernel trick\" which allows for learning non-linear decision boundaries. Let's modify the above algorithm to use the form\n",
    "$$\\sum_i \\alpha_i <x_i, x> + b = 0$$"
   ]
  },
  {
   "cell_type": "code",
   "execution_count": 63,
   "metadata": {},
   "outputs": [],
   "source": [
    "import numpy as np\n",
    "from PIL import Image as im\n",
    "import matplotlib.pyplot as plt\n",
    "import sklearn.datasets as datasets\n",
    "from tqdm import tqdm\n",
    "import os\n",
    "\n",
    "TEMPFILE = \"temp.png\"\n",
    "CENTERS = [[0, 1], [1, 0]]\n",
    "\n",
    "epochs = 100\n",
    "learning_rate = .05\n",
    "expanding_rate = .99\n",
    "retracting_rate = 1.1\n",
    "\n",
    "X, labels = datasets.make_blobs(n_samples=10, centers=CENTERS, cluster_std=0.2, random_state=0)\n",
    "Y = np.array(list(map(lambda x : -1 if x == 0 else 1, labels.tolist())))\n",
    "\n",
    "alpha_i = np.zeros((len(X),))\n",
    "b = 0\n",
    "\n",
    "def snap(x, alpha_i, b, error):\n",
    "    # create a mesh to plot in\n",
    "    h = .01  # step size in the mesh\n",
    "    x_min, x_max = X[:, 0].min() - .5, X[:, 0].max() + .5\n",
    "    y_min, y_max = X[:, 1].min() - .5, X[:, 1].max() + .5\n",
    "    xx, yy = np.meshgrid(np.arange(x_min, x_max, h),\n",
    "                         np.arange(y_min, y_max, h))\n",
    "\n",
    "    meshData = np.c_[xx.ravel(), yy.ravel()]\n",
    "    cs = np.array([x for x in 'gb'])\n",
    "    fig, ax = plt.subplots()\n",
    "    ax.scatter(X[:,0],X[:,1],color=cs[labels].tolist(), s=50, alpha=0.8)\n",
    "\n",
    "    if error:\n",
    "        ax.add_patch(plt.Circle((x[0], x[1]), .12, color='r',fill=False))\n",
    "    else:\n",
    "        ax.add_patch(plt.Circle((x[0], x[1]), .12, color='y',fill=False))\n",
    "   \n",
    "    Z = predict_many(alpha_i, b, meshData)\n",
    "    Z = np.array([0 if z <=0 else 1 for z in Z]).reshape(xx.shape)\n",
    "    ax.contourf(xx, yy, Z, alpha=.5, cmap=plt.cm.Paired)\n",
    "    fig.savefig(TEMPFILE)\n",
    "    plt.close()\n",
    "    return im.fromarray(np.asarray(im.open(TEMPFILE)))\n",
    "\n",
    "def predict_many(alpha_i, b, Z):\n",
    "    res = []\n",
    "    for i in range(len(Z)):\n",
    "        res.append(predict(alpha_i, b, Z[i]))\n",
    "    return np.array(res)\n",
    "\n",
    "def polynomial(x_i, x_j, c=1, d=2):\n",
    "    return (np.dot(x_i, x_j) + c) ** d\n",
    "\n",
    "def predict(alpha_i, b, x):\n",
    "    wx = 0\n",
    "    for j in range(len(X)):\n",
    "        wx += alpha_i[j] * np.dot(X[j], x)\n",
    "    return wx + b\n",
    "\n",
    "images = []\n",
    "for _ in range(epochs):\n",
    "    # pick a point from X at random\n",
    "    i = np.random.randint(0, len(X))\n",
    "    x, y = X[i], Y[i]\n",
    "    ypred = predict(alpha_i, b, x)\n",
    "    error = False \n",
    "\n",
    "    if (ypred > 0 and y > 0) or (ypred < 0 and y < 0):\n",
    "        # classified correctly\n",
    "        if ypred < 1 and ypred > -1:\n",
    "            # in the street / street is too wide\n",
    "            alpha_i[i] += y * learning_rate\n",
    "            alpha_i = alpha_i * retracting_rate           \n",
    "            b += y * learning_rate * retracting_rate\n",
    "        else:\n",
    "            # street is too narrow\n",
    "            alpha_i = alpha_i * expanding_rate\n",
    "            b *= expanding_rate\n",
    "    else:\n",
    "        # misclassified\n",
    "        alpha_i[i] += y * learning_rate\n",
    "        alpha_i = alpha_i * expanding_rate\n",
    "        b += y * learning_rate * expanding_rate\n",
    "\n",
    "    images.append(snap(x, alpha_i, b, error))\n",
    "\n",
    "images[0].save(\n",
    "    'svm_dual.gif',\n",
    "    save_all=True,\n",
    "    append_images=images[1:],\n",
    "    optimize=False,\n",
    "    duration=100,\n",
    "    loop=0\n",
    ")"
   ]
  },
  {
   "cell_type": "markdown",
   "metadata": {},
   "source": [
    "Write a configurable kernel function to apply in lieu of the dot product. Try it out on a dataset that is not linearly separable."
   ]
  },
  {
   "cell_type": "code",
   "execution_count": null,
   "metadata": {},
   "outputs": [],
   "source": [
    "def polynomial(x_i, x_j, c, n):\n",
    "    return (np.dot(x_i, x_j) + c) ** n"
   ]
  },
  {
   "attachments": {},
   "cell_type": "markdown",
   "metadata": {},
   "source": [
    "b) Assume we fit an SVM using a polynomial Kernel function and it seems to overfit the data. How would you adjust the tuning parameter `n` of the kernel function?"
   ]
  },
  {
   "cell_type": "markdown",
   "metadata": {},
   "source": [
    "decrease n"
   ]
  },
  {
   "attachments": {},
   "cell_type": "markdown",
   "metadata": {},
   "source": [
    "c) Assume we fit an SVM using a RBF Kernel function and it seems to underfit the data. How would you adjust the tuning parameter `sigma` of the kernel function?"
   ]
  },
  {
   "cell_type": "markdown",
   "metadata": {},
   "source": [
    "decrease sigma "
   ]
  },
  {
   "attachments": {},
   "cell_type": "markdown",
   "metadata": {},
   "source": [
    "d) Tune the parameter of a specific Kernel function, to fit an SVM (using your code above) to the following dataset:"
   ]
  },
  {
   "cell_type": "code",
   "execution_count": 69,
   "metadata": {},
   "outputs": [],
   "source": [
    "import numpy as np\n",
    "import matplotlib.pyplot as plt\n",
    "\n",
    "data = np.loadtxt(\"spiral.data\")\n",
    "X, y = data[:, :2], data[:, 2]\n",
    "Y = np.array([-1 if label == 0 else 1 for label in y])\n",
    "\n",
    "epochs = 100\n",
    "learning_rate = 0.05\n",
    "expanding_rate = 0.99\n",
    "retracting_rate = 1.1\n",
    "\n",
    "alpha_i = np.zeros(len(X))\n",
    "b = 0\n",
    "\n",
    "def rbf_kernel(x_i, x_j, gamma=1):\n",
    "    return np.exp(-gamma * np.linalg.norm(x_i - x_j) ** 2)\n",
    "\n",
    "def predict(alpha_i, b, X, x):\n",
    "    wx = 0\n",
    "    for j in range(len(X)):\n",
    "        wx += alpha_i[j] * Y[j] * rbf_kernel(X[j], x)\n",
    "    return wx + b\n",
    "\n",
    "for _ in range(epochs):\n",
    "    # pick a point from X at random\n",
    "    i = np.random.randint(0, len(X))\n",
    "    x, y = X[i], Y[i]\n",
    "    ypred = predict(alpha_i, b, X, x)\n",
    "\n",
    "    if (ypred > 0 and y > 0) or (ypred < 0 and y < 0):\n",
    "        # classified correctly\n",
    "        if abs(ypred) < 1:\n",
    "            # in the street / street is too wide\n",
    "            alpha_i[i] += y * learning_rate\n",
    "            alpha_i *= retracting_rate\n",
    "            b += y * learning_rate * retracting_rate\n",
    "        else:\n",
    "            # street is too narrow\n",
    "            alpha_i *= expanding_rate\n",
    "            b *= expanding_rate\n",
    "    else:\n",
    "        # misclassified\n",
    "        alpha_i[i] += y * learning_rate\n",
    "        alpha_i *= expanding_rate\n",
    "        b += y * learning_rate * expanding_rate\n",
    "\n"
   ]
  }
 ],
 "metadata": {
  "kernelspec": {
   "display_name": "env",
   "language": "python",
   "name": "python3"
  },
  "language_info": {
   "codemirror_mode": {
    "name": "ipython",
    "version": 3
   },
   "file_extension": ".py",
   "mimetype": "text/x-python",
   "name": "python",
   "nbconvert_exporter": "python",
   "pygments_lexer": "ipython3",
   "version": "3.11.1"
  },
  "orig_nbformat": 4,
  "vscode": {
   "interpreter": {
    "hash": "76ca05dc3ea24b2e3b98cdb7774adfbb40773424bf5109b477fd793f623715af"
   }
  }
 },
 "nbformat": 4,
 "nbformat_minor": 2
}
