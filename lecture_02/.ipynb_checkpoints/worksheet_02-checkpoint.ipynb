{
 "cells": [
  {
   "cell_type": "markdown",
   "metadata": {},
   "source": [
    "# Worksheet 02\n",
    "\n",
    "Name:  Aaron Zheng\n",
    "UID: U00544935\n",
    "\n",
    "### Topics\n",
    "\n",
    "- Effective Programming\n",
    "\n",
    "### Effective Programming\n",
    "\n",
    "a) What is a drawback of the top down approach?"
   ]
  },
  {
   "cell_type": "markdown",
   "metadata": {},
   "source": [
    "When working top down, your code isnt runnable at all until later after you implemented some of the functions necessary"
   ]
  },
  {
   "cell_type": "markdown",
   "metadata": {},
   "source": [
    "b) What is a drawback of the bottom up approach?"
   ]
  },
  {
   "cell_type": "code",
   "execution_count": null,
   "metadata": {},
   "outputs": [],
   "source": []
  },
  {
   "cell_type": "markdown",
   "metadata": {},
   "source": [
    "You might end up implementing functions that wont ultimately be needed, assembly at the very end may not necessarily work as expected. \n"
   ]
  },
  {
   "cell_type": "markdown",
   "metadata": {},
   "source": [
    "c) What are 3 things you can do to have a better debugging experience?"
   ]
  },
  {
   "cell_type": "markdown",
   "metadata": {},
   "source": []
  },
  {
   "cell_type": "code",
   "execution_count": null,
   "metadata": {},
   "outputs": [],
   "source": [
    "-Compartmentalize, each piece of code does one thing.\n",
    "-Complete 90% first, then worry about the last 10% later.\n",
    "-Boring code is good code, keep it simple."
   ]
  },
  {
   "cell_type": "markdown",
   "metadata": {},
   "source": [
    "d) Follow along with the live coding. You can write your code here:"
   ]
  },
  {
   "cell_type": "code",
   "execution_count": 5,
   "metadata": {},
   "outputs": [],
   "source": [
    "\n",
    "def set_queen_at(self,row,col):\n",
    "    self.board[row][col] = \"Q\"\n",
    "\n",
    "    \n",
    "def unset_queen_on(self, row):\n",
    "    self.board[row] = [\"_\" for _ in range(8)]\n",
    "    \n",
    "def get_queen_on(self, row):\n",
    "    for col in range(len(self.board)):\n",
    "        if self.board[row][col] == \"Q\":\n",
    "            return col\n",
    "    raise ValueError(\"programmer error\")\n",
    "    \n",
    "def is_legal_row(self, row, col):\n",
    "    for i in range(len(self.board)):\n",
    "        if self.board[i][col] == \"Q\":\n",
    "            return False\n",
    "    return True\n",
    "\n",
    "def is_legal_col(self, row, col):\n",
    "    for j in range(len(self.board)):\n",
    "        if self.board[row][j] == \"Q\":\n",
    "            return False\n",
    "    return True\n",
    "def is_on_board(self, row, col):\n",
    "    return row >= 0 and row < 8 and col >= 0 and cold < 8\n",
    "    \n",
    "    \n",
    "def is_legal_diag(self,row,col):\n",
    "    for i in range(len[self.board]):\n",
    "        if self.is_on_board(row-i, col - i) and self.board[row-i][col-i] == \"Q\":\n",
    "            return False\n",
    "        if self.is_on_board(row-i, col + i) and self.board[row-i][col+i] == \"Q\":\n",
    "            return False\n",
    "        if self.is_on_board(row+i, col - i) and self.board[row+i][col-i] == \"Q\":\n",
    "            return False\n",
    "        if self.is_on_board(row+i, col + i) and self.board[row+i][col+i] == \"Q\":\n",
    "            return False\n",
    "    return True\n",
    "        \n",
    "    \n",
    "def is_legal(self, row, col):\n",
    "    if not self.is_legal_row(row, col):\n",
    "        return False\n",
    "    if not self.is_legal_col(row, col):\n",
    "        return False\n",
    "    return True\n",
    "    \n",
    "def search(self):\n",
    "    row = 0\n",
    "    col = 0\n",
    "    while row >= 0:\n",
    "        if row < 8:\n",
    "            if self.is_legal(row, col):\n",
    "                self.set_queen_at(row, col)\n",
    "                row += 1\n",
    "                col = 0\n",
    "            else: \n",
    "                col += 1\n",
    "                while col >= 8:\n",
    "                    col = self.get_queen_on(row - 1)\n",
    "                    self.unset_queen_on(row - 1)\n",
    "                    col += 1\n",
    "                    row -= 1\n",
    "        else:\n",
    "            print(\"found a solution\\n\")\n",
    "            print(self)\n",
    "            while col >= 8:\n",
    "                col = self.get_queen_on(row - 1)\n",
    "                self.unset_queen_on(row - 1)\n",
    "                col += 1\n",
    "                row -= 1\n",
    "            \n",
    "\n",
    "#implement an is_queen function rather than use the if self.board = q check,\n",
    "#that way we can change the code there at one place if we use a different queen char\n",
    "#another thing is make the board size a variable rather than hardcoded 8\n",
    "\n",
    "        "
   ]
  },
  {
   "cell_type": "code",
   "execution_count": null,
   "metadata": {},
   "outputs": [],
   "source": []
  },
  {
   "cell_type": "code",
   "execution_count": null,
   "metadata": {},
   "outputs": [],
   "source": []
  }
 ],
 "metadata": {
  "kernelspec": {
   "display_name": "Python 3 (ipykernel)",
   "language": "python",
   "name": "python3"
  },
  "language_info": {
   "codemirror_mode": {
    "name": "ipython",
    "version": 3
   },
   "file_extension": ".py",
   "mimetype": "text/x-python",
   "name": "python",
   "nbconvert_exporter": "python",
   "pygments_lexer": "ipython3",
   "version": "3.9.12"
  },
  "vscode": {
   "interpreter": {
    "hash": "76ca05dc3ea24b2e3b98cdb7774adfbb40773424bf5109b477fd793f623715af"
   }
  }
 },
 "nbformat": 4,
 "nbformat_minor": 2
}
