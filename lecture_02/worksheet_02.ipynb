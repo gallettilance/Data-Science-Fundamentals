{
 "cells": [
  {
   "attachments": {},
   "cell_type": "markdown",
   "metadata": {},
   "source": [
    "# Worksheet 02\n",
    "\n",
    "Name: Ryan Chung\n",
    "UID: U33101958\n",
    "\n",
    "### Topics\n",
    "\n",
    "- Effective Programming\n",
    "\n",
    "### Effective Programming\n",
    "\n",
    "a) What is a drawback of the top down approach?"
   ]
  },
  {
   "cell_type": "markdown",
   "metadata": {},
   "source": [
    "No runnable code until the end "
   ]
  },
  {
   "cell_type": "markdown",
   "metadata": {},
   "source": [
    "b) What is a drawback of the bottom up approach?"
   ]
  },
  {
   "cell_type": "markdown",
   "metadata": {},
   "source": [
    "There can be no problem with code a and no problem with code b individually, but when you implement the a and b together, it could raise even more issues \n",
    "Nobody is that good at planning, will inevitably face problems "
   ]
  },
  {
   "cell_type": "markdown",
   "metadata": {},
   "source": [
    "c) What are 3 things you can do to have a better debugging experience?"
   ]
  },
  {
   "cell_type": "markdown",
   "metadata": {},
   "source": [
    "Don't try to find a quick fix (you still have the next day to fix it with a fresh mind)\n",
    "Read the error - where/what is causing the error; is it a cause or a symptom \n",
    "Reread the code - can you mentally trace through the code to reproduce the error in your head "
   ]
  },
  {
   "attachments": {},
   "cell_type": "markdown",
   "metadata": {},
   "source": [
    "d) (Optional) Follow along with the live coding. You can write your code here:"
   ]
  },
  {
   "cell_type": "code",
   "execution_count": null,
   "metadata": {},
   "outputs": [],
   "source": [
    "# 8 queen \n",
    "# create board, interface for board, board class, cmd line \n",
    "class Board:\n",
    "    # 8x8 chess board, what inputs do I need \n",
    "    # maybe add parameter later to support n-queen\n",
    "    def __init__(self): \n",
    "        # we may not need input, but we need attributes for the board --> rows, cols, items at each position \n",
    "        self.board = [[\"-\" for _ in range(8)] for _ in range(8)]\n",
    "\n",
    "    # print the board in the cmd line \n",
    "    def __repr__(self): \n",
    "        res = \"\"\n",
    "        # 8 can be replaced w length of board, replace w board length if subject to change\n",
    "        for row in range(8): \n",
    "            for col in range(8):\n",
    "                res += self.board[row][col] \n",
    "                res += \" \"\n",
    "            res += \"\\n\"\n",
    "        return res\n",
    "    \n",
    "    # now we want to set/unset the queens\n",
    "    def set_queen_at(self, row, col): \n",
    "        self.board[row][col] = \"Q\"\n",
    "\n",
    "    def unset_queen_on_row(self, row):\n",
    "        self.board[row] = [\"-\" for _ in range(8)]\n",
    "\n",
    "    # now top down approach \n",
    "    def find_solution(self): \n",
    "        # we need to start at top left and place queen\n",
    "        # then next place we can put it? cannot be same row, same col, same diag\n",
    "        # if we cannot place it --> next position (col) --> what if we get to end? backtrack bc previous queen might be causing problems\n",
    "        # when we place queen on last row, we know we are done (if next row is out of bounds)\n",
    "        row = 0 \n",
    "        col = 0 \n",
    "        \n",
    "        while row < 8: \n",
    "            # searching for solution\n",
    "            # check if position we're at is valid \n",
    "            if self.is_valid_move(row, col): \n",
    "                self.set_queen_at(row, col)\n",
    "                row += 1\n",
    "                col = 0 \n",
    "            else: \n",
    "                col += 1\n",
    "                # what about if we are at last possible column --> change position of queen before\n",
    "                if col >= 8: \n",
    "                    # not able to place a queen on this row\n",
    "                    # backtrack and adjust position of queen on previous row\n",
    "                    # how? get the position \n",
    "                    col = self.get_queen_on_row(row - 1) # this gets the col of PREV queen \n",
    "                    # increment by 1 for next position \n",
    "                    col += 1 \n",
    "                    row -= 1\n",
    "\n",
    "        # notice how fxn names (white) are not defined yet --> top down method where we create the \n",
    "        # functions as we progress over the higher order code \n",
    "\n",
    "\n",
    "        # found solution \n",
    "        print(\"Found solution: \")\n",
    "        print(self)\n",
    "\n",
    "\n",
    "# repr allows to print \n",
    "test = Board() \n",
    "test.set_queen_at(1,1)\n",
    "print(test)\n",
    "test.unset_queen_on_row(1)\n",
    "print(test)\n",
    "# if in separate 8queen file, python3 8queen.py to print board "
   ]
  },
  {
   "cell_type": "markdown",
   "metadata": {},
   "source": [
    "## Exercise\n",
    "\n",
    "This exercise will use the [Titanic dataset](https://www.kaggle.com/c/titanic/data) (https://www.kaggle.com/c/titanic/data). Download the file named `train.csv` and place it in the same folder as this notebook.\n",
    "\n",
    "The goal of this exercise is to practice using [pandas](https://pypi.org/project/pandas/) methods. If your:\n",
    "\n",
    "1. code is taking a long time to run\n",
    "2. code involves for loops or while loops\n",
    "3. code spans multiple lines\n",
    "\n",
    "look through the pandas documentation for alternatives. This [cheat sheet](https://pandas.pydata.org/Pandas_Cheat_Sheet.pdf) may come in handy.\n",
    "\n",
    "a) Complete the code below to read in a filepath to the `train.csv` and returns the DataFrame."
   ]
  },
  {
   "cell_type": "code",
   "execution_count": null,
   "metadata": {},
   "outputs": [],
   "source": [
    "import pandas as pd\n",
    "\n",
    "df = # your code here\n",
    "df.describe()"
   ]
  },
  {
   "cell_type": "markdown",
   "metadata": {},
   "source": [
    "b) Complete the code so it returns the number of rows that have at least one empty column value"
   ]
  },
  {
   "cell_type": "code",
   "execution_count": null,
   "metadata": {},
   "outputs": [],
   "source": [
    "print(\"there are \" +  str(...) + \" rows with at least one empty value\")"
   ]
  },
  {
   "cell_type": "markdown",
   "metadata": {},
   "source": [
    "c) Complete the code below to remove all columns with more than 200 NaN values"
   ]
  },
  {
   "cell_type": "code",
   "execution_count": null,
   "metadata": {},
   "outputs": [],
   "source": [
    "df = ...\n",
    "df.columns"
   ]
  },
  {
   "cell_type": "markdown",
   "metadata": {},
   "source": [
    "d) Complete the code below to replaces `male` with 0 and `female` with 1"
   ]
  },
  {
   "cell_type": "code",
   "execution_count": null,
   "metadata": {},
   "outputs": [],
   "source": [
    "df['Sex'] = ...\n",
    "df.head()"
   ]
  },
  {
   "cell_type": "markdown",
   "metadata": {},
   "source": [
    "e) Complete the code below to add four columns `First Name`, `Middle Name`, `Last Name`, and `Title` corresponding to the value in the `name` column.\n",
    "\n",
    "For example: `Braund, Mr. Owen Harris` would be: \n",
    "\n",
    "|First Name | Middle Name | Last Name | Title |\n",
    "|-----------|-------------|-----------|-------|\n",
    "| Owen      |  Harris     |  Braund   | Mr    |\n",
    "\n",
    "Anything not clearly one of the above 4 categories can be ignored."
   ]
  },
  {
   "cell_type": "code",
   "execution_count": null,
   "metadata": {},
   "outputs": [],
   "source": [
    "df[['First Name', 'Middle Name', 'Last Name', 'Title']] = ...\n",
    "df.head()"
   ]
  },
  {
   "cell_type": "markdown",
   "metadata": {},
   "source": [
    "f) Complete the code below to replace all missing ages with the average age"
   ]
  },
  {
   "cell_type": "code",
   "execution_count": null,
   "metadata": {},
   "outputs": [],
   "source": [
    "df['Age'] = ...\n",
    "df.head()"
   ]
  },
  {
   "cell_type": "markdown",
   "metadata": {},
   "source": [
    "g) Plot a bar chart of the average age of those that survived and did not survive. Briefly comment on what you observe."
   ]
  },
  {
   "cell_type": "code",
   "execution_count": null,
   "metadata": {},
   "outputs": [],
   "source": []
  }
 ],
 "metadata": {
  "kernelspec": {
   "display_name": "Python 3",
   "language": "python",
   "name": "python3"
  },
  "language_info": {
   "name": "python",
   "version": "3.11.1"
  },
  "orig_nbformat": 4,
  "vscode": {
   "interpreter": {
    "hash": "e7370f93d1d0cde622a1f8e1c04877d8463912d04d973331ad4851f04de6915a"
   }
  }
 },
 "nbformat": 4,
 "nbformat_minor": 2
}
