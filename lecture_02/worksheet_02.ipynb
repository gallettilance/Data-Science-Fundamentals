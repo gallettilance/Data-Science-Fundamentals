{
 "cells": [
  {
   "attachments": {},
   "cell_type": "markdown",
   "metadata": {},
   "source": [
    "# Worksheet 02\n",
    "\n",
    "Name: Yuchen Lu \\\n",
    "UID: U56150111\n",
    "\n",
    "### Topics\n",
    "\n",
    "- Effective Programming\n",
    "\n",
    "### Effective Programming\n",
    "\n",
    "a) What is a drawback of the top down approach?"
   ]
  },
  {
   "cell_type": "markdown",
   "metadata": {},
   "source": [
    "The top down approach starts at the root by writing a pseudo code, prentending that I have all the helper functions, then break it down into smaller pieces to implement. The drawback is that Yyou don't have the runnable code until the end to test it. \n",
    "\n"
   ]
  },
  {
   "cell_type": "markdown",
   "metadata": {},
   "source": [
    "b) What is a drawback of the bottom up approach?"
   ]
  },
  {
   "cell_type": "markdown",
   "metadata": {},
   "source": [
    "Bottom up approach builds all pieces up front and compose them together. You may not know everything up front. It is hard to know what the pieces are and how to compose them. \n"
   ]
  },
  {
   "cell_type": "markdown",
   "metadata": {},
   "source": [
    "c) What are 3 things you can do to have a better debugging experience?"
   ]
  },
  {
   "cell_type": "markdown",
   "metadata": {},
   "source": [
    "1. Do one thing\n",
    "2. Wrtie many functions with small bodies instead of one function with a large body. \n",
    "3. Keep the code simple (boring code is good code) so that the codes are easier to read and deubg."
   ]
  },
  {
   "attachments": {},
   "cell_type": "markdown",
   "metadata": {},
   "source": [
    "d) Follow along with the live coding. You can write your code here:"
   ]
  },
  {
   "cell_type": "code",
   "execution_count": 14,
   "metadata": {},
   "outputs": [
    {
     "name": "stdout",
     "output_type": "stream",
     "text": [
      "FOUND A SOLUTION\n",
      "Q _ _ _ _ _ _ _ \n",
      "_ _ _ _ Q _ _ _ \n",
      "_ _ _ _ _ _ _ Q \n",
      "_ _ _ _ _ Q _ _ \n",
      "_ _ Q _ _ _ _ _ \n",
      "_ _ _ _ _ _ Q _ \n",
      "_ Q _ _ _ _ _ _ \n",
      "_ _ _ Q _ _ _ _ \n",
      "\n"
     ]
    }
   ],
   "source": [
    "# eight queens \n",
    "class Board:\n",
    "    def __init__(self):\n",
    "        self.board = [[\"_\" for _ in range(8)] for _ in range(8)]\n",
    "\n",
    "    def __repr__(self):\n",
    "        res = \"\"\n",
    "        for row in self.board:\n",
    "            for col in row:\n",
    "                res += col + \" \"\n",
    "            res += \"\\n\"\n",
    "        return res\n",
    "    \n",
    "    def is_on_board(self, row, col):\n",
    "        return row >= 0 and row < 8 and col >= 0 and col < 8\n",
    "    \n",
    "    def is_legal_diag(self, row, col):\n",
    "        for x in range(len(self.board)):\n",
    "            if self.is_on_board(row-x, col-x) and self.board[row-x][col-x] == 'Q':\n",
    "                return False\n",
    "            \n",
    "            if self.is_on_board(row-x, col+x) and self.board[row-x][col+x] == 'Q':\n",
    "                return False\n",
    "            \n",
    "            if self.is_on_board(row+x, col-x) and self.board[row+x][col-x] == 'Q':\n",
    "                return False\n",
    "            \n",
    "            if self.is_on_board(row+x, col+x) and self.board[row+x][col+x] == 'Q':\n",
    "                return False\n",
    "        return True\n",
    "    \n",
    "    def is_legal(self, row, col):\n",
    "        if \"Q\" in self.board[row]:\n",
    "            return False\n",
    "        elif not self.is_legal_diag(row, col):\n",
    "            return False\n",
    "        else:\n",
    "            for x in range(len(self.board[col])):\n",
    "                if self.board[x][col] == 'Q':\n",
    "                    return False\n",
    "        return True\n",
    "    \n",
    "    def set_queen_at(self, row, col):\n",
    "        self.board[row][col] = 'Q'\n",
    "\n",
    "    def unset_queen(self, row, col):\n",
    "        self.board[row][col] = '_'\n",
    "    \n",
    "    def get_queen_on(self, row):\n",
    "        for col in range(len(self.board)):\n",
    "            if self.board[row][col] == 'Q':\n",
    "                return col\n",
    "            \n",
    "        raise ValueError(\"No queen on row {}\".format(row))\n",
    "    \n",
    "    def search(self):\n",
    "        row = 0\n",
    "        col = 0\n",
    "\n",
    "        # while row < 8:\n",
    "        while row >= 0:\n",
    "            if row < 8:\n",
    "                if self.is_legal(row, col):\n",
    "                    self.set_queen_at(row, col)\n",
    "                    row += 1\n",
    "                    col = 0\n",
    "                else:\n",
    "                    col += 1\n",
    "                    while col > 7:\n",
    "                        col = self.get_queen_on(row-1)\n",
    "                        self.unset_queen(row-1, col)\n",
    "                        col += 1\n",
    "                        row -= 1\n",
    "            else: \n",
    "                print(\"FOUND A SOLUTION\")\n",
    "                print(self)\n",
    "                while col > 7:\n",
    "                    col = self.get_queen_on(row-1)\n",
    "                    self.unset_queen(row-1, col)\n",
    "                    col += 1\n",
    "                    row -= 1\n",
    "\n",
    "my_board = Board()\n",
    "# NOTE: This version will run for a long time, so you'll have to interrupt it\n",
    "my_board.search()\n"
   ]
  }
 ],
 "metadata": {
  "kernelspec": {
   "display_name": "Python 3",
   "language": "python",
   "name": "python3"
  },
  "language_info": {
   "codemirror_mode": {
    "name": "ipython",
    "version": 3
   },
   "file_extension": ".py",
   "mimetype": "text/x-python",
   "name": "python",
   "nbconvert_exporter": "python",
   "pygments_lexer": "ipython3",
   "version": "3.11.5"
  },
  "orig_nbformat": 4,
  "vscode": {
   "interpreter": {
    "hash": "76ca05dc3ea24b2e3b98cdb7774adfbb40773424bf5109b477fd793f623715af"
   }
  }
 },
 "nbformat": 4,
 "nbformat_minor": 2
}
