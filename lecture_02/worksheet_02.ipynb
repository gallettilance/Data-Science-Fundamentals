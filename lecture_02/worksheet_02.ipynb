{
 "cells": [
  {
   "attachments": {},
   "cell_type": "markdown",
   "metadata": {},
   "source": [
    "# Worksheet 02\n",
    "\n",
<<<<<<< HEAD
    "Name: Gersian Collaku \n",
=======
    "Name: Gersian Collaku\n",
>>>>>>> c8d57e6d3aa873651488624ac499dd73147d418f
    "UID: U85715518\n",
    "\n",
    "### Topics\n",
    "\n",
    "- Effective Programming\n",
    "\n",
    "### Effective Programming\n",
    "\n",
    "a) What is a drawback of the top down approach?"
   ]
  },
  {
   "cell_type": "markdown",
   "metadata": {},
   "source": [
<<<<<<< HEAD
    "A drawback of the top down approach is that it starts at the root by writing pseudo code and the problem with this is that you don't have access to the actual executable code that is needed."
=======
    "A drawback of the top down approach is that not everything will be implemented into code such as helper functions, so you may face potential bugs that you didn't expect from the code that was not implemented originally."
>>>>>>> c8d57e6d3aa873651488624ac499dd73147d418f
   ]
  },
  {
   "cell_type": "markdown",
   "metadata": {},
   "source": [
    "b) What is a drawback of the bottom up approach?"
   ]
  },
  {
   "cell_type": "markdown",
   "metadata": {},
   "source": [
<<<<<<< HEAD
    "A draw back of the bottom up approach is that all pieces are built up front and this means you may not know everything that is needed to run the program."
=======
    "A draw back of the bottom up approach is that it can be time consuming when previous code isn't compatible with newer and more complex lines of code that could be implemented later on."
>>>>>>> c8d57e6d3aa873651488624ac499dd73147d418f
   ]
  },
  {
   "cell_type": "markdown",
   "metadata": {},
   "source": [
    "c) What are 3 things you can do to have a better debugging experience?"
   ]
  },
  {
   "cell_type": "markdown",
   "metadata": {},
   "source": [
<<<<<<< HEAD
    "1. Keep the code simple\n",
    "2. Take a break and look at the code again at another time\n",
    "3. Write many functions with small bodies instead of one function with a larger body"
=======
    "1. Step away from the code and look at it a later time.\n",
    "2. Simpler code is better.\n",
    "3. Look over your code before you test it."
>>>>>>> c8d57e6d3aa873651488624ac499dd73147d418f
   ]
  },
  {
   "attachments": {},
   "cell_type": "markdown",
   "metadata": {},
   "source": [
    "d) Follow along with the live coding. You can write your code here:"
   ]
  },
  {
   "cell_type": "code",
   "execution_count": 4,
   "metadata": {},
<<<<<<< HEAD
   "outputs": [
    {
     "name": "stdout",
     "output_type": "stream",
     "text": [
      "_ _ _ _ _ _ _ _ \n",
      "_ _ _ _ _ _ _ _ \n",
      "_ _ _ _ _ _ _ _ \n",
      "_ _ _ _ _ _ _ _ \n",
      "_ _ _ _ _ _ _ _ \n",
      "_ _ _ _ _ _ _ _ \n",
      "_ _ _ _ _ _ _ _ \n",
      "_ _ _ _ _ _ _ _ \n",
      "\n"
     ]
    }
   ],
   "source": [
    "class Board:\n",
    "\n",
    "    def __init__(self):\n",
    "        self.board = [[\"_\" for _ in range(8)] for _ in range(8)]\n",
    "\n",
    "    def __repr__(self):\n",
    "        res = \"\"\n",
    "        for row in self.board:\n",
    "            for col in row:\n",
    "                res += col\n",
    "                res += \" \"\n",
    "            res += \"\\n\"\n",
    "        return res\n",
    "    \n",
    "    def is_legal_row(self,row,col):\n",
    "        for j in range(len(self.board)):\n",
    "            if self.board[row][j] == \"Q\":\n",
    "                return False\n",
    "        return True\n",
    "    \n",
    "    def is_legal_col(self,row,col):\n",
    "        for i in range(len(self.board)):\n",
    "            if self.board[i][col] == \"Q\":\n",
    "                return False\n",
    "        return True\n",
    "    \n",
    "    def is_on_board(self, row, col):\n",
    "        return row >= 0 and row < 8 and col >= 0 and col < 8\n",
    "    \n",
    "    def is_legal_diag(self,row,col):\n",
    "        for i in range(len(self.board)):\n",
    "            if self.is_on_board(row - i,col-i) and  self.is_on_board[row-i][col - i] == \"Q\":\n",
    "                return False\n",
    "            if self.is_on_board(row - i,col+i) and  self.is_on_board[row-i][col + i] == \"Q\":\n",
    "                return False\n",
    "            if self.is_on_board(row + i,col-i) and  self.is_on_board[row+i][col - i] == \"Q\":\n",
    "                return False\n",
    "            if self.is_on_board(row + i,col+i) and  self.is_on_board[row+i][col + i] == \"Q\":\n",
    "                return False\n",
    "    \n",
    "    def is_legal(self, row, col):\n",
    "        if not self.is_legal_row(row,col):\n",
    "            return False\n",
    "        if not self.is_legal_col(row,col):\n",
    "            return False\n",
    "        return True\n",
    "    \n",
    "    def set_queen_at(self, row ,col):\n",
    "        self.board[row][col] = \"Q\"\n",
    "\n",
    "    def unset_queen_on(self, row):\n",
    "        self.board[row] = [\"_\" for _ in range(8)]\n",
    "\n",
    "    def get_queen_on(self, row):\n",
    "        for col in range(len(self.board)):\n",
    "            if self.board[row][col] == \"Q\":\n",
    "                return col\n",
    "        raise ValueError(\"programmer error\")\n",
    "    \n",
    "    def search(self):\n",
    "        row = 0\n",
    "        col = 0\n",
    "        while row>=0:\n",
    "            if row < 8:\n",
    "                if self.is_legal(row,col):\n",
    "                    self.set_queen_at(row, col)\n",
    "                    row+= 1\n",
    "                    col = 0\n",
    "                else:\n",
    "                    print(\"found a solution\")\n",
    "                    print(self)\n",
    "                    col += 1\n",
    "                    while col >= 8:\n",
    "                        col = self.get_queen_on(row -1)\n",
    "                        self.unset_queen_on(row -1)\n",
    "                        col += 1\n",
    "                        row -= 1\n",
    "\n",
    "        print(\"found a solution\")\n",
    "        print(self)\n",
    "                \n",
    "                \n",
    "\n",
    "\n",
    "my_board = Board()\n",
    "\n",
    "print(my_board)\n",
    "    "
=======
   "outputs": [],
   "source": [
    "class Board:\n",
    "\n",
    "  def __init__(self):\n",
    "    self.board = [[\"_\" for _ in range(8)] for _ in range(8)]\n",
    "\n",
    "  def __repr__(self):\n",
    "    res = \" \"\n",
    "    for row in self.board:\n",
    "      for col in row:\n",
    "        res += col\n",
    "        res += \" \"\n",
    "      res += \"\\n\"\n",
    "    return res\n",
    "  \n",
    "  def is_legal_row(self, row, col):\n",
    "    for j in range(len(self.board)):\n",
    "      if self.board[row][j] == \"Q\":\n",
    "        return False\n",
    "    return True\n",
    "\n",
    "  def is_legal_col(self, row, col):\n",
    "    for i in range(len(self.board)):\n",
    "      if self.board[i][col] == \"Q\":\n",
    "        return False\n",
    "    return True\n",
    "  \n",
    "  def is_on_board(self, row, col):\n",
    "    return row >= 0 and row < 8 and col >= 0 and col < 8\n",
    "\n",
    "  def is_legal_diag(self, row, col):\n",
    "    for i in range(len(self.board)):\n",
    "      if self.is_on_board(row - i, col - i) and self.board[row - i][col - i] == \"Q\":\n",
    "        return False\n",
    "      if self.is_on_board(row - i, col + i) and self.board[row - i][col + i] == \"Q\":\n",
    "        return False\n",
    "      if self.is_on_board(row + i, col - i) and self.board[row + i][col - i] == \"Q\":\n",
    "        return False\n",
    "      if self.is_on_board(row + i, col + i) and self.board[row + i][col + i] == \"Q\":\n",
    "        return False\n",
    "    return True\n",
    "\n",
    "  def is_legal(self, row, col):\n",
    "    if not self.is_legal_row(row, col):\n",
    "      return False\n",
    "    if not self.is_legal_col(row, col):\n",
    "      return False\n",
    "    if not self.is_legal_diag(row, col):\n",
    "      return False\n",
    "    return True\n",
    "  \n",
    "  def set_queen_at(self, row, col):\n",
    "    self.board[row][col] = \"Q\"\n",
    "\n",
    "  def unset_queen_on(self, row):\n",
    "    self.board[row] = [\"_\" for _ in range(8)]\n",
    "\n",
    "  def get_queen_on(self, row):\n",
    "    for col in range(len(self.board)):\n",
    "      if self.board[row][col] == \"Q\":\n",
    "        return col\n",
    "    raise ValueError(\"programmer error\")\n",
    "\n",
    "  def search(self):\n",
    "    row = 0\n",
    "    col = 0\n",
    "    while row < 8:\n",
    "      if self.is_legal(row,col):\n",
    "        self.set_queen_at(row, col)\n",
    "        row += 1\n",
    "        col = 0\n",
    "      else:\n",
    "        print(\"found solution\")\n",
    "        print(self)\n",
    "        while col >= 8:\n",
    "          col = self.get_queen_on(row - 1)\n",
    "          self.unset_queen_on(row-1)\n",
    "          col += 1\n",
    "          row -= 1\n",
    "\n",
    "    print(\"found solution\")\n",
    "    print(self)\n",
    "  \n",
    "  print(\"no more solutions\")\n",
    "\n",
    "my_board = Board()\n",
    "print(my_board.search())"
>>>>>>> c8d57e6d3aa873651488624ac499dd73147d418f
   ]
  }
 ],
 "metadata": {
  "kernelspec": {
   "display_name": "Python 3",
   "language": "python",
   "name": "python3"
  },
  "language_info": {
   "codemirror_mode": {
    "name": "ipython",
    "version": 3
   },
   "file_extension": ".py",
   "mimetype": "text/x-python",
   "name": "python",
<<<<<<< HEAD
   "nbconvert_exporter": "python",
   "pygments_lexer": "ipython3",
=======
>>>>>>> c8d57e6d3aa873651488624ac499dd73147d418f
   "version": "3.9.4"
  },
  "orig_nbformat": 4,
  "vscode": {
   "interpreter": {
    "hash": "76ca05dc3ea24b2e3b98cdb7774adfbb40773424bf5109b477fd793f623715af"
   }
  }
 },
 "nbformat": 4,
 "nbformat_minor": 2
}
