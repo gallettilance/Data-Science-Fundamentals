{
  "cells": [
    {
      "cell_type": "markdown",
      "metadata": {
        "id": "f9eEXNKnXAFv"
      },
      "source": [
        "# Worksheet 00\n",
        "\n",
        "Name:  Quan Ho\n",
        "\n",
        "UID: U17207751\n",
        "\n",
        "### Topics\n",
        "\n",
        "- course overview\n",
        "- python review\n",
        "\n",
        "### Course Overview\n",
        "\n",
        "a) Why are you taking this course?\n",
        "\n",
        "\n"
      ]
    },
    {
      "cell_type": "markdown",
      "metadata": {
        "id": "Qgfm4EA6XAFx"
      },
      "source": [
        "I want to improve my data science and coding ability so that I can be a stronger candidate for job prospect. Also, it is a class I have to take for my specilization major and it looks the most useful to my future goals compared to other classes.\n"
      ]
    },
    {
      "cell_type": "markdown",
      "metadata": {
        "id": "lcGR69wUXAFx"
      },
      "source": [
        "b) What are your academic and professional goals for this semester?"
      ]
    },
    {
      "cell_type": "markdown",
      "metadata": {
        "id": "J7CzDPdTXAFx"
      },
      "source": [
        "As mentioned above, I want to go into Biotech specifically in the data science field. Currently, I feel that my skills are lacking in this field so I want to take this course to improve upon my skills. I hope that by taking this course I can improve upon my skills, especially in developing workable algorithms with binomial trees. In addition to learning, I would also hope that the effort I put in grants me an adequate grade in the class."
      ]
    },
    {
      "cell_type": "markdown",
      "metadata": {
        "id": "nPiFCrNmXAFy"
      },
      "source": [
        "c) Do you have previous Data Science experience? If so, please expand."
      ]
    },
    {
      "cell_type": "markdown",
      "metadata": {
        "id": "POyojJhkXAFy"
      },
      "source": [
        "I took EC 523: Deep learning and BE500 A3: Programming Fundamentals for Biomedical Engineering. In EC 523 I trained machine learning models using class data as well as data from my lab. In BE500 class, we used synthesized nucleic base pairs to generate possible genes and coded a function for DNA replication. However, in those classes I only used Data Science tools that were applicable for the given assignments. I did not have a strong foundation in my toolkit. I hope to develop that here in this class, specifically in Github."
      ]
    },
    {
      "cell_type": "markdown",
      "metadata": {
        "id": "k_ty64uCXAFy"
      },
      "source": [
        "d) Data Science is a combination of programming, math (linear algebra and calculus), and statistics. Which of these three do you struggle with the most (you may pick more than one)?"
      ]
    },
    {
      "cell_type": "markdown",
      "metadata": {
        "id": "LXUpUc4VXAFz"
      },
      "source": [
        "I definitely struggle the most in programming because I did not have a strong foundation in coding, it was just a means to an ends for me in completing assingments. I want to build and develop my fountdation here."
      ]
    },
    {
      "cell_type": "markdown",
      "metadata": {
        "id": "rFMmrpnPXAFz"
      },
      "source": [
        "### Python review\n",
        "\n",
        "#### Lambda functions\n",
        "\n",
        "Python supports the creation of anonymous functions (i.e. functions that are not bound to a name) at runtime, using a construct called `lambda`. Instead of writing a named function as such:"
      ]
    },
    {
      "cell_type": "code",
      "execution_count": null,
      "metadata": {
        "id": "fTP_JcvEXAFz",
        "outputId": "a9e41cf4-a088-4561-8823-37b600eb9d96"
      },
      "outputs": [
        {
          "data": {
            "text/plain": [
              "64"
            ]
          },
          "execution_count": 1,
          "metadata": {},
          "output_type": "execute_result"
        }
      ],
      "source": [
        "def f(x):\n",
        "    return x**2\n",
        "f(8)"
      ]
    },
    {
      "cell_type": "markdown",
      "metadata": {
        "id": "J7vmE1wKXAF0"
      },
      "source": [
        "One can write an anonymous function as such:"
      ]
    },
    {
      "cell_type": "code",
      "execution_count": null,
      "metadata": {
        "colab": {
          "base_uri": "https://localhost:8080/"
        },
        "id": "XRt2T5emXAF0",
        "outputId": "42a8d1d5-88dd-4e33-a01a-5d90ccda156f"
      },
      "outputs": [
        {
          "output_type": "execute_result",
          "data": {
            "text/plain": [
              "64"
            ]
          },
          "metadata": {},
          "execution_count": 12
        }
      ],
      "source": [
        "(lambda x: x**2)(8)"
      ]
    },
    {
      "cell_type": "markdown",
      "metadata": {
        "id": "2b7JcXjCXAF0"
      },
      "source": [
        "A `lambda` function can take multiple arguments:"
      ]
    },
    {
      "cell_type": "code",
      "execution_count": null,
      "metadata": {
        "colab": {
          "base_uri": "https://localhost:8080/"
        },
        "id": "fJ62TcEqXAF1",
        "outputId": "dcdc9514-5618-47cd-f3a8-f9713a18576a"
      },
      "outputs": [
        {
          "output_type": "execute_result",
          "data": {
            "text/plain": [
              "5"
            ]
          },
          "metadata": {},
          "execution_count": 2
        }
      ],
      "source": [
        "(lambda x, y : x + y)(2, 3)"
      ]
    },
    {
      "cell_type": "markdown",
      "metadata": {
        "id": "Lh1HLNpAXAF1"
      },
      "source": [
        "The arguments can be `lambda` functions themselves:"
      ]
    },
    {
      "cell_type": "code",
      "execution_count": null,
      "metadata": {
        "colab": {
          "base_uri": "https://localhost:8080/"
        },
        "id": "C-oLrXHfXAF1",
        "outputId": "62be7318-64b9-44a9-d5e3-9549372dbc38"
      },
      "outputs": [
        {
          "output_type": "execute_result",
          "data": {
            "text/plain": [
              "5"
            ]
          },
          "metadata": {},
          "execution_count": 13
        }
      ],
      "source": [
        "(lambda x : x(3))(lambda y: 2 + y)"
      ]
    },
    {
      "cell_type": "markdown",
      "metadata": {
        "id": "pZmfXd4mXAF1"
      },
      "source": [
        "a) write a `lambda` function that takes three arguments `x, y, z` and returns `True` only if `x < y < z`."
      ]
    },
    {
      "cell_type": "code",
      "execution_count": null,
      "metadata": {
        "colab": {
          "base_uri": "https://localhost:8080/"
        },
        "id": "Sw5yJRmUXAF1",
        "outputId": "fb20d970-3922-46a6-d9e9-8316d4257464"
      },
      "outputs": [
        {
          "output_type": "execute_result",
          "data": {
            "text/plain": [
              "True"
            ]
          },
          "metadata": {},
          "execution_count": 10
        }
      ],
      "source": [
        "(lambda x,y,z:x<y<z)(1,2,3)\n",
        "\n"
      ]
    },
    {
      "cell_type": "markdown",
      "metadata": {
        "id": "pdRoCOkdXAF1"
      },
      "source": [
        "b) write a `lambda` function that takes a parameter `n` and returns a lambda function that will multiply any input it receives by `n`. For example, if we called this function `g`, then `g(n)(2) = 2n`"
      ]
    },
    {
      "cell_type": "code",
      "execution_count": null,
      "metadata": {
        "colab": {
          "base_uri": "https://localhost:8080/"
        },
        "id": "Z7M4y5_rXAF1",
        "outputId": "d481f616-53ec-44f6-d846-a3a84b29ba37"
      },
      "outputs": [
        {
          "output_type": "execute_result",
          "data": {
            "text/plain": [
              "46"
            ]
          },
          "metadata": {},
          "execution_count": 11
        }
      ],
      "source": [
        "(lambda n:2*n)(23)"
      ]
    },
    {
      "cell_type": "markdown",
      "metadata": {
        "id": "dYV1L3tyXAF1"
      },
      "source": [
        "#### Map\n",
        "\n",
        "`map(func, s)`\n",
        "\n",
        "`func` is a function and `s` is a sequence (e.g., a list).\n",
        "\n",
        "`map()` returns an object that will apply function `func` to each of the elements of `s`.\n",
        "\n",
        "For example if you want to multiply every element in a list by 2 you can write the following:"
      ]
    },
    {
      "cell_type": "code",
      "execution_count": null,
      "metadata": {
        "colab": {
          "base_uri": "https://localhost:8080/"
        },
        "id": "cOefJFSHXAF1",
        "outputId": "a31cb406-7fa3-4e3b-8257-667ab6ea084f"
      },
      "outputs": [
        {
          "output_type": "stream",
          "name": "stdout",
          "text": [
            "[2, 4, 6, 8, 10]\n"
          ]
        }
      ],
      "source": [
        "mylist = [1, 2, 3, 4, 5]\n",
        "mylist_mul_by_2 = map(lambda x : 2 * x, mylist)\n",
        "print(list(mylist_mul_by_2))"
      ]
    },
    {
      "cell_type": "markdown",
      "metadata": {
        "id": "QfcGYLAbXAF2"
      },
      "source": [
        "`map` can also be applied to more than one list as long as they are the same size:"
      ]
    },
    {
      "cell_type": "code",
      "execution_count": null,
      "metadata": {
        "colab": {
          "base_uri": "https://localhost:8080/"
        },
        "id": "v1aVJaurXAF2",
        "outputId": "4cbd7985-f635-40b0-9feb-5fd76e7827d1"
      },
      "outputs": [
        {
          "output_type": "execute_result",
          "data": {
            "text/plain": [
              "[6, 6, 6, 6, 6]"
            ]
          },
          "metadata": {},
          "execution_count": 15
        }
      ],
      "source": [
        "a = [1, 2, 3, 4, 5]\n",
        "b = [5, 4, 3, 2, 1]\n",
        "\n",
        "a_plus_b = map(lambda x, y: x + y, a, b)\n",
        "list(a_plus_b)"
      ]
    },
    {
      "cell_type": "markdown",
      "metadata": {
        "id": "xPaJ3fulXAF2"
      },
      "source": [
        "c) write a map that checks if elements are greater than zero"
      ]
    },
    {
      "cell_type": "code",
      "execution_count": null,
      "metadata": {
        "colab": {
          "base_uri": "https://localhost:8080/"
        },
        "id": "hQRoHB94XAF2",
        "outputId": "4aff1d55-6eb1-4e15-e145-2a22f1bce53c"
      },
      "outputs": [
        {
          "output_type": "execute_result",
          "data": {
            "text/plain": [
              "[False, False, False, True, True]"
            ]
          },
          "metadata": {},
          "execution_count": 17
        }
      ],
      "source": [
        "c = [-2, -1, 0, 1, 2]\n",
        "gt_zero = map(lambda c:c>0,c)\n",
        "list(gt_zero)"
      ]
    },
    {
      "cell_type": "markdown",
      "metadata": {
        "id": "p3BVd2f4XAF2"
      },
      "source": [
        "d) write a map that checks if elements are multiples of 3"
      ]
    },
    {
      "cell_type": "code",
      "execution_count": null,
      "metadata": {
        "colab": {
          "base_uri": "https://localhost:8080/"
        },
        "id": "1Uh-EnzUXAF3",
        "outputId": "f542494d-4db2-42b4-8fcb-8be7e054a570"
      },
      "outputs": [
        {
          "output_type": "execute_result",
          "data": {
            "text/plain": [
              "[False, True, True, False, False]"
            ]
          },
          "metadata": {},
          "execution_count": 21
        }
      ],
      "source": [
        "d = [1, 3, 6, 11, 2]\n",
        "mul_of3 = map(lambda d: d%3==0,d)\n",
        "list(mul_of3)"
      ]
    },
    {
      "cell_type": "markdown",
      "metadata": {
        "id": "OWOkPuJjXAF3"
      },
      "source": [
        "#### Filter\n",
        "\n",
        "`filter(function, list)` returns a new list containing all the elements of `list` for which `function()` evaluates to `True.`\n",
        "\n",
        "e) write a filter that will only return even numbers in the list"
      ]
    },
    {
      "cell_type": "code",
      "execution_count": null,
      "metadata": {
        "colab": {
          "base_uri": "https://localhost:8080/"
        },
        "id": "pGDMC9DZXAF3",
        "outputId": "a2231256-c6ff-4852-c619-56a76a69aa59"
      },
      "outputs": [
        {
          "output_type": "execute_result",
          "data": {
            "text/plain": [
              "[2, 4, 6, 8, 10]"
            ]
          },
          "metadata": {},
          "execution_count": 23
        }
      ],
      "source": [
        "e = [1, 2, 3, 4, 5, 6, 7, 8, 9, 10]\n",
        "evens = filter(lambda e: e%2==0,e)\n",
        "list(evens)"
      ]
    },
    {
      "cell_type": "markdown",
      "metadata": {
        "id": "Mv_UOtV6XAF3"
      },
      "source": [
        "#### Reduce\n",
        "\n",
        "`reduce(function, sequence[, initial])` returns the result of sequentially applying the function to the sequence (starting at an initial state). You can think of reduce as consuming the sequence via the function.\n",
        "\n",
        "For example, let's say we want to add all elements in a list. We could write the following:"
      ]
    },
    {
      "cell_type": "code",
      "execution_count": null,
      "metadata": {
        "colab": {
          "base_uri": "https://localhost:8080/"
        },
        "id": "rMakAg9xXAF3",
        "outputId": "daff0ee6-6d09-40d1-b670-ec834c021cc5"
      },
      "outputs": [
        {
          "output_type": "stream",
          "name": "stdout",
          "text": [
            "15\n"
          ]
        }
      ],
      "source": [
        "from functools import reduce\n",
        "\n",
        "nums = [1, 2, 3, 4, 5]\n",
        "sum_nums = reduce(lambda acc, x : acc + x, nums, 0)\n",
        "print(sum_nums)"
      ]
    },
    {
      "cell_type": "markdown",
      "metadata": {
        "id": "Zgx6Q1pHXAF4"
      },
      "source": [
        "Let's walk through the steps of `reduce` above:\n",
        "\n",
        "1) the value of `acc` is set to 0 (our initial value)\n",
        "\n",
        "2) Apply the lambda function on `acc` and the first element of the list: `acc` = `acc` + 1 = 1\n",
        "\n",
        "3) `acc` = `acc` + 2 = 3\n",
        "\n",
        "4) `acc` = `acc` + 3 = 6\n",
        "\n",
        "5) `acc` = `acc` + 4 = 10\n",
        "\n",
        "6) `acc` = `acc` + 5 = 15\n",
        "\n",
        "7) return `acc`\n",
        "\n",
        "`acc` is short for `accumulator`.\n",
        "\n",
        "f) `*challenging` Using `reduce` write a function that returns the factorial of a number. (recall: N! (N factorial) = N * (N - 1) * (N - 2) * ... * 2 * 1)"
      ]
    },
    {
      "cell_type": "code",
      "execution_count": null,
      "metadata": {
        "colab": {
          "base_uri": "https://localhost:8080/"
        },
        "id": "LWAx9QJ0XAF4",
        "outputId": "05f9f35a-ba1c-46e4-8076-8ecca02ad80f"
      },
      "outputs": [
        {
          "output_type": "execute_result",
          "data": {
            "text/plain": [
              "3628800"
            ]
          },
          "metadata": {},
          "execution_count": 34
        }
      ],
      "source": [
        "\n",
        "factorial = lambda x: reduce(lambda acc, n: acc * n, range(1, x + 1), 1)\n",
        "factorial(10)"
      ]
    },
    {
      "cell_type": "markdown",
      "metadata": {
        "id": "zfbC7lcHXAF4"
      },
      "source": [
        "g) `*challenging` Using `reduce` and `filter`, write a function that returns all the primes below a certain number"
      ]
    },
    {
      "cell_type": "code",
      "execution_count": null,
      "metadata": {
        "colab": {
          "base_uri": "https://localhost:8080/"
        },
        "id": "YffLCUmaXAF4",
        "outputId": "0ae7279a-c952-4f68-bd6c-da4fb68ee2ff"
      },
      "outputs": [
        {
          "output_type": "stream",
          "name": "stdout",
          "text": [
            "[2, 3, 5, 7, 11, 13, 17, 19, 23, 29, 31, 37, 41, 43, 47, 53, 59, 61, 67, 71, 73, 79, 83, 89, 97]\n"
          ]
        }
      ],
      "source": [
        "from functools import reduce\n",
        "\n",
        "#def sieve_OG(limit):\n",
        "#    primes = []\n",
        "#    is_prime = lambda x, primes=primes: all(x % p != 0 for p in primes)\n",
        "#\n",
        "#    return reduce(lambda acc, x: acc + [x] if is_prime(x) else acc, range(2, limit), [])\n",
        "#print(sieve_OG(100))\n",
        "\n",
        "sieve = lambda limit: reduce(lambda acc, x: acc + [x] if all(x % p != 0 for p in filter(lambda y: y <= int(x**0.5), acc)) else acc, range(2, limit), [])\n",
        "print(sieve(100))"
      ]
    },
    {
      "cell_type": "markdown",
      "metadata": {
        "id": "gSjPFHhwXAF4"
      },
      "source": [
        "### What is going on?\n",
        "\n",
        "For each of the following code snippets, explain why the result may be unexpected and why the output is what it is:"
      ]
    },
    {
      "cell_type": "code",
      "execution_count": null,
      "metadata": {
        "colab": {
          "base_uri": "https://localhost:8080/"
        },
        "id": "vexzbI0oXAF4",
        "outputId": "8128b9a1-6d27-4980-bb70-70502f73a120"
      },
      "outputs": [
        {
          "output_type": "stream",
          "name": "stdout",
          "text": [
            "OVERDRAWN\n",
            "ALL GOOD\n",
            "OVERDRAWN\n"
          ]
        }
      ],
      "source": [
        "class Bank:\n",
        "  def __init__(self, balance):\n",
        "    self.balance = balance\n",
        "\n",
        "  def is_overdrawn(self):\n",
        "    return self.balance < 0\n",
        "\n",
        "myBank = Bank(100)\n",
        "if myBank.is_overdrawn :\n",
        "  print(\"OVERDRAWN\")\n",
        "else:\n",
        "  print(\"ALL GOOD\")\n",
        "\n",
        "\n",
        "class Bank:\n",
        "    def __init__(self, balance):\n",
        "        self.balance = balance\n",
        "\n",
        "    def is_overdrawn(self):\n",
        "        return self.balance < 0\n",
        "\n",
        "myBank = Bank(100) #positive balance\n",
        "if myBank.is_overdrawn(): # Corrected usage with parentheses\n",
        "    print(\"OVERDRAWN\")\n",
        "else:\n",
        "    print(\"ALL GOOD\")\n",
        "\n",
        "\n",
        "myBank = Bank(-100) #negative balance\n",
        "if myBank.is_overdrawn(): # Corrected usage with parentheses\n",
        "    print(\"OVERDRAWN\")\n",
        "else:\n",
        "    print(\"ALL GOOD\")\n",
        "\n",
        "\n"
      ]
    },
    {
      "cell_type": "markdown",
      "metadata": {
        "id": "7Bd5mrMcXAF4"
      },
      "source": [
        "No matter what number you put it will always say overdrawn. It is because the myBank.is_overdrawn is missing a parentheisis. Missing the () will always make the myBank.is_overdrawn to reference the method object, and it will always be considered true in a boolean context. Meaning that it will always evaluate to True, and \"OVERDRAWN\" will always be printed, no matter what numeric balance you input."
      ]
    },
    {
      "cell_type": "code",
      "execution_count": null,
      "metadata": {
        "colab": {
          "base_uri": "https://localhost:8080/"
        },
        "id": "fY4fObz0XAF7",
        "outputId": "e9738cb1-1b99-4e37-bbbb-62ff189c0e1f"
      },
      "outputs": [
        {
          "output_type": "stream",
          "name": "stdout",
          "text": [
            "0\n",
            "1\n",
            "2\n",
            "3\n"
          ]
        }
      ],
      "source": [
        "for i in range(4):\n",
        "    print(i)\n",
        "    i = 10"
      ]
    },
    {
      "cell_type": "markdown",
      "metadata": {
        "id": "ZHq-t1G_XAF8"
      },
      "source": [
        "For line 45 above, the function is for i in range(4) meaning that it goes from i to 4th element. Since i is defined as 10, that means it is an element of\n",
        "[0,1,2,3,4,5,6,7,8,9] so in in range(4) would go from the 1st element to the 4th element. Hence it will return [0,1,2,3]."
      ]
    },
    {
      "cell_type": "code",
      "execution_count": null,
      "metadata": {
        "colab": {
          "base_uri": "https://localhost:8080/"
        },
        "id": "utom-RvuXAF8",
        "outputId": "57de0a71-50da-48d2-88be-52d8cc2b21ca"
      },
      "outputs": [
        {
          "output_type": "stream",
          "name": "stdout",
          "text": [
            "[['', '', ''], ['', '', ''], ['', '', '']]\n",
            "[['X', '', ''], ['X', '', ''], ['X', '', '']]\n"
          ]
        }
      ],
      "source": [
        "row = [\"\"] * 3 # row i['', '', '']\n",
        "board = [row] * 3\n",
        "print(board) # [['', '', ''], ['', '', ''], ['', '', '']]\n",
        "board[0][0] = \"X\"\n",
        "print(board)\n",
        "\n",
        "\n",
        "\n",
        "\n",
        "\n",
        "\n"
      ]
    },
    {
      "cell_type": "code",
      "source": [
        "row = [\"\"] * 3\n",
        "board = [list(row) for _ in range(3)]\n",
        "print(board)\n",
        "board[0][0] = \"X\"\n",
        "print(board)"
      ],
      "metadata": {
        "colab": {
          "base_uri": "https://localhost:8080/"
        },
        "id": "MQvxOxT0puHr",
        "outputId": "3e2ad4c6-6050-40c3-c11d-62f5f68fa380"
      },
      "execution_count": null,
      "outputs": [
        {
          "output_type": "stream",
          "name": "stdout",
          "text": [
            "[['', '', ''], ['', '', ''], ['', '', '']]\n",
            "[['X', '', ''], ['', '', ''], ['', '', '']]\n"
          ]
        }
      ]
    },
    {
      "cell_type": "markdown",
      "metadata": {
        "id": "xxMGe9u-XAF8"
      },
      "source": [
        "The inner lists in board are references to the same list object. As seen with the first snippet, when board[0][0]=\"X\" was inputed, it affacted every single board. Adter the fix, board[0][0] = \"X\" it is only the [0],[0] element that is changed into an \"X\". This is fixable by creating an independent inner lists using the list comprehension method."
      ]
    },
    {
      "cell_type": "code",
      "execution_count": null,
      "metadata": {
        "colab": {
          "base_uri": "https://localhost:8080/"
        },
        "id": "2Ms5Hi34XAF8",
        "outputId": "1e49ed86-29c1-409d-99aa-f7cde29d89ef"
      },
      "outputs": [
        {
          "output_type": "stream",
          "name": "stdout",
          "text": [
            "[0, 1, 2]\n",
            "[2, 2, 2]\n"
          ]
        }
      ],
      "source": [
        "funcs = []\n",
        "results = []\n",
        "for x in range(3):\n",
        "    def some_func():\n",
        "        return x\n",
        "    funcs.append(some_func)\n",
        "    results.append(some_func())  # note the function call here\n",
        "\n",
        "funcs_results = [func() for func in funcs]\n",
        "print(results) # [0,1,2]\n",
        "print(funcs_results)"
      ]
    },
    {
      "cell_type": "code",
      "source": [
        "funcs = []\n",
        "results = []\n",
        "for x in range(3):\n",
        "    def some_func(x=x):\n",
        "        return x\n",
        "    funcs.append(some_func)\n",
        "    results.append(some_func())\n",
        "\n",
        "funcs_results = [func() for func in funcs]\n",
        "print(results)  # Output: [0, 1, 2]\n",
        "print(funcs_results)  # Output: [0, 1, 2]\n"
      ],
      "metadata": {
        "colab": {
          "base_uri": "https://localhost:8080/"
        },
        "id": "0EMM1eLZrioJ",
        "outputId": "4482a0e9-e2a0-42b3-858a-8ea79bcd8005"
      },
      "execution_count": null,
      "outputs": [
        {
          "output_type": "stream",
          "name": "stdout",
          "text": [
            "[0, 1, 2]\n",
            "[0, 1, 2]\n"
          ]
        }
      ]
    },
    {
      "cell_type": "markdown",
      "metadata": {
        "id": "WjzJ1xteXAF8"
      },
      "source": [
        "\n",
        "The original code had a late binding of the variable x in the\n",
        "some_func function defined inside the loop. Meaning that all functions in the funcs list were referencing the same x from the outer scope.\n",
        "\n",
        "This can be fixed by modifying the function definition to use a default argument x=x, this will give the current value of x."
      ]
    },
    {
      "cell_type": "code",
      "execution_count": null,
      "metadata": {
        "colab": {
          "base_uri": "https://localhost:8080/"
        },
        "id": "1gaHa0ddXAF8",
        "outputId": "6391d044-7be0-4ef9-ad05-4371de0bf82c"
      },
      "outputs": [
        {
          "output_type": "stream",
          "name": "stdout",
          "text": [
            "0\n"
          ]
        }
      ],
      "source": [
        "f = open(\"./data.txt\", \"w+\")\n",
        "f.write(\"1,2,3,4,5\")\n",
        "f.close()\n",
        "\n",
        "nums = []\n",
        "with open(\"./data.txt\", \"w+\") as f:\n",
        "  lines = f.readlines()\n",
        "  for line in lines:\n",
        "    nums += [int(x) for x in line.split(\",\")]\n",
        "\n",
        "print(sum(nums))"
      ]
    },
    {
      "cell_type": "code",
      "source": [
        "f = open(\"./data.txt\", \"w+\")\n",
        "f.write(\"1,2,3,4,5\")\n",
        "f.seek(0)  # Reset the file cursor to the beginning before reading\n",
        "f.close()\n",
        "\n",
        "nums = []\n",
        "with open(\"./data.txt\", \"r\") as f:  # Open in read-only mode\n",
        "    lines = f.readlines()\n",
        "    for line in lines:\n",
        "        nums += [int(x) for x in line.split(\",\")]\n",
        "\n",
        "print(sum(nums))\n"
      ],
      "metadata": {
        "colab": {
          "base_uri": "https://localhost:8080/"
        },
        "id": "VEyc03_hsTHi",
        "outputId": "1b454d05-e2a2-4503-fd33-5c4dec84c0f0"
      },
      "execution_count": null,
      "outputs": [
        {
          "output_type": "stream",
          "name": "stdout",
          "text": [
            "15\n"
          ]
        }
      ]
    },
    {
      "cell_type": "markdown",
      "metadata": {
        "id": "C1iy43AsXAF8"
      },
      "source": [
        "The origional code had 3 problems:\n",
        "It Used \"w+\" mode for writing, which truncates the file, leading to data loss.\n",
        "It read lines immediately after writing, but the file cursor was at the end, resulting in an empty lines list.\n",
        "Its nums list remained empty as there were no lines to iterate over and split.\n",
        "\n",
        "I fixed it by resetting the file cursor to the beginning after writing and opening the file in read-only mode when reading. This was done by adding f.seek(0) after writing to reset the file cursor to the beginning. Lastly, I changed the file mode to \"r\" in the with open statement to open the file in read-only mode.\n",
        "\n",
        "\n",
        "\n",
        "\n",
        "\n",
        "\n"
      ]
    }
  ],
  "metadata": {
    "interpreter": {
      "hash": "e7370f93d1d0cde622a1f8e1c04877d8463912d04d973331ad4851f04de6915a"
    },
    "kernelspec": {
      "display_name": "Python 3 (ipykernel)",
      "language": "python",
      "name": "python3"
    },
    "language_info": {
      "codemirror_mode": {
        "name": "ipython",
        "version": 3
      },
      "file_extension": ".py",
      "mimetype": "text/x-python",
      "name": "python",
      "nbconvert_exporter": "python",
      "pygments_lexer": "ipython3",
      "version": "3.11.1"
    },
    "colab": {
      "provenance": []
    }
  },
  "nbformat": 4,
  "nbformat_minor": 0
}
