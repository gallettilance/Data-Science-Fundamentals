{
 "cells": [
  {
   "attachments": {},
   "cell_type": "markdown",
   "metadata": {},
   "source": [
    "# Worksheet 00\n",
    "\n",
    "Name:  Yuchen Lu    \n",
    "UID:  U 56150111\n",
    "\n",
    "### Topics\n",
    "\n",
    "- course overview\n",
    "- python review\n",
    "\n",
    "### Course Overview\n",
    "\n",
    "a) Why are you taking this course?"
   ]
  },
  {
   "cell_type": "markdown",
   "metadata": {},
   "source": [
    "Fullfill the 500+ level class requirement and learn something about data science. "
   ]
  },
  {
   "cell_type": "markdown",
   "metadata": {},
   "source": [
    "b) What are your academic and professional goals for this semester?"
   ]
  },
  {
   "cell_type": "markdown",
   "metadata": {},
   "source": [
    "My academic goal is to learn more about data science. \n",
    "My professional goal is to be prepared for the interviews for related jobs."
   ]
  },
  {
   "cell_type": "markdown",
   "metadata": {},
   "source": [
    "c) Do you have previous Data Science experience? If so, please expand."
   ]
  },
  {
   "cell_type": "markdown",
   "metadata": {},
   "source": [
    "Yes. I took intro to databases(cs460) and math classes. "
   ]
  },
  {
   "cell_type": "markdown",
   "metadata": {},
   "source": [
    "d) Data Science is a combination of programming, math (linear algebra and calculus), and statistics. Which of these three do you struggle with the most (you may pick more than one)?"
   ]
  },
  {
   "cell_type": "markdown",
   "metadata": {},
   "source": [
    "Math. "
   ]
  },
  {
   "attachments": {},
   "cell_type": "markdown",
   "metadata": {},
   "source": [
    "The rest of this worksheet is optional. If you have prior Python experience, you are welcome to skip it HOWEVER I strongly encourage you to try out the questions marked as `challenging`.\n",
    "\n",
    "### Python review (Optional)\n",
    "\n",
    "#### Lambda functions\n",
    "\n",
    "Python supports the creation of anonymous functions (i.e. functions that are not bound to a name) at runtime, using a construct called `lambda`. Instead of writing a named function as such:"
   ]
  },
  {
   "cell_type": "code",
   "execution_count": 1,
   "metadata": {},
   "outputs": [
    {
     "data": {
      "text/plain": [
       "64"
      ]
     },
     "execution_count": 1,
     "metadata": {},
     "output_type": "execute_result"
    }
   ],
   "source": [
    "def f(x):\n",
    "    return x**2\n",
    "f(8)"
   ]
  },
  {
   "cell_type": "markdown",
   "metadata": {},
   "source": [
    "One can write an anonymous function as such:"
   ]
  },
  {
   "cell_type": "code",
   "execution_count": 2,
   "metadata": {},
   "outputs": [
    {
     "data": {
      "text/plain": [
       "64"
      ]
     },
     "execution_count": 2,
     "metadata": {},
     "output_type": "execute_result"
    }
   ],
   "source": [
    "(lambda x: x**2)(8)"
   ]
  },
  {
   "cell_type": "markdown",
   "metadata": {},
   "source": [
    "A `lambda` function can take multiple arguments:"
   ]
  },
  {
   "cell_type": "code",
   "execution_count": 3,
   "metadata": {},
   "outputs": [
    {
     "data": {
      "text/plain": [
       "5"
      ]
     },
     "execution_count": 3,
     "metadata": {},
     "output_type": "execute_result"
    }
   ],
   "source": [
    "(lambda x, y : x + y)(2, 3)"
   ]
  },
  {
   "cell_type": "markdown",
   "metadata": {},
   "source": [
    "The arguments can be `lambda` functions themselves:"
   ]
  },
  {
   "cell_type": "code",
   "execution_count": 4,
   "metadata": {},
   "outputs": [
    {
     "data": {
      "text/plain": [
       "5"
      ]
     },
     "execution_count": 4,
     "metadata": {},
     "output_type": "execute_result"
    }
   ],
   "source": [
    "(lambda x : x(3))(lambda y: 2 + y)"
   ]
  },
  {
   "cell_type": "markdown",
   "metadata": {},
   "source": [
    "a) write a `lambda` function that takes three arguments `x, y, z` and returns `True` only if `x < y < z`."
   ]
  },
  {
   "cell_type": "code",
   "execution_count": 2,
   "metadata": {},
   "outputs": [
    {
     "data": {
      "text/plain": [
       "True"
      ]
     },
     "execution_count": 2,
     "metadata": {},
     "output_type": "execute_result"
    }
   ],
   "source": [
    "(lambda x, y, z : True if x<y<z else False)(1,2,3)"
   ]
  },
  {
   "cell_type": "markdown",
   "metadata": {},
   "source": [
    "b) write a `lambda` function that takes a parameter `n` and returns a lambda function that will multiply any input it receives by `n`."
   ]
  },
  {
   "cell_type": "code",
   "execution_count": 6,
   "metadata": {},
   "outputs": [
    {
     "data": {
      "text/plain": [
       "6"
      ]
     },
     "execution_count": 6,
     "metadata": {},
     "output_type": "execute_result"
    }
   ],
   "source": [
    "(lambda n: (lambda x: x*n))(3)(2)"
   ]
  },
  {
   "cell_type": "markdown",
   "metadata": {},
   "source": [
    "#### Map\n",
    "\n",
    "`map(func, s)`\n",
    "\n",
    "`func` is a function and `s` is a sequence (e.g., a list). \n",
    "\n",
    "`map()` returns an object that will apply function `func` to each of the elements of `s`.\n",
    "\n",
    "For example if you want to multiply every element in a list by 2 you can write the following:"
   ]
  },
  {
   "cell_type": "code",
   "execution_count": 5,
   "metadata": {},
   "outputs": [
    {
     "name": "stdout",
     "output_type": "stream",
     "text": [
      "[2, 4, 6, 8, 10]\n"
     ]
    }
   ],
   "source": [
    "mylist = [1, 2, 3, 4, 5]\n",
    "mylist_mul_by_2 = map(lambda x : 2 * x, mylist)\n",
    "print(list(mylist_mul_by_2))"
   ]
  },
  {
   "cell_type": "markdown",
   "metadata": {},
   "source": [
    "`map` can also be applied to more than one list as long as they are the same size:"
   ]
  },
  {
   "cell_type": "code",
   "execution_count": 6,
   "metadata": {},
   "outputs": [
    {
     "data": {
      "text/plain": [
       "[6, 6, 6, 6, 6]"
      ]
     },
     "execution_count": 6,
     "metadata": {},
     "output_type": "execute_result"
    }
   ],
   "source": [
    "a = [1, 2, 3, 4, 5]\n",
    "b = [5, 4, 3, 2, 1]\n",
    "\n",
    "a_plus_b = map(lambda x, y: x + y, a, b)\n",
    "list(a_plus_b)"
   ]
  },
  {
   "cell_type": "markdown",
   "metadata": {},
   "source": [
    "c) write a map that checks if elements are greater than zero"
   ]
  },
  {
   "cell_type": "code",
   "execution_count": 7,
   "metadata": {},
   "outputs": [
    {
     "data": {
      "text/plain": [
       "[False, False, False, True, True]"
      ]
     },
     "execution_count": 7,
     "metadata": {},
     "output_type": "execute_result"
    }
   ],
   "source": [
    "c = [-2, -1, 0, 1, 2]\n",
    "gt_zero = map(lambda x: x > 0, c)\n",
    "list(gt_zero)"
   ]
  },
  {
   "cell_type": "markdown",
   "metadata": {},
   "source": [
    "d) write a map that checks if elements are multiples of 3"
   ]
  },
  {
   "cell_type": "code",
   "execution_count": 8,
   "metadata": {},
   "outputs": [
    {
     "data": {
      "text/plain": [
       "[False, True, True, False, False]"
      ]
     },
     "execution_count": 8,
     "metadata": {},
     "output_type": "execute_result"
    }
   ],
   "source": [
    "d = [1, 3, 6, 11, 2]\n",
    "mul_of3 = map(lambda x: x % 3 == 0, d)\n",
    "list(mul_of3)"
   ]
  },
  {
   "cell_type": "markdown",
   "metadata": {},
   "source": [
    "#### Filter\n",
    "\n",
    "`filter(function, list)` returns a new list containing all the elements of `list` for which `function()` evaluates to `True.`\n",
    "\n",
    "e) write a filter that will only return even numbers in the list"
   ]
  },
  {
   "cell_type": "code",
   "execution_count": 9,
   "metadata": {},
   "outputs": [
    {
     "data": {
      "text/plain": [
       "[2, 4, 6, 8, 10]"
      ]
     },
     "execution_count": 9,
     "metadata": {},
     "output_type": "execute_result"
    }
   ],
   "source": [
    "e = [1, 2, 3, 4, 5, 6, 7, 8, 9, 10]\n",
    "evens = filter(lambda x: x % 2 == 0, e)\n",
    "list(evens)"
   ]
  },
  {
   "cell_type": "markdown",
   "metadata": {},
   "source": [
    "#### Reduce\n",
    "\n",
    "`reduce(function, sequence[, initial])` returns the result of sequencially applying the function to the sequence (starting at an initial state). You can think of reduce as consuming the sequence via the function.\n",
    "\n",
    "For example, let's say we want to add all elements in a list. We could write the following:"
   ]
  },
  {
   "cell_type": "code",
   "execution_count": 11,
   "metadata": {},
   "outputs": [
    {
     "name": "stdout",
     "output_type": "stream",
     "text": [
      "15\n"
     ]
    }
   ],
   "source": [
    "from functools import reduce\n",
    "\n",
    "nums = [1, 2, 3, 4, 5]\n",
    "sum_nums = reduce(lambda acc, x : acc + x, nums, 0)\n",
    "print(sum_nums)"
   ]
  },
  {
   "attachments": {},
   "cell_type": "markdown",
   "metadata": {},
   "source": [
    "Let's walk through the steps of `reduce` above:\n",
    "\n",
    "1) the value of `acc` is set to 0 (our initial value)\n",
    "2) Apply the lambda function on `acc` and the first element of the list: `acc` = `acc` + 1 = 1\n",
    "3) `acc` = `acc` + 2 = 3\n",
    "4) `acc` = `acc` + 3 = 6\n",
    "5) `acc` = `acc` + 4 = 10\n",
    "6) `acc` = `acc` + 5 = 15\n",
    "7) return `acc`\n",
    "\n",
    "`acc` is short for `accumulator`.\n",
    "\n",
    "f) `*challenging` Using `reduce` write a function that returns the factorial of a number. (recall: N! (N factorial) = N * (N - 1) * (N - 2) * ... * 2 * 1)"
   ]
  },
  {
   "cell_type": "code",
   "execution_count": 16,
   "metadata": {},
   "outputs": [
    {
     "data": {
      "text/plain": [
       "3628800"
      ]
     },
     "execution_count": 16,
     "metadata": {},
     "output_type": "execute_result"
    }
   ],
   "source": [
    "factorial = lambda x : reduce(lambda mul, y: mul * y, range(1, x + 1), 1)\n",
    "factorial(10)"
   ]
  },
  {
   "attachments": {},
   "cell_type": "markdown",
   "metadata": {},
   "source": [
    "g) `*challenging` Using `reduce` and `filter`, write a function that returns all the primes below a certain number"
   ]
  },
  {
   "cell_type": "code",
   "execution_count": 43,
   "metadata": {},
   "outputs": [
    {
     "name": "stdout",
     "output_type": "stream",
     "text": [
      "[2, 3, 5, 7, 11, 13, 17, 19, 23, 29, 31, 37, 41, 43, 47, 53, 59, 61, 67, 71, 73, 79, 83, 89, 97]\n",
      "[2, 3, 5, 7, 11, 13, 17, 19, 23, 29, 31, 37, 41, 43, 47, 53, 59, 61, 67, 71, 73, 79, 83, 89, 97]\n"
     ]
    }
   ],
   "source": [
    "sieve = lambda x : reduce(lambda out, y: out + [y] if len(list(filter(lambda z: y % z == 0, out))) == 0 else out, range(2, x + 1), [])\n",
    "\n",
    "print(sieve(100))"
   ]
  },
  {
   "attachments": {},
   "cell_type": "markdown",
   "metadata": {},
   "source": [
    "### What is going on?\n",
    "\n",
    "This whole section is `*challenging`\n",
    "\n",
    "For each of the following code snippets, explain why the output is what it is:"
   ]
  },
  {
   "cell_type": "code",
   "execution_count": 52,
   "metadata": {},
   "outputs": [
    {
     "name": "stdout",
     "output_type": "stream",
     "text": [
      "<bound method Bank.is_overdrawn of <__main__.Bank object at 0x104a1f310>>\n",
      "called\n",
      "ALL GOOD\n"
     ]
    }
   ],
   "source": [
    "class Bank:\n",
    "  def __init__(self, balance):\n",
    "    self.balance = balance\n",
    "  \n",
    "  def is_overdrawn(self):\n",
    "    print('called')\n",
    "    return self.balance < 0\n",
    "\n",
    "myBank = Bank(100)\n",
    "if myBank.is_overdrawn() :\n",
    "  print(\"OVERDRAWN\")\n",
    "else:\n",
    "  print(\"ALL GOOD\")"
   ]
  },
  {
   "cell_type": "markdown",
   "metadata": {},
   "source": [
    "myBank.is_overdrawn is accessing the variable instead of calling the function is_overdrawn."
   ]
  },
  {
   "cell_type": "code",
   "execution_count": null,
   "metadata": {},
   "outputs": [
    {
     "name": "stdout",
     "output_type": "stream",
     "text": [
      "0\n",
      "1\n",
      "2\n",
      "3\n"
     ]
    }
   ],
   "source": [
    "for i in range(4):\n",
    "    print(i)\n",
    "    i = 10"
   ]
  },
  {
   "cell_type": "markdown",
   "metadata": {},
   "source": [
    "i = 10 and i in range(4) are two different i whose scope is different."
   ]
  },
  {
   "cell_type": "code",
   "execution_count": 63,
   "metadata": {},
   "outputs": [
    {
     "name": "stdout",
     "output_type": "stream",
     "text": [
      "[['', '', ''], ['', '', ''], ['', '', '']]\n",
      "[['X', '', ''], ['X', '', ''], ['X', '', '']]\n"
     ]
    }
   ],
   "source": [
    "row = [\"\"] * 3 # row i['', '', '']\n",
    "board = [row] * 3\n",
    "print(board) # [['', '', ''], ['', '', ''], ['', '', '']]\n",
    "board[0][0] = \"X\"\n",
    "print(board)"
   ]
  },
  {
   "cell_type": "markdown",
   "metadata": {},
   "source": []
  },
  {
   "cell_type": "code",
   "execution_count": 60,
   "metadata": {},
   "outputs": [
    {
     "name": "stdout",
     "output_type": "stream",
     "text": [
      "[0, 1, 2]\n",
      "[2, 2, 2]\n"
     ]
    }
   ],
   "source": [
    "funcs = []\n",
    "results = []\n",
    "for x in range(3):\n",
    "    def some_func():\n",
    "        return x\n",
    "    funcs.append(some_func)\n",
    "    results.append(some_func())  # note the function call here\n",
    "\n",
    "funcs_results = [func() for func in funcs]\n",
    "print(results) # [0,1,2]\n",
    "print(funcs_results)"
   ]
  },
  {
   "cell_type": "markdown",
   "metadata": {},
   "source": [
    "For results, it is calling the function which returns the value of x in range(3) as defined by the function.\n",
    "funcs is a list of functions. For each function in funcs, it is calling the function some_func() and since the function is called after the loop, the value of x is 2."
   ]
  },
  {
   "cell_type": "code",
   "execution_count": 55,
   "metadata": {},
   "outputs": [
    {
     "name": "stdout",
     "output_type": "stream",
     "text": [
      "0\n"
     ]
    }
   ],
   "source": [
    "f = open(\"./data.txt\", \"w+\")\n",
    "f.write(\"1,2,3,4,5\")\n",
    "f.close()\n",
    "\n",
    "nums = []\n",
    "with open(\"./data.txt\", \"w+\") as f:\n",
    "  lines = f.readlines()\n",
    "  for line in lines:\n",
    "    nums += [int(x) for x in line.split(\",\")]\n",
    "\n",
    "print(sum(nums))"
   ]
  },
  {
   "cell_type": "markdown",
   "metadata": {},
   "source": [
    "when open \"./data.txt\" the second time with 'w+' mode, the file is truncated to 0 bytes before writing begins."
   ]
  }
 ],
 "metadata": {
  "interpreter": {
   "hash": "e7370f93d1d0cde622a1f8e1c04877d8463912d04d973331ad4851f04de6915a"
  },
  "kernelspec": {
   "display_name": "Python 3.9.9 64-bit",
   "language": "python",
   "name": "python3"
  },
  "language_info": {
   "codemirror_mode": {
    "name": "ipython",
    "version": 3
   },
   "file_extension": ".py",
   "mimetype": "text/x-python",
   "name": "python",
   "nbconvert_exporter": "python",
   "pygments_lexer": "ipython3",
   "version": "3.11.3"
  },
  "orig_nbformat": 4
 },
 "nbformat": 4,
 "nbformat_minor": 2
}
