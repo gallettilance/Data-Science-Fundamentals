{
 "cells": [
  {
   "cell_type": "markdown",
   "metadata": {},
   "source": [
    "## Lab 02 - Pandas and Data Visualization\n",
    "This notebook will introduce you to the basics of Pandas and Data Visualization. You will learn how to load data into a Pandas DataFrame, how to perform basic data analysis, and how to visualize data. The first part of this notebook will be an interactive tutorial, and the second part will be practice exercises for you to do! **Note that the practice problems will be checked when submitted!**"
   ]
  },
  {
   "cell_type": "markdown",
   "metadata": {},
   "source": [
    "#### Pandas\n",
    "Pandas is a popular open-source Python library that provides data structures and data analysis tools for working with structured data. Pandas is a versatile library that simplifies data manipulation, analysis, and exploration in Python. Some of its uses:\n",
    "* Tabular Data Handling\n",
    "* Data Cleaning and Transformation\n",
    "* Data Exploration\n",
    "* Data Import/Export\n",
    "* Data Visualization\n",
    "\n",
    "#### Matplotlib\n",
    "Matplotlib is a widely used for creating static, animated, and interactive visualizations. Whether you are conducting data analysis, scientific research, or data communication, Matplotlib helps you present your findings effectively and intuitively."
   ]
  },
  {
   "cell_type": "markdown",
   "metadata": {},
   "source": [
    "### Pre-requisites"
   ]
  },
  {
   "cell_type": "code",
   "execution_count": 1,
   "metadata": {},
   "outputs": [],
   "source": [
    "# In case you don't have pandas, uncomment\n",
    "# the following lines and run the cell\n",
    "\n",
    "# %pip install pandas"
   ]
  },
  {
   "cell_type": "markdown",
   "metadata": {},
   "source": [
    "### Overview\n",
    "In this notebook, you will be learning how to use the Pandas library by working with the `cookies.csv` file. \n",
    "\n",
    "#### `cookies.csv` file :\n",
    "\n",
    "The `cookies.csv` file contains information about cookies that were made in Rico's Bisquito's factory. \n",
    "\n",
    "The columns are the following:\n",
    "\n",
    "`cookie`: the name of a cookie\n",
    "`ingredients`: a list of the cookie's ingredients\n",
    "`calories`: the number of calories the created cookie has\n",
    "`radius`: the radius of the created cookie, in cm\n",
    "`cost_to_make`: the cost it took to make the created cookie, in dollars"
   ]
  },
  {
   "cell_type": "markdown",
   "metadata": {},
   "source": [
    "### Reading the CSV file\n",
    "\n",
    "First, we need to import the Pandas library. We will be using the `pd` alias for the Pandas library."
   ]
  },
  {
   "cell_type": "code",
   "execution_count": 1,
   "metadata": {},
   "outputs": [],
   "source": [
    "#TODO: import pandas and matplotlib in this cell\n",
    "# Importing necessary libraries\n",
    "import pandas as pd\n",
    "import matplotlib"
   ]
  },
  {
   "cell_type": "markdown",
   "metadata": {},
   "source": [
    "We will now look at the `cookies.csv` file. We will use the `pd.read_csv()` function to read in the CSV file. We will store the data in a variable called `cookies`."
   ]
  },
  {
   "cell_type": "code",
   "execution_count": 2,
   "metadata": {},
   "outputs": [],
   "source": [
    "#TODO: read the cookies.csv file into a pandas dataframe\n",
    "cookies = pd.read_csv('cookies.csv')"
   ]
  },
  {
   "cell_type": "markdown",
   "metadata": {},
   "source": [
    "#### Dataframe\n",
    "Dataframes are a data structure that Pandas uses to store data. Dataframes are similar to tables in a database. Dataframes have rows and columns. Each row represents a single data point, and each column represents a feature of the data point."
   ]
  },
  {
   "cell_type": "markdown",
   "metadata": {},
   "source": [
    "We will then make sure we imported the data correctly by printing out the first 10 rows of the data, using the `head()` function."
   ]
  },
  {
   "cell_type": "code",
   "execution_count": 3,
   "metadata": {},
   "outputs": [
    {
     "name": "stdout",
     "output_type": "stream",
     "text": [
      "            cookie                                        ingredients  \\\n",
      "0     laddoo lemon             [\"flour\",\"lemon juice\",\"sugar\",\"ghee\"]   \n",
      "1  red velvet rauw  [\"flour\",\"cocoa powder\",\"butter\",\"red food col...   \n",
      "2         nevadito  [\"flour\",\"chocolate chips\",\"milk\",\"vanilla ext...   \n",
      "3  red velvet rauw  [\"flour\",\"cocoa powder\",\"butter\",\"red food col...   \n",
      "4  bad berry bunny           [\"flour\",\"blueberries\",\"sugar\",\"butter\"]   \n",
      "5     orange ozuna   [\"flour\",\"orange juice\",\"sugar\",\"vegetable oil\"]   \n",
      "6      minty miami          [\"flour\",\"mint extract\",\"sugar\",\"butter\"]   \n",
      "7        chocolate       [\"flour\",\"chocolate chips\",\"sugar\",\"butter\"]   \n",
      "8     laddoo lemon             [\"flour\",\"lemon juice\",\"sugar\",\"ghee\"]   \n",
      "9      minty miami          [\"flour\",\"mint extract\",\"sugar\",\"butter\"]   \n",
      "\n",
      "   calories  radius  cost_to_make  \n",
      "0       170   3.102          0.67  \n",
      "1       198   3.780          1.07  \n",
      "2       224   4.069          1.04  \n",
      "3       198   3.780          1.07  \n",
      "4       191   4.148          1.39  \n",
      "5       162   3.241          1.15  \n",
      "6       204   3.964          0.84  \n",
      "7       243   3.684          1.17  \n",
      "8       178   3.989           NaN  \n",
      "9       184   3.743          0.74  \n"
     ]
    }
   ],
   "source": [
    "#TODO: print the head of the dataframe\n",
    "print(cookies.head(10))"
   ]
  },
  {
   "cell_type": "markdown",
   "metadata": {},
   "source": [
    "### Checking data types\n",
    "You can check the data types of each column using the `dtypes` attribute of the DataFrame."
   ]
  },
  {
   "cell_type": "code",
   "execution_count": 4,
   "metadata": {},
   "outputs": [
    {
     "name": "stdout",
     "output_type": "stream",
     "text": [
      "cookie           object\n",
      "ingredients      object\n",
      "calories          int64\n",
      "radius          float64\n",
      "cost_to_make    float64\n",
      "dtype: object\n"
     ]
    }
   ],
   "source": [
    "#TODO: check the data types of the columns\n",
    "print(cookies.dtypes)"
   ]
  },
  {
   "cell_type": "markdown",
   "metadata": {},
   "source": [
    "Now, lets use use `info()` function to get more information about the Dataframe"
   ]
  },
  {
   "cell_type": "code",
   "execution_count": 5,
   "metadata": {},
   "outputs": [
    {
     "name": "stdout",
     "output_type": "stream",
     "text": [
      "<class 'pandas.core.frame.DataFrame'>\n",
      "RangeIndex: 129 entries, 0 to 128\n",
      "Data columns (total 5 columns):\n",
      " #   Column        Non-Null Count  Dtype  \n",
      "---  ------        --------------  -----  \n",
      " 0   cookie        129 non-null    object \n",
      " 1   ingredients   129 non-null    object \n",
      " 2   calories      129 non-null    int64  \n",
      " 3   radius        129 non-null    float64\n",
      " 4   cost_to_make  114 non-null    float64\n",
      "dtypes: float64(2), int64(1), object(2)\n",
      "memory usage: 5.2+ KB\n"
     ]
    }
   ],
   "source": [
    "# TODO: use info() to get information about datatypes and null values\n",
    "cookies.info()"
   ]
  },
  {
   "cell_type": "markdown",
   "metadata": {},
   "source": [
    "### Cleaning the data\n",
    "Now that we have the data, we need to clean it. For example, some `cost_to_make` fields of some created cookies are missing. To resolve this, we can do many things: we can replace the missing data with the mean of the column, or we can get rid of the row entirely if the `cost_to_make` field is not set. "
   ]
  },
  {
   "cell_type": "code",
   "execution_count": 6,
   "metadata": {},
   "outputs": [
    {
     "name": "stdout",
     "output_type": "stream",
     "text": [
      "             cookie                                        ingredients  \\\n",
      "0      laddoo lemon             [\"flour\",\"lemon juice\",\"sugar\",\"ghee\"]   \n",
      "1   red velvet rauw  [\"flour\",\"cocoa powder\",\"butter\",\"red food col...   \n",
      "2          nevadito  [\"flour\",\"chocolate chips\",\"milk\",\"vanilla ext...   \n",
      "3   red velvet rauw  [\"flour\",\"cocoa powder\",\"butter\",\"red food col...   \n",
      "4   bad berry bunny           [\"flour\",\"blueberries\",\"sugar\",\"butter\"]   \n",
      "5      orange ozuna   [\"flour\",\"orange juice\",\"sugar\",\"vegetable oil\"]   \n",
      "6       minty miami          [\"flour\",\"mint extract\",\"sugar\",\"butter\"]   \n",
      "7         chocolate       [\"flour\",\"chocolate chips\",\"sugar\",\"butter\"]   \n",
      "9       minty miami          [\"flour\",\"mint extract\",\"sugar\",\"butter\"]   \n",
      "10         nevadito  [\"flour\",\"chocolate chips\",\"milk\",\"vanilla ext...   \n",
      "\n",
      "    calories  radius  cost_to_make  \n",
      "0        170   3.102          0.67  \n",
      "1        198   3.780          1.07  \n",
      "2        224   4.069          1.04  \n",
      "3        198   3.780          1.07  \n",
      "4        191   4.148          1.39  \n",
      "5        162   3.241          1.15  \n",
      "6        204   3.964          0.84  \n",
      "7        243   3.684          1.17  \n",
      "9        184   3.743          0.74  \n",
      "10       216   3.848          1.28  \n"
     ]
    }
   ],
   "source": [
    "#TODO: clean the dataframe and \n",
    "# print the head again to make sure \n",
    "# the changes took effect\n",
    "cookies.dropna(subset=['cost_to_make'], inplace=True)\n",
    "\n",
    "print(cookies.head(10))"
   ]
  },
  {
   "cell_type": "markdown",
   "metadata": {},
   "source": [
    "To also make sure we removed null values, we can check the number of null values in each column using the `isnull()` function."
   ]
  },
  {
   "cell_type": "code",
   "execution_count": 7,
   "metadata": {},
   "outputs": [
    {
     "name": "stdout",
     "output_type": "stream",
     "text": [
      "cookie          0\n",
      "ingredients     0\n",
      "calories        0\n",
      "radius          0\n",
      "cost_to_make    0\n",
      "dtype: int64\n"
     ]
    }
   ],
   "source": [
    "#TODO: use the isnull method to make sure your data is clean\n",
    "null_values = cookies.isnull().sum()\n",
    "print(null_values)"
   ]
  },
  {
   "cell_type": "markdown",
   "metadata": {},
   "source": [
    "Next, lets check for duplicate rows using the `duplicated()` function. Then, remove those rows using `drop_duplicates()` function."
   ]
  },
  {
   "cell_type": "code",
   "execution_count": 8,
   "metadata": {},
   "outputs": [
    {
     "name": "stdout",
     "output_type": "stream",
     "text": [
      "Number of duplicate rows: 11\n",
      "Number of remaining duplicates after removal: 0\n"
     ]
    }
   ],
   "source": [
    "# TODO: check for duplicate rows\n",
    "# then delete those rows form df\n",
    "duplicate_rows = cookies[cookies.duplicated()].shape[0]\n",
    "print(f\"Number of duplicate rows: {duplicate_rows}\")\n",
    "\n",
    "cookies.drop_duplicates(inplace=True)\n",
    "\n",
    "remaining_duplicates = cookies[cookies.duplicated()].shape[0]\n",
    "print(f\"Number of remaining duplicates after removal: {remaining_duplicates}\")"
   ]
  },
  {
   "cell_type": "markdown",
   "metadata": {},
   "source": [
    "### Parsing the data\n",
    "Now that we have the data, we could parse it to get the information we want. For example, we can check what types of cookies were made by using the `unique()` function on the `cookie` column."
   ]
  },
  {
   "cell_type": "code",
   "execution_count": 9,
   "metadata": {},
   "outputs": [
    {
     "name": "stdout",
     "output_type": "stream",
     "text": [
      "Types of cookies in the dataset:\n",
      "laddoo lemon\n",
      "red velvet rauw\n",
      "nevadito\n",
      "bad berry bunny\n",
      "orange ozuna\n",
      "minty miami\n",
      "chocolate\n"
     ]
    }
   ],
   "source": [
    "#TODO: see what cookies are in the dataset\n",
    "# Get unique types of cookies\n",
    "unique_cookies = cookies['cookie'].unique()\n",
    "\n",
    "print(\"Types of cookies in the dataset:\")\n",
    "for cookie in unique_cookies:\n",
    "    print(cookie)"
   ]
  },
  {
   "cell_type": "markdown",
   "metadata": {},
   "source": [
    "We can also check the number of cookies made by using the `value_counts()` function on the `cookie` column."
   ]
  },
  {
   "cell_type": "code",
   "execution_count": 10,
   "metadata": {},
   "outputs": [
    {
     "name": "stdout",
     "output_type": "stream",
     "text": [
      "Number of each type of cookie:\n",
      "red velvet rauw    17\n",
      "orange ozuna       16\n",
      "bad berry bunny    15\n",
      "nevadito           15\n",
      "minty miami        15\n",
      "laddoo lemon       13\n",
      "chocolate          12\n",
      "Name: cookie, dtype: int64\n"
     ]
    }
   ],
   "source": [
    "#TODO: use value_counts() to see how many \n",
    "# cookies of each type there are\n",
    "cookie_counts = cookies['cookie'].value_counts()\n",
    "\n",
    "print(\"Number of each type of cookie:\")\n",
    "print(cookie_counts)"
   ]
  },
  {
   "cell_type": "markdown",
   "metadata": {},
   "source": [
    "Or maybe we don't like how long the names of the cookies are, so we can shorten them by using the `replace()` function on the `cookie` column.\n",
    "\n",
    "For example, let's try changing `\"bad berry bunny\"` to `\"bbb\"`."
   ]
  },
  {
   "cell_type": "code",
   "execution_count": 11,
   "metadata": {},
   "outputs": [
    {
     "name": "stdout",
     "output_type": "stream",
     "text": [
      "['laddoo lemon' 'red velvet rauw' 'nevadito' 'bbb' 'orange ozuna'\n",
      " 'minty miami' 'chocolate']\n"
     ]
    }
   ],
   "source": [
    "#TODO: change bad berry bunny data elements to \"bbb\"\n",
    "cookies['cookie'] = cookies['cookie'].replace('bad berry bunny', 'bbb')\n",
    "\n",
    "print(cookies['cookie'].unique())"
   ]
  },
  {
   "cell_type": "markdown",
   "metadata": {},
   "source": [
    "We may even like the original names better, but we may want to get rid of the spaces. For example, we can change `\"orange ozuna\"` to `\"orange_ozuna\"`. Here, we will use the `str.replace()` function."
   ]
  },
  {
   "cell_type": "code",
   "execution_count": 12,
   "metadata": {},
   "outputs": [
    {
     "name": "stdout",
     "output_type": "stream",
     "text": [
      "           cookie                                       ingredients  calories  \\\n",
      "5    orange_ozuna  [\"flour\",\"orange juice\",\"sugar\",\"vegetable oil\"]       162   \n",
      "13   orange_ozuna  [\"flour\",\"orange juice\",\"sugar\",\"vegetable oil\"]       159   \n",
      "23   orange_ozuna  [\"flour\",\"orange juice\",\"sugar\",\"vegetable oil\"]       156   \n",
      "31   orange_ozuna  [\"flour\",\"orange juice\",\"sugar\",\"vegetable oil\"]       198   \n",
      "39   orange_ozuna  [\"flour\",\"orange juice\",\"sugar\",\"vegetable oil\"]       162   \n",
      "46   orange_ozuna  [\"flour\",\"orange juice\",\"sugar\",\"vegetable oil\"]       183   \n",
      "53   orange_ozuna  [\"flour\",\"orange juice\",\"sugar\",\"vegetable oil\"]       159   \n",
      "60   orange_ozuna  [\"flour\",\"orange juice\",\"sugar\",\"vegetable oil\"]       186   \n",
      "67   orange_ozuna  [\"flour\",\"orange juice\",\"sugar\",\"vegetable oil\"]       158   \n",
      "74   orange_ozuna  [\"flour\",\"orange juice\",\"sugar\",\"vegetable oil\"]       161   \n",
      "78   orange_ozuna  [\"flour\",\"orange juice\",\"sugar\",\"vegetable oil\"]       166   \n",
      "85   orange_ozuna  [\"flour\",\"orange juice\",\"sugar\",\"vegetable oil\"]       158   \n",
      "92   orange_ozuna  [\"flour\",\"orange juice\",\"sugar\",\"vegetable oil\"]       156   \n",
      "99   orange_ozuna  [\"flour\",\"orange juice\",\"sugar\",\"vegetable oil\"]       180   \n",
      "105  orange_ozuna  [\"flour\",\"orange juice\",\"sugar\",\"vegetable oil\"]       179   \n",
      "119  orange_ozuna  [\"flour\",\"orange juice\",\"sugar\",\"vegetable oil\"]       153   \n",
      "\n",
      "     radius  cost_to_make  \n",
      "5     3.241          1.15  \n",
      "13    3.429          2.09  \n",
      "23    3.765          1.63  \n",
      "31    3.448          0.68  \n",
      "39    3.498          1.18  \n",
      "46    3.627          1.41  \n",
      "53    3.462          1.01  \n",
      "60    4.573          1.06  \n",
      "67    4.003          1.00  \n",
      "74    4.147          1.63  \n",
      "78    1.695          0.82  \n",
      "85    3.467          1.44  \n",
      "92    3.451          1.63  \n",
      "99    3.252          0.65  \n",
      "105   3.246          1.48  \n",
      "119   3.794          0.60  \n"
     ]
    }
   ],
   "source": [
    "#TODO: adjust orange ozuna as described\n",
    "cookies['cookie'] = cookies['cookie'].str.replace('orange ozuna', 'orange_ozuna')\n",
    "\n",
    "print(cookies[cookies['cookie'] == 'orange_ozuna'])"
   ]
  },
  {
   "cell_type": "markdown",
   "metadata": {},
   "source": [
    "We may even just want to keep the first word of the cookie name. For example, we can change `\"orange_ozuna\"` to `\"orange\"`."
   ]
  },
  {
   "cell_type": "code",
   "execution_count": 13,
   "metadata": {},
   "outputs": [
    {
     "name": "stdout",
     "output_type": "stream",
     "text": [
      "['laddoo' 'red' 'nevadito' 'bbb' 'orange_ozuna' 'minty' 'chocolate']\n"
     ]
    }
   ],
   "source": [
    "#TODO: adjust all cookies so only the first word\n",
    "# is used as the cookie name\n",
    "cookies['cookie'] = cookies['cookie'].apply(lambda x: x.split()[0])\n",
    "\n",
    "print(cookies['cookie'].unique())"
   ]
  },
  {
   "cell_type": "markdown",
   "metadata": {},
   "source": [
    "Another thing that may come to mind is that maybe getting flour could cost more money due to inflation, so we have to adjust our `cost_to_make` values. We can do this by using the `apply()` function on the `cost_to_make` column."
   ]
  },
  {
   "cell_type": "code",
   "execution_count": 14,
   "metadata": {},
   "outputs": [
    {
     "name": "stdout",
     "output_type": "stream",
     "text": [
      "         cookie                                        ingredients  calories  \\\n",
      "0        laddoo             [\"flour\",\"lemon juice\",\"sugar\",\"ghee\"]       170   \n",
      "1           red  [\"flour\",\"cocoa powder\",\"butter\",\"red food col...       198   \n",
      "2      nevadito  [\"flour\",\"chocolate chips\",\"milk\",\"vanilla ext...       224   \n",
      "4           bbb           [\"flour\",\"blueberries\",\"sugar\",\"butter\"]       191   \n",
      "5  orange_ozuna   [\"flour\",\"orange juice\",\"sugar\",\"vegetable oil\"]       162   \n",
      "\n",
      "   radius  cost_to_make  \n",
      "0   3.102          1.17  \n",
      "1   3.780          1.57  \n",
      "2   4.069          1.54  \n",
      "4   4.148          1.89  \n",
      "5   3.241          1.65  \n"
     ]
    }
   ],
   "source": [
    "#Don't edit this method\n",
    "def adjust_cost(cost):\n",
    "    return cost + 0.5\n",
    "\n",
    "#TODO: use apply() to adjust the cost_to_make column.\n",
    "cookies['cost_to_make'] = cookies['cost_to_make'].apply(adjust_cost)\n",
    "print(cookies.head())"
   ]
  },
  {
   "cell_type": "markdown",
   "metadata": {},
   "source": [
    "And we can do a lot more things! We will see these concepts be used in the next homework assignment, along with a couple new ones to show you how powerful Pandas is."
   ]
  },
  {
   "cell_type": "markdown",
   "metadata": {},
   "source": [
    "### More complicated operations: Grouping, Filtering, Aggregating"
   ]
  },
  {
   "cell_type": "markdown",
   "metadata": {},
   "source": [
    "Before trying out these complicated operations, lets first sort the sort the df by the radius of the cookies using the `sort_values()` function."
   ]
  },
  {
   "cell_type": "code",
   "execution_count": 15,
   "metadata": {},
   "outputs": [
    {
     "name": "stdout",
     "output_type": "stream",
     "text": [
      "           cookie                                        ingredients  \\\n",
      "110           red  [\"flour\",\"cocoa powder\",\"butter\",\"red food col...   \n",
      "30            red  [\"flour\",\"cocoa powder\",\"butter\",\"red food col...   \n",
      "60   orange_ozuna   [\"flour\",\"orange juice\",\"sugar\",\"vegetable oil\"]   \n",
      "49         laddoo             [\"flour\",\"lemon juice\",\"sugar\",\"ghee\"]   \n",
      "101        laddoo             [\"flour\",\"lemon juice\",\"sugar\",\"ghee\"]   \n",
      "\n",
      "     calories  radius  cost_to_make  \n",
      "110       198   4.930          1.55  \n",
      "30        204   4.667          1.90  \n",
      "60        186   4.573          1.56  \n",
      "49        195   4.562          1.12  \n",
      "101       178   4.519          1.91  \n"
     ]
    }
   ],
   "source": [
    "# TODO: sort the df using sort_values(by='Column', ascending=False)\n",
    "cookies_sorted = cookies.sort_values(by='radius', ascending=False)\n",
    "\n",
    "print(cookies_sorted.head())\n"
   ]
  },
  {
   "cell_type": "markdown",
   "metadata": {},
   "source": [
    "We may also want to group data by certain attributes. This can be done by using `groupby()`. This method takes in a column name, and groups the data by the values in that column. For example, we can group the data by the `cookie` column."
   ]
  },
  {
   "cell_type": "code",
   "execution_count": 16,
   "metadata": {},
   "outputs": [
    {
     "name": "stdout",
     "output_type": "stream",
     "text": [
      "Group for bbb:\n",
      "   cookie                               ingredients  calories  radius  \\\n",
      "4     bbb  [\"flour\",\"blueberries\",\"sugar\",\"butter\"]       191   4.148   \n",
      "12    bbb  [\"flour\",\"blueberries\",\"sugar\",\"butter\"]       183   3.874   \n",
      "22    bbb  [\"flour\",\"blueberries\",\"sugar\",\"butter\"]       184   2.982   \n",
      "38    bbb  [\"flour\",\"blueberries\",\"sugar\",\"butter\"]       182   4.166   \n",
      "45    bbb  [\"flour\",\"blueberries\",\"sugar\",\"butter\"]       213   4.007   \n",
      "\n",
      "    cost_to_make  \n",
      "4           1.89  \n",
      "12          1.57  \n",
      "22          2.51  \n",
      "38          1.61  \n",
      "45          1.84  \n",
      "\n",
      "\n",
      "Group for chocolate:\n",
      "       cookie                                   ingredients  calories  radius  \\\n",
      "7   chocolate  [\"flour\",\"chocolate chips\",\"sugar\",\"butter\"]       243   3.684   \n",
      "17  chocolate  [\"flour\",\"chocolate chips\",\"sugar\",\"butter\"]       209   3.182   \n",
      "48  chocolate  [\"flour\",\"chocolate chips\",\"sugar\",\"butter\"]       240   4.212   \n",
      "55  chocolate  [\"flour\",\"chocolate chips\",\"sugar\",\"butter\"]       229   4.217   \n",
      "62  chocolate  [\"flour\",\"chocolate chips\",\"sugar\",\"butter\"]       206   4.328   \n",
      "\n",
      "    cost_to_make  \n",
      "7           1.67  \n",
      "17          2.03  \n",
      "48          1.47  \n",
      "55          1.69  \n",
      "62          1.84  \n",
      "\n",
      "\n",
      "Group for laddoo:\n",
      "    cookie                             ingredients  calories  radius  \\\n",
      "0   laddoo  [\"flour\",\"lemon juice\",\"sugar\",\"ghee\"]       170   3.102   \n",
      "18  laddoo  [\"flour\",\"lemon juice\",\"sugar\",\"ghee\"]       167   3.548   \n",
      "35  laddoo  [\"flour\",\"lemon juice\",\"sugar\",\"ghee\"]       187   3.257   \n",
      "42  laddoo  [\"flour\",\"lemon juice\",\"sugar\",\"ghee\"]       176   4.110   \n",
      "49  laddoo  [\"flour\",\"lemon juice\",\"sugar\",\"ghee\"]       195   4.562   \n",
      "\n",
      "    cost_to_make  \n",
      "0           1.17  \n",
      "18          2.36  \n",
      "35          1.19  \n",
      "42          2.77  \n",
      "49          1.12  \n",
      "\n",
      "\n",
      "Group for minty:\n",
      "   cookie                                ingredients  calories  radius  \\\n",
      "6   minty  [\"flour\",\"mint extract\",\"sugar\",\"butter\"]       204   3.964   \n",
      "9   minty  [\"flour\",\"mint extract\",\"sugar\",\"butter\"]       184   3.743   \n",
      "14  minty  [\"flour\",\"mint extract\",\"sugar\",\"butter\"]       175   3.766   \n",
      "32  minty  [\"flour\",\"mint extract\",\"sugar\",\"butter\"]       178   2.952   \n",
      "40  minty  [\"flour\",\"mint extract\",\"sugar\",\"butter\"]       183   3.946   \n",
      "\n",
      "    cost_to_make  \n",
      "6           1.34  \n",
      "9           1.24  \n",
      "14          1.27  \n",
      "32          1.34  \n",
      "40          1.55  \n",
      "\n",
      "\n",
      "Group for nevadito:\n",
      "      cookie                                        ingredients  calories  \\\n",
      "2   nevadito  [\"flour\",\"chocolate chips\",\"milk\",\"vanilla ext...       224   \n",
      "10  nevadito  [\"flour\",\"chocolate chips\",\"milk\",\"vanilla ext...       216   \n",
      "19  nevadito  [\"flour\",\"chocolate chips\",\"milk\",\"vanilla ext...       236   \n",
      "29  nevadito  [\"flour\",\"chocolate chips\",\"milk\",\"vanilla ext...       219   \n",
      "36  nevadito  [\"flour\",\"chocolate chips\",\"milk\",\"vanilla ext...       211   \n",
      "\n",
      "    radius  cost_to_make  \n",
      "2    4.069          1.54  \n",
      "10   3.848          1.78  \n",
      "19   4.043          1.79  \n",
      "29   4.346          1.68  \n",
      "36   4.152          2.22  \n",
      "\n",
      "\n",
      "Group for orange_ozuna:\n",
      "          cookie                                       ingredients  calories  \\\n",
      "5   orange_ozuna  [\"flour\",\"orange juice\",\"sugar\",\"vegetable oil\"]       162   \n",
      "13  orange_ozuna  [\"flour\",\"orange juice\",\"sugar\",\"vegetable oil\"]       159   \n",
      "23  orange_ozuna  [\"flour\",\"orange juice\",\"sugar\",\"vegetable oil\"]       156   \n",
      "31  orange_ozuna  [\"flour\",\"orange juice\",\"sugar\",\"vegetable oil\"]       198   \n",
      "39  orange_ozuna  [\"flour\",\"orange juice\",\"sugar\",\"vegetable oil\"]       162   \n",
      "\n",
      "    radius  cost_to_make  \n",
      "5    3.241          1.65  \n",
      "13   3.429          2.59  \n",
      "23   3.765          2.13  \n",
      "31   3.448          1.18  \n",
      "39   3.498          1.68  \n",
      "\n",
      "\n",
      "Group for red:\n",
      "   cookie                                        ingredients  calories  \\\n",
      "1     red  [\"flour\",\"cocoa powder\",\"butter\",\"red food col...       198   \n",
      "11    red  [\"flour\",\"cocoa powder\",\"butter\",\"red food col...       211   \n",
      "21    red  [\"flour\",\"cocoa powder\",\"butter\",\"red food col...       202   \n",
      "30    red  [\"flour\",\"cocoa powder\",\"butter\",\"red food col...       204   \n",
      "37    red  [\"flour\",\"cocoa powder\",\"butter\",\"red food col...       193   \n",
      "\n",
      "    radius  cost_to_make  \n",
      "1    3.780          1.57  \n",
      "11   3.940          1.26  \n",
      "21   4.289          1.73  \n",
      "30   4.667          1.90  \n",
      "37   3.172          1.47  \n",
      "\n",
      "\n"
     ]
    }
   ],
   "source": [
    "#TODO: group by cookie type\n",
    "grouped_by_cookie = cookies.groupby('cookie')\n",
    "\n",
    "for name, group in grouped_by_cookie:\n",
    "    print(f\"Group for {name}:\")\n",
    "    print(group.head())\n",
    "    print(\"\\n\")"
   ]
  },
  {
   "cell_type": "markdown",
   "metadata": {},
   "source": [
    "We can also group by multiple columns. For example, we can group the data by the `cookie` and `ingredients` columns."
   ]
  },
  {
   "cell_type": "code",
   "execution_count": 17,
   "metadata": {},
   "outputs": [
    {
     "name": "stdout",
     "output_type": "stream",
     "text": [
      "Group for cookie: bbb, ingredients: [\"flour\",\"blueberries\",\"sugar\",\"butter\"]:\n",
      "   cookie                               ingredients  calories  radius  \\\n",
      "4     bbb  [\"flour\",\"blueberries\",\"sugar\",\"butter\"]       191   4.148   \n",
      "12    bbb  [\"flour\",\"blueberries\",\"sugar\",\"butter\"]       183   3.874   \n",
      "22    bbb  [\"flour\",\"blueberries\",\"sugar\",\"butter\"]       184   2.982   \n",
      "38    bbb  [\"flour\",\"blueberries\",\"sugar\",\"butter\"]       182   4.166   \n",
      "45    bbb  [\"flour\",\"blueberries\",\"sugar\",\"butter\"]       213   4.007   \n",
      "\n",
      "    cost_to_make  \n",
      "4           1.89  \n",
      "12          1.57  \n",
      "22          2.51  \n",
      "38          1.61  \n",
      "45          1.84  \n",
      "\n",
      "\n",
      "Group for cookie: chocolate, ingredients: [\"flour\",\"chocolate chips\",\"sugar\",\"butter\"]:\n",
      "       cookie                                   ingredients  calories  radius  \\\n",
      "7   chocolate  [\"flour\",\"chocolate chips\",\"sugar\",\"butter\"]       243   3.684   \n",
      "17  chocolate  [\"flour\",\"chocolate chips\",\"sugar\",\"butter\"]       209   3.182   \n",
      "48  chocolate  [\"flour\",\"chocolate chips\",\"sugar\",\"butter\"]       240   4.212   \n",
      "55  chocolate  [\"flour\",\"chocolate chips\",\"sugar\",\"butter\"]       229   4.217   \n",
      "62  chocolate  [\"flour\",\"chocolate chips\",\"sugar\",\"butter\"]       206   4.328   \n",
      "\n",
      "    cost_to_make  \n",
      "7           1.67  \n",
      "17          2.03  \n",
      "48          1.47  \n",
      "55          1.69  \n",
      "62          1.84  \n",
      "\n",
      "\n",
      "Group for cookie: laddoo, ingredients: [\"flour\",\"lemon juice\",\"sugar\",\"ghee\"]:\n",
      "    cookie                             ingredients  calories  radius  \\\n",
      "0   laddoo  [\"flour\",\"lemon juice\",\"sugar\",\"ghee\"]       170   3.102   \n",
      "18  laddoo  [\"flour\",\"lemon juice\",\"sugar\",\"ghee\"]       167   3.548   \n",
      "35  laddoo  [\"flour\",\"lemon juice\",\"sugar\",\"ghee\"]       187   3.257   \n",
      "42  laddoo  [\"flour\",\"lemon juice\",\"sugar\",\"ghee\"]       176   4.110   \n",
      "49  laddoo  [\"flour\",\"lemon juice\",\"sugar\",\"ghee\"]       195   4.562   \n",
      "\n",
      "    cost_to_make  \n",
      "0           1.17  \n",
      "18          2.36  \n",
      "35          1.19  \n",
      "42          2.77  \n",
      "49          1.12  \n",
      "\n",
      "\n",
      "Group for cookie: minty, ingredients: [\"flour\",\"mint extract\",\"sugar\",\"butter\"]:\n",
      "   cookie                                ingredients  calories  radius  \\\n",
      "6   minty  [\"flour\",\"mint extract\",\"sugar\",\"butter\"]       204   3.964   \n",
      "9   minty  [\"flour\",\"mint extract\",\"sugar\",\"butter\"]       184   3.743   \n",
      "14  minty  [\"flour\",\"mint extract\",\"sugar\",\"butter\"]       175   3.766   \n",
      "32  minty  [\"flour\",\"mint extract\",\"sugar\",\"butter\"]       178   2.952   \n",
      "40  minty  [\"flour\",\"mint extract\",\"sugar\",\"butter\"]       183   3.946   \n",
      "\n",
      "    cost_to_make  \n",
      "6           1.34  \n",
      "9           1.24  \n",
      "14          1.27  \n",
      "32          1.34  \n",
      "40          1.55  \n",
      "\n",
      "\n",
      "Group for cookie: nevadito, ingredients: [\"flour\",\"chocolate chips\",\"milk\",\"vanilla extract\"]:\n",
      "      cookie                                        ingredients  calories  \\\n",
      "2   nevadito  [\"flour\",\"chocolate chips\",\"milk\",\"vanilla ext...       224   \n",
      "10  nevadito  [\"flour\",\"chocolate chips\",\"milk\",\"vanilla ext...       216   \n",
      "19  nevadito  [\"flour\",\"chocolate chips\",\"milk\",\"vanilla ext...       236   \n",
      "29  nevadito  [\"flour\",\"chocolate chips\",\"milk\",\"vanilla ext...       219   \n",
      "36  nevadito  [\"flour\",\"chocolate chips\",\"milk\",\"vanilla ext...       211   \n",
      "\n",
      "    radius  cost_to_make  \n",
      "2    4.069          1.54  \n",
      "10   3.848          1.78  \n",
      "19   4.043          1.79  \n",
      "29   4.346          1.68  \n",
      "36   4.152          2.22  \n",
      "\n",
      "\n",
      "Group for cookie: orange_ozuna, ingredients: [\"flour\",\"orange juice\",\"sugar\",\"vegetable oil\"]:\n",
      "          cookie                                       ingredients  calories  \\\n",
      "5   orange_ozuna  [\"flour\",\"orange juice\",\"sugar\",\"vegetable oil\"]       162   \n",
      "13  orange_ozuna  [\"flour\",\"orange juice\",\"sugar\",\"vegetable oil\"]       159   \n",
      "23  orange_ozuna  [\"flour\",\"orange juice\",\"sugar\",\"vegetable oil\"]       156   \n",
      "31  orange_ozuna  [\"flour\",\"orange juice\",\"sugar\",\"vegetable oil\"]       198   \n",
      "39  orange_ozuna  [\"flour\",\"orange juice\",\"sugar\",\"vegetable oil\"]       162   \n",
      "\n",
      "    radius  cost_to_make  \n",
      "5    3.241          1.65  \n",
      "13   3.429          2.59  \n",
      "23   3.765          2.13  \n",
      "31   3.448          1.18  \n",
      "39   3.498          1.68  \n",
      "\n",
      "\n",
      "Group for cookie: red, ingredients: [\"flour\",\"cocoa powder\",\"butter\",\"red food coloring\"]:\n",
      "   cookie                                        ingredients  calories  \\\n",
      "1     red  [\"flour\",\"cocoa powder\",\"butter\",\"red food col...       198   \n",
      "11    red  [\"flour\",\"cocoa powder\",\"butter\",\"red food col...       211   \n",
      "21    red  [\"flour\",\"cocoa powder\",\"butter\",\"red food col...       202   \n",
      "30    red  [\"flour\",\"cocoa powder\",\"butter\",\"red food col...       204   \n",
      "37    red  [\"flour\",\"cocoa powder\",\"butter\",\"red food col...       193   \n",
      "\n",
      "    radius  cost_to_make  \n",
      "1    3.780          1.57  \n",
      "11   3.940          1.26  \n",
      "21   4.289          1.73  \n",
      "30   4.667          1.90  \n",
      "37   3.172          1.47  \n",
      "\n",
      "\n"
     ]
    }
   ],
   "source": [
    "#TODO: group by cookie type and ingredients\n",
    "grouped_by_cookie_and_ingredients = cookies.groupby(['cookie', 'ingredients'])\n",
    "\n",
    "for (cookie_name, ingredient_list), group in grouped_by_cookie_and_ingredients:\n",
    "    print(f\"Group for cookie: {cookie_name}, ingredients: {ingredient_list}:\")\n",
    "    print(group.head())\n",
    "    print(\"\\n\")"
   ]
  },
  {
   "cell_type": "markdown",
   "metadata": {},
   "source": [
    "We may also want to filter the data. For example, we can filter the data to only show the cookies that have a radius greater than 4.3 cm. We can do this by indexing the DataFrame with a boolean expression."
   ]
  },
  {
   "cell_type": "code",
   "execution_count": 18,
   "metadata": {},
   "outputs": [
    {
     "name": "stdout",
     "output_type": "stream",
     "text": [
      "          cookie                                        ingredients  calories  \\\n",
      "29      nevadito  [\"flour\",\"chocolate chips\",\"milk\",\"vanilla ext...       219   \n",
      "30           red  [\"flour\",\"cocoa powder\",\"butter\",\"red food col...       204   \n",
      "47         minty          [\"flour\",\"mint extract\",\"sugar\",\"butter\"]       174   \n",
      "49        laddoo             [\"flour\",\"lemon juice\",\"sugar\",\"ghee\"]       195   \n",
      "60  orange_ozuna   [\"flour\",\"orange juice\",\"sugar\",\"vegetable oil\"]       186   \n",
      "\n",
      "    radius  cost_to_make  \n",
      "29   4.346          1.68  \n",
      "30   4.667          1.90  \n",
      "47   4.388          1.14  \n",
      "49   4.562          1.12  \n",
      "60   4.573          1.56  \n"
     ]
    }
   ],
   "source": [
    "#TODO: filter using the boolean expression\n",
    "filtered_cookies = cookies[cookies['radius'] > 4.3]\n",
    "\n",
    "print(filtered_cookies.head())"
   ]
  },
  {
   "cell_type": "markdown",
   "metadata": {},
   "source": [
    "We may even want to use `groupby()` and filter idea together! For example, we can filter the data to only show the cookies that have a radius greater than 4.3 cm, and group the data by the `cookie` column."
   ]
  },
  {
   "cell_type": "code",
   "execution_count": 19,
   "metadata": {},
   "outputs": [
    {
     "name": "stdout",
     "output_type": "stream",
     "text": [
      "Group for chocolate:\n",
      "       cookie                                   ingredients  calories  radius  \\\n",
      "62  chocolate  [\"flour\",\"chocolate chips\",\"sugar\",\"butter\"]       206   4.328   \n",
      "80  chocolate  [\"flour\",\"chocolate chips\",\"sugar\",\"butter\"]       197   4.461   \n",
      "87  chocolate  [\"flour\",\"chocolate chips\",\"sugar\",\"butter\"]       199   4.474   \n",
      "\n",
      "    cost_to_make  \n",
      "62          1.84  \n",
      "80          2.17  \n",
      "87          1.64  \n",
      "\n",
      "\n",
      "Group for laddoo:\n",
      "     cookie                             ingredients  calories  radius  \\\n",
      "49   laddoo  [\"flour\",\"lemon juice\",\"sugar\",\"ghee\"]       195   4.562   \n",
      "88   laddoo  [\"flour\",\"lemon juice\",\"sugar\",\"ghee\"]       167   4.401   \n",
      "101  laddoo  [\"flour\",\"lemon juice\",\"sugar\",\"ghee\"]       178   4.519   \n",
      "\n",
      "     cost_to_make  \n",
      "49           1.12  \n",
      "88           1.74  \n",
      "101          1.91  \n",
      "\n",
      "\n",
      "Group for minty:\n",
      "   cookie                                ingredients  calories  radius  \\\n",
      "47  minty  [\"flour\",\"mint extract\",\"sugar\",\"butter\"]       174   4.388   \n",
      "\n",
      "    cost_to_make  \n",
      "47          1.14  \n",
      "\n",
      "\n",
      "Group for nevadito:\n",
      "      cookie                                        ingredients  calories  \\\n",
      "29  nevadito  [\"flour\",\"chocolate chips\",\"milk\",\"vanilla ext...       219   \n",
      "\n",
      "    radius  cost_to_make  \n",
      "29   4.346          1.68  \n",
      "\n",
      "\n",
      "Group for orange_ozuna:\n",
      "          cookie                                       ingredients  calories  \\\n",
      "60  orange_ozuna  [\"flour\",\"orange juice\",\"sugar\",\"vegetable oil\"]       186   \n",
      "\n",
      "    radius  cost_to_make  \n",
      "60   4.573          1.56  \n",
      "\n",
      "\n",
      "Group for red:\n",
      "    cookie                                        ingredients  calories  \\\n",
      "30     red  [\"flour\",\"cocoa powder\",\"butter\",\"red food col...       204   \n",
      "72     red  [\"flour\",\"cocoa powder\",\"butter\",\"red food col...       196   \n",
      "76     red  [\"flour\",\"cocoa powder\",\"butter\",\"red food col...       206   \n",
      "97     red  [\"flour\",\"cocoa powder\",\"butter\",\"red food col...       191   \n",
      "110    red  [\"flour\",\"cocoa powder\",\"butter\",\"red food col...       198   \n",
      "\n",
      "     radius  cost_to_make  \n",
      "30    4.667          1.90  \n",
      "72    4.425          1.37  \n",
      "76    4.319          1.74  \n",
      "97    4.475          1.74  \n",
      "110   4.930          1.55  \n",
      "\n",
      "\n"
     ]
    }
   ],
   "source": [
    "#TODO: filter the data using the boolean expression\n",
    "# then group by cookie column\n",
    "filtered_cookies = cookies[cookies['radius'] > 4.3]\n",
    "\n",
    "grouped_filtered_cookies = filtered_cookies.groupby('cookie')\n",
    "\n",
    "for name, group in grouped_filtered_cookies:\n",
    "    print(f\"Group for {name}:\")\n",
    "    print(group.head())\n",
    "    print(\"\\n\")\n"
   ]
  },
  {
   "cell_type": "markdown",
   "metadata": {},
   "source": [
    "We may also want to aggregate the data. For example, we can aggregate the data by looking at the ratio of calories to radius. We can do this by using indexing and the `apply()` function."
   ]
  },
  {
   "cell_type": "code",
   "execution_count": 20,
   "metadata": {},
   "outputs": [
    {
     "name": "stdout",
     "output_type": "stream",
     "text": [
      "         cookie                                        ingredients  calories  \\\n",
      "0        laddoo             [\"flour\",\"lemon juice\",\"sugar\",\"ghee\"]       170   \n",
      "1           red  [\"flour\",\"cocoa powder\",\"butter\",\"red food col...       198   \n",
      "2      nevadito  [\"flour\",\"chocolate chips\",\"milk\",\"vanilla ext...       224   \n",
      "4           bbb           [\"flour\",\"blueberries\",\"sugar\",\"butter\"]       191   \n",
      "5  orange_ozuna   [\"flour\",\"orange juice\",\"sugar\",\"vegetable oil\"]       162   \n",
      "\n",
      "   radius  cost_to_make  calories_per_radius  \n",
      "0   3.102          1.17            54.803353  \n",
      "1   3.780          1.57            52.380952  \n",
      "2   4.069          1.54            55.050381  \n",
      "4   4.148          1.89            46.046287  \n",
      "5   3.241          1.65            49.984573  \n"
     ]
    }
   ],
   "source": [
    "#TODO: add a column to the dataframe that is the\n",
    "# calories per radius\n",
    "cookies['calories_per_radius'] = cookies['calories'] / cookies['radius']\n",
    "\n",
    "print(cookies.head())"
   ]
  },
  {
   "cell_type": "markdown",
   "metadata": {},
   "source": [
    "Or we can just get rid of this column if we find it useless. We can do this by using the `drop()` function or indexing."
   ]
  },
  {
   "cell_type": "code",
   "execution_count": 21,
   "metadata": {},
   "outputs": [
    {
     "name": "stdout",
     "output_type": "stream",
     "text": [
      "         cookie                                        ingredients  calories  \\\n",
      "0        laddoo             [\"flour\",\"lemon juice\",\"sugar\",\"ghee\"]       170   \n",
      "1           red  [\"flour\",\"cocoa powder\",\"butter\",\"red food col...       198   \n",
      "2      nevadito  [\"flour\",\"chocolate chips\",\"milk\",\"vanilla ext...       224   \n",
      "4           bbb           [\"flour\",\"blueberries\",\"sugar\",\"butter\"]       191   \n",
      "5  orange_ozuna   [\"flour\",\"orange juice\",\"sugar\",\"vegetable oil\"]       162   \n",
      "\n",
      "   radius  cost_to_make  \n",
      "0   3.102          1.17  \n",
      "1   3.780          1.57  \n",
      "2   4.069          1.54  \n",
      "4   4.148          1.89  \n",
      "5   3.241          1.65  \n"
     ]
    }
   ],
   "source": [
    "#TODO: drop the created column\n",
    "cookies = cookies.drop(columns=['calories_per_radius'])\n",
    "\n",
    "print(cookies.head())"
   ]
  },
  {
   "cell_type": "markdown",
   "metadata": {},
   "source": [
    "### Visualizing the data"
   ]
  },
  {
   "cell_type": "markdown",
   "metadata": {},
   "source": [
    "We can also visualize the data. For example, we can visualize the data by plotting the radius of the cookies against the cost to make the cookies. We can do this by using the `plot()` function."
   ]
  },
  {
   "cell_type": "code",
   "execution_count": 23,
   "metadata": {},
   "outputs": [
    {
     "data": {
      "image/png": "[encoded data removed]",
      "text/plain": [
       "<Figure size 432x288 with 1 Axes>"
      ]
     },
     "metadata": {
      "needs_background": "light"
     },
     "output_type": "display_data"
    }
   ],
   "source": [
    "#TODO: plot the radius (x) versus cost to make (y)\n",
    "\n",
    "# Plotting the radius vs cost_to_make\n",
    "cookies.plot(x='radius', y='cost_to_make', kind='scatter', title='Radius vs Cost to Make')\n",
    "matplotlib.pyplot.xlabel('Radius (cm)')\n",
    "matplotlib.pyplot.ylabel('Cost to Make ($)')\n",
    "matplotlib.pyplot.show()"
   ]
  },
  {
   "cell_type": "markdown",
   "metadata": {},
   "source": [
    "We may even want to get more specific and visualize the shape of a distribution of the `laddoo lemon`'s radius by making a boxplot. We can also do this by using the `plot()` function."
   ]
  },
  {
   "cell_type": "code",
   "execution_count": 24,
   "metadata": {},
   "outputs": [
    {
     "data": {
      "image/png": "[encoded data removed]",
      "text/plain": [
       "<Figure size 432x288 with 1 Axes>"
      ]
     },
     "metadata": {
      "needs_background": "light"
     },
     "output_type": "display_data"
    }
   ],
   "source": [
    "#TODO: add the described boxplot\n",
    "# remember that you changed the name from laddoo lemon to laddoo\n",
    "laddoo_data = cookies[cookies['cookie'] == 'laddoo']\n",
    "\n",
    "laddoo_data['radius'].plot(kind='box', title='Distribution of Laddoo Cookie Radius')\n",
    "matplotlib.pyplot.ylabel('Radius (cm)')\n",
    "matplotlib.pyplot.show()\n"
   ]
  },
  {
   "cell_type": "markdown",
   "metadata": {},
   "source": [
    "Alternatively, we can create a histogram to visualize the distribution of the `laddoo lemon`'s radius. We can also do this by using the `plot()` function."
   ]
  },
  {
   "cell_type": "code",
   "execution_count": 25,
   "metadata": {},
   "outputs": [
    {
     "data": {
      "image/png": "[encoded data removed]",
      "text/plain": [
       "<Figure size 432x288 with 1 Axes>"
      ]
     },
     "metadata": {
      "needs_background": "light"
     },
     "output_type": "display_data"
    }
   ],
   "source": [
    "#TODO: add the described histogram\n",
    "laddoo_data = cookies[cookies['cookie'] == 'laddoo']\n",
    "\n",
    "laddoo_data['radius'].plot(kind='hist', edgecolor='black', bins=10, alpha=0.7)\n",
    "matplotlib.pyplot.title('Distribution of Laddoo Cookie Radius')\n",
    "matplotlib.pyplot.xlabel('Radius (cm)')\n",
    "matplotlib.pyplot.ylabel('Number of Cookies')\n",
    "matplotlib.pyplot.show()"
   ]
  },
  {
   "cell_type": "markdown",
   "metadata": {},
   "source": [
    "Things can get more complicated too. Maybe we want to analyze the behaviors of `bad berry bunny` and `laddoo lemon`'s radius using a boxplot. But this time, let's try it using the alternative `boxplot()` function. For practice, try doing it with `plot()` too!"
   ]
  },
  {
   "cell_type": "code",
   "execution_count": 27,
   "metadata": {},
   "outputs": [
    {
     "data": {
      "image/png": "[encoded data removed]",
      "text/plain": [
       "<Figure size 432x288 with 1 Axes>"
      ]
     },
     "metadata": {
      "needs_background": "light"
     },
     "output_type": "display_data"
    }
   ],
   "source": [
    "#TODO: analyze the two cookie's radius in a boxplot\n",
    "selected_cookies = cookies[cookies['cookie'].isin(['bbb', 'laddoo'])]\n",
    "selected_cookies.groupby('cookie')['radius'].plot(kind='box', subplots=True)\n",
    "matplotlib.pyplot.title('Radius Distribution of bbb and laddoo Cookies')\n",
    "matplotlib.pyplot.xlabel('Cookie Type')\n",
    "matplotlib.pyplot.ylabel('Radius (cm)')\n",
    "matplotlib.pyplot.show()"
   ]
  },
  {
   "cell_type": "markdown",
   "metadata": {},
   "source": [
    "### Practice Problems\n",
    "Now that you have learned some of Pandas' capabilities, let's try some practice problems! **This is the part that will be checked when you submit it!**"
   ]
  },
  {
   "cell_type": "markdown",
   "metadata": {},
   "source": [
    "#### Problem 1\n",
    "How many cookies were made? (Hint: use the `shape` attribute)"
   ]
  },
  {
   "cell_type": "code",
   "execution_count": 28,
   "metadata": {},
   "outputs": [
    {
     "name": "stdout",
     "output_type": "stream",
     "text": [
      "103 cookies were made.\n"
     ]
    }
   ],
   "source": [
    "#Add your code here\n",
    "number_of_cookies = cookies.shape[0]\n",
    "print(f\"{number_of_cookies} cookies were made.\")"
   ]
  },
  {
   "cell_type": "markdown",
   "metadata": {},
   "source": [
    "#### Problem 2\n",
    "Add a column to the DataFrame that has the value `True` if the cookie has a radius greater than 4 cm, and `False` otherwise. (Hint: use the `apply()` function)"
   ]
  },
  {
   "cell_type": "code",
   "execution_count": 29,
   "metadata": {},
   "outputs": [],
   "source": [
    "#Add your code here\n",
    "cookies['radius_greater_than_4'] = cookies['radius'] > 4"
   ]
  },
  {
   "cell_type": "markdown",
   "metadata": {},
   "source": [
    "#### Problem 3\n",
    "\n",
    "Group the data by the `cookie` column, and find the average radius of each cookie. (Hint: use the `groupby()` and `transform()` function). Add this column to the DataFrame."
   ]
  },
  {
   "cell_type": "code",
   "execution_count": 30,
   "metadata": {},
   "outputs": [],
   "source": [
    "#Add your code here\n",
    "cookies['average_radius'] = cookies.groupby('cookie')['radius'].transform('mean')"
   ]
  },
  {
   "cell_type": "markdown",
   "metadata": {},
   "source": [
    "#### Problem 4\n",
    "Create a new DataFrame that only contains the cookies that have the ingredient `\"chocolate chips\"`. (Hint: use the `str.contains()` function)"
   ]
  },
  {
   "cell_type": "code",
   "execution_count": 31,
   "metadata": {},
   "outputs": [],
   "source": [
    "#Add your code here\n",
    "chocolate_chip_cookies = cookies[cookies['ingredients'].str.contains('chocolate chips', case=False)]"
   ]
  },
  {
   "cell_type": "markdown",
   "metadata": {},
   "source": [
    "#### Problem 5\n",
    "\n",
    "Create a boxplot of `cost_to_make` for all cookies except `chocolate` using the `boxplot()` function."
   ]
  },
  {
   "cell_type": "code",
   "execution_count": 32,
   "metadata": {},
   "outputs": [
    {
     "data": {
      "image/png": "[encoded data removed]",
      "text/plain": [
       "<Figure size 720x432 with 1 Axes>"
      ]
     },
     "metadata": {
      "needs_background": "light"
     },
     "output_type": "display_data"
    }
   ],
   "source": [
    "#Add your code here\n",
    "non_chocolate_cookies = cookies[~cookies['ingredients'].str.contains('chocolate', case=False)]\n",
    "\n",
    "matplotlib.pyplot.figure(figsize=(10, 6))\n",
    "non_chocolate_cookies.boxplot(column='cost_to_make')\n",
    "matplotlib.pyplot.title('Boxplot of Cost to Make for Non-Chocolate Cookies')\n",
    "matplotlib.pyplot.ylabel('Cost to Make ($)')\n",
    "matplotlib.pyplot.show()\n"
   ]
  },
  {
   "cell_type": "markdown",
   "metadata": {},
   "source": [
    "#### Problem 6\n",
    "\n",
    "Create a histogram of the `bad berry bunny`'s calories using the `plot()` function."
   ]
  },
  {
   "cell_type": "code",
   "execution_count": 34,
   "metadata": {},
   "outputs": [
    {
     "data": {
      "image/png": "[encoded data removed]",
      "text/plain": [
       "<Figure size 432x288 with 1 Axes>"
      ]
     },
     "metadata": {
      "needs_background": "light"
     },
     "output_type": "display_data"
    }
   ],
   "source": [
    "#Add your code here\n",
    "bbb_cookies = cookies[cookies['cookie'] == 'bad berry bunny']\n",
    "\n",
    "bbb_cookies['calories'].plot(kind='hist', edgecolor='black', bins=5)\n",
    "matplotlib.pyplot.title(\"Histogram of 'Bad Berry Bunny' Calories\")\n",
    "matplotlib.pyplot.xlabel('Calories')\n",
    "matplotlib.pyplot.ylabel('Frequency')\n",
    "matplotlib.pyplot.show()\n"
   ]
  },
  {
   "cell_type": "markdown",
   "metadata": {},
   "source": [
    "#### Problem 7\n",
    "\n",
    "Calculate the average calories per cookie type and display the result in a bar chart."
   ]
  },
  {
   "cell_type": "code",
   "execution_count": 35,
   "metadata": {},
   "outputs": [
    {
     "data": {
      "image/png": "[encoded data removed]",
      "text/plain": [
       "<Figure size 432x288 with 1 Axes>"
      ]
     },
     "metadata": {
      "needs_background": "light"
     },
     "output_type": "display_data"
    }
   ],
   "source": [
    "#Add your code here\n",
    "average_calories = cookies.groupby('cookie')['calories'].mean()\n",
    "\n",
    "average_calories.plot(kind='bar', color='skyblue', edgecolor='black')\n",
    "matplotlib.pyplot.title(\"Average Calories per Cookie Type\")\n",
    "matplotlib.pyplot.xlabel('Cookie Type')\n",
    "matplotlib.pyplot.ylabel('Average Calories')\n",
    "matplotlib.pyplot.xticks(rotation=45)\n",
    "\n",
    "matplotlib.pyplot.tight_layout()\n",
    "matplotlib.pyplot.show()"
   ]
  },
  {
   "cell_type": "markdown",
   "metadata": {},
   "source": [
    "#### Problem 8\n",
    "\n",
    "Find the top 3 most expensive cookies in terms of cost_to_make"
   ]
  },
  {
   "cell_type": "code",
   "execution_count": 36,
   "metadata": {},
   "outputs": [
    {
     "name": "stdout",
     "output_type": "stream",
     "text": [
      "          cookie  cost_to_make\n",
      "42        laddoo          2.77\n",
      "50      nevadito          2.71\n",
      "13  orange_ozuna          2.59\n"
     ]
    }
   ],
   "source": [
    "#Add your code here\n",
    "top_3_expensive_cookies = cookies.sort_values(by='cost_to_make', ascending=False).head(3)\n",
    "\n",
    "print(top_3_expensive_cookies[['cookie', 'cost_to_make']])"
   ]
  }
 ],
 "metadata": {
  "kernelspec": {
   "display_name": "Python 3",
   "language": "python",
   "name": "python3"
  },
  "language_info": {
   "codemirror_mode": {
    "name": "ipython",
    "version": 3
   },
   "file_extension": ".py",
   "mimetype": "text/x-python",
   "name": "python",
   "nbconvert_exporter": "python",
   "pygments_lexer": "ipython3",
   "version": "3.8.3"
  },
  "vscode": {
   "interpreter": {
    "hash": "63639127d0784e8e4de1a76bcacd89583be09d9f82d600966cd9457d183cbbf7"
   }
  }
 },
 "nbformat": 4,
 "nbformat_minor": 2
}
