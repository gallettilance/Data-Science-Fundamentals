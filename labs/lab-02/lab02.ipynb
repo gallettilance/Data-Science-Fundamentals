{
 "cells": [
  {
   "attachments": {},
   "cell_type": "markdown",
   "metadata": {},
   "source": [
    "## Lab 02 - Pandas and Data Visualization\n",
    "This notebook will introduce you to the basics of Pandas and Data Visualization. You will learn how to load data into a Pandas DataFrame, how to perform basic data analysis, and how to visualize data. The first part of this notebook will be an interactive tutorial, and the second part will be practice exercises for you to do! **Note that the practice problems will be checked when submitted!**"
   ]
  },
  {
   "cell_type": "markdown",
   "metadata": {},
   "source": [
    "#### Pandas\n",
    "Pandas is a popular open-source Python library that provides data structures and data analysis tools for working with structured data. Pandas is a versatile library that simplifies data manipulation, analysis, and exploration in Python. Some of its uses:\n",
    "* Tabular Data Handling\n",
    "* Data Cleaning and Transformation\n",
    "* Data Exploration\n",
    "* Data Import/Export\n",
    "* Data Visualization\n",
    "\n",
    "#### Matplotlib\n",
    "Matplotlib is a widely used for creating static, animated, and interactive visualizations. Whether you are conducting data analysis, scientific research, or data communication, Matplotlib helps you present your findings effectively and intuitively."
   ]
  },
  {
   "attachments": {},
   "cell_type": "markdown",
   "metadata": {},
   "source": [
    "### Pre-requisites"
   ]
  },
  {
   "cell_type": "code",
   "execution_count": 308,
   "metadata": {},
   "outputs": [],
   "source": [
    "# In case you don't have pandas, uncomment\n",
    "# the following lines and run the cell\n",
    "\n",
    "# %pip install pandas"
   ]
  },
  {
   "attachments": {},
   "cell_type": "markdown",
   "metadata": {},
   "source": [
    "### Overview\n",
    "In this notebook, you will be learning how to use the Pandas library by working with the `cookies.csv` file. \n",
    "\n",
    "#### `cookies.csv` file :\n",
    "\n",
    "The `cookies.csv` file contains information about cookies that were made in Rico's Bisquito's factory. \n",
    "\n",
    "The columns are the following:\n",
    "\n",
    "`cookie`: the name of a cookie\n",
    "`ingredients`: a list of the cookie's ingredients\n",
    "`calories`: the number of calories the created cookie has\n",
    "`radius`: the radius of the created cookie, in cm\n",
    "`cost_to_make`: the cost it took to make the created cookie, in dollars"
   ]
  },
  {
   "attachments": {},
   "cell_type": "markdown",
   "metadata": {},
   "source": [
    "### Reading the CSV file\n",
    "\n",
    "First, we need to import the Pandas library. We will be using the `pd` alias for the Pandas library."
   ]
  },
  {
   "cell_type": "code",
   "execution_count": 309,
   "metadata": {},
   "outputs": [],
   "source": [
    "import pandas as pd\n"
   ]
  },
  {
   "attachments": {},
   "cell_type": "markdown",
   "metadata": {},
   "source": [
    "We will now look at the `cookies.csv` file. We will use the `pd.read_csv()` function to read in the CSV file. We will store the data in a variable called `cookies`."
   ]
  },
  {
   "cell_type": "code",
   "execution_count": 310,
   "metadata": {},
   "outputs": [],
   "source": [
    "#TODO: read the cookies.csv file into a pandas dataframe\n",
    "cookies = pd.read_csv(\"cookies.csv\", delimiter=\",\", header=0)\n"
   ]
  },
  {
   "attachments": {},
   "cell_type": "markdown",
   "metadata": {},
   "source": [
    "#### Dataframe\n",
    "Dataframes are a data structure that Pandas uses to store data. Dataframes are similar to tables in a database. Dataframes have rows and columns. Each row represents a single data point, and each column represents a feature of the data point."
   ]
  },
  {
   "attachments": {},
   "cell_type": "markdown",
   "metadata": {},
   "source": [
    "We will then make sure we imported the data correctly by printing out the first 10 rows of the data, using the `head()` function."
   ]
  },
  {
   "cell_type": "code",
   "execution_count": 311,
   "metadata": {},
   "outputs": [
    {
     "name": "stdout",
     "output_type": "stream",
     "text": [
      "            cookie                                        ingredients  \\\n",
      "0     laddoo lemon             [\"flour\",\"lemon juice\",\"sugar\",\"ghee\"]   \n",
      "1  red velvet rauw  [\"flour\",\"cocoa powder\",\"butter\",\"red food col...   \n",
      "2         nevadito  [\"flour\",\"chocolate chips\",\"milk\",\"vanilla ext...   \n",
      "3  red velvet rauw  [\"flour\",\"cocoa powder\",\"butter\",\"red food col...   \n",
      "4  bad berry bunny           [\"flour\",\"blueberries\",\"sugar\",\"butter\"]   \n",
      "5     orange ozuna   [\"flour\",\"orange juice\",\"sugar\",\"vegetable oil\"]   \n",
      "6      minty miami          [\"flour\",\"mint extract\",\"sugar\",\"butter\"]   \n",
      "7        chocolate       [\"flour\",\"chocolate chips\",\"sugar\",\"butter\"]   \n",
      "8     laddoo lemon             [\"flour\",\"lemon juice\",\"sugar\",\"ghee\"]   \n",
      "9      minty miami          [\"flour\",\"mint extract\",\"sugar\",\"butter\"]   \n",
      "\n",
      "   calories  radius  cost_to_make  \n",
      "0       170   3.102          0.67  \n",
      "1       198   3.780          1.07  \n",
      "2       224   4.069          1.04  \n",
      "3       198   3.780          1.07  \n",
      "4       191   4.148          1.39  \n",
      "5       162   3.241          1.15  \n",
      "6       204   3.964          0.84  \n",
      "7       243   3.684          1.17  \n",
      "8       178   3.989           NaN  \n",
      "9       184   3.743          0.74  \n"
     ]
    }
   ],
   "source": [
    "#TODO: print the head of the dataframe\n",
    "print(cookies.head(10))"
   ]
  },
  {
   "attachments": {},
   "cell_type": "markdown",
   "metadata": {},
   "source": [
    "### Checking data types\n",
    "You can check the data types of each column using the `dtypes` attribute of the DataFrame."
   ]
  },
  {
   "cell_type": "code",
   "execution_count": 312,
   "metadata": {},
   "outputs": [
    {
     "name": "stdout",
     "output_type": "stream",
     "text": [
      "cookie           object\n",
      "ingredients      object\n",
      "calories          int64\n",
      "radius          float64\n",
      "cost_to_make    float64\n",
      "dtype: object\n"
     ]
    }
   ],
   "source": [
    "#TODO: check the data types of the columns\n",
    "column_data_types = cookies.dtypes\n",
    "print(column_data_types)"
   ]
  },
  {
   "cell_type": "markdown",
   "metadata": {},
   "source": [
    "Now, lets use use `info()` function to get more information about the Dataframe"
   ]
  },
  {
   "cell_type": "code",
   "execution_count": 313,
   "metadata": {},
   "outputs": [
    {
     "name": "stdout",
     "output_type": "stream",
     "text": [
      "<class 'pandas.core.frame.DataFrame'>\n",
      "RangeIndex: 129 entries, 0 to 128\n",
      "Data columns (total 5 columns):\n",
      " #   Column        Non-Null Count  Dtype  \n",
      "---  ------        --------------  -----  \n",
      " 0   cookie        129 non-null    object \n",
      " 1   ingredients   129 non-null    object \n",
      " 2   calories      129 non-null    int64  \n",
      " 3   radius        129 non-null    float64\n",
      " 4   cost_to_make  114 non-null    float64\n",
      "dtypes: float64(2), int64(1), object(2)\n",
      "memory usage: 5.2+ KB\n",
      "None\n"
     ]
    }
   ],
   "source": [
    "# TODO: use info() to get information about datatypes and null values\n",
    "print(cookies.info())"
   ]
  },
  {
   "attachments": {},
   "cell_type": "markdown",
   "metadata": {},
   "source": [
    "### Cleaning the data\n",
    "Now that we have the data, we need to clean it. For example, some `cost_to_make` fields of some created cookies are missing. To resolve this, we can do many things: we can replace the missing data with the mean of the column, or we can get rid of the row entirely if the `cost_to_make` field is not set. "
   ]
  },
  {
   "cell_type": "code",
   "execution_count": 314,
   "metadata": {},
   "outputs": [
    {
     "name": "stdout",
     "output_type": "stream",
     "text": [
      "            cookie                                        ingredients  \\\n",
      "0     laddoo lemon             [\"flour\",\"lemon juice\",\"sugar\",\"ghee\"]   \n",
      "1  red velvet rauw  [\"flour\",\"cocoa powder\",\"butter\",\"red food col...   \n",
      "2         nevadito  [\"flour\",\"chocolate chips\",\"milk\",\"vanilla ext...   \n",
      "3  red velvet rauw  [\"flour\",\"cocoa powder\",\"butter\",\"red food col...   \n",
      "4  bad berry bunny           [\"flour\",\"blueberries\",\"sugar\",\"butter\"]   \n",
      "5     orange ozuna   [\"flour\",\"orange juice\",\"sugar\",\"vegetable oil\"]   \n",
      "6      minty miami          [\"flour\",\"mint extract\",\"sugar\",\"butter\"]   \n",
      "7        chocolate       [\"flour\",\"chocolate chips\",\"sugar\",\"butter\"]   \n",
      "8     laddoo lemon             [\"flour\",\"lemon juice\",\"sugar\",\"ghee\"]   \n",
      "9      minty miami          [\"flour\",\"mint extract\",\"sugar\",\"butter\"]   \n",
      "\n",
      "   calories  radius  cost_to_make  \n",
      "0       170   3.102      0.670000  \n",
      "1       198   3.780      1.070000  \n",
      "2       224   4.069      1.040000  \n",
      "3       198   3.780      1.070000  \n",
      "4       191   4.148      1.390000  \n",
      "5       162   3.241      1.150000  \n",
      "6       204   3.964      0.840000  \n",
      "7       243   3.684      1.170000  \n",
      "8       178   3.989      1.176579  \n",
      "9       184   3.743      0.740000  \n"
     ]
    }
   ],
   "source": [
    "#TODO: clean the dataframe and \n",
    "# print the head again to make sure \n",
    "# the changes took effect\n",
    "\n",
    "avg = cookies[\"cost_to_make\"].mean()\n",
    "cookies[\"cost_to_make\"].fillna(avg, inplace=True)\n",
    "print(cookies.head(10))"
   ]
  },
  {
   "attachments": {},
   "cell_type": "markdown",
   "metadata": {},
   "source": [
    "To also make sure we removed null values, we can check the number of null values in each column using the `isnull()` function."
   ]
  },
  {
   "cell_type": "code",
   "execution_count": 315,
   "metadata": {},
   "outputs": [
    {
     "name": "stdout",
     "output_type": "stream",
     "text": [
      "False\n"
     ]
    }
   ],
   "source": [
    "#TODO: use the isnull method to make sure your data is clean\n",
    "print(cookies[\"cost_to_make\"].isnull().any())"
   ]
  },
  {
   "cell_type": "markdown",
   "metadata": {},
   "source": [
    "Next, lets check for duplicate rows using the `duplicated()` function. Then, remove those rows using `drop_duplicates()` function."
   ]
  },
  {
   "cell_type": "code",
   "execution_count": 316,
   "metadata": {},
   "outputs": [
    {
     "name": "stdout",
     "output_type": "stream",
     "text": [
      "<class 'pandas.core.frame.DataFrame'>\n",
      "Int64Index: 118 entries, 0 to 127\n",
      "Data columns (total 5 columns):\n",
      " #   Column        Non-Null Count  Dtype  \n",
      "---  ------        --------------  -----  \n",
      " 0   cookie        118 non-null    object \n",
      " 1   ingredients   118 non-null    object \n",
      " 2   calories      118 non-null    int64  \n",
      " 3   radius        118 non-null    float64\n",
      " 4   cost_to_make  118 non-null    float64\n",
      "dtypes: float64(2), int64(1), object(2)\n",
      "memory usage: 5.5+ KB\n",
      "None\n"
     ]
    }
   ],
   "source": [
    "# TODO: check for duplicate rows\n",
    "# then delete those rows form df\n",
    "if (cookies.duplicated().any()):\n",
    "    cookies=cookies.drop_duplicates()\n",
    "print(cookies.info())"
   ]
  },
  {
   "attachments": {},
   "cell_type": "markdown",
   "metadata": {},
   "source": [
    "### Parsing the data\n",
    "Now that we have the data, we could parse it to get the information we want. For example, we can check what types of cookies were made by using the `unique()` function on the `cookie` column."
   ]
  },
  {
   "cell_type": "code",
   "execution_count": 317,
   "metadata": {},
   "outputs": [
    {
     "name": "stdout",
     "output_type": "stream",
     "text": [
      "['laddoo lemon' 'red velvet rauw' 'nevadito' 'bad berry bunny'\n",
      " 'orange ozuna' 'minty miami' 'chocolate']\n"
     ]
    }
   ],
   "source": [
    "#TODO: see what cookies are in the dataset\n",
    "uniqueType = cookies[\"cookie\"].unique()\n",
    "print(uniqueType)"
   ]
  },
  {
   "attachments": {},
   "cell_type": "markdown",
   "metadata": {},
   "source": [
    "We can also check the number of cookies made by using the `value_counts()` function on the `cookie` column."
   ]
  },
  {
   "cell_type": "code",
   "execution_count": 318,
   "metadata": {},
   "outputs": [
    {
     "name": "stdout",
     "output_type": "stream",
     "text": [
      "red velvet rauw    18\n",
      "laddoo lemon       17\n",
      "nevadito           17\n",
      "bad berry bunny    17\n",
      "orange ozuna       17\n",
      "minty miami        17\n",
      "chocolate          15\n",
      "Name: cookie, dtype: int64\n"
     ]
    }
   ],
   "source": [
    "#TODO: use value_counts() to see how many \n",
    "# cookies of each type there are\n",
    "num = cookies[\"cookie\"].value_counts()\n",
    "print(num)"
   ]
  },
  {
   "attachments": {},
   "cell_type": "markdown",
   "metadata": {},
   "source": [
    "Or maybe we don't like how long the names of the cookies are, so we can shorten them by using the `replace()` function on the `cookie` column.\n",
    "\n",
    "For example, let's try changing `\"bad berry bunny\"` to `\"bbb\"`."
   ]
  },
  {
   "cell_type": "code",
   "execution_count": 319,
   "metadata": {},
   "outputs": [
    {
     "name": "stdout",
     "output_type": "stream",
     "text": [
      "['laddoo lemon' 'red velvet rauw' 'nevadito' 'bbb' 'orange ozuna'\n",
      " 'minty miami' 'chocolate']\n"
     ]
    }
   ],
   "source": [
    "#TODO: change bad berry bunny data elements to \"bbb\"\n",
    "cookies[\"cookie\"]=cookies[\"cookie\"].replace(\"bad berry bunny\",\"bbb\")\n",
    "print(cookies[\"cookie\"].unique())"
   ]
  },
  {
   "attachments": {},
   "cell_type": "markdown",
   "metadata": {},
   "source": [
    "We may even like the original names better, but we may want to get rid of the spaces. For example, we can change `\"orange ozuna\"` to `\"orange_ozuna\"`. Here, we will use the `str.replace()` function."
   ]
  },
  {
   "cell_type": "code",
   "execution_count": 320,
   "metadata": {},
   "outputs": [
    {
     "name": "stdout",
     "output_type": "stream",
     "text": [
      "['laddoo lemon' 'red velvet rauw' 'nevadito' 'bbb' 'orange_ozuna'\n",
      " 'minty miami' 'chocolate']\n"
     ]
    }
   ],
   "source": [
    "#TODO: adjust orange ozuna as described\n",
    "cookies[\"cookie\"] = cookies[\"cookie\"].str.replace(\"orange ozuna\",\"orange_ozuna\")\n",
    "print(cookies[\"cookie\"].unique())"
   ]
  },
  {
   "attachments": {},
   "cell_type": "markdown",
   "metadata": {},
   "source": [
    "We may even just want to keep the first word of the cookie name. For example, we can change `\"orange_ozuna\"` to `\"orange\"`."
   ]
  },
  {
   "cell_type": "code",
   "execution_count": 324,
   "metadata": {},
   "outputs": [
    {
     "name": "stdout",
     "output_type": "stream",
     "text": [
      "['laddoo' 'red' 'nevadito' 'bbb' 'orange' 'minty' 'chocolate']\n"
     ]
    }
   ],
   "source": [
    "#TODO: adjust all cookies so only the first word\n",
    "# is used as the cookie name\n",
    "cookies['cookie'] = cookies['cookie'].str.split(r'[ _]').str[0]\n",
    "print(cookies[\"cookie\"].unique())"
   ]
  },
  {
   "attachments": {},
   "cell_type": "markdown",
   "metadata": {},
   "source": [
    "Another thing that may come to mind is that maybe getting flour could cost more money due to inflation, so we have to adjust our `cost_to_make` values. We can do this by using the `apply()` function on the `cost_to_make` column."
   ]
  },
  {
   "cell_type": "code",
   "execution_count": 325,
   "metadata": {},
   "outputs": [
    {
     "name": "stdout",
     "output_type": "stream",
     "text": [
      "        cookie                                        ingredients  calories  \\\n",
      "0       laddoo             [\"flour\",\"lemon juice\",\"sugar\",\"ghee\"]       170   \n",
      "1          red  [\"flour\",\"cocoa powder\",\"butter\",\"red food col...       198   \n",
      "2     nevadito  [\"flour\",\"chocolate chips\",\"milk\",\"vanilla ext...       224   \n",
      "4          bbb           [\"flour\",\"blueberries\",\"sugar\",\"butter\"]       191   \n",
      "5       orange   [\"flour\",\"orange juice\",\"sugar\",\"vegetable oil\"]       162   \n",
      "..         ...                                                ...       ...   \n",
      "121  chocolate       [\"flour\",\"chocolate chips\",\"sugar\",\"butter\"]       227   \n",
      "122     laddoo             [\"flour\",\"lemon juice\",\"sugar\",\"ghee\"]       170   \n",
      "125   nevadito  [\"flour\",\"chocolate chips\",\"milk\",\"vanilla ext...       211   \n",
      "126        red  [\"flour\",\"cocoa powder\",\"butter\",\"red food col...       197   \n",
      "127        bbb           [\"flour\",\"blueberries\",\"sugar\",\"butter\"]       199   \n",
      "\n",
      "     radius  cost_to_make  \n",
      "0     3.102          1.17  \n",
      "1     3.780          1.57  \n",
      "2     4.069          1.54  \n",
      "4     4.148          1.89  \n",
      "5     3.241          1.65  \n",
      "..      ...           ...  \n",
      "121   4.085          1.92  \n",
      "122   3.916          2.50  \n",
      "125   3.915          2.11  \n",
      "126   3.906          1.83  \n",
      "127   4.281          1.86  \n",
      "\n",
      "[118 rows x 5 columns]\n"
     ]
    }
   ],
   "source": [
    "#Don't edit this method\n",
    "def adjust_cost(cost):\n",
    "    return cost + 0.5\n",
    "#TODO: use apply() to adjust the cost_to_make column.\n",
    "cookies[\"cost_to_make\"]=cookies[\"cost_to_make\"].apply(adjust_cost)\n",
    "print(cookies)"
   ]
  },
  {
   "attachments": {},
   "cell_type": "markdown",
   "metadata": {},
   "source": [
    "And we can do a lot more things! We will see these concepts be used in the next homework assignment, along with a couple new ones to show you how powerful Pandas is."
   ]
  },
  {
   "attachments": {},
   "cell_type": "markdown",
   "metadata": {},
   "source": [
    "### More complicated operations: Grouping, Filtering, Aggregating"
   ]
  },
  {
   "cell_type": "markdown",
   "metadata": {},
   "source": [
    "Before trying out these complicated operations, lets first sort the sort the df by the radius of the cookies using the `sort_values()` function."
   ]
  },
  {
   "cell_type": "code",
   "execution_count": 326,
   "metadata": {},
   "outputs": [],
   "source": [
    "# TODO: sort the df using sort_values(by='Column', ascending=False)\n",
    "cookies = cookies.sort_values(by=\"radius\",ascending=False)"
   ]
  },
  {
   "attachments": {},
   "cell_type": "markdown",
   "metadata": {},
   "source": [
    "We may also want to group data by certain attributes. This can be done by using `groupby()`. This method takes in a column name, and groups the data by the values in that column. For example, we can group the data by the `cookie` column."
   ]
  },
  {
   "cell_type": "code",
   "execution_count": 327,
   "metadata": {},
   "outputs": [],
   "source": [
    "#TODO: group by cookie type\n",
    "cookie_group = cookies.groupby(\"cookie\")\n"
   ]
  },
  {
   "attachments": {},
   "cell_type": "markdown",
   "metadata": {},
   "source": [
    "We can also group by multiple columns. For example, we can group the data by the `cookie` and `ingredients` columns."
   ]
  },
  {
   "cell_type": "code",
   "execution_count": 328,
   "metadata": {},
   "outputs": [],
   "source": [
    "#TODO: group by cookie type and ingredients\n",
    "cookie_ingredient_group = cookies.groupby([\"cookie\",\"ingredients\"])\n"
   ]
  },
  {
   "attachments": {},
   "cell_type": "markdown",
   "metadata": {},
   "source": [
    "We may also want to filter the data. For example, we can filter the data to only show the cookies that have a radius greater than 4.3 cm. We can do this by indexing the DataFrame with a boolean expression."
   ]
  },
  {
   "cell_type": "code",
   "execution_count": 329,
   "metadata": {},
   "outputs": [
    {
     "name": "stdout",
     "output_type": "stream",
     "text": [
      "        cookie                                        ingredients  calories  \\\n",
      "110        red  [\"flour\",\"cocoa powder\",\"butter\",\"red food col...       198   \n",
      "30         red  [\"flour\",\"cocoa powder\",\"butter\",\"red food col...       204   \n",
      "109   nevadito  [\"flour\",\"chocolate chips\",\"milk\",\"vanilla ext...       211   \n",
      "60      orange   [\"flour\",\"orange juice\",\"sugar\",\"vegetable oil\"]       186   \n",
      "49      laddoo             [\"flour\",\"lemon juice\",\"sugar\",\"ghee\"]       195   \n",
      "101     laddoo             [\"flour\",\"lemon juice\",\"sugar\",\"ghee\"]       178   \n",
      "97         red  [\"flour\",\"cocoa powder\",\"butter\",\"red food col...       191   \n",
      "87   chocolate       [\"flour\",\"chocolate chips\",\"sugar\",\"butter\"]       199   \n",
      "80   chocolate       [\"flour\",\"chocolate chips\",\"sugar\",\"butter\"]       197   \n",
      "72         red  [\"flour\",\"cocoa powder\",\"butter\",\"red food col...       196   \n",
      "88      laddoo             [\"flour\",\"lemon juice\",\"sugar\",\"ghee\"]       167   \n",
      "47       minty          [\"flour\",\"mint extract\",\"sugar\",\"butter\"]       174   \n",
      "29    nevadito  [\"flour\",\"chocolate chips\",\"milk\",\"vanilla ext...       219   \n",
      "62   chocolate       [\"flour\",\"chocolate chips\",\"sugar\",\"butter\"]       206   \n",
      "76         red  [\"flour\",\"cocoa powder\",\"butter\",\"red food col...       206   \n",
      "100      minty          [\"flour\",\"mint extract\",\"sugar\",\"butter\"]       185   \n",
      "\n",
      "     radius  cost_to_make  \n",
      "110   4.930      1.550000  \n",
      "30    4.667      1.900000  \n",
      "109   4.619      1.676579  \n",
      "60    4.573      1.560000  \n",
      "49    4.562      1.120000  \n",
      "101   4.519      1.910000  \n",
      "97    4.475      1.740000  \n",
      "87    4.474      1.640000  \n",
      "80    4.461      2.170000  \n",
      "72    4.425      1.370000  \n",
      "88    4.401      1.740000  \n",
      "47    4.388      1.140000  \n",
      "29    4.346      1.680000  \n",
      "62    4.328      1.840000  \n",
      "76    4.319      1.740000  \n",
      "100   4.307      1.676579  \n"
     ]
    }
   ],
   "source": [
    "#TODO: filter using the boolean expression\n",
    "ft_radius = cookies[cookies[\"radius\"]>4.3]\n",
    "print(ft_radius)"
   ]
  },
  {
   "attachments": {},
   "cell_type": "markdown",
   "metadata": {},
   "source": [
    "We may even want to use `groupby()` and filter idea together! For example, we can filter the data to only show the cookies that have a radius greater than 4.3 cm, and group the data by the `cookie` column."
   ]
  },
  {
   "cell_type": "code",
   "execution_count": 330,
   "metadata": {},
   "outputs": [],
   "source": [
    "#TODO: filter the data using the boolean expression\n",
    "# then group by cookie column\n",
    "ft_radius_cookie = ft_radius.groupby(\"cookie\")\n"
   ]
  },
  {
   "attachments": {},
   "cell_type": "markdown",
   "metadata": {},
   "source": [
    "We may also want to aggregate the data. For example, we can aggregate the data by looking at the ratio of calories to radius. We can do this by using indexing and the `apply()` function."
   ]
  },
  {
   "cell_type": "code",
   "execution_count": 331,
   "metadata": {},
   "outputs": [
    {
     "name": "stdout",
     "output_type": "stream",
     "text": [
      "<class 'pandas.core.frame.DataFrame'>\n",
      "Int64Index: 118 entries, 110 to 78\n",
      "Data columns (total 6 columns):\n",
      " #   Column               Non-Null Count  Dtype  \n",
      "---  ------               --------------  -----  \n",
      " 0   cookie               118 non-null    object \n",
      " 1   ingredients          118 non-null    object \n",
      " 2   calories             118 non-null    int64  \n",
      " 3   radius               118 non-null    float64\n",
      " 4   cost_to_make         118 non-null    float64\n",
      " 5   calories_per_radius  118 non-null    float64\n",
      "dtypes: float64(3), int64(1), object(2)\n",
      "memory usage: 6.5+ KB\n"
     ]
    }
   ],
   "source": [
    "#TODO: add a column to the dataframe that is the\n",
    "# calories per radius\n",
    "cookies[\"calories_per_radius\"] = cookies[\"calories\"]/cookies[\"radius\"]\n",
    "cookies.info()"
   ]
  },
  {
   "attachments": {},
   "cell_type": "markdown",
   "metadata": {},
   "source": [
    "Or we can just get rid of this column if we find it useless. We can do this by using the `drop()` function or indexing."
   ]
  },
  {
   "cell_type": "code",
   "execution_count": 332,
   "metadata": {},
   "outputs": [
    {
     "name": "stdout",
     "output_type": "stream",
     "text": [
      "<class 'pandas.core.frame.DataFrame'>\n",
      "Int64Index: 118 entries, 110 to 78\n",
      "Data columns (total 5 columns):\n",
      " #   Column        Non-Null Count  Dtype  \n",
      "---  ------        --------------  -----  \n",
      " 0   cookie        118 non-null    object \n",
      " 1   ingredients   118 non-null    object \n",
      " 2   calories      118 non-null    int64  \n",
      " 3   radius        118 non-null    float64\n",
      " 4   cost_to_make  118 non-null    float64\n",
      "dtypes: float64(2), int64(1), object(2)\n",
      "memory usage: 5.5+ KB\n"
     ]
    }
   ],
   "source": [
    "#TODO: drop the created column\n",
    "cookies = cookies.drop(columns=['calories_per_radius'])\n",
    "cookies.info()"
   ]
  },
  {
   "attachments": {},
   "cell_type": "markdown",
   "metadata": {},
   "source": [
    "### Visualizing the data"
   ]
  },
  {
   "attachments": {},
   "cell_type": "markdown",
   "metadata": {},
   "source": [
    "We can also visualize the data. For example, we can visualize the data by plotting the radius of the cookies against the cost to make the cookies. We can do this by using the `plot()` function."
   ]
  },
  {
   "cell_type": "code",
   "execution_count": 334,
   "metadata": {},
   "outputs": [
    {
     "data": {
      "text/plain": [
       "<AxesSubplot: xlabel='radius'>"
      ]
     },
     "execution_count": 334,
     "metadata": {},
     "output_type": "execute_result"
    },
    {
     "data": {
      "image/png": "[encoded data removed]",
      "text/plain": [
       "<Figure size 640x480 with 1 Axes>"
      ]
     },
     "metadata": {},
     "output_type": "display_data"
    }
   ],
   "source": [
    "#TODO: plot the radius (x) versus cost to make (y)\n",
    "cookies.plot(x = 'radius', y = 'cost_to_make')\n"
   ]
  },
  {
   "attachments": {},
   "cell_type": "markdown",
   "metadata": {},
   "source": [
    "We may even want to get more specific and visualize the shape of a distribution of the `laddoo lemon`'s radius by making a boxplot. We can also do this by using the `plot()` function."
   ]
  },
  {
   "cell_type": "code",
   "execution_count": 335,
   "metadata": {},
   "outputs": [
    {
     "data": {
      "image/png": "[encoded data removed]",
      "text/plain": [
       "<Figure size 640x480 with 1 Axes>"
      ]
     },
     "metadata": {},
     "output_type": "display_data"
    }
   ],
   "source": [
    "#TODO: add the described boxplot\n",
    "# remember that you changed the name from laddoo lemon to laddoo\n",
    "laddoo_cookies = cookies[cookies[\"cookie\"]==\"laddoo\"]\n",
    "ax = laddoo_cookies.plot.box(column=\"radius\",vert=True,title=\"Boxplot of radius for laddoo\")\n"
   ]
  },
  {
   "attachments": {},
   "cell_type": "markdown",
   "metadata": {},
   "source": [
    "Alternatively, we can create a histogram to visualize the distribution of the `laddoo lemon`'s radius. We can also do this by using the `plot()` function."
   ]
  },
  {
   "cell_type": "code",
   "execution_count": 343,
   "metadata": {},
   "outputs": [
    {
     "data": {
      "image/png": "[encoded data removed]",
      "text/plain": [
       "<Figure size 640x480 with 1 Axes>"
      ]
     },
     "metadata": {},
     "output_type": "display_data"
    }
   ],
   "source": [
    "#TODO: add the described histogram\n",
    "ax=laddoo_cookies['radius'].plot.hist(title='Histogram of Radius for Laddoo',bins=30)\n"
   ]
  },
  {
   "attachments": {},
   "cell_type": "markdown",
   "metadata": {},
   "source": [
    "Things can get more complicated too. Maybe we want to analyze the behaviors of `bad berry bunny` and `laddoo lemon`'s radius using a boxplot. But this time, let's try it using the alternative `boxplot()` function. For practice, try doing it with `plot()` too!"
   ]
  },
  {
   "cell_type": "code",
   "execution_count": 344,
   "metadata": {},
   "outputs": [
    {
     "data": {
      "image/png": "[encoded data removed]",
      "text/plain": [
       "<Figure size 640x480 with 1 Axes>"
      ]
     },
     "metadata": {},
     "output_type": "display_data"
    },
    {
     "data": {
      "image/png": "[encoded data removed]",
      "text/plain": [
       "<Figure size 640x480 with 1 Axes>"
      ]
     },
     "metadata": {},
     "output_type": "display_data"
    }
   ],
   "source": [
    "#TODO: analyze the two cookie's radius in a boxplot\n",
    "bbb_laddoo = cookies[cookies['cookie'].isin(['bbb', 'laddoo'])]\n",
    "ax = bbb_laddoo.boxplot(column=\"radius\",by=\"cookie\") \n",
    "ax2 = bbb_laddoo.plot.box(column=\"radius\",by=\"cookie\",vert=True,title=\"bbb and laddoo radius using plot\")\n"
   ]
  },
  {
   "attachments": {},
   "cell_type": "markdown",
   "metadata": {},
   "source": [
    "### Practice Problems\n",
    "Now that you have learned some of Pandas' capabilities, let's try some practice problems! **This is the part that will be checked when you submit it!**"
   ]
  },
  {
   "attachments": {},
   "cell_type": "markdown",
   "metadata": {},
   "source": [
    "#### Problem 1\n",
    "How many cookies were made? (Hint: use the `shape` attribute)"
   ]
  },
  {
   "cell_type": "code",
   "execution_count": 338,
   "metadata": {},
   "outputs": [
    {
     "name": "stdout",
     "output_type": "stream",
     "text": [
      "Number of cookies made:  118\n"
     ]
    }
   ],
   "source": [
    "#Add your code here\n",
    "num = cookies.shape[0]\n",
    "print(\"Number of cookies made: \",num)"
   ]
  },
  {
   "attachments": {},
   "cell_type": "markdown",
   "metadata": {},
   "source": [
    "#### Problem 2\n",
    "Add a column to the DataFrame that has the value `True` if the cookie has a radius greater than 4 cm, and `False` otherwise. (Hint: use the `apply()` function)"
   ]
  },
  {
   "cell_type": "code",
   "execution_count": 345,
   "metadata": {},
   "outputs": [
    {
     "name": "stdout",
     "output_type": "stream",
     "text": [
      "<class 'pandas.core.frame.DataFrame'>\n",
      "Int64Index: 118 entries, 110 to 78\n",
      "Data columns (total 6 columns):\n",
      " #   Column        Non-Null Count  Dtype  \n",
      "---  ------        --------------  -----  \n",
      " 0   cookie        118 non-null    object \n",
      " 1   ingredients   118 non-null    object \n",
      " 2   calories      118 non-null    int64  \n",
      " 3   radius        118 non-null    float64\n",
      " 4   cost_to_make  118 non-null    float64\n",
      " 5   radius_gt_4   118 non-null    bool   \n",
      "dtypes: bool(1), float64(2), int64(1), object(2)\n",
      "memory usage: 5.6+ KB\n",
      "None\n"
     ]
    }
   ],
   "source": [
    "#Add your code here\n",
    "cookies['radius_gt_4'] = cookies[\"radius\"].apply(lambda x: x > 4)\n",
    "print(cookies.info())"
   ]
  },
  {
   "attachments": {},
   "cell_type": "markdown",
   "metadata": {},
   "source": [
    "#### Problem 3\n",
    "\n",
    "Group the data by the `cookie` column, and find the average radius of each cookie. (Hint: use the `groupby()` and `transform()` function). Add this column to the DataFrame."
   ]
  },
  {
   "cell_type": "code",
   "execution_count": 346,
   "metadata": {},
   "outputs": [
    {
     "name": "stdout",
     "output_type": "stream",
     "text": [
      "       cookie                                        ingredients  calories  \\\n",
      "110       red  [\"flour\",\"cocoa powder\",\"butter\",\"red food col...       198   \n",
      "30        red  [\"flour\",\"cocoa powder\",\"butter\",\"red food col...       204   \n",
      "109  nevadito  [\"flour\",\"chocolate chips\",\"milk\",\"vanilla ext...       211   \n",
      "60     orange   [\"flour\",\"orange juice\",\"sugar\",\"vegetable oil\"]       186   \n",
      "49     laddoo             [\"flour\",\"lemon juice\",\"sugar\",\"ghee\"]       195   \n",
      "..        ...                                                ...       ...   \n",
      "0      laddoo             [\"flour\",\"lemon juice\",\"sugar\",\"ghee\"]       170   \n",
      "70     laddoo             [\"flour\",\"lemon juice\",\"sugar\",\"ghee\"]       164   \n",
      "22        bbb           [\"flour\",\"blueberries\",\"sugar\",\"butter\"]       184   \n",
      "32      minty          [\"flour\",\"mint extract\",\"sugar\",\"butter\"]       178   \n",
      "78     orange   [\"flour\",\"orange juice\",\"sugar\",\"vegetable oil\"]       166   \n",
      "\n",
      "     radius  cost_to_make  radius_gt_4  avg_radius  \n",
      "110   4.930      1.550000         True    4.077444  \n",
      "30    4.667      1.900000         True    4.077444  \n",
      "109   4.619      1.676579         True    4.013588  \n",
      "60    4.573      1.560000         True    3.519353  \n",
      "49    4.562      1.120000         True    3.782118  \n",
      "..      ...           ...          ...         ...  \n",
      "0     3.102      1.170000        False    3.782118  \n",
      "70    3.050      1.676579        False    3.782118  \n",
      "22    2.982      2.510000        False    3.911000  \n",
      "32    2.952      1.340000        False    3.727471  \n",
      "78    1.695      1.320000        False    3.519353  \n",
      "\n",
      "[118 rows x 7 columns]\n"
     ]
    }
   ],
   "source": [
    "#Add your code here\n",
    "cookies[\"avg_radius\"] = cookies.groupby(\"cookie\")[\"radius\"].transform('mean')\n",
    "print(cookies)"
   ]
  },
  {
   "attachments": {},
   "cell_type": "markdown",
   "metadata": {},
   "source": [
    "#### Problem 4\n",
    "Create a new DataFrame that only contains the cookies that have the ingredient `\"chocolate chips\"`. (Hint: use the `str.contains()` function)"
   ]
  },
  {
   "cell_type": "code",
   "execution_count": 347,
   "metadata": {},
   "outputs": [
    {
     "name": "stdout",
     "output_type": "stream",
     "text": [
      "        cookie                                        ingredients\n",
      "109   nevadito  [\"flour\",\"chocolate chips\",\"milk\",\"vanilla ext...\n",
      "87   chocolate       [\"flour\",\"chocolate chips\",\"sugar\",\"butter\"]\n",
      "80   chocolate       [\"flour\",\"chocolate chips\",\"sugar\",\"butter\"]\n",
      "29    nevadito  [\"flour\",\"chocolate chips\",\"milk\",\"vanilla ext...\n",
      "62   chocolate       [\"flour\",\"chocolate chips\",\"sugar\",\"butter\"]\n",
      "116   nevadito  [\"flour\",\"chocolate chips\",\"milk\",\"vanilla ext...\n",
      "55   chocolate       [\"flour\",\"chocolate chips\",\"sugar\",\"butter\"]\n",
      "48   chocolate       [\"flour\",\"chocolate chips\",\"sugar\",\"butter\"]\n",
      "94   chocolate       [\"flour\",\"chocolate chips\",\"sugar\",\"butter\"]\n",
      "64    nevadito  [\"flour\",\"chocolate chips\",\"milk\",\"vanilla ext...\n",
      "107  chocolate       [\"flour\",\"chocolate chips\",\"sugar\",\"butter\"]\n",
      "36    nevadito  [\"flour\",\"chocolate chips\",\"milk\",\"vanilla ext...\n",
      "71    nevadito  [\"flour\",\"chocolate chips\",\"milk\",\"vanilla ext...\n",
      "121  chocolate       [\"flour\",\"chocolate chips\",\"sugar\",\"butter\"]\n",
      "2     nevadito  [\"flour\",\"chocolate chips\",\"milk\",\"vanilla ext...\n",
      "19    nevadito  [\"flour\",\"chocolate chips\",\"milk\",\"vanilla ext...\n",
      "82    nevadito  [\"flour\",\"chocolate chips\",\"milk\",\"vanilla ext...\n",
      "34   chocolate       [\"flour\",\"chocolate chips\",\"sugar\",\"butter\"]\n",
      "125   nevadito  [\"flour\",\"chocolate chips\",\"milk\",\"vanilla ext...\n",
      "114  chocolate       [\"flour\",\"chocolate chips\",\"sugar\",\"butter\"]\n",
      "50    nevadito  [\"flour\",\"chocolate chips\",\"milk\",\"vanilla ext...\n",
      "10    nevadito  [\"flour\",\"chocolate chips\",\"milk\",\"vanilla ext...\n",
      "69   chocolate       [\"flour\",\"chocolate chips\",\"sugar\",\"butter\"]\n",
      "89    nevadito  [\"flour\",\"chocolate chips\",\"milk\",\"vanilla ext...\n",
      "102   nevadito  [\"flour\",\"chocolate chips\",\"milk\",\"vanilla ext...\n",
      "96    nevadito  [\"flour\",\"chocolate chips\",\"milk\",\"vanilla ext...\n",
      "43    nevadito  [\"flour\",\"chocolate chips\",\"milk\",\"vanilla ext...\n",
      "7    chocolate       [\"flour\",\"chocolate chips\",\"sugar\",\"butter\"]\n",
      "41   chocolate       [\"flour\",\"chocolate chips\",\"sugar\",\"butter\"]\n",
      "57    nevadito  [\"flour\",\"chocolate chips\",\"milk\",\"vanilla ext...\n",
      "25   chocolate       [\"flour\",\"chocolate chips\",\"sugar\",\"butter\"]\n",
      "17   chocolate       [\"flour\",\"chocolate chips\",\"sugar\",\"butter\"]\n"
     ]
    }
   ],
   "source": [
    "#Add your code here\n",
    "chocolate_chip = cookies[cookies[\"ingredients\"].str.contains(\"chocolate chips\", case=False)]\n",
    "print(chocolate_chip[[\"cookie\",\"ingredients\"]])"
   ]
  },
  {
   "attachments": {},
   "cell_type": "markdown",
   "metadata": {},
   "source": [
    "#### Problem 5\n",
    "\n",
    "Create a boxplot of `cost_to_make` for all cookies except `chocolate` using the `boxplot()` function."
   ]
  },
  {
   "cell_type": "code",
   "execution_count": 357,
   "metadata": {},
   "outputs": [
    {
     "data": {
      "image/png": "[encoded data removed]",
      "text/plain": [
       "<Figure size 640x480 with 1 Axes>"
      ]
     },
     "metadata": {},
     "output_type": "display_data"
    }
   ],
   "source": [
    "#Add your code here\n",
    "no_choco = cookies[cookies['cookie']!=\"chocolate\"]\n",
    "# ax = no_choco.boxplot(column=\"cost_to_make\",by=\"cookie\") \n",
    "ax = no_choco.boxplot(column=\"cost_to_make\") "
   ]
  },
  {
   "attachments": {},
   "cell_type": "markdown",
   "metadata": {},
   "source": [
    "#### Problem 6\n",
    "\n",
    "Create a histogram of the `bad berry bunny`'s calories using the `plot()` function."
   ]
  },
  {
   "cell_type": "code",
   "execution_count": 350,
   "metadata": {},
   "outputs": [
    {
     "data": {
      "image/png": "[encoded data removed]",
      "text/plain": [
       "<Figure size 640x480 with 1 Axes>"
      ]
     },
     "metadata": {},
     "output_type": "display_data"
    }
   ],
   "source": [
    "#Add your code here\n",
    "bbb = cookies[cookies[\"cookie\"]==\"bbb\"]\n",
    "ax = bbb[\"calories\"].plot.hist(title=\"bad berry bunny's calories\", bins= 30)"
   ]
  },
  {
   "cell_type": "markdown",
   "metadata": {},
   "source": [
    "#### Problem 7\n",
    "\n",
    "Calculate the average calories per cookie type and display the result in a bar chart."
   ]
  },
  {
   "cell_type": "code",
   "execution_count": 351,
   "metadata": {},
   "outputs": [
    {
     "name": "stdout",
     "output_type": "stream",
     "text": [
      "        cookie     avg_cal\n",
      "110        red  199.777778\n",
      "109   nevadito  221.352941\n",
      "60      orange  167.470588\n",
      "49      laddoo  175.235294\n",
      "87   chocolate  218.200000\n",
      "47       minty  186.058824\n",
      "127        bbb  186.941176\n"
     ]
    },
    {
     "data": {
      "image/png": "[encoded data removed]",
      "text/plain": [
       "<Figure size 640x480 with 1 Axes>"
      ]
     },
     "metadata": {},
     "output_type": "display_data"
    }
   ],
   "source": [
    "#Add your code here\n",
    "cookie_cal = cookies.loc[:,:]\n",
    "\n",
    "cookie_cal[\"avg_cal\"] = cookies.groupby(\"cookie\")[\"calories\"].transform('mean')\n",
    "print(cookie_cal[[\"cookie\",\"avg_cal\"]].drop_duplicates())\n",
    "ax = cookie_cal[[\"cookie\",\"avg_cal\"]].drop_duplicates().plot.bar(x=\"cookie\")\n"
   ]
  },
  {
   "cell_type": "markdown",
   "metadata": {},
   "source": [
    "#### Problem 8\n",
    "\n",
    "Find the top 3 most expensive cookies in terms of cost_to_make"
   ]
  },
  {
   "cell_type": "code",
   "execution_count": 354,
   "metadata": {},
   "outputs": [
    {
     "name": "stdout",
     "output_type": "stream",
     "text": [
      "      cookie  cost_to_make\n",
      "42    laddoo          2.77\n",
      "50  nevadito          2.71\n",
      "13    orange          2.59\n"
     ]
    }
   ],
   "source": [
    "#Add your code here\n",
    "top_3_exp_cookies = cookies.sort_values(by='cost_to_make', ascending=False).head(3)\n",
    "print(top_3_exp_cookies[[\"cookie\",\"cost_to_make\"]])"
   ]
  }
 ],
 "metadata": {
  "kernelspec": {
   "display_name": "Python 3",
   "language": "python",
   "name": "python3"
  },
  "language_info": {
   "codemirror_mode": {
    "name": "ipython",
    "version": 3
   },
   "file_extension": ".py",
   "mimetype": "text/x-python",
   "name": "python",
   "nbconvert_exporter": "python",
   "pygments_lexer": "ipython3",
   "version": "3.11.1"
  },
  "orig_nbformat": 4,
  "vscode": {
   "interpreter": {
    "hash": "63639127d0784e8e4de1a76bcacd89583be09d9f82d600966cd9457d183cbbf7"
   }
  }
 },
 "nbformat": 4,
 "nbformat_minor": 2
}
