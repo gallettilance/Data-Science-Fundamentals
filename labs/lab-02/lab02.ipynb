{
 "cells": [
  {
   "attachments": {},
   "cell_type": "markdown",
   "metadata": {},
   "source": [
    "## Lab 02 - Pandas and Data Visualization\n",
    "This notebook will introduce you to the basics of Pandas and Data Visualization. You will learn how to load data into a Pandas DataFrame, how to perform basic data analysis, and how to visualize data. The first part of this notebook will be an interactive tutorial, and the second part will be practice exercises for you to do! **Note that the practice problems will be checked when submitted!**"
   ]
  },
  {
   "cell_type": "markdown",
   "metadata": {},
   "source": [
    "#### Pandas\n",
    "Pandas is a popular open-source Python library that provides data structures and data analysis tools for working with structured data. Pandas is a versatile library that simplifies data manipulation, analysis, and exploration in Python. Some of its uses:\n",
    "* Tabular Data Handling\n",
    "* Data Cleaning and Transformation\n",
    "* Data Exploration\n",
    "* Data Import/Export\n",
    "* Data Visualization\n",
    "\n",
    "#### Matplotlib\n",
    "Matplotlib is a widely used for creating static, animated, and interactive visualizations. Whether you are conducting data analysis, scientific research, or data communication, Matplotlib helps you present your findings effectively and intuitively."
   ]
  },
  {
   "attachments": {},
   "cell_type": "markdown",
   "metadata": {},
   "source": [
    "### Pre-requisites"
   ]
  },
  {
   "cell_type": "code",
   "execution_count": 86,
   "metadata": {},
   "outputs": [],
   "source": [
    "# In case you don't have pandas, uncomment\n",
    "# the following lines and run the cell\n",
    "# %pip install pandas\n",
    "# %pip install matplotlib"
   ]
  },
  {
   "attachments": {},
   "cell_type": "markdown",
   "metadata": {},
   "source": [
    "### Overview\n",
    "In this notebook, you will be learning how to use the Pandas library by working with the `cookies.csv` file. \n",
    "\n",
    "#### `cookies.csv` file :\n",
    "\n",
    "The `cookies.csv` file contains information about cookies that were made in Rico's Bisquito's factory. \n",
    "\n",
    "The columns are the following:\n",
    "\n",
    "`cookie`: the name of a cookie\n",
    "`ingredients`: a list of the cookie's ingredients\n",
    "`calories`: the number of calories the created cookie has\n",
    "`radius`: the radius of the created cookie, in cm\n",
    "`cost_to_make`: the cost it took to make the created cookie, in dollars"
   ]
  },
  {
   "attachments": {},
   "cell_type": "markdown",
   "metadata": {},
   "source": [
    "### Reading the CSV file\n",
    "\n",
    "First, we need to import the Pandas library. We will be using the `pd` alias for the Pandas library."
   ]
  },
  {
   "cell_type": "code",
   "execution_count": 87,
   "metadata": {},
   "outputs": [],
   "source": [
    "#TODO: import pandas and matplotlib in this cell\n",
    "import pandas as pd\n",
    "import matplotlib.pyplot as plt"
   ]
  },
  {
   "attachments": {},
   "cell_type": "markdown",
   "metadata": {},
   "source": [
    "We will now look at the `cookies.csv` file. We will use the `pd.read_csv()` function to read in the CSV file. We will store the data in a variable called `cookies`."
   ]
  },
  {
   "cell_type": "code",
   "execution_count": 88,
   "metadata": {},
   "outputs": [],
   "source": [
    "#TODO: read the cookies.csv file into a pandas dataframe\n",
    "cookies = pd.read_csv('cookies.csv')\n",
    "\n"
   ]
  },
  {
   "attachments": {},
   "cell_type": "markdown",
   "metadata": {},
   "source": [
    "#### Dataframe\n",
    "Dataframes are a data structure that Pandas uses to store data. Dataframes are similar to tables in a database. Dataframes have rows and columns. Each row represents a single data point, and each column represents a feature of the data point."
   ]
  },
  {
   "attachments": {},
   "cell_type": "markdown",
   "metadata": {},
   "source": [
    "We will then make sure we imported the data correctly by printing out the first 10 rows of the data, using the `head()` function."
   ]
  },
  {
   "cell_type": "code",
   "execution_count": 89,
   "metadata": {},
   "outputs": [
    {
     "name": "stdout",
     "output_type": "stream",
     "text": [
      "            cookie                                        ingredients  \\\n",
      "0     laddoo lemon             [\"flour\",\"lemon juice\",\"sugar\",\"ghee\"]   \n",
      "1  red velvet rauw  [\"flour\",\"cocoa powder\",\"butter\",\"red food col...   \n",
      "2         nevadito  [\"flour\",\"chocolate chips\",\"milk\",\"vanilla ext...   \n",
      "3  red velvet rauw  [\"flour\",\"cocoa powder\",\"butter\",\"red food col...   \n",
      "4  bad berry bunny           [\"flour\",\"blueberries\",\"sugar\",\"butter\"]   \n",
      "5     orange ozuna   [\"flour\",\"orange juice\",\"sugar\",\"vegetable oil\"]   \n",
      "6      minty miami          [\"flour\",\"mint extract\",\"sugar\",\"butter\"]   \n",
      "7        chocolate       [\"flour\",\"chocolate chips\",\"sugar\",\"butter\"]   \n",
      "8     laddoo lemon             [\"flour\",\"lemon juice\",\"sugar\",\"ghee\"]   \n",
      "\n",
      "   calories  radius  cost_to_make  \n",
      "0       170   3.102          0.67  \n",
      "1       198   3.780          1.07  \n",
      "2       224   4.069          1.04  \n",
      "3       198   3.780          1.07  \n",
      "4       191   4.148          1.39  \n",
      "5       162   3.241          1.15  \n",
      "6       204   3.964          0.84  \n",
      "7       243   3.684          1.17  \n",
      "8       178   3.989           NaN  \n"
     ]
    }
   ],
   "source": [
    "#TODO: print the head of the dataframe\n",
    "print(cookies.head(9))"
   ]
  },
  {
   "attachments": {},
   "cell_type": "markdown",
   "metadata": {},
   "source": [
    "### Checking data types\n",
    "You can check the data types of each column using the `dtypes` attribute of the DataFrame."
   ]
  },
  {
   "cell_type": "code",
   "execution_count": 90,
   "metadata": {},
   "outputs": [
    {
     "name": "stdout",
     "output_type": "stream",
     "text": [
      "cookie           object\n",
      "ingredients      object\n",
      "calories          int64\n",
      "radius          float64\n",
      "cost_to_make    float64\n",
      "dtype: object\n"
     ]
    }
   ],
   "source": [
    "#TODO: check the data types of the columns\n",
    "print(cookies.dtypes)"
   ]
  },
  {
   "cell_type": "markdown",
   "metadata": {},
   "source": [
    "Now, lets use use `info()` function to get more information about the Dataframe"
   ]
  },
  {
   "cell_type": "code",
   "execution_count": 91,
   "metadata": {},
   "outputs": [
    {
     "name": "stdout",
     "output_type": "stream",
     "text": [
      "<class 'pandas.core.frame.DataFrame'>\n",
      "RangeIndex: 129 entries, 0 to 128\n",
      "Data columns (total 5 columns):\n",
      " #   Column        Non-Null Count  Dtype  \n",
      "---  ------        --------------  -----  \n",
      " 0   cookie        129 non-null    object \n",
      " 1   ingredients   129 non-null    object \n",
      " 2   calories      129 non-null    int64  \n",
      " 3   radius        129 non-null    float64\n",
      " 4   cost_to_make  114 non-null    float64\n",
      "dtypes: float64(2), int64(1), object(2)\n",
      "memory usage: 5.2+ KB\n",
      "None\n"
     ]
    }
   ],
   "source": [
    "# TODO: use info() to get information about datatypes and null values\n",
    "print(cookies.info())"
   ]
  },
  {
   "attachments": {},
   "cell_type": "markdown",
   "metadata": {},
   "source": [
    "### Cleaning the data\n",
    "Now that we have the data, we need to clean it. For example, some `cost_to_make` fields of some created cookies are missing. To resolve this, we can do many things: we can replace the missing data with the mean of the column, or we can get rid of the row entirely if the `cost_to_make` field is not set. "
   ]
  },
  {
   "cell_type": "code",
   "execution_count": 92,
   "metadata": {},
   "outputs": [],
   "source": [
    "#TODO: clean the dataframe and \n",
    "# print the head again to make sure \n",
    "# the changes took effect\n",
    "mean_cost = cookies['cost_to_make'].mean()\n",
    "cookies['cost_to_make'].fillna(mean_cost, inplace=True)\n",
    "\n",
    "\n"
   ]
  },
  {
   "attachments": {},
   "cell_type": "markdown",
   "metadata": {},
   "source": [
    "To also make sure we removed null values, we can check the number of null values in each column using the `isnull()` function."
   ]
  },
  {
   "cell_type": "code",
   "execution_count": 93,
   "metadata": {},
   "outputs": [
    {
     "name": "stdout",
     "output_type": "stream",
     "text": [
      "cookie          0\n",
      "ingredients     0\n",
      "calories        0\n",
      "radius          0\n",
      "cost_to_make    0\n",
      "dtype: int64\n"
     ]
    }
   ],
   "source": [
    "#TODO: use the isnull method to make sure your data is clean\n",
    "print(cookies.isnull().sum())\n"
   ]
  },
  {
   "cell_type": "markdown",
   "metadata": {},
   "source": [
    "Next, lets check for duplicate rows using the `duplicated()` function. Then, remove those rows using `drop_duplicates()` function."
   ]
  },
  {
   "cell_type": "code",
   "execution_count": 94,
   "metadata": {},
   "outputs": [],
   "source": [
    "# TODO: check for duplicate rows\n",
    "# then delete those rows form df\n",
    "cookies = cookies.drop_duplicates()"
   ]
  },
  {
   "attachments": {},
   "cell_type": "markdown",
   "metadata": {},
   "source": [
    "### Parsing the data\n",
    "Now that we have the data, we could parse it to get the information we want. For example, we can check what types of cookies were made by using the `unique()` function on the `cookie` column."
   ]
  },
  {
   "cell_type": "code",
   "execution_count": 95,
   "metadata": {},
   "outputs": [
    {
     "name": "stdout",
     "output_type": "stream",
     "text": [
      "['laddoo lemon' 'red velvet rauw' 'nevadito' 'bad berry bunny'\n",
      " 'orange ozuna' 'minty miami' 'chocolate']\n"
     ]
    }
   ],
   "source": [
    "#TODO: see what cookies are in the dataset\n",
    "print(cookies['cookie'].unique())"
   ]
  },
  {
   "attachments": {},
   "cell_type": "markdown",
   "metadata": {},
   "source": [
    "We can also check the number of cookies made by using the `value_counts()` function on the `cookie` column."
   ]
  },
  {
   "cell_type": "code",
   "execution_count": 96,
   "metadata": {},
   "outputs": [
    {
     "name": "stdout",
     "output_type": "stream",
     "text": [
      "cookie\n",
      "red velvet rauw    18\n",
      "laddoo lemon       17\n",
      "nevadito           17\n",
      "bad berry bunny    17\n",
      "orange ozuna       17\n",
      "minty miami        17\n",
      "chocolate          15\n",
      "Name: count, dtype: int64\n"
     ]
    }
   ],
   "source": [
    "#TODO: use value_counts() to see how many \n",
    "# cookies of each type there are\n",
    "print(cookies['cookie'].value_counts())"
   ]
  },
  {
   "attachments": {},
   "cell_type": "markdown",
   "metadata": {},
   "source": [
    "Or maybe we don't like how long the names of the cookies are, so we can shorten them by using the `replace()` function on the `cookie` column.\n",
    "\n",
    "For example, let's try changing `\"bad berry bunny\"` to `\"bbb\"`."
   ]
  },
  {
   "cell_type": "code",
   "execution_count": 97,
   "metadata": {},
   "outputs": [],
   "source": [
    "#TODO: change bad berry bunny data elements to \"bbb\"\n",
    "cookies['cookie'].replace('bad berry bunny', 'bbb', inplace=True)"
   ]
  },
  {
   "attachments": {},
   "cell_type": "markdown",
   "metadata": {},
   "source": [
    "We may even like the original names better, but we may want to get rid of the spaces. For example, we can change `\"orange ozuna\"` to `\"orange_ozuna\"`. Here, we will use the `str.replace()` function."
   ]
  },
  {
   "cell_type": "code",
   "execution_count": 98,
   "metadata": {},
   "outputs": [],
   "source": [
    "#TODO: adjust orange ozuna as described\n",
    "for cookie in cookies['cookie']:\n",
    "    cookies['cookie'] = cookies['cookie'].str.replace(' ', '_')"
   ]
  },
  {
   "attachments": {},
   "cell_type": "markdown",
   "metadata": {},
   "source": [
    "We may even just want to keep the first word of the cookie name. For example, we can change `\"orange_ozuna\"` to `\"orange\"`."
   ]
  },
  {
   "cell_type": "code",
   "execution_count": 99,
   "metadata": {},
   "outputs": [
    {
     "name": "stdout",
     "output_type": "stream",
     "text": [
      "        cookie                                        ingredients  calories  \\\n",
      "0       laddoo             [\"flour\",\"lemon juice\",\"sugar\",\"ghee\"]       170   \n",
      "1          red  [\"flour\",\"cocoa powder\",\"butter\",\"red food col...       198   \n",
      "2     nevadito  [\"flour\",\"chocolate chips\",\"milk\",\"vanilla ext...       224   \n",
      "4          bbb           [\"flour\",\"blueberries\",\"sugar\",\"butter\"]       191   \n",
      "5       orange   [\"flour\",\"orange juice\",\"sugar\",\"vegetable oil\"]       162   \n",
      "..         ...                                                ...       ...   \n",
      "121  chocolate       [\"flour\",\"chocolate chips\",\"sugar\",\"butter\"]       227   \n",
      "122     laddoo             [\"flour\",\"lemon juice\",\"sugar\",\"ghee\"]       170   \n",
      "125   nevadito  [\"flour\",\"chocolate chips\",\"milk\",\"vanilla ext...       211   \n",
      "126        red  [\"flour\",\"cocoa powder\",\"butter\",\"red food col...       197   \n",
      "127        bbb           [\"flour\",\"blueberries\",\"sugar\",\"butter\"]       199   \n",
      "\n",
      "     radius  cost_to_make  \n",
      "0     3.102          0.67  \n",
      "1     3.780          1.07  \n",
      "2     4.069          1.04  \n",
      "4     4.148          1.39  \n",
      "5     3.241          1.15  \n",
      "..      ...           ...  \n",
      "121   4.085          1.42  \n",
      "122   3.916          2.00  \n",
      "125   3.915          1.61  \n",
      "126   3.906          1.33  \n",
      "127   4.281          1.36  \n",
      "\n",
      "[118 rows x 5 columns]\n"
     ]
    }
   ],
   "source": [
    "#TODO: adjust all cookies so only the first word\n",
    "# is used as the cookie name\n",
    "\n",
    "cookies['cookie'] = cookies['cookie'].str.split('_').str[0]\n",
    "print(cookies)"
   ]
  },
  {
   "attachments": {},
   "cell_type": "markdown",
   "metadata": {},
   "source": [
    "Another thing that may come to mind is that maybe getting flour could cost more money due to inflation, so we have to adjust our `cost_to_make` values. We can do this by using the `apply()` function on the `cost_to_make` column."
   ]
  },
  {
   "cell_type": "code",
   "execution_count": 100,
   "metadata": {},
   "outputs": [],
   "source": [
    "#Don't edit this method\n",
    "def adjust_cost(cost):\n",
    "    return cost + 0.5\n",
    "\n",
    "#TODO: use apply() to adjust the cost_to_make column.\n",
    "cookies['cost_to_make'] = cookies['cost_to_make'].apply(adjust_cost)"
   ]
  },
  {
   "attachments": {},
   "cell_type": "markdown",
   "metadata": {},
   "source": [
    "And we can do a lot more things! We will see these concepts be used in the next homework assignment, along with a couple new ones to show you how powerful Pandas is."
   ]
  },
  {
   "attachments": {},
   "cell_type": "markdown",
   "metadata": {},
   "source": [
    "### More complicated operations: Grouping, Filtering, Aggregating"
   ]
  },
  {
   "cell_type": "markdown",
   "metadata": {},
   "source": [
    "Before trying out these complicated operations, lets first sort the sort the df by the radius of the cookies using the `sort_values()` function."
   ]
  },
  {
   "cell_type": "code",
   "execution_count": 101,
   "metadata": {},
   "outputs": [],
   "source": [
    "# TODO: sort the df using sort_values(by='Column', ascending=False)\n",
    "cookies = cookies.sort_values(by='radius', ascending=False)"
   ]
  },
  {
   "attachments": {},
   "cell_type": "markdown",
   "metadata": {},
   "source": [
    "We may also want to group data by certain attributes. This can be done by using `groupby()`. This method takes in a column name, and groups the data by the values in that column. For example, we can group the data by the `cookie` column."
   ]
  },
  {
   "cell_type": "code",
   "execution_count": 102,
   "metadata": {},
   "outputs": [
    {
     "name": "stdout",
     "output_type": "stream",
     "text": [
      "       cookie                                        ingredients  calories  \\\n",
      "110       red  [\"flour\",\"cocoa powder\",\"butter\",\"red food col...       198   \n",
      "30        red  [\"flour\",\"cocoa powder\",\"butter\",\"red food col...       204   \n",
      "109  nevadito  [\"flour\",\"chocolate chips\",\"milk\",\"vanilla ext...       211   \n",
      "60     orange   [\"flour\",\"orange juice\",\"sugar\",\"vegetable oil\"]       186   \n",
      "49     laddoo             [\"flour\",\"lemon juice\",\"sugar\",\"ghee\"]       195   \n",
      "..        ...                                                ...       ...   \n",
      "0      laddoo             [\"flour\",\"lemon juice\",\"sugar\",\"ghee\"]       170   \n",
      "70     laddoo             [\"flour\",\"lemon juice\",\"sugar\",\"ghee\"]       164   \n",
      "22        bbb           [\"flour\",\"blueberries\",\"sugar\",\"butter\"]       184   \n",
      "32      minty          [\"flour\",\"mint extract\",\"sugar\",\"butter\"]       178   \n",
      "78     orange   [\"flour\",\"orange juice\",\"sugar\",\"vegetable oil\"]       166   \n",
      "\n",
      "     radius  cost_to_make  \n",
      "110   4.930      1.550000  \n",
      "30    4.667      1.900000  \n",
      "109   4.619      1.676579  \n",
      "60    4.573      1.560000  \n",
      "49    4.562      1.120000  \n",
      "..      ...           ...  \n",
      "0     3.102      1.170000  \n",
      "70    3.050      1.676579  \n",
      "22    2.982      2.510000  \n",
      "32    2.952      1.340000  \n",
      "78    1.695      1.320000  \n",
      "\n",
      "[118 rows x 5 columns]\n",
      "       cookie                                        ingredients  calories  \\\n",
      "110       red  [\"flour\",\"cocoa powder\",\"butter\",\"red food col...       198   \n",
      "30        red  [\"flour\",\"cocoa powder\",\"butter\",\"red food col...       204   \n",
      "109  nevadito  [\"flour\",\"chocolate chips\",\"milk\",\"vanilla ext...       211   \n",
      "60     orange   [\"flour\",\"orange juice\",\"sugar\",\"vegetable oil\"]       186   \n",
      "49     laddoo             [\"flour\",\"lemon juice\",\"sugar\",\"ghee\"]       195   \n",
      "..        ...                                                ...       ...   \n",
      "0      laddoo             [\"flour\",\"lemon juice\",\"sugar\",\"ghee\"]       170   \n",
      "70     laddoo             [\"flour\",\"lemon juice\",\"sugar\",\"ghee\"]       164   \n",
      "22        bbb           [\"flour\",\"blueberries\",\"sugar\",\"butter\"]       184   \n",
      "32      minty          [\"flour\",\"mint extract\",\"sugar\",\"butter\"]       178   \n",
      "78     orange   [\"flour\",\"orange juice\",\"sugar\",\"vegetable oil\"]       166   \n",
      "\n",
      "     radius  cost_to_make  \n",
      "110   4.930      1.550000  \n",
      "30    4.667      1.900000  \n",
      "109   4.619      1.676579  \n",
      "60    4.573      1.560000  \n",
      "49    4.562      1.120000  \n",
      "..      ...           ...  \n",
      "0     3.102      1.170000  \n",
      "70    3.050      1.676579  \n",
      "22    2.982      2.510000  \n",
      "32    2.952      1.340000  \n",
      "78    1.695      1.320000  \n",
      "\n",
      "[118 rows x 5 columns]\n"
     ]
    }
   ],
   "source": [
    "#TODO: group by cookie type\n",
    "print(cookies)\n",
    "cookies.groupby('cookie')\n",
    "print(cookies)"
   ]
  },
  {
   "attachments": {},
   "cell_type": "markdown",
   "metadata": {},
   "source": [
    "We can also group by multiple columns. For example, we can group the data by the `cookie` and `ingredients` columns."
   ]
  },
  {
   "cell_type": "code",
   "execution_count": 103,
   "metadata": {},
   "outputs": [
    {
     "data": {
      "text/plain": [
       "<pandas.core.groupby.generic.DataFrameGroupBy object at 0x132a25d90>"
      ]
     },
     "execution_count": 103,
     "metadata": {},
     "output_type": "execute_result"
    }
   ],
   "source": [
    "#TODO: group by cookie type and ingredients\n",
    "cookies.groupby(['cookie', 'ingredients'])"
   ]
  },
  {
   "attachments": {},
   "cell_type": "markdown",
   "metadata": {},
   "source": [
    "We may also want to filter the data. For example, we can filter the data to only show the cookies that have a radius greater than 4.3 cm. We can do this by indexing the DataFrame with a boolean expression."
   ]
  },
  {
   "cell_type": "code",
   "execution_count": 104,
   "metadata": {},
   "outputs": [
    {
     "name": "stdout",
     "output_type": "stream",
     "text": [
      "110    4.930\n",
      "30     4.667\n",
      "109    4.619\n",
      "60     4.573\n",
      "49     4.562\n",
      "       ...  \n",
      "0      3.102\n",
      "70     3.050\n",
      "22     2.982\n",
      "32     2.952\n",
      "78     1.695\n",
      "Name: radius, Length: 118, dtype: float64\n"
     ]
    }
   ],
   "source": [
    "#TODO: filter using the boolean expression \n",
    "cookies[cookies['radius'] > 4.3]\n",
    "print(cookies['radius'])"
   ]
  },
  {
   "attachments": {},
   "cell_type": "markdown",
   "metadata": {},
   "source": [
    "We may even want to use `groupby()` and filter idea together! For example, we can filter the data to only show the cookies that have a radius greater than 4.3 cm, and group the data by the `cookie` column."
   ]
  },
  {
   "cell_type": "code",
   "execution_count": 105,
   "metadata": {},
   "outputs": [
    {
     "name": "stdout",
     "output_type": "stream",
     "text": [
      "110    4.930\n",
      "30     4.667\n",
      "109    4.619\n",
      "60     4.573\n",
      "49     4.562\n",
      "       ...  \n",
      "0      3.102\n",
      "70     3.050\n",
      "22     2.982\n",
      "32     2.952\n",
      "78     1.695\n",
      "Name: radius, Length: 118, dtype: float64\n"
     ]
    }
   ],
   "source": [
    "#TODO: filter the data using the boolean expression\n",
    "# then group by cookie column\n",
    "cookies[cookies['radius'] > 4.3].groupby('cookie')\n",
    "print(cookies['radius'])"
   ]
  },
  {
   "attachments": {},
   "cell_type": "markdown",
   "metadata": {},
   "source": [
    "We may also want to aggregate the data. For example, we can aggregate the data by looking at the ratio of calories to radius. We can do this by using indexing and the `apply()` function."
   ]
  },
  {
   "cell_type": "code",
   "execution_count": 106,
   "metadata": {},
   "outputs": [],
   "source": [
    "#TODO: add a column to the dataframe that is the\n",
    "# calories per radius\n",
    "cookies['calories_per_radius'] = cookies['calories'] / cookies['radius']"
   ]
  },
  {
   "attachments": {},
   "cell_type": "markdown",
   "metadata": {},
   "source": [
    "Or we can just get rid of this column if we find it useless. We can do this by using the `drop()` function or indexing."
   ]
  },
  {
   "cell_type": "code",
   "execution_count": 107,
   "metadata": {},
   "outputs": [
    {
     "data": {
      "text/html": [
       "<div>\n",
       "<style scoped>\n",
       "    .dataframe tbody tr th:only-of-type {\n",
       "        vertical-align: middle;\n",
       "    }\n",
       "\n",
       "    .dataframe tbody tr th {\n",
       "        vertical-align: top;\n",
       "    }\n",
       "\n",
       "    .dataframe thead th {\n",
       "        text-align: right;\n",
       "    }\n",
       "</style>\n",
       "<table border=\"1\" class=\"dataframe\">\n",
       "  <thead>\n",
       "    <tr style=\"text-align: right;\">\n",
       "      <th></th>\n",
       "      <th>cookie</th>\n",
       "      <th>ingredients</th>\n",
       "      <th>calories</th>\n",
       "      <th>radius</th>\n",
       "      <th>cost_to_make</th>\n",
       "    </tr>\n",
       "  </thead>\n",
       "  <tbody>\n",
       "    <tr>\n",
       "      <th>110</th>\n",
       "      <td>red</td>\n",
       "      <td>[\"flour\",\"cocoa powder\",\"butter\",\"red food col...</td>\n",
       "      <td>198</td>\n",
       "      <td>4.930</td>\n",
       "      <td>1.550000</td>\n",
       "    </tr>\n",
       "    <tr>\n",
       "      <th>30</th>\n",
       "      <td>red</td>\n",
       "      <td>[\"flour\",\"cocoa powder\",\"butter\",\"red food col...</td>\n",
       "      <td>204</td>\n",
       "      <td>4.667</td>\n",
       "      <td>1.900000</td>\n",
       "    </tr>\n",
       "    <tr>\n",
       "      <th>109</th>\n",
       "      <td>nevadito</td>\n",
       "      <td>[\"flour\",\"chocolate chips\",\"milk\",\"vanilla ext...</td>\n",
       "      <td>211</td>\n",
       "      <td>4.619</td>\n",
       "      <td>1.676579</td>\n",
       "    </tr>\n",
       "    <tr>\n",
       "      <th>60</th>\n",
       "      <td>orange</td>\n",
       "      <td>[\"flour\",\"orange juice\",\"sugar\",\"vegetable oil\"]</td>\n",
       "      <td>186</td>\n",
       "      <td>4.573</td>\n",
       "      <td>1.560000</td>\n",
       "    </tr>\n",
       "    <tr>\n",
       "      <th>49</th>\n",
       "      <td>laddoo</td>\n",
       "      <td>[\"flour\",\"lemon juice\",\"sugar\",\"ghee\"]</td>\n",
       "      <td>195</td>\n",
       "      <td>4.562</td>\n",
       "      <td>1.120000</td>\n",
       "    </tr>\n",
       "    <tr>\n",
       "      <th>...</th>\n",
       "      <td>...</td>\n",
       "      <td>...</td>\n",
       "      <td>...</td>\n",
       "      <td>...</td>\n",
       "      <td>...</td>\n",
       "    </tr>\n",
       "    <tr>\n",
       "      <th>0</th>\n",
       "      <td>laddoo</td>\n",
       "      <td>[\"flour\",\"lemon juice\",\"sugar\",\"ghee\"]</td>\n",
       "      <td>170</td>\n",
       "      <td>3.102</td>\n",
       "      <td>1.170000</td>\n",
       "    </tr>\n",
       "    <tr>\n",
       "      <th>70</th>\n",
       "      <td>laddoo</td>\n",
       "      <td>[\"flour\",\"lemon juice\",\"sugar\",\"ghee\"]</td>\n",
       "      <td>164</td>\n",
       "      <td>3.050</td>\n",
       "      <td>1.676579</td>\n",
       "    </tr>\n",
       "    <tr>\n",
       "      <th>22</th>\n",
       "      <td>bbb</td>\n",
       "      <td>[\"flour\",\"blueberries\",\"sugar\",\"butter\"]</td>\n",
       "      <td>184</td>\n",
       "      <td>2.982</td>\n",
       "      <td>2.510000</td>\n",
       "    </tr>\n",
       "    <tr>\n",
       "      <th>32</th>\n",
       "      <td>minty</td>\n",
       "      <td>[\"flour\",\"mint extract\",\"sugar\",\"butter\"]</td>\n",
       "      <td>178</td>\n",
       "      <td>2.952</td>\n",
       "      <td>1.340000</td>\n",
       "    </tr>\n",
       "    <tr>\n",
       "      <th>78</th>\n",
       "      <td>orange</td>\n",
       "      <td>[\"flour\",\"orange juice\",\"sugar\",\"vegetable oil\"]</td>\n",
       "      <td>166</td>\n",
       "      <td>1.695</td>\n",
       "      <td>1.320000</td>\n",
       "    </tr>\n",
       "  </tbody>\n",
       "</table>\n",
       "<p>118 rows × 5 columns</p>\n",
       "</div>"
      ],
      "text/plain": [
       "       cookie                                        ingredients  calories  \\\n",
       "110       red  [\"flour\",\"cocoa powder\",\"butter\",\"red food col...       198   \n",
       "30        red  [\"flour\",\"cocoa powder\",\"butter\",\"red food col...       204   \n",
       "109  nevadito  [\"flour\",\"chocolate chips\",\"milk\",\"vanilla ext...       211   \n",
       "60     orange   [\"flour\",\"orange juice\",\"sugar\",\"vegetable oil\"]       186   \n",
       "49     laddoo             [\"flour\",\"lemon juice\",\"sugar\",\"ghee\"]       195   \n",
       "..        ...                                                ...       ...   \n",
       "0      laddoo             [\"flour\",\"lemon juice\",\"sugar\",\"ghee\"]       170   \n",
       "70     laddoo             [\"flour\",\"lemon juice\",\"sugar\",\"ghee\"]       164   \n",
       "22        bbb           [\"flour\",\"blueberries\",\"sugar\",\"butter\"]       184   \n",
       "32      minty          [\"flour\",\"mint extract\",\"sugar\",\"butter\"]       178   \n",
       "78     orange   [\"flour\",\"orange juice\",\"sugar\",\"vegetable oil\"]       166   \n",
       "\n",
       "     radius  cost_to_make  \n",
       "110   4.930      1.550000  \n",
       "30    4.667      1.900000  \n",
       "109   4.619      1.676579  \n",
       "60    4.573      1.560000  \n",
       "49    4.562      1.120000  \n",
       "..      ...           ...  \n",
       "0     3.102      1.170000  \n",
       "70    3.050      1.676579  \n",
       "22    2.982      2.510000  \n",
       "32    2.952      1.340000  \n",
       "78    1.695      1.320000  \n",
       "\n",
       "[118 rows x 5 columns]"
      ]
     },
     "execution_count": 107,
     "metadata": {},
     "output_type": "execute_result"
    }
   ],
   "source": [
    "#TODO: drop the created column\n",
    "cookies.drop(columns=['calories_per_radius'])"
   ]
  },
  {
   "attachments": {},
   "cell_type": "markdown",
   "metadata": {},
   "source": [
    "### Visualizing the data"
   ]
  },
  {
   "attachments": {},
   "cell_type": "markdown",
   "metadata": {},
   "source": [
    "We can also visualize the data. For example, we can visualize the data by plotting the radius of the cookies against the cost to make the cookies. We can do this by using the `plot()` function."
   ]
  },
  {
   "cell_type": "code",
   "execution_count": 108,
   "metadata": {},
   "outputs": [
    {
     "data": {
      "text/plain": [
       "<Axes: xlabel='radius', ylabel='cost_to_make'>"
      ]
     },
     "execution_count": 108,
     "metadata": {},
     "output_type": "execute_result"
    },
    {
     "data": {
      "image/png": "[encoded data removed]",
      "text/plain": [
       "<Figure size 640x480 with 1 Axes>"
      ]
     },
     "metadata": {},
     "output_type": "display_data"
    }
   ],
   "source": [
    "#TODO: plot the radius (x) versus cost to make (y)\n",
    "cookies.plot(x='radius', y='cost_to_make', kind='scatter')"
   ]
  },
  {
   "attachments": {},
   "cell_type": "markdown",
   "metadata": {},
   "source": [
    "We may even want to get more specific and visualize the shape of a distribution of the `laddoo lemon`'s radius by making a boxplot. We can also do this by using the `plot()` function."
   ]
  },
  {
   "cell_type": "code",
   "execution_count": 109,
   "metadata": {},
   "outputs": [
    {
     "data": {
      "text/plain": [
       "<Axes: title={'center': 'cost_to_make'}, xlabel='cookie'>"
      ]
     },
     "execution_count": 109,
     "metadata": {},
     "output_type": "execute_result"
    },
    {
     "data": {
      "image/png": "[encoded data removed]",
      "text/plain": [
       "<Figure size 640x480 with 1 Axes>"
      ]
     },
     "metadata": {},
     "output_type": "display_data"
    }
   ],
   "source": [
    "#TODO: add the described boxplot\n",
    "# remember that you changed the name from laddoo lemon to laddoo\n",
    "cookies.boxplot(column='cost_to_make', by='cookie')"
   ]
  },
  {
   "attachments": {},
   "cell_type": "markdown",
   "metadata": {},
   "source": [
    "Alternatively, we can create a histogram to visualize the distribution of the `laddoo lemon`'s radius. We can also do this by using the `plot()` function."
   ]
  },
  {
   "cell_type": "code",
   "execution_count": 110,
   "metadata": {},
   "outputs": [
    {
     "data": {
      "text/plain": [
       "array([[<Axes: title={'center': 'bbb'}>,\n",
       "        <Axes: title={'center': 'chocolate'}>,\n",
       "        <Axes: title={'center': 'laddoo'}>],\n",
       "       [<Axes: title={'center': 'minty'}>,\n",
       "        <Axes: title={'center': 'nevadito'}>,\n",
       "        <Axes: title={'center': 'orange'}>],\n",
       "       [<Axes: title={'center': 'red'}>, <Axes: >, <Axes: >]],\n",
       "      dtype=object)"
      ]
     },
     "execution_count": 110,
     "metadata": {},
     "output_type": "execute_result"
    },
    {
     "data": {
      "image/png": "[encoded data removed]",
      "text/plain": [
       "<Figure size 640x480 with 9 Axes>"
      ]
     },
     "metadata": {},
     "output_type": "display_data"
    }
   ],
   "source": [
    "#TODO: add the described histogram\n",
    "cookies.hist(column='radius', by='cookie')"
   ]
  },
  {
   "attachments": {},
   "cell_type": "markdown",
   "metadata": {},
   "source": [
    "Things can get more complicated too. Maybe we want to analyze the behaviors of `bad berry bunny` and `laddoo lemon`'s radius using a boxplot. But this time, let's try it using the alternative `boxplot()` function. For practice, try doing it with `plot()` too!"
   ]
  },
  {
   "cell_type": "code",
   "execution_count": 111,
   "metadata": {},
   "outputs": [
    {
     "data": {
      "text/plain": [
       "<Axes: title={'center': 'radius'}, xlabel='cookie'>"
      ]
     },
     "execution_count": 111,
     "metadata": {},
     "output_type": "execute_result"
    },
    {
     "data": {
      "image/png": "[encoded data removed]",
      "text/plain": [
       "<Figure size 640x480 with 1 Axes>"
      ]
     },
     "metadata": {},
     "output_type": "display_data"
    }
   ],
   "source": [
    "#TODO: analyze the two cookie's radius in a boxplot\n",
    "cookies.boxplot(column='radius', by='cookie')\n"
   ]
  },
  {
   "attachments": {},
   "cell_type": "markdown",
   "metadata": {},
   "source": [
    "### Practice Problems\n",
    "Now that you have learned some of Pandas' capabilities, let's try some practice problems! **This is the part that will be checked when you submit it!**"
   ]
  },
  {
   "attachments": {},
   "cell_type": "markdown",
   "metadata": {},
   "source": [
    "#### Problem 1\n",
    "How many cookies were made? (Hint: use the `shape` attribute)"
   ]
  },
  {
   "cell_type": "code",
   "execution_count": 112,
   "metadata": {},
   "outputs": [
    {
     "data": {
      "text/plain": [
       "(118, 6)"
      ]
     },
     "execution_count": 112,
     "metadata": {},
     "output_type": "execute_result"
    }
   ],
   "source": [
    "#Add your code here\n",
    "cookies.shape\n",
    "#118 cookies"
   ]
  },
  {
   "attachments": {},
   "cell_type": "markdown",
   "metadata": {},
   "source": [
    "#### Problem 2\n",
    "Add a column to the DataFrame that has the value `True` if the cookie has a radius greater than 4 cm, and `False` otherwise. (Hint: use the `apply()` function)"
   ]
  },
  {
   "cell_type": "code",
   "execution_count": 113,
   "metadata": {},
   "outputs": [],
   "source": [
    "#Add your code here\n",
    "cookies['radius_greater_than_4'] = cookies['radius'].apply(lambda x: x > 4)"
   ]
  },
  {
   "attachments": {},
   "cell_type": "markdown",
   "metadata": {},
   "source": [
    "#### Problem 3\n",
    "\n",
    "Group the data by the `cookie` column, and find the average radius of each cookie. (Hint: use the `groupby()` and `transform()` function). Add this column to the DataFrame."
   ]
  },
  {
   "cell_type": "code",
   "execution_count": 114,
   "metadata": {},
   "outputs": [],
   "source": [
    "#Add your code here\n",
    "cookies['average_radius'] = cookies.groupby('cookie')['radius'].transform('mean')"
   ]
  },
  {
   "attachments": {},
   "cell_type": "markdown",
   "metadata": {},
   "source": [
    "#### Problem 4\n",
    "Create a new DataFrame that only contains the cookies that have the ingredient `\"chocolate chips\"`. (Hint: use the `str.contains()` function)"
   ]
  },
  {
   "cell_type": "code",
   "execution_count": 115,
   "metadata": {},
   "outputs": [],
   "source": [
    "#Add your code here\n",
    "chocolate_chip_cookies = cookies[cookies['ingredients'].str.contains('chocolate chips')]\n"
   ]
  },
  {
   "attachments": {},
   "cell_type": "markdown",
   "metadata": {},
   "source": [
    "#### Problem 5\n",
    "\n",
    "Create a boxplot of `cost_to_make` for all cookies except `chocolate` using the `boxplot()` function."
   ]
  },
  {
   "cell_type": "code",
   "execution_count": 116,
   "metadata": {},
   "outputs": [
    {
     "data": {
      "image/png": "[encoded data removed]",
      "text/plain": [
       "<Figure size 640x480 with 1 Axes>"
      ]
     },
     "metadata": {},
     "output_type": "display_data"
    }
   ],
   "source": [
    "#Add your code here\n",
    "\n",
    "# Filter out rows where cookie_type is 'chocolate'\n",
    "filtered_cookies = cookies[cookies['cookie'] != 'chocolate']\n",
    "\n",
    "# Create a boxplot for 'cost_to_make'\n",
    "filtered_cookies.boxplot(column='cost_to_make')\n",
    "\n",
    "plt.title('Boxplot of Cost to Make (excluding chocolate)')\n",
    "plt.ylabel('Cost to Make')\n",
    "plt.show()"
   ]
  },
  {
   "attachments": {},
   "cell_type": "markdown",
   "metadata": {},
   "source": [
    "#### Problem 6\n",
    "\n",
    "Create a histogram of the `bad berry bunny`'s calories using the `plot()` function."
   ]
  },
  {
   "cell_type": "code",
   "execution_count": 122,
   "metadata": {},
   "outputs": [
    {
     "data": {
      "text/plain": [
       "Text(0, 0.5, 'Frequency')"
      ]
     },
     "execution_count": 122,
     "metadata": {},
     "output_type": "execute_result"
    },
    {
     "data": {
      "image/png": "[encoded data removed]",
      "text/plain": [
       "<Figure size 640x480 with 1 Axes>"
      ]
     },
     "metadata": {},
     "output_type": "display_data"
    }
   ],
   "source": [
    "#Add your code here\n",
    "cookies\n",
    "filtered_cookies = cookies[cookies['cookie'] == 'bbb']  \n",
    "filtered_cookies['calories'].plot(kind='hist', edgecolor='black', bins=10)\n",
    "plt.title('Histogram of Bad Berry Bunny Calories')\n",
    "plt.xlabel('Calories')\n",
    "plt.ylabel('Frequency')\n",
    "\n"
   ]
  },
  {
   "cell_type": "markdown",
   "metadata": {},
   "source": [
    "#### Problem 7\n",
    "\n",
    "Calculate the average calories per cookie type and display the result in a bar chart."
   ]
  },
  {
   "cell_type": "code",
   "execution_count": 124,
   "metadata": {},
   "outputs": [
    {
     "data": {
      "image/png": "[encoded data removed]",
      "text/plain": [
       "<Figure size 640x480 with 1 Axes>"
      ]
     },
     "metadata": {},
     "output_type": "display_data"
    }
   ],
   "source": [
    "#Add your code here\n",
    "avg_calories = cookies.groupby('cookie')['calories'].mean()\n",
    "avg_calories.plot(kind='bar', color='skyblue', edgecolor='black')\n",
    "\n",
    "plt.title('Average Calories per Cookie Type')\n",
    "plt.xlabel('Cookie Type')\n",
    "plt.ylabel('Average Calories')\n",
    "plt.xticks(rotation=45)\n",
    "plt.show()"
   ]
  },
  {
   "cell_type": "markdown",
   "metadata": {},
   "source": [
    "#### Problem 8\n",
    "\n",
    "Find the top 3 most expensive cookies in terms of cost_to_make"
   ]
  },
  {
   "cell_type": "code",
   "execution_count": 126,
   "metadata": {},
   "outputs": [
    {
     "data": {
      "text/html": [
       "<div>\n",
       "<style scoped>\n",
       "    .dataframe tbody tr th:only-of-type {\n",
       "        vertical-align: middle;\n",
       "    }\n",
       "\n",
       "    .dataframe tbody tr th {\n",
       "        vertical-align: top;\n",
       "    }\n",
       "\n",
       "    .dataframe thead th {\n",
       "        text-align: right;\n",
       "    }\n",
       "</style>\n",
       "<table border=\"1\" class=\"dataframe\">\n",
       "  <thead>\n",
       "    <tr style=\"text-align: right;\">\n",
       "      <th></th>\n",
       "      <th>cookie</th>\n",
       "      <th>ingredients</th>\n",
       "      <th>calories</th>\n",
       "      <th>radius</th>\n",
       "      <th>cost_to_make</th>\n",
       "      <th>calories_per_radius</th>\n",
       "      <th>radius_greater_than_4</th>\n",
       "      <th>average_radius</th>\n",
       "    </tr>\n",
       "  </thead>\n",
       "  <tbody>\n",
       "    <tr>\n",
       "      <th>42</th>\n",
       "      <td>laddoo</td>\n",
       "      <td>[\"flour\",\"lemon juice\",\"sugar\",\"ghee\"]</td>\n",
       "      <td>176</td>\n",
       "      <td>4.110</td>\n",
       "      <td>2.77</td>\n",
       "      <td>42.822384</td>\n",
       "      <td>True</td>\n",
       "      <td>3.782118</td>\n",
       "    </tr>\n",
       "    <tr>\n",
       "      <th>50</th>\n",
       "      <td>nevadito</td>\n",
       "      <td>[\"flour\",\"chocolate chips\",\"milk\",\"vanilla ext...</td>\n",
       "      <td>220</td>\n",
       "      <td>3.855</td>\n",
       "      <td>2.71</td>\n",
       "      <td>57.068742</td>\n",
       "      <td>False</td>\n",
       "      <td>4.013588</td>\n",
       "    </tr>\n",
       "    <tr>\n",
       "      <th>13</th>\n",
       "      <td>orange</td>\n",
       "      <td>[\"flour\",\"orange juice\",\"sugar\",\"vegetable oil\"]</td>\n",
       "      <td>159</td>\n",
       "      <td>3.429</td>\n",
       "      <td>2.59</td>\n",
       "      <td>46.369204</td>\n",
       "      <td>False</td>\n",
       "      <td>3.519353</td>\n",
       "    </tr>\n",
       "  </tbody>\n",
       "</table>\n",
       "</div>"
      ],
      "text/plain": [
       "      cookie                                        ingredients  calories  \\\n",
       "42    laddoo             [\"flour\",\"lemon juice\",\"sugar\",\"ghee\"]       176   \n",
       "50  nevadito  [\"flour\",\"chocolate chips\",\"milk\",\"vanilla ext...       220   \n",
       "13    orange   [\"flour\",\"orange juice\",\"sugar\",\"vegetable oil\"]       159   \n",
       "\n",
       "    radius  cost_to_make  calories_per_radius  radius_greater_than_4  \\\n",
       "42   4.110          2.77            42.822384                   True   \n",
       "50   3.855          2.71            57.068742                  False   \n",
       "13   3.429          2.59            46.369204                  False   \n",
       "\n",
       "    average_radius  \n",
       "42        3.782118  \n",
       "50        4.013588  \n",
       "13        3.519353  "
      ]
     },
     "execution_count": 126,
     "metadata": {},
     "output_type": "execute_result"
    }
   ],
   "source": [
    "#Add your code here\n",
    "cookies.sort_values(by='cost_to_make', ascending=False).head(3)"
   ]
  },
  {
   "cell_type": "code",
   "execution_count": null,
   "metadata": {},
   "outputs": [],
   "source": []
  }
 ],
 "metadata": {
  "kernelspec": {
   "display_name": "Python 3",
   "language": "python",
   "name": "python3"
  },
  "language_info": {
   "codemirror_mode": {
    "name": "ipython",
    "version": 3
   },
   "file_extension": ".py",
   "mimetype": "text/x-python",
   "name": "python",
   "nbconvert_exporter": "python",
   "pygments_lexer": "ipython3",
   "version": "3.11.3"
  },
  "orig_nbformat": 4,
  "vscode": {
   "interpreter": {
    "hash": "63639127d0784e8e4de1a76bcacd89583be09d9f82d600966cd9457d183cbbf7"
   }
  }
 },
 "nbformat": 4,
 "nbformat_minor": 2
}
