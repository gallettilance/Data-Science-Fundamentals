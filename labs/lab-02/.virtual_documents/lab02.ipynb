








# In case you don't have pandas, uncomment
# the following lines and run the cell

%pip install pandas








#TODO: import pandas and matplotlib in this cell
import pandas as pd





#TODO: read the cookies.csv file into a pandas dataframe
df = pd.read_csv("./cookies.csv")








#TODO: print the head of the dataframe
df.head()





df.dtypes





# TODO: use info() to get information about datatypes and null values
df.info()





#TODO: clean the dataframe and 
# print the head again to make sure 
# the changes took effect

df["cost_to_make"] = df["cost_to_make"].fillna(value=df["cost_to_make"].mean())





#TODO: use the isnull method to make sure your data is clean
df.isnull().sum()





# TODO: check for duplicate rows
# then delete those rows form df
duplicated_rows = df[df.duplicated()]
# print(duplicated_rows)
# df.duplicated().sum()
df = df.drop_duplicates()





#TODO: see what cookies are in the dataset
df["cookie"].unique()





#TODO: use value_counts() to see how many 
# cookies of each type there are
df["cookie"].value_counts()





df["cookie"] = df["cookie"].replace("bad berry bunny", "bbb")
df.head(10)





#TODO: adjust orange ozuna as described
df["cookie"] = df["cookie"].str.replace("orange ozuna", "orange_ozuna")
df.head(10)





#TODO: adjust all cookies so only the first word
# is used as the cookie name
# df["cookie"] = df["cookie"].str.replace("orange_ozuna", "orange")
df["cookie"] = df["cookie"].str.split("_").str[0]
df.head(10)





#Don't edit this method
def adjust_cost(cost):
    return cost + 0.5

#TODO: use apply() to adjust the cost_to_make column.
df["cost_to_make"] = df["cost_to_make"].apply(adjust_cost)
df.head(10)











# TODO: sort the df using sort_values(by='Column', ascending=False)
df = df.sort_values(by=["cost_to_make"])
df.head(10)





# #TODO: group by cookie type

# df1 = df.groupby(["cookie"])

# df1.first()





# #TODO: group by cookie type and ingredients
# df2 = df.groupby(["cookie", "ingredients"])
# df2.first()





#TODO: filter using the boolean expression

df3 = df[df["radius"] > 4.3]
df3.head(10)





#TODO: filter the data using the boolean expression
# then group by cookie column





#TODO: add a column to the dataframe that is the
# calories per radius

def calculate_cal_per_radius(row):
    return row["calories"] / row["radius"]

df["calories_per_radius"] = df.apply(calculate_cal_per_radius, axis = 1)
df.head(10)





#TODO: drop the created column
df = df.drop()








#TODO: plot the radius (x) versus cost to make (y)





#TODO: add the described boxplot
# remember that you changed the name from laddoo lemon to laddoo





#TODO: add the described histogram





#TODO: analyze the two cookie's radius in a boxplot








#Add your code here





#Add your code here





#Add your code here





#Add your code here





#Add your code here





#Add your code here





#Add your code here





#Add your code here
