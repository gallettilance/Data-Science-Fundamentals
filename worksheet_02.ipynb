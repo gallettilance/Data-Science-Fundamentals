{
 "cells": [
  {
   "attachments": {},
   "cell_type": "markdown",
   "metadata": {},
   "source": [
    "# Worksheet 02\n",
    "\n",
    "Name:  Airi Hatori \n",
    "UID: U27594319\n",
    "\n",
    "### Topics\n",
    "\n",
    "- Effective Programming\n",
    "\n",
    "### Effective Programming\n",
    "\n",
    "a) What is a drawback of the top down approach?\n",
    "    Since you start with the roots, you don't have runnable codes until the end. \n",
    "\n"
   ]
  },
  {
   "attachments": {},
   "cell_type": "markdown",
   "metadata": {},
   "source": []
  },
  {
   "attachments": {},
   "cell_type": "markdown",
   "metadata": {},
   "source": [
    "b) What is a drawback of the bottom up approach?\n",
    "     have to know everything up-front "
   ]
  },
  {
   "attachments": {},
   "cell_type": "markdown",
   "metadata": {},
   "source": []
  },
  {
   "attachments": {},
   "cell_type": "markdown",
   "metadata": {},
   "source": [
    "c) What are 3 things you can do to have a better debugging experience?"
   ]
  },
  {
   "attachments": {},
   "cell_type": "markdown",
   "metadata": {},
   "source": []
  },
  {
   "cell_type": "code",
   "execution_count": null,
   "metadata": {},
   "outputs": [],
   "source": [
    "#1) Read the error instead of panicing. \n",
    "#2) Do sanity check where you can. \n",
    "#3) Take a break and re-read your code. "
   ]
  },
  {
   "attachments": {},
   "cell_type": "markdown",
   "metadata": {},
   "source": [
    "d) Follow along with the live coding. You can write your code here:"
   ]
  },
  {
   "cell_type": "code",
   "execution_count": null,
   "metadata": {},
   "outputs": [],
   "source": [
    "class Board:\n",
    "    def __init__(self):\n",
    "        self.board = [[\"_\" for _ in range (8)] for _ in range(8)]\n",
    "        \n",
    "\n",
    "    def __repr__(self):\n",
    "        res = \"\"\n",
    "        for now in self.board:\n",
    "            for col in row:\n",
    "                res += col \n",
    "                res += \"\"\n",
    "            res += \"\\n\"\n",
    "        return res\n",
    "    \n",
    "    def search(self):\n",
    "        row = 0 \n",
    "        col = 0 \n",
    "        while row < 8:\n",
    "            if self.is_legal(row,col):\n",
    "                self.set_queen_at(row,col)\n",
    "                row +=1 \n",
    "                col = 0 \n",
    "            else:\n",
    "                col += 1\n",
    "                if col >= 8:\n",
    "                    col = self.get_queen_on(row - 1)\n",
    "                    self.usnet_queen_on(row - 1)\n",
    "                    col += 1 \n",
    "                    row -= 1\n",
    "\n",
    "\n",
    "        print(\"found a solution\")\n",
    "        print(self)\n",
    "\n",
    "    def is_legal(self, row, col):\n",
    "        if not self.is_legal_row(row,col):\n",
    "            return False\n",
    "        \n",
    "        return True \n",
    "\n",
    "    def is_legal_row(self, row):\n",
    "        for j in range(len(self.board)):\n",
    "            if self.board[row[j]] == \"Q\":\n",
    "                return False \n",
    "        return True\n",
    "\n",
    "    def set_queen_at(self, row, col):\n",
    "        self.board[row][col] = \"Q\"\n",
    "    \n",
    "    def unset_queen_on(self, row, col):\n",
    "        self.board[row][col] = [\"_\" for _ in range(8)]\n",
    "    \n",
    "    def get_queen_on(self, row):\n",
    "        for col in range(len(self.board)):\n",
    "            if self.board[row][col] == \"Q\":\n",
    "                return col \n",
    "        return ValueError (\"Error\")\n",
    "    \n",
    "\n",
    "\n",
    "\n",
    "my_board = Board()\n",
    "print(my_board)\n",
    "\n"
   ]
  }
 ],
 "metadata": {
  "kernelspec": {
   "display_name": "Python 3",
   "language": "python",
   "name": "python3"
  },
  "language_info": {
   "name": "python",
   "version": "3.11.1 (main, Dec  7 2022, 00:00:00) [GCC 12.2.1 20221121 (Red Hat 12.2.1-4)]"
  },
  "orig_nbformat": 4,
  "vscode": {
   "interpreter": {
    "hash": "76ca05dc3ea24b2e3b98cdb7774adfbb40773424bf5109b477fd793f623715af"
   }
  }
 },
 "nbformat": 4,
 "nbformat_minor": 2
}
