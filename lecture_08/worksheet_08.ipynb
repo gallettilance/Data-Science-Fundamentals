{
  "cells": [
    {
      "cell_type": "markdown",
      "metadata": {
        "id": "hsR_qLhrr6S6"
      },
      "source": [
        "# Worksheet 08\n",
        "\n",
        "Name:  Quan Ho\n",
        "UID: U17207751\n",
        "\n",
        "### Topics\n",
        "\n",
        "- Soft Clustering\n",
        "- Clustering Aggregation\n",
        "\n",
        "### Probability Review\n",
        "\n",
        "Read through [the following](https://medium.com/@gallettilance/overview-of-probability-3272b72c82c8)\n",
        "\n",
        "### Soft Clustering\n",
        "\n",
        "We generate 10 data points that come from a normal distribution with mean 5 and variance 1."
      ]
    },
    {
      "cell_type": "code",
      "execution_count": 19,
      "metadata": {
        "colab": {
          "base_uri": "https://localhost:8080/",
          "height": 0
        },
        "id": "PhFCbksNr6S6",
        "outputId": "a3efb9fa-659c-443a-b0be-49c47c3f6d58"
      },
      "outputs": [
        {
          "output_type": "stream",
          "name": "stdout",
          "text": [
            "[6.064623523154372, 5.362550058497434, 5.914131221574851, 7.252923895609808, 4.044314458543299, 4.908588492016687, 5.269443097207914, 5.798813470826919, 5.144337798116265, 4.117377037269324]\n"
          ]
        }
      ],
      "source": [
        "import random\n",
        "import numpy as np\n",
        "from sklearn.cluster import KMeans\n",
        "\n",
        "mean = 5\n",
        "stdev = 1\n",
        "\n",
        "s1 = np.random.normal(mean, stdev, 10).tolist()\n",
        "print(s1)"
      ]
    },
    {
      "cell_type": "markdown",
      "metadata": {
        "id": "4iK4AQPjr6S7"
      },
      "source": [
        "a) Generate 10 more data points, this time coming from a normal distribution with mean 8 and variance 1."
      ]
    },
    {
      "cell_type": "code",
      "execution_count": 20,
      "metadata": {
        "colab": {
          "base_uri": "https://localhost:8080/",
          "height": 0
        },
        "id": "cbLeG_Dwr6S7",
        "outputId": "465263e5-20f4-44dc-c168-d0b9de4ded4a"
      },
      "outputs": [
        {
          "output_type": "stream",
          "name": "stdout",
          "text": [
            "[8.468765820793188, 8.369569365324576, 8.478700012415024, 8.71784279728441, 6.626996947174047, 6.690983356115752, 6.440666269811988, 9.096122536027625, 6.986175629749794, 6.7852092831667825]\n"
          ]
        }
      ],
      "source": [
        "s2 = np.random.normal( 8 , 1 , 10 ).tolist()\n",
        "print(s2)"
      ]
    },
    {
      "cell_type": "markdown",
      "metadata": {
        "id": "KQZ1UKR3r6S7"
      },
      "source": [
        "b) Flip a fair coin 10 times. If the coin lands on H, then pick the last data point of `c1` and remove it from `c1`, if T then pick the last data point from `c2` and remove it from `c2`. Add these 10 points to a list called `data`."
      ]
    },
    {
      "cell_type": "code",
      "execution_count": 21,
      "metadata": {
        "colab": {
          "base_uri": "https://localhost:8080/",
          "height": 0
        },
        "id": "0DmKj6nVr6S7",
        "outputId": "e7c1a8ab-c96a-4437-e13e-59e18378c4ec"
      },
      "outputs": [
        {
          "output_type": "stream",
          "name": "stdout",
          "text": [
            "[4.117377037269324, 6.7852092831667825, 6.986175629749794, 9.096122536027625, 6.440666269811988, 5.144337798116265, 5.798813470826919, 6.690983356115752, 5.269443097207914, 4.908588492016687]\n"
          ]
        }
      ],
      "source": [
        "data = []\n",
        "for i in range(10):\n",
        "    # flip coin\n",
        "    coin_output = random.choice([0, 1])\n",
        "    if coin_output == 0:\n",
        "        p1 = s1[-1]\n",
        "        s1.remove(p1)\n",
        "        data.append(p1)\n",
        "    else:\n",
        "        p2 = s2[-1]\n",
        "        s2.remove(p2)\n",
        "        data.append(p2)\n",
        "print(data)"
      ]
    },
    {
      "cell_type": "markdown",
      "metadata": {
        "id": "wv1B7uV4r6S7"
      },
      "source": [
        "c) This `data` is a Gaussian Mixture Distribution with 2 mixture components. Over the next few questions we will walk through the GMM algorithm to see if we can uncover the parameters we used to generate this data. First, please list all these parameters of the GMM that created `data` and the values we know they have."
      ]
    },
    {
      "cell_type": "markdown",
      "metadata": {
        "id": "6dYGKUJ7r6S7"
      },
      "source": [
        "Prior: 0.5, during coin flip. Next is mean/variances"
      ]
    },
    {
      "cell_type": "markdown",
      "metadata": {
        "id": "D2SbIkTyr6S7"
      },
      "source": [
        "d) Let's assume there are two mixture components (note: we could plot the data and make the observation that there are two clusters). The EM algorithm asks us to start with a random `mean_j`, `variance_j`, `P(S_j)` for each component j. One method we could use to find sensible values for these is to apply K means with k=2 here.\n",
        "\n",
        "1. the centroids would be the estimates of the `mean_j`\n",
        "2. the intra-cluster variance could be the estimate of `variance_j`\n",
        "3. the proportion of points in each cluster could be the estimate of `P(S_j)`\n",
        "\n",
        "Go through this process and list the parameter estimates it gives. Are they close or far from the true values?"
      ]
    },
    {
      "cell_type": "code",
      "execution_count": 22,
      "metadata": {
        "colab": {
          "base_uri": "https://localhost:8080/",
          "height": 0
        },
        "id": "xUZIP4Qtr6S7",
        "outputId": "bc6aa2a0-7633-4871-e249-204a04087831"
      },
      "outputs": [
        {
          "output_type": "stream",
          "name": "stdout",
          "text": [
            "[6.7852092831667825, 6.986175629749794, 9.096122536027625, 6.440666269811988, 6.690983356115752]\n",
            "[4.117377037269324, 5.144337798116265, 5.798813470826919, 5.269443097207914, 4.908588492016687]\n",
            "P(S_1) = 0.5,  P(S_2) = 0.5\n",
            "mean_1 = 7.199831414974389,  mean_2 = 5.047711979087422\n",
            "var_1 = 0.9297476774327229,  var_2 = 4.9331246937547695\n"
          ]
        },
        {
          "output_type": "stream",
          "name": "stderr",
          "text": [
            "/usr/local/lib/python3.10/dist-packages/sklearn/cluster/_kmeans.py:870: FutureWarning: The default value of `n_init` will change from 10 to 'auto' in 1.4. Set the value of `n_init` explicitly to suppress the warning\n",
            "  warnings.warn(\n"
          ]
        }
      ],
      "source": [
        "kmeans = KMeans(2, init='k-means++').fit(X=np.array(data).reshape(-1, 1))\n",
        "\n",
        "s1 = [x[0] for x in filter(lambda x: x[1] == 0, zip(data, kmeans.labels_))]\n",
        "print(s1)\n",
        "s2 = [x[0] for x in filter(lambda x: x[1] == 1, zip(data, kmeans.labels_))]\n",
        "print(s2)\n",
        "\n",
        "prob_s = [ len(s1) / (len(s1) + len(s2)) , len(s2) / (len(s1) + len(s2)) ]\n",
        "mean = [ sum(s1)/len(s1) ,sum(s2)/len(s2) ]\n",
        "var = [ sum(map(lambda x : (x - mean[0])**2, s1)) / len(s1) , sum(map(lambda x : (x - mean[0])**2, s2)) / len(s2) ]\n",
        "\n",
        "print(\"P(S_1) = \" + str(prob_s[0]) + \",  P(S_2) = \" + str(prob_s[1]))\n",
        "print(\"mean_1 = \" + str(mean[0]) + \",  mean_2 = \" + str(mean[1]))\n",
        "print(\"var_1 = \" + str(var[0]) + \",  var_2 = \" + str(var[1]))"
      ]
    },
    {
      "cell_type": "markdown",
      "metadata": {
        "id": "QNlneiUFr6S8"
      },
      "source": [
        "The mean is close but the variance is very far from C2."
      ]
    },
    {
      "cell_type": "markdown",
      "metadata": {
        "id": "ZAHKHrcrr6S8"
      },
      "source": [
        "e) For each data point, compute `P(S_j | X_i)`. Comment on which cluster you think each point belongs to based on the estimated probabilities. How does that compare to the truth?"
      ]
    },
    {
      "cell_type": "code",
      "execution_count": 23,
      "metadata": {
        "colab": {
          "base_uri": "https://localhost:8080/",
          "height": 0
        },
        "id": "Vor8WNwPr6S8",
        "outputId": "0ca1193e-10e8-4611-9d80-98c7221ddf23"
      },
      "outputs": [
        {
          "output_type": "stream",
          "name": "stdout",
          "text": [
            "point =  4.117377037269324\n",
            "probability of observing that point if it came from cluster 0 =  0.0017609105086226569\n",
            "probability of observing that point if it came from cluster 1 =  0.07944469893282664\n",
            "point =  6.7852092831667825\n",
            "probability of observing that point if it came from cluster 0 =  0.3884725592468767\n",
            "probability of observing that point if it came from cluster 1 =  0.07600644204121575\n",
            "point =  6.986175629749794\n",
            "probability of observing that point if it came from cluster 0 =  0.41790528967226487\n",
            "probability of observing that point if it came from cluster 1 =  0.07486151262266777\n",
            "point =  9.096122536027625\n",
            "probability of observing that point if it came from cluster 0 =  0.053609350470984495\n",
            "probability of observing that point if it came from cluster 1 =  0.057748881732528894\n",
            "point =  6.440666269811988\n",
            "probability of observing that point if it came from cluster 0 =  0.30744606862744617\n",
            "probability of observing that point if it came from cluster 1 =  0.07770957127231037\n",
            "point =  5.144337798116265\n",
            "probability of observing that point if it came from cluster 0 =  0.03725636308168997\n",
            "probability of observing that point if it came from cluster 1 =  0.08085458693388892\n",
            "point =  5.798813470826919\n",
            "probability of observing that point if it came from cluster 0 =  0.13787059189933876\n",
            "probability of observing that point if it came from cluster 1 =  0.0799381402505459\n",
            "point =  6.690983356115752\n",
            "probability of observing that point if it came from cluster 0 =  0.36940434120144\n",
            "probability of observing that point if it came from cluster 1 =  0.07650553806176977\n",
            "point =  5.269443097207914\n",
            "probability of observing that point if it came from cluster 0 =  0.049712301776452056\n",
            "probability of observing that point if it came from cluster 1 =  0.08078845018791062\n",
            "point =  4.908588492016687\n",
            "probability of observing that point if it came from cluster 0 =  0.02059600958400773\n",
            "probability of observing that point if it came from cluster 1 =  0.08083794509529142\n",
            "4.117377037269324\n",
            "Probability of coming from S_1 = 0.021684591997210546\n",
            "Probability of coming from S_2 = 0.9783154080027894\n",
            "\n",
            "6.7852092831667825\n",
            "Probability of coming from S_1 = 0.8363619413785449\n",
            "Probability of coming from S_2 = 0.163638058621455\n",
            "\n",
            "6.986175629749794\n",
            "Probability of coming from S_1 = 0.8480792288075824\n",
            "Probability of coming from S_2 = 0.15192077119241765\n",
            "\n",
            "9.096122536027625\n",
            "Probability of coming from S_1 = 0.4814134474855026\n",
            "Probability of coming from S_2 = 0.5185865525144974\n",
            "\n",
            "6.440666269811988\n",
            "Probability of coming from S_1 = 0.7982385217245277\n",
            "Probability of coming from S_2 = 0.20176147827547233\n",
            "\n",
            "5.144337798116265\n",
            "Probability of coming from S_1 = 0.3154353011026991\n",
            "Probability of coming from S_2 = 0.6845646988973009\n",
            "\n",
            "5.798813470826919\n",
            "Probability of coming from S_1 = 0.6329892770527831\n",
            "Probability of coming from S_2 = 0.36701072294721687\n",
            "\n",
            "6.690983356115752\n",
            "Probability of coming from S_1 = 0.8284282505958779\n",
            "Probability of coming from S_2 = 0.1715717494041221\n",
            "\n",
            "5.269443097207914\n",
            "Probability of coming from S_1 = 0.3809349833480466\n",
            "Probability of coming from S_2 = 0.6190650166519533\n",
            "\n",
            "4.908588492016687\n",
            "Probability of coming from S_1 = 0.20304847276363766\n",
            "Probability of coming from S_2 = 0.7969515272363623\n",
            "\n"
          ]
        }
      ],
      "source": [
        "from scipy.stats import norm\n",
        "\n",
        "prob_s0_x = [] # P(S_0 | X_i)\n",
        "prob_s1_x = [] # P(S_1 | X_i)\n",
        "prob_x = [] # P(X_i)\n",
        "\n",
        "k = 2\n",
        "\n",
        "for p in data:\n",
        "    print(\"point = \", p)\n",
        "    pdf_i = []\n",
        "\n",
        "    for j in range(k):\n",
        "        # P(X_i | S_j)\n",
        "        pdf_i.append(norm.pdf(p, mean[j], var[j]))\n",
        "        print(\"probability of observing that point if it came from cluster \" + str(j) + \" = \", pdf_i[j])\n",
        "        # P(S_j) already computed\n",
        "        prob_s[j]\n",
        "\n",
        "    # P(X_i) = P(S_0)P(X_i | S_0) + P(S_1)P(X_i | S_1)\n",
        "    prob_x = prob_s[0] * pdf_i[0] + prob_s[1] * pdf_i[1]\n",
        "\n",
        "    # P(S_j | X_i) = P(X_i | S_j)P(S_j) / P(X_i)\n",
        "    prob_s0_x.append( pdf_i[0]*prob_s[0] / prob_x )\n",
        "    prob_s1_x.append( pdf_i[1]*prob_s[1] / prob_x  )\n",
        "\n",
        "probs = zip(data, prob_s0_x, prob_s1_x)\n",
        "for p in probs:\n",
        "    print(p[0])\n",
        "    print(\"Probability of coming from S_1 = \" + str(p[1]))\n",
        "    print(\"Probability of coming from S_2 = \" + str(p[2]))\n",
        "    print()\n"
      ]
    },
    {
      "cell_type": "markdown",
      "metadata": {
        "id": "NwvoNXdmr6S8"
      },
      "source": [
        "f) Having computed `P(S_j | X_i)`, update the estimates of `mean_j`, `var_j`, and `P(S_j)`. How different are these values from the original ones you got from K means? briefly comment."
      ]
    },
    {
      "cell_type": "code",
      "execution_count": 27,
      "metadata": {
        "colab": {
          "base_uri": "https://localhost:8080/",
          "height": 0
        },
        "id": "fYpJ43F9r6S8",
        "outputId": "2a470ecc-8b1c-4e9b-d144-3a3d4fa93edf"
      },
      "outputs": [
        {
          "output_type": "stream",
          "name": "stdout",
          "text": [
            "P(S_1) = 0.5346614016256412,  P(S_2) = 0.4653385983743587\n",
            "mean_1 = 6.555453069052082,  mean_2 = 5.62778153368141\n",
            "var_1 = 5.634840971710582,  var_2 = 9.959378576183592\n"
          ]
        }
      ],
      "source": [
        "prob_s = [sum(prob_s0_x)/ len(prob_s0_x), sum(prob_s1_x)/ len(prob_s1_x) ]\n",
        "mean = [sum([x[0] * x[1] for x in zip(prob_s0_x, data)]) / sum(prob_s0_x), sum([x[0] * x[1] for x in zip(prob_s1_x, data)]) / sum(prob_s1_x) ]\n",
        "var = [ sum([(x[0]-mean[0])**2 * x[1] for x in zip(data,prob_s0_x)]) , sum([(x[0]-mean[1])**2 * x[1] for x in zip(data,prob_s1_x)]) ]\n",
        "\n",
        "print(\"P(S_1) = \" + str(prob_s[0]) + \",  P(S_2) = \" + str(prob_s[1]))\n",
        "print(\"mean_1 = \" + str(mean[0]) + \",  mean_2 = \" + str(mean[1]))\n",
        "print(\"var_1 = \" + str(var[0]) + \",  var_2 = \" + str(var[1]))"
      ]
    },
    {
      "cell_type": "markdown",
      "metadata": {
        "id": "Wgjb1Arrr6S8"
      },
      "source": [
        "The probability of seeing s1 and s2 are similimiar. They are different than the K-means because GMM is a proabilisitc model as opposed to K-means non-probalisitc distance=based clustering alogrithm. Meaning that GMM assigns probabilites to each cluster while K-means assigns each point to a single cluster."
      ]
    },
    {
      "cell_type": "markdown",
      "metadata": {
        "id": "vBcX-XtDr6S8"
      },
      "source": [
        "g) Update `P(S_j | X_i)`. Comment on any differences or lack thereof you observe."
      ]
    },
    {
      "cell_type": "code",
      "execution_count": 28,
      "metadata": {
        "colab": {
          "base_uri": "https://localhost:8080/",
          "height": 0
        },
        "id": "IctDCqMzr6S8",
        "outputId": "666dde87-9a08-48a7-9c20-dc3256aedf30"
      },
      "outputs": [
        {
          "output_type": "stream",
          "name": "stdout",
          "text": [
            "For S1:\n",
            "[0.021684591997210546, 0.8363619413785449, 0.8480792288075824, 0.4814134474855026, 0.7982385217245277, 0.3154353011026991, 0.6329892770527831, 0.8284282505958779, 0.3809349833480466, 0.20304847276363766]\n",
            "For S2:\n",
            "[0.9783154080027894, 0.163638058621455, 0.15192077119241765, 0.5185865525144974, 0.20176147827547233, 0.6845646988973009, 0.36701072294721687, 0.1715717494041221, 0.6190650166519533, 0.7969515272363623]\n"
          ]
        }
      ],
      "source": [
        "print('For S1:')\n",
        "print(prob_s0_x)\n",
        "print('For S2:')\n",
        "print(prob_s1_x)"
      ]
    },
    {
      "cell_type": "markdown",
      "metadata": {
        "id": "BZ1FwZZGr6S8"
      },
      "source": [
        "The main difference  in the loop between data points is how they are assigned to clusters based on these updated probabilities. Some data points (s_0 or s_1) will be more confidently assigned to one cluster , while some other are assigned with less confidence."
      ]
    },
    {
      "cell_type": "markdown",
      "metadata": {
        "id": "Hv1uQy7Nr6S8"
      },
      "source": [
        "h) Use `P(S_j | X_i)` to create a hard assignment - label each point as belonging to a specific cluster (0 or 1)"
      ]
    },
    {
      "cell_type": "code",
      "execution_count": 31,
      "metadata": {
        "colab": {
          "base_uri": "https://localhost:8080/",
          "height": 0
        },
        "id": "3PR6s9lsr6S8",
        "outputId": "ca6ef1a0-f9be-4299-b12d-5e27d03cff3d"
      },
      "outputs": [
        {
          "output_type": "execute_result",
          "data": {
            "text/plain": [
              "[1, 0, 0, 1, 0, 1, 0, 0, 1, 1]"
            ]
          },
          "metadata": {},
          "execution_count": 31
        }
      ],
      "source": [
        "hard_assignments = []  # List to store the hard cluster assignments (0 or 1)\n",
        "\n",
        "for p_c0, p_c1 in zip(prob_s0_x, prob_s1_x):\n",
        "    if p_c0 > p_c1:\n",
        "        hard_assignments.append(0)\n",
        "    else:\n",
        "        hard_assignments.append(1)\n",
        "hard_assignments\n"
      ]
    },
    {
      "cell_type": "code",
      "source": [
        "print(data)"
      ],
      "metadata": {
        "colab": {
          "base_uri": "https://localhost:8080/",
          "height": 0
        },
        "id": "nMhgPoF9vmN2",
        "outputId": "e42215bc-ccaa-4b0c-bba6-fca736e93955"
      },
      "execution_count": 32,
      "outputs": [
        {
          "output_type": "stream",
          "name": "stdout",
          "text": [
            "[4.117377037269324, 6.7852092831667825, 6.986175629749794, 9.096122536027625, 6.440666269811988, 5.144337798116265, 5.798813470826919, 6.690983356115752, 5.269443097207914, 4.908588492016687]\n"
          ]
        }
      ]
    }
  ],
  "metadata": {
    "kernelspec": {
      "display_name": "Python 3",
      "language": "python",
      "name": "python3"
    },
    "language_info": {
      "codemirror_mode": {
        "name": "ipython",
        "version": 3
      },
      "file_extension": ".py",
      "mimetype": "text/x-python",
      "name": "python",
      "nbconvert_exporter": "python",
      "pygments_lexer": "ipython3",
      "version": "3.11.1"
    },
    "orig_nbformat": 4,
    "vscode": {
      "interpreter": {
        "hash": "e7370f93d1d0cde622a1f8e1c04877d8463912d04d973331ad4851f04de6915a"
      }
    },
    "colab": {
      "provenance": []
    }
  },
  "nbformat": 4,
  "nbformat_minor": 0
}
