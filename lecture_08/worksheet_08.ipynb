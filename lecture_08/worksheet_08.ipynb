{
 "cells": [
  {
   "attachments": {},
   "cell_type": "markdown",
   "metadata": {},
   "source": [
    "# Worksheet 08\n",
    "\n",
    "Name: Grace Van Sciver \n",
    "UID: U05141982\n",
    "\n",
    "### Topics\n",
    "\n",
    "- Soft Clustering\n",
    "- Clustering Aggregation\n",
    "\n",
    "### Probability Review\n",
    "\n",
    "Read through [the following](https://medium.com/@gallettilance/overview-of-probability-3272b72c82c8)\n",
    "\n",
    "### Soft Clustering\n",
    "\n",
    "We generate 10 data points that come from a normal distribution with mean 5 and variance 1."
   ]
  },
  {
   "cell_type": "code",
   "execution_count": 11,
   "metadata": {},
   "outputs": [
    {
     "name": "stdout",
     "output_type": "stream",
     "text": [
      "[4.533339848232871, 5.544750001848204, 3.755015086666395, 4.797619041380229, 4.416708696894397, 7.057658106142439, 4.849106480214305, 3.0617015000551646, 6.311341892466097, 4.536603525045378]\n"
     ]
    }
   ],
   "source": [
    "import random\n",
    "import numpy as np\n",
    "from sklearn.cluster import KMeans\n",
    "\n",
    "mean = 5\n",
    "stdev = 1\n",
    "\n",
    "s1 = np.random.normal(mean, stdev, 10).tolist()\n",
    "print(s1)"
   ]
  },
  {
   "cell_type": "markdown",
   "metadata": {},
   "source": [
    "a) Generate 10 more data points, this time coming from a normal distribution with mean 8 and variance 1."
   ]
  },
  {
   "cell_type": "code",
   "execution_count": 12,
   "metadata": {},
   "outputs": [
    {
     "name": "stdout",
     "output_type": "stream",
     "text": [
      "[8.01392805722326, 7.004309875326804, 9.088985936871264, 10.547640543473179, 8.714949306744996, 8.13470102372501, 9.78287866474352, 8.041722539493131, 9.432593980640974, 8.772126951503878]\n"
     ]
    }
   ],
   "source": [
    "s2 = np.random.normal(8, 1, 10).tolist()\n",
    "print(s2)"
   ]
  },
  {
   "cell_type": "markdown",
   "metadata": {},
   "source": [
    "b) Flip a fair coin 10 times. If the coin lands on H, then pick the last data point of `c1` and remove it from `c1`, if T then pick the last data point from `c2` and remove it from `c2`. Add these 10 points to a list called `data`."
   ]
  },
  {
   "cell_type": "code",
   "execution_count": 13,
   "metadata": {},
   "outputs": [
    {
     "name": "stdout",
     "output_type": "stream",
     "text": [
      "[8.772126951503878, 4.536603525045378, 6.311341892466097, 9.432593980640974, 3.0617015000551646, 4.849106480214305, 8.041722539493131, 9.78287866474352, 8.13470102372501, 7.057658106142439]\n"
     ]
    }
   ],
   "source": [
    "data = []\n",
    "for i in range(10):\n",
    "    # flip coin\n",
    "    coin_output = random.choice([0, 1])\n",
    "    if coin_output == 0:\n",
    "        p1 = s1.pop()\n",
    "        data.append(p1)\n",
    "    else:\n",
    "        p2 = s2.pop()\n",
    "        data.append(p2)\n",
    "print(data)"
   ]
  },
  {
   "cell_type": "markdown",
   "metadata": {},
   "source": [
    "c) This `data` is a Gaussian Mixture Distribution with 2 mixture components. Over the next few questions we will walk through the GMM algorithm to see if we can uncover the parameters we used to generate this data. First, please list all these parameters of the GMM that created `data` and the values we know they have."
   ]
  },
  {
   "cell_type": "markdown",
   "metadata": {},
   "source": [
    "K (num of mixture components) = 2\n",
    "mu (means of gaussian distributions): mu1 = 5, mu2 = 8"
   ]
  },
  {
   "cell_type": "markdown",
   "metadata": {},
   "source": [
    "d) Let's assume there are two mixture components (note: we could plot the data and make the observation that there are two clusters). The EM algorithm asks us to start with a random `mean_j`, `variance_j`, `P(S_j)` for each component j. One method we could use to find sensible values for these is to apply K means with k=2 here.\n",
    "\n",
    "1. the centroids would be the estimates of the `mean_j`\n",
    "2. the intra-cluster variance could be the estimate of `variance_j`\n",
    "3. the proportion of points in each cluster could be the estimate of `P(S_j)`\n",
    "\n",
    "Go through this process and list the parameter estimates it gives. Are they close or far from the true values?"
   ]
  },
  {
   "cell_type": "code",
   "execution_count": 14,
   "metadata": {},
   "outputs": [
    {
     "name": "stdout",
     "output_type": "stream",
     "text": [
      "[4.536603525045378, 6.311341892466097, 3.0617015000551646, 4.849106480214305]\n",
      "[8.772126951503878, 9.432593980640974, 8.041722539493131, 9.78287866474352, 8.13470102372501, 7.057658106142439]\n",
      "P(S_1) = 0.4,  P(S_2) = 0.6\n",
      "mean_1 = 4.689688349445236,  mean_2 = 8.536946877708159\n",
      "var_1 = 1.3322376248146404,  var_2 = 0.8341972599891996\n"
     ]
    },
    {
     "name": "stderr",
     "output_type": "stream",
     "text": [
      "/Users/gracevansciver/anaconda3/lib/python3.11/site-packages/sklearn/cluster/_kmeans.py:1412: FutureWarning: The default value of `n_init` will change from 10 to 'auto' in 1.4. Set the value of `n_init` explicitly to suppress the warning\n",
      "  super()._check_params_vs_input(X, default_n_init=10)\n"
     ]
    }
   ],
   "source": [
    "kmeans = KMeans(2, init='k-means++').fit(X=np.array(data).reshape(-1, 1))\n",
    "\n",
    "s1 = [x[0] for x in filter(lambda x: x[1] == 0, zip(data, kmeans.labels_))]\n",
    "print(s1)\n",
    "s2 = [x[0] for x in filter(lambda x: x[1] == 1, zip(data, kmeans.labels_))]\n",
    "print(s2)\n",
    "\n",
    "prob_s = [ len(s1) / (len(s1) + len(s2)) , len(s2) / (len(s1) + len(s2)) ]\n",
    "mean = [ sum(s1)/len(s1) , sum(s2)/len(s2) ]\n",
    "var = [ sum(map(lambda x : (x - mean[0])**2, s1)) / len(s1) , sum(map(lambda x : (x - mean[1])**2, s2)) / len(s2) ]\n",
    "\n",
    "print(\"P(S_1) = \" + str(prob_s[0]) + \",  P(S_2) = \" + str(prob_s[1]))\n",
    "print(\"mean_1 = \" + str(mean[0]) + \",  mean_2 = \" + str(mean[1]))\n",
    "print(\"var_1 = \" + str(var[0]) + \",  var_2 = \" + str(var[1]))"
   ]
  },
  {
   "cell_type": "markdown",
   "metadata": {},
   "source": [
    "Mean1 = 4.378       True Mean1 = 5\n",
    "Mean2 = 6.984       True Mean2 = 8\n",
    "Var1 = 0.483        True Var1 = 1\n",
    "Var2 = 1.123        True Var2 = 1\n",
    "P(S1) = 0.7         True P(S1) = 0.5\n",
    "P(S2) = 0.3         True P(S2) = 0.5\n",
    "\n",
    "The answers are relatively close to the true values with the variances differing the most. "
   ]
  },
  {
   "cell_type": "markdown",
   "metadata": {},
   "source": [
    "e) For each data point, compute `P(S_j | X_i)`. Comment on which cluster you think each point belongs to based on the estimated probabilities. How does that compare to the truth?"
   ]
  },
  {
   "cell_type": "code",
   "execution_count": 15,
   "metadata": {},
   "outputs": [
    {
     "name": "stdout",
     "output_type": "stream",
     "text": [
      "point =  8.772126951503878\n",
      "probability of observing that point if it came from cluster 0 =  0.002736952261583532\n",
      "probability of observing that point if it came from cluster 1 =  0.45960232694279035\n",
      "point =  4.536603525045378\n",
      "probability of observing that point if it came from cluster 0 =  0.2974823402921008\n",
      "probability of observing that point if it came from cluster 1 =  4.853657071416018e-06\n",
      "point =  6.311341892466097\n",
      "probability of observing that point if it came from cluster 0 =  0.14275353622653922\n",
      "probability of observing that point if it came from cluster 1 =  0.013613972346525784\n",
      "point =  9.432593980640974\n",
      "probability of observing that point if it came from cluster 0 =  0.0005298207783994897\n",
      "probability of observing that point if it came from cluster 1 =  0.2687349377712282\n",
      "point =  3.0617015000551646\n",
      "probability of observing that point if it came from cluster 0 =  0.14192825703136822\n",
      "probability of observing that point if it came from cluster 1 =  2.1138211040921487e-10\n",
      "point =  4.849106480214305\n",
      "probability of observing that point if it came from cluster 0 =  0.29731652241026224\n",
      "probability of observing that point if it came from cluster 1 =  2.7276049235083564e-05\n",
      "point =  8.041722539493131\n",
      "probability of observing that point if it came from cluster 0 =  0.012636557375232262\n",
      "probability of observing that point if it came from cluster 1 =  0.4009712526040377\n",
      "point =  9.78287866474352\n",
      "probability of observing that point if it came from cluster 0 =  0.00020072100838049685\n",
      "probability of observing that point if it came from cluster 1 =  0.15676170336088624\n",
      "point =  8.13470102372501\n",
      "probability of observing that point if it came from cluster 0 =  0.010575683664091612\n",
      "probability of observing that point if it came from cluster 1 =  0.425747333814964\n",
      "point =  7.057658106142439\n",
      "probability of observing that point if it came from cluster 0 =  0.06170184917580385\n",
      "probability of observing that point if it came from cluster 1 =  0.09926482615142478\n",
      "8.772126951503878\n",
      "Probability of coming from S_1 = 0.003954330787264297\n",
      "Probability of coming from S_2 = 0.9960456692127359\n",
      "\n",
      "4.536603525045378\n",
      "Probability of coming from S_1 = 0.9999755269256517\n",
      "Probability of coming from S_2 = 2.44730743482449e-05\n",
      "\n",
      "6.311341892466097\n",
      "Probability of coming from S_1 = 0.8748520192966724\n",
      "Probability of coming from S_2 = 0.1251479807033276\n",
      "\n",
      "9.432593980640974\n",
      "Probability of coming from S_1 = 0.0013126324965825318\n",
      "Probability of coming from S_2 = 0.9986873675034175\n",
      "\n",
      "3.0617015000551646\n",
      "Probability of coming from S_1 = 0.9999999977659616\n",
      "Probability of coming from S_2 = 2.23403832004638e-09\n",
      "\n",
      "4.849106480214305\n",
      "Probability of coming from S_1 = 0.9998624077664363\n",
      "Probability of coming from S_2 = 0.00013759223356369976\n",
      "\n",
      "8.041722539493131\n",
      "Probability of coming from S_1 = 0.0205775809162761\n",
      "Probability of coming from S_2 = 0.979422419083724\n",
      "\n",
      "9.78287866474352\n",
      "Probability of coming from S_1 = 0.0008528860979146905\n",
      "Probability of coming from S_2 = 0.9991471139020853\n",
      "\n",
      "8.13470102372501\n",
      "Probability of coming from S_1 = 0.016290415398663306\n",
      "Probability of coming from S_2 = 0.9837095846013367\n",
      "\n",
      "7.057658106142439\n",
      "Probability of coming from S_1 = 0.2929825083466135\n",
      "Probability of coming from S_2 = 0.7070174916533866\n",
      "\n"
     ]
    }
   ],
   "source": [
    "from scipy.stats import norm\n",
    "\n",
    "prob_s0_x = [] # P(S_0 | X_i)\n",
    "prob_s1_x = [] # P(S_1 | X_i)\n",
    "prob_x = [] # P(X_i)\n",
    "\n",
    "k = 2\n",
    "\n",
    "for p in data:\n",
    "    print(\"point = \", p)\n",
    "    pdf_i = []\n",
    "\n",
    "    for j in range(k):\n",
    "        # P(X_i | S_j)\n",
    "        pdf_i.append(norm.pdf(p, mean[j], var[j]))\n",
    "        print(\"probability of observing that point if it came from cluster \" + str(j) + \" = \", pdf_i[j])\n",
    "        # P(S_j) already computed\n",
    "        prob_s[j]\n",
    "\n",
    "    # P(X_i) = P(S_0)P(X_i | S_0) + P(S_1)P(X_i | S_1)\n",
    "    prob_x = prob_s[0] * pdf_i[0] + prob_s[1] * pdf_i[1]\n",
    "\n",
    "    # P(S_j | X_i) = P(X_i | S_j)P(S_j) / P(X_i)\n",
    "    prob_s0_x.append( pdf_i[0] * prob_s[0] / prob_x )\n",
    "    prob_s1_x.append( pdf_i[1] * prob_s[1] / prob_x )  \n",
    "\n",
    "probs = zip(data, prob_s0_x, prob_s1_x)\n",
    "for p in probs:\n",
    "    print(p[0])\n",
    "    print(\"Probability of coming from S_1 = \" + str(p[1]))\n",
    "    print(\"Probability of coming from S_2 = \" + str(p[2]))\n",
    "    print()\n"
   ]
  },
  {
   "cell_type": "markdown",
   "metadata": {},
   "source": [
    "f) Having computed `P(S_j | X_i)`, update the estimates of `mean_j`, `var_j`, and `P(S_j)`. How different are these values from the original ones you got from K means? briefly comment."
   ]
  },
  {
   "cell_type": "code",
   "execution_count": 16,
   "metadata": {},
   "outputs": [
    {
     "name": "stdout",
     "output_type": "stream",
     "text": [
      "P(S_1) = 0.4,  P(S_2) = 0.6\n",
      "mean_1 = 4.842305559014659,  mean_2 = 8.565939032357578\n",
      "var_1 = 1.6830383832142546,  var_2 = 0.8586588427681854\n"
     ]
    }
   ],
   "source": [
    "prob_c = [sum(prob_s0_x)/ len(prob_s0_x), sum(prob_s1_x)/ len(prob_s1_x) ]\n",
    "mean = [sum([x[0] * x[1] for x in zip(prob_s0_x, data)]) / sum(prob_s0_x), sum([x[0] * x[1] for x in zip(prob_s1_x, data)]) / sum(prob_s1_x) ]\n",
    "var = [ sum([x[0] * (x[1] - mean[0]) ** 2 for x in zip(prob_s0_x, data)]) / sum(prob_s0_x) , sum([x[0] * (x[1] - mean[1]) ** 2 for x in zip(prob_s1_x, data)]) / sum(prob_s1_x) ]\n",
    "\n",
    "print(\"P(S_1) = \" + str(prob_s[0]) + \",  P(S_2) = \" + str(prob_s[1]))\n",
    "print(\"mean_1 = \" + str(mean[0]) + \",  mean_2 = \" + str(mean[1]))\n",
    "print(\"var_1 = \" + str(var[0]) + \",  var_2 = \" + str(var[1]))"
   ]
  },
  {
   "cell_type": "markdown",
   "metadata": {},
   "source": [
    "The estimated proportions P(S1) and P(S2) are mostly similar to the initial estimates obtained from K-means \n",
    "(0.7 and 0.3) respectively. Var1 has increased slightly anx Var2 increased significantly. These updates bring the parameters closer to the true distribution. "
   ]
  },
  {
   "cell_type": "markdown",
   "metadata": {},
   "source": [
    "g) Update `P(S_j | X_i)`. Comment on any differences or lack thereof you observe."
   ]
  },
  {
   "cell_type": "code",
   "execution_count": 20,
   "metadata": {},
   "outputs": [
    {
     "name": "stdout",
     "output_type": "stream",
     "text": [
      "Data point: 8.772126951503878\n",
      "Prob belonging to S_1: 0.022408980134235118\n",
      "Prob belonging to S_2: 0.9775910198657649\n",
      "\n",
      "Data point: 4.536603525045378\n",
      "Prob belonging to S_1: 0.9999505878017666\n",
      "Prob belonging to S_2: 4.9412198233459847e-05\n",
      "\n",
      "Data point: 6.311341892466097\n",
      "Prob belonging to S_1: 0.8795123134027281\n",
      "Prob belonging to S_2: 0.12048768659727202\n",
      "\n",
      "Data point: 9.432593980640974\n",
      "Prob belonging to S_1: 0.013540998526618726\n",
      "Prob belonging to S_2: 0.9864590014733813\n",
      "\n",
      "Data point: 3.0617015000551646\n",
      "Prob belonging to S_1: 0.9999999938554471\n",
      "Prob belonging to S_2: 6.144552911589368e-09\n",
      "\n",
      "Data point: 4.849106480214305\n",
      "Prob belonging to S_1: 0.999749084289853\n",
      "Prob belonging to S_2: 0.00025091571014694135\n",
      "\n",
      "Data point: 8.041722539493131\n",
      "Prob belonging to S_1: 0.06303551886281616\n",
      "Prob belonging to S_2: 0.9369644811371838\n",
      "\n",
      "Data point: 9.78287866474352\n",
      "Prob belonging to S_1: 0.01233690857536605\n",
      "Prob belonging to S_2: 0.9876630914246339\n",
      "\n",
      "Data point: 8.13470102372501\n",
      "Prob belonging to S_1: 0.053873560861991555\n",
      "Prob belonging to S_2: 0.9461264391380083\n",
      "\n",
      "Data point: 7.057658106142439\n",
      "Prob belonging to S_1: 0.40083034645453486\n",
      "Prob belonging to S_2: 0.5991696535454653\n",
      "\n"
     ]
    }
   ],
   "source": [
    "updated_prob_s0_x = []\n",
    "updated_prob_s1_x = []\n",
    "\n",
    "for p in data:\n",
    "    pdf_i = []\n",
    "    \n",
    "    for j in range(k):\n",
    "        pdf_i.append(norm.pdf(p, mean[j], var[j]))\n",
    "\n",
    "    prob_x = prob_s[0] * pdf_i[0] + prob_s[1] * pdf_i[1]\n",
    "\n",
    "    updated_prob_s0_x.append(pdf_i[0] * prob_s[0] / prob_x)\n",
    "    updated_prob_s1_x.append(pdf_i[1] * prob_s[1] / prob_x)\n",
    "\n",
    "probs = zip(data, updated_prob_s0_x, updated_prob_s1_x)\n",
    "for p in probs:\n",
    "    print(\"Data point:\", p[0])\n",
    "    print(\"Probability of coming from S_1:\", p[1])\n",
    "    print(\"Probability of coming from S_2:\", p[2])\n",
    "    print()"
   ]
  },
  {
   "cell_type": "markdown",
   "metadata": {},
   "source": [
    "Some data points moved closer to a binary characterization of which cluster they belong to. For example, Data point: 4.849106480214305 has an updated probability of \n",
    "0.999749084289853 belonging to S_1. However, others trend closer to 50/50 like Data point: 7.057658106142439. "
   ]
  },
  {
   "cell_type": "markdown",
   "metadata": {},
   "source": [
    "h) Use `P(S_j | X_i)` to create a hard assignment - label each point as belonging to a specific cluster (0 or 1)"
   ]
  },
  {
   "cell_type": "code",
   "execution_count": 22,
   "metadata": {},
   "outputs": [
    {
     "name": "stdout",
     "output_type": "stream",
     "text": [
      "Hard assignments:\n",
      "Data point 0: Cluster 1 (S_2)\n",
      "Data point 1: Cluster 0 (S_1)\n",
      "Data point 2: Cluster 0 (S_1)\n",
      "Data point 3: Cluster 1 (S_2)\n",
      "Data point 4: Cluster 0 (S_1)\n",
      "Data point 5: Cluster 0 (S_1)\n",
      "Data point 6: Cluster 1 (S_2)\n",
      "Data point 7: Cluster 1 (S_2)\n",
      "Data point 8: Cluster 1 (S_2)\n",
      "Data point 9: Cluster 1 (S_2)\n"
     ]
    }
   ],
   "source": [
    "hard_assignments_labels = []\n",
    "\n",
    "for p in zip(updated_prob_s0_x, updated_prob_s1_x):\n",
    "    if p[0] > p[1]:\n",
    "        hard_assignments_labels.append(\"Cluster 0 (S_1)\")  # Assign to cluster 0 (S_1)\n",
    "    else:\n",
    "        hard_assignments_labels.append(\"Cluster 1 (S_2)\")  # Assign to cluster 1 (S_2)\n",
    "\n",
    "print(\"Hard assignments:\")\n",
    "for i, label in enumerate(hard_assignments_labels):\n",
    "    print(f\"Data point {i}: {label}\")"
   ]
  }
 ],
 "metadata": {
  "kernelspec": {
   "display_name": "Python 3",
   "language": "python",
   "name": "python3"
  },
  "language_info": {
   "codemirror_mode": {
    "name": "ipython",
    "version": 3
   },
   "file_extension": ".py",
   "mimetype": "text/x-python",
   "name": "python",
   "nbconvert_exporter": "python",
   "pygments_lexer": "ipython3",
   "version": "3.11.5"
  },
  "orig_nbformat": 4,
  "vscode": {
   "interpreter": {
    "hash": "e7370f93d1d0cde622a1f8e1c04877d8463912d04d973331ad4851f04de6915a"
   }
  }
 },
 "nbformat": 4,
 "nbformat_minor": 2
}
