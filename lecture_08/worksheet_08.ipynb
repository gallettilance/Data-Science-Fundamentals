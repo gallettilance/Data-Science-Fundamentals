{
 "cells": [
  {
   "attachments": {},
   "cell_type": "markdown",
   "metadata": {},
   "source": [
    "# Worksheet 08\n",
    "\n",
    "Name:  Thian Amarasekera\n",
    "\n",
    "UID: U91933393 \n",
    "\n",
    "### Topics\n",
    "\n",
    "- Soft Clustering\n",
    "- Clustering Aggregation\n",
    "\n",
    "### Probability Review\n",
    "\n",
    "Read through [the following](https://medium.com/@gallettilance/overview-of-probability-3272b72c82c8)\n",
    "\n",
    "### Soft Clustering\n",
    "\n",
    "We generate 10 data points that come from a normal distribution with mean 5 and variance 1."
   ]
  },
  {
   "cell_type": "code",
   "execution_count": 1,
   "metadata": {},
   "outputs": [
    {
     "name": "stdout",
     "output_type": "stream",
     "text": [
      "[6.098804315808113, 5.678021418602914, 4.827619427234815, 4.425005844243177, 5.240624422606968, 3.428903947779625, 5.0131778002417136, 5.649031876614431, 4.468864331256134, 5.969781907994889]\n"
     ]
    }
   ],
   "source": [
    "import random\n",
    "import numpy as np\n",
    "from sklearn.cluster import KMeans\n",
    "\n",
    "mean = 5\n",
    "stdev = 1\n",
    "\n",
    "c1 = np.random.normal(mean, stdev, 10).tolist()\n",
    "print(c1)"
   ]
  },
  {
   "cell_type": "markdown",
   "metadata": {},
   "source": [
    "a) Generate 10 more data points, this time coming from a normal distribution with mean 8 and variance 1."
   ]
  },
  {
   "cell_type": "code",
   "execution_count": 2,
   "metadata": {},
   "outputs": [
    {
     "name": "stdout",
     "output_type": "stream",
     "text": [
      "[8.209501038981761, 9.548671561802763, 8.072924929179573, 7.247392859464998, 7.68558899188849, 8.855066825500836, 8.74466808172594, 7.649015991705814, 8.754631518862457, 9.12357729605894]\n"
     ]
    }
   ],
   "source": [
    "c2 = np.random.normal( 8 , 1 , 10 ).tolist()\n",
    "print(c2)"
   ]
  },
  {
   "cell_type": "markdown",
   "metadata": {},
   "source": [
    "b) Flip a fair coin 10 times. If the coin lands on H, then pick the last data point of `c1` and remove it from `c1`, if T then pick the last data point from `c2` and remove it from `c2`. Add these 10 points to a list called `data`."
   ]
  },
  {
   "cell_type": "code",
   "execution_count": 3,
   "metadata": {},
   "outputs": [
    {
     "name": "stdout",
     "output_type": "stream",
     "text": [
      "[5.969781907994889, 4.468864331256134, 9.12357729605894, 5.649031876614431, 5.0131778002417136, 8.754631518862457, 3.428903947779625, 5.240624422606968, 7.649015991705814, 8.74466808172594]\n"
     ]
    }
   ],
   "source": [
    "data = []\n",
    "for i in range(10):\n",
    "    # flip coin\n",
    "    coin_output = random.choice([0, 1])\n",
    "    if coin_output == 0:\n",
    "        p1 = c1.pop()\n",
    "        data.append(p1)\n",
    "    else:\n",
    "        p2 = c2.pop()\n",
    "        data.append(p2)\n",
    "print(data)"
   ]
  },
  {
   "cell_type": "markdown",
   "metadata": {},
   "source": [
    "c) This `data` is a Gaussian Mixture Distribution with 2 mixture components. Over the next few questions we will walk through the GMM algorithm to see if we can uncover the parameters we used to generate this data. First, please list all these parameters of the GMM that created `data` and the values we know they have."
   ]
  },
  {
   "cell_type": "markdown",
   "metadata": {},
   "source": [
    "\n",
    "We know the mean, variance, and the probability of each component. For c1, the mean is 5, the variance is 1, and the probability is 0.5. For c2, the mean is 8, the variance is 1, and the probability is 0.5."
   ]
  },
  {
   "cell_type": "markdown",
   "metadata": {},
   "source": [
    "d) Let's assume there are two mixture components (note: we could plot the data and make the observation that there are two clusters). The EM algorithm asks us to start with a random `mean_j`, `variance_j`, `P(C_j)` for each component j. One method we could use to find sensible values for these is to apply K means with k=2 here.\n",
    "\n",
    "1. the centroids would be the estimates of the `mean_j`\n",
    "2. the intra-cluster variance could be the estimate of `variance_j`\n",
    "3. the proportion of points in each cluster could be the estimate of `P(C_j)`\n",
    "\n",
    "Go through this process and list the parameter estimates it gives. Are they close or far from the true values?"
   ]
  },
  {
   "cell_type": "code",
   "execution_count": 4,
   "metadata": {},
   "outputs": [
    {
     "name": "stdout",
     "output_type": "stream",
     "text": [
      "[5.969781907994889, 4.468864331256134, 5.649031876614431, 5.0131778002417136, 3.428903947779625, 5.240624422606968]\n",
      "[9.12357729605894, 8.754631518862457, 7.649015991705814, 8.74466808172594]\n",
      "P(C_1) = 0.6,  P(C_2) = 0.4\n",
      "mean_1 = 4.961730714415626,  mean_2 = 8.567973222088288\n",
      "var_1 = 0.6935756279516027,  var_2 = 0.30481016786550424\n"
     ]
    }
   ],
   "source": [
    "kmeans = KMeans(2, init='k-means++').fit(X=np.array(data).reshape(-1, 1))\n",
    "\n",
    "c1 = [x[0] for x in filter(lambda x: x[1] == 0, zip(data, kmeans.labels_))]\n",
    "print(c1)\n",
    "c2 = [x[0] for x in filter(lambda x: x[1] == 1, zip(data, kmeans.labels_))]\n",
    "print(c2)\n",
    "\n",
    "prob_c = [ len(c1) / (len(c1) + len(c2)) , len(c2) / (len(c1) + len(c2)) ]\n",
    "mean = [ sum(c1)/len(c1) , sum(c2)/len(c2) ]\n",
    "var = [ sum(map(lambda x : (x - mean[0])**2, c1)) / len(c1) , sum(map(lambda x : (x - mean[1])**2, c2)) / len(c2) ]\n",
    "\n",
    "print(\"P(C_1) = \" + str(prob_c[0]) + \",  P(C_2) = \" + str(prob_c[1]))\n",
    "print(\"mean_1 = \" + str(mean[0]) + \",  mean_2 = \" + str(mean[1]))\n",
    "print(\"var_1 = \" + str(var[0]) + \",  var_2 = \" + str(var[1]))"
   ]
  },
  {
   "cell_type": "markdown",
   "metadata": {},
   "source": [
    "The actual value for mean is 5 and 8, and the estimated value is 4.9 and 8.1. They are close to the true values. The actual value for variance is 1 and 1, and the estimated value is 0.51 and 0.58, which is not really close. The actual value for P(C_j) is 0.5 and 0.5, and the estimated value is 0.7 and 0.3, which is not as close."
   ]
  },
  {
   "cell_type": "markdown",
   "metadata": {},
   "source": [
    "e) For each data point, compute `P(C_j | X_i)`. Comment on which cluster you think each point belongs to based on the estimated probabilities. How does that compare to the truth?"
   ]
  },
  {
   "cell_type": "code",
   "execution_count": 5,
   "metadata": {},
   "outputs": [
    {
     "name": "stdout",
     "output_type": "stream",
     "text": [
      "point =  5.969781907994889\n",
      "probability of observing that point if it came from cluster 0 =  0.2000382116280434\n",
      "probability of observing that point if it came from cluster 1 =  2.1847387819683278e-16\n",
      "point =  4.468864331256134\n",
      "probability of observing that point if it came from cluster 0 =  0.44685034192065115\n",
      "probability of observing that point if it came from cluster 1 =  7.009171723460944e-40\n",
      "point =  9.12357729605894\n",
      "probability of observing that point if it came from cluster 0 =  8.730511613103304e-09\n",
      "probability of observing that point if it came from cluster 1 =  0.24854060803958478\n",
      "point =  5.649031876614431\n",
      "probability of observing that point if it came from cluster 0 =  0.3520303407334718\n",
      "probability of observing that point if it came from cluster 1 =  1.5975223725750586e-20\n",
      "point =  5.0131778002417136\n",
      "probability of observing that point if it came from cluster 0 =  0.5736162702182198\n",
      "probability of observing that point if it came from cluster 1 =  3.825775642969272e-30\n",
      "point =  8.754631518862457\n",
      "probability of observing that point if it came from cluster 0 =  1.844402986876584e-07\n",
      "probability of observing that point if it came from cluster 1 =  1.08504954666243\n",
      "point =  3.428903947779625\n",
      "probability of observing that point if it came from cluster 0 =  0.05002802061132831\n",
      "probability of observing that point if it came from cluster 1 =  2.462732094272707e-62\n",
      "point =  5.240624422606968\n",
      "probability of observing that point if it came from cluster 0 =  0.530524163273515\n",
      "probability of observing that point if it came from cluster 1 =  1.7425392851722595e-26\n",
      "point =  7.649015991705814\n",
      "probability of observing that point if it came from cluster 0 =  0.0003162217846529784\n",
      "probability of observing that point if it came from cluster 1 =  0.013904599093548428\n",
      "point =  8.74466808172594\n",
      "probability of observing that point if it came from cluster 0 =  1.9949339271557086e-07\n",
      "probability of observing that point if it came from cluster 1 =  1.1063965186486096\n",
      "5.969781907994889\n",
      "Probability of coming from C_1 = 0.9999999999999993\n",
      "Probability of coming from C_2 = 7.281071498581783e-16\n",
      "\n",
      "4.468864331256134\n",
      "Probability of coming from C_1 = 1.0\n",
      "Probability of coming from C_2 = 1.045715021474399e-39\n",
      "\n",
      "9.12357729605894\n",
      "Probability of coming from C_1 = 5.269065217521589e-08\n",
      "Probability of coming from C_2 = 0.9999999473093478\n",
      "\n",
      "5.649031876614431\n",
      "Probability of coming from C_1 = 1.0\n",
      "Probability of coming from C_2 = 3.0253497832914924e-20\n",
      "\n",
      "5.0131778002417136\n",
      "Probability of coming from C_1 = 1.0\n",
      "Probability of coming from C_2 = 4.446382063644324e-30\n",
      "\n",
      "8.754631518862457\n",
      "Probability of coming from C_1 = 2.5497487957210773e-07\n",
      "Probability of coming from C_2 = 0.9999997450251205\n",
      "\n",
      "3.428903947779625\n",
      "Probability of coming from C_1 = 1.0\n",
      "Probability of coming from C_2 = 3.281803629484458e-61\n",
      "\n",
      "5.240624422606968\n",
      "Probability of coming from C_1 = 1.0\n",
      "Probability of coming from C_2 = 2.1897077215361222e-26\n",
      "\n",
      "7.649015991705814\n",
      "Probability of coming from C_1 = 0.03298803308544063\n",
      "Probability of coming from C_2 = 0.9670119669145595\n",
      "\n",
      "8.74466808172594\n",
      "Probability of coming from C_1 = 2.7046362049774007e-07\n",
      "Probability of coming from C_2 = 0.9999997295363795\n",
      "\n"
     ]
    }
   ],
   "source": [
    "from scipy.stats import norm\n",
    "\n",
    "prob_c0_x = [] # P(C_0 | X_i)\n",
    "prob_c1_x = [] # P(C_1 | X_i)\n",
    "prob_x = [] # P(X_i)\n",
    "\n",
    "k = 2\n",
    "\n",
    "for p in data:\n",
    "    print(\"point = \", p)\n",
    "    pdf_i = []\n",
    "\n",
    "    for j in range(k):\n",
    "        # P(X_i | C_j)\n",
    "        pdf_i.append(norm.pdf(p, mean[j], var[j]))\n",
    "        print(\"probability of observing that point if it came from cluster \" + str(j) + \" = \", pdf_i[j])\n",
    "        # P(C_j) already computed\n",
    "        prob_c[j]\n",
    "\n",
    "    # P(X_i) = P(C_0)P(X_i | C_0) + P(C_1)P(X_i | C_1)\n",
    "    prob_x = prob_c[0] * pdf_i[0] + prob_c[1] * pdf_i[1]\n",
    "\n",
    "    # P(C_j | X_i) = P(X_i | C_j)P(C_j) / P(X_i)\n",
    "    prob_c0_x.append( pdf_i[0] * prob_c[0] / prob_x )\n",
    "    prob_c1_x.append( pdf_i[1] * prob_c[1] / prob_x )\n",
    "\n",
    "probs = zip(data, prob_c0_x, prob_c1_x)\n",
    "for p in probs:\n",
    "    print(p[0])\n",
    "    print(\"Probability of coming from C_1 = \" + str(p[1]))\n",
    "    print(\"Probability of coming from C_2 = \" + str(p[2]))\n",
    "    print()"
   ]
  },
  {
   "cell_type": "markdown",
   "metadata": {},
   "source": [
    "f) Having computed `P(C_j | X_i)`, update the estimates of `mean_j`, `var_j`, and `P(C_j)`. How different are these values from the original ones you got from K means? briefly comment."
   ]
  },
  {
   "cell_type": "code",
   "execution_count": 6,
   "metadata": {},
   "outputs": [
    {
     "name": "stdout",
     "output_type": "stream",
     "text": [
      "P(C_1) = 0.6032988611214593,  P(C_2) = 0.3967011388785408\n",
      "mean_1 = 4.976425001257847,  mean_2 = 8.575614860563995\n",
      "var_1 = 0.7290553653040548,  var_2 = 0.3002641172083457\n"
     ]
    }
   ],
   "source": [
    "prob_c = [sum(prob_c0_x)/ len(prob_c0_x), sum(prob_c1_x)/ len(prob_c1_x) ]\n",
    "mean = [sum([x[0] * x[1] for x in zip(prob_c0_x, data)]) / sum(prob_c0_x), sum([x[0] * x[1] for x in zip(prob_c1_x, data)]) / sum(prob_c1_x)]\n",
    "var = [sum([x[0] * (x[1] - mean[0])**2 for x in zip(prob_c0_x, data)]) / sum(prob_c0_x), sum([x[0] * (x[1] - mean[1])**2 for x in zip(prob_c1_x, data)]) / sum(prob_c1_x)]\n",
    "\n",
    "print(\"P(C_1) = \" + str(prob_c[0]) + \",  P(C_2) = \" + str(prob_c[1]))\n",
    "print(\"mean_1 = \" + str(mean[0]) + \",  mean_2 = \" + str(mean[1]))\n",
    "print(\"var_1 = \" + str(var[0]) + \",  var_2 = \" + str(var[1]))"
   ]
  },
  {
   "cell_type": "markdown",
   "metadata": {},
   "source": [
    "The mean_j is 4.4 and 8.1, which is close to the original value. The variance_j is 0.51 and 0.58, which is not close to the original value. The P(C_j) is 0.7 and 0.3, which is not close to the original value."
   ]
  },
  {
   "cell_type": "markdown",
   "metadata": {},
   "source": [
    "g) Update `P(C_j | X_i)`. Comment on any differences or lack thereof you observe."
   ]
  },
  {
   "cell_type": "code",
   "execution_count": 7,
   "metadata": {},
   "outputs": [
    {
     "name": "stdout",
     "output_type": "stream",
     "text": [
      "point =  5.969781907994889\n",
      "probability of observing that point if it came from cluster 0 =  0.2162821420108036\n",
      "probability of observing that point if it came from cluster 1 =  5.871941336744321e-17\n",
      "point =  4.468864331256134\n",
      "probability of observing that point if it came from cluster 0 =  0.42944018197368145\n",
      "probability of observing that point if it came from cluster 1 =  3.1843196197645003e-41\n",
      "point =  9.12357729605894\n",
      "probability of observing that point if it came from cluster 0 =  5.149240671163645e-08\n",
      "probability of observing that point if it came from cluster 1 =  0.2513172390882416\n",
      "point =  5.649031876614431\n",
      "probability of observing that point if it came from cluster 0 =  0.3575416209307948\n",
      "probability of observing that point if it came from cluster 1 =  3.124900867002022e-21\n",
      "point =  5.0131778002417136\n",
      "probability of observing that point if it came from cluster 0 =  0.5465094981122259\n",
      "probability of observing that point if it came from cluster 1 =  3.6072715992567588e-31\n",
      "point =  8.754631518862457\n",
      "probability of observing that point if it came from cluster 0 =  8.059756223278819e-07\n",
      "probability of observing that point if it came from cluster 1 =  1.1122985642814311\n",
      "point =  3.428903947779625\n",
      "probability of observing that point if it came from cluster 0 =  0.05751380778687206\n",
      "probability of observing that point if it came from cluster 1 =  2.115518532643383e-64\n",
      "point =  5.240624422606968\n",
      "probability of observing that point if it came from cluster 0 =  0.5124281777632131\n",
      "probability of observing that point if it came from cluster 1 =  2.16586974297071e-27\n",
      "point =  7.649015991705814\n",
      "probability of observing that point if it came from cluster 0 =  0.0006607880166673574\n",
      "probability of observing that point if it came from cluster 1 =  0.011363176665846816\n",
      "point =  8.74466808172594\n",
      "probability of observing that point if it came from cluster 0 =  8.650463060873075e-07\n",
      "probability of observing that point if it came from cluster 1 =  1.133898036780437\n",
      "Old probabilities(c0):  [0.9999999999999993, 1.0, 5.269065217521589e-08, 1.0, 1.0, 2.5497487957210773e-07, 1.0, 1.0, 0.03298803308544063, 2.7046362049774007e-07]\n",
      "New probabilities(c0):  [0.9999999999999998, 1.0, 3.115945361933925e-07, 1.0, 1.0, 1.1019683196817984e-06, 1.0, 1.0, 0.08125093511194305, 1.1602027937702822e-06]\n",
      "Old probabilities(c1):  [7.281071498581783e-16, 1.045715021474399e-39, 0.9999999473093478, 3.0253497832914924e-20, 4.446382063644324e-30, 0.9999997450251205, 3.281803629484458e-61, 2.1897077215361222e-26, 0.9670119669145595, 0.9999997295363795]\n",
      "New probabilities(c1):  [1.7852210038915167e-16, 4.875789146864193e-41, 0.9999996884054638, 5.746991855020841e-21, 4.340223260215387e-31, 0.9999988980316803, 2.4186646342436995e-63, 2.77926701447318e-27, 0.9187490648880571, 0.9999988397972063]\n"
     ]
    }
   ],
   "source": [
    "prob_c0_x_new = [] # P(C_0 | X_i)\n",
    "prob_c1_x_new = [] # P(C_1 | X_i)\n",
    "\n",
    "for p in data:\n",
    "    print(\"point = \", p)\n",
    "    pdf_i = []\n",
    "\n",
    "    for j in range(k):\n",
    "        # P(X_i | C_j)\n",
    "        pdf_i.append(norm.pdf(p, mean[j], var[j]))\n",
    "        print(\"probability of observing that point if it came from cluster \" + str(j) + \" = \", pdf_i[j])\n",
    "        # P(C_j) already computed\n",
    "        prob_c[j]\n",
    "\n",
    "    # P(X_i) = P(C_0)P(X_i | C_0) + P(C_1)P(X_i | C_1)\n",
    "    prob_x = prob_c[0] * pdf_i[0] + prob_c[1] * pdf_i[1]\n",
    "\n",
    "    # P(C_j | X_i) = P(X_i | C_j)P(C_j) / P(X_i)\n",
    "    prob_c0_x_new.append( pdf_i[0] * prob_c[0] / prob_x )\n",
    "    prob_c1_x_new.append( pdf_i[1] * prob_c[1] / prob_x )\n",
    "\n",
    "print(\"Old probabilities(c0): \", prob_c0_x)\n",
    "print(\"New probabilities(c0): \", prob_c0_x_new)\n",
    "print(\"Old probabilities(c1): \", prob_c1_x)\n",
    "print(\"New probabilities(c1): \", prob_c1_x_new)"
   ]
  },
  {
   "cell_type": "markdown",
   "metadata": {},
   "source": [
    "There is not much of a difference between the updated P(C_j | X_i) and the original."
   ]
  },
  {
   "cell_type": "markdown",
   "metadata": {},
   "source": [
    "h) Use `P(C_j | X_i)` to create a hard assignment - label each point as belonging to a specific cluster (0 or 1)"
   ]
  },
  {
   "cell_type": "code",
   "execution_count": 8,
   "metadata": {},
   "outputs": [
    {
     "name": "stdout",
     "output_type": "stream",
     "text": [
      "Data Point       | Cluster Assignment\n",
      "5.969781907994889 | 0\n",
      "4.468864331256134 | 0\n",
      "9.12357729605894 | 1\n",
      "5.649031876614431 | 0\n",
      "5.0131778002417136 | 0\n",
      "8.754631518862457 | 1\n",
      "3.428903947779625 | 0\n",
      "5.240624422606968 | 0\n",
      "7.649015991705814 | 1\n",
      "8.74466808172594 | 1\n"
     ]
    }
   ],
   "source": [
    "assignment = []\n",
    "\n",
    "for i in range(len(data)):\n",
    "    if prob_c0_x_new[i] > prob_c1_x_new[i]:\n",
    "        assignment.append(0)\n",
    "    else:\n",
    "        assignment.append(1)\n",
    "\n",
    "print(\"Data Point       | Cluster Assignment\")\n",
    "for data_point, cluster in zip(data, assignment):\n",
    "    print(f\"{data_point} | {cluster}\")"
   ]
  },
  {
   "cell_type": "markdown",
   "metadata": {},
   "source": [
    "### Clustering Aggregation\n",
    "\n",
    "| Point | C | P |\n",
    "|-------|---|---|\n",
    "| A     | 0 | a |\n",
    "| B     | 0 | b |\n",
    "| C     | 2 | b |\n",
    "| D     | 1 | c |\n",
    "| E     | 1 | d |\n",
    "\n",
    "a) Fill in the following table where for each pair of points determine whether C and P agree or disagree on how to cluster that pair."
   ]
  },
  {
   "cell_type": "markdown",
   "metadata": {},
   "source": [
    "| Pair | Disagreement |\n",
    "|------|--------------|\n",
    "| A  B |      no       |\n",
    "| A  C |      yes      |\n",
    "| A  D |      yes      |\n",
    "| A  E |      yes      |\n",
    "| B  C |      yes      |\n",
    "| B  D |      yes      |\n",
    "| B  E |      yes      |\n",
    "| C  D |      yes      |\n",
    "| C  E |      yes      |\n",
    "| D  E |       no      |\n"
   ]
  },
  {
   "cell_type": "markdown",
   "metadata": {},
   "source": [
    "As datasets become very large, this process can become computationally challenging.\n",
    "\n",
    "b) Given N points, what is the formula for the number of unique pairs of points one can create?"
   ]
  },
  {
   "cell_type": "markdown",
   "metadata": {},
   "source": [
    " (N C 2) = (N!)/2!(N-2)! \n",
    "\n",
    " (N C 2) = (N(N - 1))/ 2"
   ]
  },
  {
   "cell_type": "markdown",
   "metadata": {},
   "source": [
    "Assume that clustering C clusters all points in the same cluster and clustering P clusters points as such:\n",
    "\n",
    "| Point | P |\n",
    "|-------|---|\n",
    "| A     | 0 |\n",
    "| B     | 0 |\n",
    "| C     | 0 |\n",
    "| D     | 1 |\n",
    "| E     | 1 |\n",
    "| F     | 2 |\n",
    "| G     | 2 |\n",
    "| H     | 2 |\n",
    "| I     | 2 |\n",
    "\n",
    "c) What is the maximum number of disagreements there could be for a dataset of this size? (use the formula from b)?"
   ]
  },
  {
   "cell_type": "markdown",
   "metadata": {},
   "source": [
    "Disagreements = 3(3-1)/2 = 3\n",
    "\n",
    "Disagreements = 2(2-1)/2 = 2\n",
    "\n",
    "Disagreements = 4(4-1)/2 = 6\n",
    "\n",
    "Total Disagreements = 3 + 1 + 6 = 10"
   ]
  },
  {
   "cell_type": "markdown",
   "metadata": {},
   "source": [
    "d) If we look at cluster 0. There are (3 x 2) / 2 = 3 pairs that agree with C (since all points in C are in the same cluster). For each cluster, determine how many agreements there are. How many total agreements are there? How many disagreements does that mean there are between C and P?"
   ]
  },
  {
   "cell_type": "markdown",
   "metadata": {},
   "source": [
    "Agreements = (3 x (3-1))/2 = 3\n",
    "\n",
    "Agreements = (2 x (2-1))/2 = 1\n",
    "\n",
    "Agreements = (4 x (4-1))/2 = 6\n",
    "\n",
    "So, the total number of agreements is 36 - 10 = 26"
   ]
  },
  {
   "cell_type": "markdown",
   "metadata": {},
   "source": [
    "e) Assuming that filtering the dataset by cluster number is a computationally easy operation, describe an algorithm inspired by the above process that can efficiently compute disagreement distances on large datasets."
   ]
  },
  {
   "cell_type": "markdown",
   "metadata": {},
   "source": [
    "1. extract the data points in each distinct cluster\n",
    "2. compute the number of disagreements in each cluster by comparing all pairs of points in that cluster and checking whether they agree or disagree\n",
    "3. compute the total number of disagreements"
   ]
  }
 ],
 "metadata": {
  "interpreter": {
   "hash": "76ca05dc3ea24b2e3b98cdb7774adfbb40773424bf5109b477fd793f623715af"
  },
  "kernelspec": {
   "display_name": "Python 3.9.9 64-bit ('env': venv)",
   "language": "python",
   "name": "python3"
  },
  "language_info": {
   "codemirror_mode": {
    "name": "ipython",
    "version": 3
   },
   "file_extension": ".py",
   "mimetype": "text/x-python",
   "name": "python",
   "nbconvert_exporter": "python",
   "pygments_lexer": "ipython3",
   "version": "3.9.12"
  },
  "orig_nbformat": 4
 },
 "nbformat": 4,
 "nbformat_minor": 2
}
