{
 "cells": [
  {
   "attachments": {},
   "cell_type": "markdown",
   "metadata": {},
   "source": [
    "# Worksheet 08\n",
    "\n",
    "Name:  \n",
    "UID: \n",
    "\n",
    "### Topics\n",
    "\n",
    "- Soft Clustering\n",
    "- Clustering Aggregation\n",
    "\n",
    "### Probability Review\n",
    "\n",
    "Read through [the following](https://medium.com/@gallettilance/overview-of-probability-3272b72c82c8)\n",
    "\n",
    "### Soft Clustering\n",
    "\n",
    "We generate 10 data points that come from a normal distribution with mean 5 and variance 1."
   ]
  },
  {
   "cell_type": "code",
   "execution_count": 8,
   "metadata": {},
   "outputs": [
    {
     "name": "stdout",
     "output_type": "stream",
     "text": [
      "[5.455552270201881, 4.626531901881928, 4.754726687944039, 7.201366551868319, 6.306365621648563, 4.414655667991944, 5.439280327758331, 6.18287784820691, 6.533495946746492, 4.350365788484708]\n"
     ]
    }
   ],
   "source": [
    "import random\n",
    "import numpy as np\n",
    "from sklearn.cluster import KMeans\n",
    "\n",
    "mean = 5\n",
    "stdev = 1\n",
    "\n",
    "c1 = np.random.normal(mean, stdev, 10).tolist()\n",
    "print(c1)"
   ]
  },
  {
   "cell_type": "markdown",
   "metadata": {},
   "source": [
    "a) Generate 10 more data points, this time coming from a normal distribution with mean 8 and variance 1."
   ]
  },
  {
   "cell_type": "code",
   "execution_count": 9,
   "metadata": {},
   "outputs": [
    {
     "name": "stdout",
     "output_type": "stream",
     "text": [
      "[7.363536062408826, 7.030856156599164, 7.446531236422853, 7.61161089630694, 8.40247408223568, 7.7925509945463425, 7.525112058593396, 9.397053158147392, 9.191057916972053, 8.534037762246692]\n"
     ]
    }
   ],
   "source": [
    "mean = 8\n",
    "stdev = 1\n",
    "\n",
    "c2 = np.random.normal(mean, stdev, 10).tolist()\n",
    "print(c2)"
   ]
  },
  {
   "cell_type": "markdown",
   "metadata": {},
   "source": [
    "b) Flip a fair coin 10 times. If the coin lands on H, then pick the last data point of `c1` and remove it from `c1`, if T then pick the last data point from `c2` and remove it from `c2`. Add these 10 points to a list called `data`."
   ]
  },
  {
   "cell_type": "code",
   "execution_count": 10,
   "metadata": {},
   "outputs": [
    {
     "name": "stdout",
     "output_type": "stream",
     "text": [
      "[8.534037762246692, 4.350365788484708, 6.533495946746492, 6.18287784820691, 9.191057916972053, 5.439280327758331, 4.414655667991944, 6.306365621648563, 9.397053158147392, 7.525112058593396]\n"
     ]
    }
   ],
   "source": [
    "data = []\n",
    "for i in range(10):\n",
    "    # flip coin\n",
    "    coin_output = random.choice([0, 1])\n",
    "    if coin_output == 0:\n",
    "        p1 = c1.pop()\n",
    "        data.append(p1)\n",
    "    else:\n",
    "        p2 = c2.pop()\n",
    "        data.append(p2)\n",
    "print(data)"
   ]
  },
  {
   "cell_type": "markdown",
   "metadata": {},
   "source": [
    "c) This `data` is a Gaussian Mixture Distribution with 2 mixture components. Over the next few questions we will walk through the GMM algorithm to see if we can uncover the parameters we used to generate this data. First, please list all these parameters of the GMM that created `data` and the values we know they have."
   ]
  },
  {
   "cell_type": "markdown",
   "metadata": {},
   "source": []
  },
  {
   "cell_type": "markdown",
   "metadata": {},
   "source": [
    "d) Let's assume there are two mixture components (note: we could plot the data and make the observation that there are two clusters). The EM algorithm asks us to start with a random `mean_j`, `variance_j`, `P(C_j)` for each component j. One method we could use to find sensible values for these is to apply K means with k=2 here.\n",
    "\n",
    "1. the centroids would be the estimates of the `mean_j`\n",
    "2. the intra-cluster variance could be the estimate of `variance_j`\n",
    "3. the proportion of points in each cluster could be the estimate of `P(C_j)`\n",
    "\n",
    "Go through this process and list the parameter estimates it gives. Are they close or far from the true values?"
   ]
  },
  {
   "cell_type": "code",
   "execution_count": 11,
   "metadata": {},
   "outputs": [
    {
     "name": "stderr",
     "output_type": "stream",
     "text": [
      "C:\\Users\\XaLyeDaniel\\AppData\\Local\\Packages\\PythonSoftwareFoundation.Python.3.11_qbz5n2kfra8p0\\LocalCache\\local-packages\\Python311\\site-packages\\sklearn\\cluster\\_kmeans.py:1416: FutureWarning: The default value of `n_init` will change from 10 to 'auto' in 1.4. Set the value of `n_init` explicitly to suppress the warning\n",
      "  super()._check_params_vs_input(X, default_n_init=10)\n"
     ]
    },
    {
     "name": "stdout",
     "output_type": "stream",
     "text": [
      "[8.534037762246692, 9.191057916972053, 9.397053158147392, 7.525112058593396]\n",
      "Ellipsis\n"
     ]
    },
    {
     "ename": "TypeError",
     "evalue": "object of type 'ellipsis' has no len()",
     "output_type": "error",
     "traceback": [
      "\u001b[1;31m---------------------------------------------------------------------------\u001b[0m",
      "\u001b[1;31mTypeError\u001b[0m                                 Traceback (most recent call last)",
      "\u001b[1;32mc:\\Users\\XaLyeDaniel\\Desktop\\STUDY\\506\\Data-Science-Fundamentals\\lecture_08\\worksheet_08.ipynb Cell 10\u001b[0m line \u001b[0;36m8\n\u001b[0;32m      <a href='vscode-notebook-cell:/c%3A/Users/XaLyeDaniel/Desktop/STUDY/506/Data-Science-Fundamentals/lecture_08/worksheet_08.ipynb#X12sZmlsZQ%3D%3D?line=4'>5</a>\u001b[0m c2 \u001b[39m=\u001b[39m \u001b[39m.\u001b[39m\u001b[39m.\u001b[39m\u001b[39m.\u001b[39m\n\u001b[0;32m      <a href='vscode-notebook-cell:/c%3A/Users/XaLyeDaniel/Desktop/STUDY/506/Data-Science-Fundamentals/lecture_08/worksheet_08.ipynb#X12sZmlsZQ%3D%3D?line=5'>6</a>\u001b[0m \u001b[39mprint\u001b[39m(c2)\n\u001b[1;32m----> <a href='vscode-notebook-cell:/c%3A/Users/XaLyeDaniel/Desktop/STUDY/506/Data-Science-Fundamentals/lecture_08/worksheet_08.ipynb#X12sZmlsZQ%3D%3D?line=7'>8</a>\u001b[0m prob_c \u001b[39m=\u001b[39m [ \u001b[39mlen\u001b[39m(c1) \u001b[39m/\u001b[39m (\u001b[39mlen\u001b[39m(c1) \u001b[39m+\u001b[39m \u001b[39mlen\u001b[39;49m(c2)) , \u001b[39m.\u001b[39m\u001b[39m.\u001b[39m\u001b[39m.\u001b[39m ]\n\u001b[0;32m      <a href='vscode-notebook-cell:/c%3A/Users/XaLyeDaniel/Desktop/STUDY/506/Data-Science-Fundamentals/lecture_08/worksheet_08.ipynb#X12sZmlsZQ%3D%3D?line=8'>9</a>\u001b[0m mean \u001b[39m=\u001b[39m [ \u001b[39msum\u001b[39m(c1)\u001b[39m/\u001b[39m\u001b[39mlen\u001b[39m(c1) , \u001b[39m.\u001b[39m\u001b[39m.\u001b[39m\u001b[39m.\u001b[39m ]\n\u001b[0;32m     <a href='vscode-notebook-cell:/c%3A/Users/XaLyeDaniel/Desktop/STUDY/506/Data-Science-Fundamentals/lecture_08/worksheet_08.ipynb#X12sZmlsZQ%3D%3D?line=9'>10</a>\u001b[0m var \u001b[39m=\u001b[39m [ \u001b[39msum\u001b[39m(\u001b[39mmap\u001b[39m(\u001b[39mlambda\u001b[39;00m x : (x \u001b[39m-\u001b[39m mean[\u001b[39m0\u001b[39m])\u001b[39m*\u001b[39m\u001b[39m*\u001b[39m\u001b[39m2\u001b[39m, c1)) \u001b[39m/\u001b[39m \u001b[39mlen\u001b[39m(c1) , \u001b[39m.\u001b[39m\u001b[39m.\u001b[39m\u001b[39m.\u001b[39m ]\n",
      "\u001b[1;31mTypeError\u001b[0m: object of type 'ellipsis' has no len()"
     ]
    }
   ],
   "source": [
    "kmeans = KMeans(2, init='k-means++').fit(X=np.array(data).reshape(-1, 1))\n",
    "\n",
    "c1 = [x[0] for x in filter(lambda x: x[1] == 0, zip(data, kmeans.labels_))]\n",
    "print(c1)\n",
    "c2 = ...\n",
    "print(c2)\n",
    "\n",
    "prob_c = [ len(c1) / (len(c1) + len(c2)) , ... ]\n",
    "mean = [ sum(c1)/len(c1) , ... ]\n",
    "var = [ sum(map(lambda x : (x - mean[0])**2, c1)) / len(c1) , ... ]\n",
    "\n",
    "print(\"P(C_1) = \" + str(prob_c[0]) + \",  P(C_2) = \" + str(prob_c[1]))\n",
    "print(\"mean_1 = \" + str(mean[0]) + \",  mean_2 = \" + str(mean[1]))\n",
    "print(\"var_1 = \" + str(var[0]) + \",  var_2 = \" + str(var[1]))"
   ]
  },
  {
   "cell_type": "markdown",
   "metadata": {},
   "source": []
  },
  {
   "cell_type": "markdown",
   "metadata": {},
   "source": [
    "e) For each data point, compute `P(C_j | X_i)`. Comment on which cluster you think each point belongs to based on the estimated probabilities. How does that compare to the truth?"
   ]
  },
  {
   "cell_type": "code",
   "execution_count": null,
   "metadata": {},
   "outputs": [],
   "source": [
    "from scipy.stats import norm\n",
    "\n",
    "prob_c0_x = [] # P(C_0 | X_i)\n",
    "prob_c1_x = [] # P(C_1 | X_i)\n",
    "prob_x = [] # P(X_i)\n",
    "\n",
    "k = 2\n",
    "\n",
    "for p in data:\n",
    "    print(\"point = \", p)\n",
    "    pdf_i = []\n",
    "\n",
    "    for j in range(k):\n",
    "        # P(X_i | C_j)\n",
    "        pdf_i.append(norm.pdf(p, mean[j], var[j]))\n",
    "        print(\"probability of observing that point if it came from cluster \" + str(j) + \" = \", pdf_i[j])\n",
    "        # P(C_j) already computed\n",
    "        prob_c[j]\n",
    "\n",
    "    # P(X_i) = P(C_0)P(X_i | C_0) + P(C_1)P(X_i | C_1)\n",
    "    prob_x = prob_c[0] * pdf_i[0] + prob_c[1] * pdf_i[1]\n",
    "\n",
    "    # P(C_j | X_i) = P(X_i | C_j)P(C_j) / P(X_i)\n",
    "    prob_c0_x.append( ... )\n",
    "    prob_c1_x.append( ... )\n",
    "\n",
    "probs = zip(data, prob_c0_x, prob_c1_x)\n",
    "for p in probs:\n",
    "    print(p[0])\n",
    "    print(\"Probability of coming from C_1 = \" + str(p[1]))\n",
    "    print(\"Probability of coming from C_2 = \" + str(p[2]))\n",
    "    print()\n"
   ]
  },
  {
   "cell_type": "markdown",
   "metadata": {},
   "source": [
    "f) Having computed `P(C_j | X_i)`, update the estimates of `mean_j`, `var_j`, and `P(C_j)`. How different are these values from the original ones you got from K means? briefly comment."
   ]
  },
  {
   "cell_type": "code",
   "execution_count": null,
   "metadata": {},
   "outputs": [],
   "source": [
    "prob_c = [sum(prob_c0_x)/ len(prob_c0_x), ... ]\n",
    "mean = [sum([x[0] * x[1] for x in zip(prob_c0_x, data)]) / sum(prob_c0_x), ... ]\n",
    "var = [ ... , ... ]\n",
    "\n",
    "print(\"P(C_1) = \" + str(prob_c[0]) + \",  P(C_2) = \" + str(prob_c[1]))\n",
    "print(\"mean_1 = \" + str(mean[0]) + \",  mean_2 = \" + str(mean[1]))\n",
    "print(\"var_1 = \" + str(var[0]) + \",  var_2 = \" + str(var[1]))"
   ]
  },
  {
   "cell_type": "markdown",
   "metadata": {},
   "source": []
  },
  {
   "cell_type": "markdown",
   "metadata": {},
   "source": [
    "g) Update `P(C_j | X_i)`. Comment on any differences or lack thereof you observe."
   ]
  },
  {
   "cell_type": "code",
   "execution_count": null,
   "metadata": {},
   "outputs": [],
   "source": []
  },
  {
   "cell_type": "markdown",
   "metadata": {},
   "source": []
  },
  {
   "cell_type": "markdown",
   "metadata": {},
   "source": [
    "h) Use `P(C_j | X_i)` to create a hard assignment - label each point as belonging to a specific cluster (0 or 1)"
   ]
  },
  {
   "cell_type": "code",
   "execution_count": null,
   "metadata": {},
   "outputs": [],
   "source": []
  },
  {
   "cell_type": "markdown",
   "metadata": {},
   "source": [
    "### Clustering Aggregation\n",
    "\n",
    "| Point | C | P |\n",
    "|-------|---|---|\n",
    "| A     | 0 | a |\n",
    "| B     | 0 | b |\n",
    "| C     | 2 | b |\n",
    "| D     | 1 | c |\n",
    "| E     | 1 | d |\n",
    "\n",
    "a) Fill in the following table where for each pair of points determine whether C and P agree or disagree on how to cluster that pair."
   ]
  },
  {
   "cell_type": "markdown",
   "metadata": {},
   "source": [
    "| Pair | Disagreement |\n",
    "|------|--------------|\n",
    "| A  B |      ?       |\n",
    "| A  C |      ?       |\n",
    "| A  D |      ?       |\n",
    "| A  E |      ?       |\n",
    "| B  C |      ?       |\n",
    "| B  D |      ?       |\n",
    "| B  E |      ?       |\n",
    "| C  D |      ?       |\n",
    "| C  E |      ?       |\n",
    "| D  E |      ?       |\n"
   ]
  },
  {
   "cell_type": "markdown",
   "metadata": {},
   "source": [
    "As datasets become very large, this process can become computationally challenging.\n",
    "\n",
    "b) Given N points, what is the formula for the number of unique pairs of points one can create?"
   ]
  },
  {
   "cell_type": "markdown",
   "metadata": {},
   "source": []
  },
  {
   "cell_type": "markdown",
   "metadata": {},
   "source": [
    "Assume that clustering C clusters all points in the same cluster and clustering P clusters points as such:\n",
    "\n",
    "| Point | P |\n",
    "|-------|---|\n",
    "| A     | 0 |\n",
    "| B     | 0 |\n",
    "| C     | 0 |\n",
    "| D     | 1 |\n",
    "| E     | 1 |\n",
    "| F     | 2 |\n",
    "| G     | 2 |\n",
    "| H     | 2 |\n",
    "| I     | 2 |\n",
    "\n",
    "c) What is the maximum number of disagreements there could be for a dataset of this size? (use the formula from b)?"
   ]
  },
  {
   "cell_type": "markdown",
   "metadata": {},
   "source": []
  },
  {
   "cell_type": "markdown",
   "metadata": {},
   "source": [
    "d) If we look at cluster 0. There are (3 x 2) / 2 = 3 pairs that agree with C (since all points in C are in the same cluster). For each cluster, determine how many agreements there are. How many total agreements are there? How many disagreements does that mean there are between C and P?"
   ]
  },
  {
   "cell_type": "markdown",
   "metadata": {},
   "source": []
  },
  {
   "cell_type": "markdown",
   "metadata": {},
   "source": [
    "e) Assuming that filtering the dataset by cluster number is a computationally easy operation, describe an algorithm inspired by the above process that can efficiently compute disagreement distances on large datasets."
   ]
  },
  {
   "cell_type": "markdown",
   "metadata": {},
   "source": []
  }
 ],
 "metadata": {
  "interpreter": {
   "hash": "76ca05dc3ea24b2e3b98cdb7774adfbb40773424bf5109b477fd793f623715af"
  },
  "kernelspec": {
   "display_name": "Python 3.9.9 64-bit ('env': venv)",
   "language": "python",
   "name": "python3"
  },
  "language_info": {
   "codemirror_mode": {
    "name": "ipython",
    "version": 3
   },
   "file_extension": ".py",
   "mimetype": "text/x-python",
   "name": "python",
   "nbconvert_exporter": "python",
   "pygments_lexer": "ipython3",
   "version": "3.11.6"
  },
  "orig_nbformat": 4
 },
 "nbformat": 4,
 "nbformat_minor": 2
}
