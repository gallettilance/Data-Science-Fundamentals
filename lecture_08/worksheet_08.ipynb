{
 "cells": [
  {
   "cell_type": "markdown",
   "metadata": {},
   "source": [
    "# Worksheet 08\n",
    "\n",
    "Name:  Viktoria Zruttova\n",
    "UID: U13977544\n",
    "\n",
    "### Topics\n",
    "\n",
    "- Soft Clustering\n",
    "- Clustering Aggregation\n",
    "\n",
    "### Probability Review\n",
    "\n",
    "Read through [the following](https://medium.com/@gallettilance/overview-of-probability-3272b72c82c8)\n",
    "\n",
    "### Soft Clustering\n",
    "\n",
    "We generate 10 data points that come from a normal distribution with mean 5 and variance 1."
   ]
  },
  {
   "cell_type": "code",
   "execution_count": 17,
   "metadata": {},
   "outputs": [
    {
     "name": "stdout",
     "output_type": "stream",
     "text": [
      "[6.5149014364609865, 4.987564022066045, 4.187641641181017, 4.709033056053418, 5.0981848773142096, 7.485074853462232, 6.164500711586899, 4.808538414682599, 6.549479498974884, 6.058694263788755]\n"
     ]
    }
   ],
   "source": [
    "import random\n",
    "import numpy as np\n",
    "from sklearn.cluster import KMeans\n",
    "\n",
    "mean = 5\n",
    "stdev = 1\n",
    "\n",
    "s1 = np.random.normal(mean, stdev, 10).tolist()\n",
    "print(s1)"
   ]
  },
  {
   "cell_type": "markdown",
   "metadata": {},
   "source": [
    "a) Generate 10 more data points, this time coming from a normal distribution with mean 8 and variance 1."
   ]
  },
  {
   "cell_type": "code",
   "execution_count": 18,
   "metadata": {},
   "outputs": [
    {
     "name": "stdout",
     "output_type": "stream",
     "text": [
      "[9.191251932784233, 6.997380116885031, 7.420603229717188, 7.570736521050409, 7.529131216909604, 9.393493354616833, 8.427069663095192, 7.148352348991734, 7.411130650581626, 7.567313595281277]\n"
     ]
    }
   ],
   "source": [
    "s2 = np.random.normal( 8,1, 10 ).tolist()\n",
    "print(s2)"
   ]
  },
  {
   "cell_type": "markdown",
   "metadata": {},
   "source": [
    "b) Flip a fair coin 10 times. If the coin lands on H, then pick the last data point of `s1` and remove it from `s1`, if T then pick the last data point from `s2` and remove it from `s2`. Add these 10 points to a list called `data`."
   ]
  },
  {
   "cell_type": "code",
   "execution_count": 19,
   "metadata": {},
   "outputs": [
    {
     "name": "stdout",
     "output_type": "stream",
     "text": [
      "[6.058694263788755, 7.567313595281277, 6.549479498974884, 7.411130650581626, 4.808538414682599, 6.164500711586899, 7.485074853462232, 7.148352348991734, 8.427069663095192, 5.0981848773142096]\n"
     ]
    }
   ],
   "source": [
    "data = []\n",
    "for i in range(10):\n",
    "    # flip coin\n",
    "    coin_output = random.choice([0, 1])\n",
    "    if coin_output == 0:\n",
    "        p1 = s1.pop()\n",
    "        data.append(p1)\n",
    "    else:\n",
    "        p2 = s2.pop()\n",
    "        data.append(p2)\n",
    "print(data)"
   ]
  },
  {
   "cell_type": "markdown",
   "metadata": {},
   "source": [
    "c) This `data` is a Gaussian Mixture Distribution with 2 mixture components. Over the next few questions we will walk through the GMM algorithm to see if we can uncover the parameters we used to generate this data. First, please list all these parameters of the GMM that created `data` and the values we know they have."
   ]
  },
  {
   "cell_type": "markdown",
   "metadata": {},
   "source": [
    "We need a prior probability of being species 1 and a prior probability of being species 2, Then we need a mean and a variance for both species 1 and species 2. "
   ]
  },
  {
   "cell_type": "markdown",
   "metadata": {},
   "source": [
    "d) Let's assume there are two mixture components (note: we could plot the data and make the observation that there are two clusters). The EM algorithm asks us to start with a random `mean_j`, `variance_j`, `P(S_j)` for each component j. One method we could use to find sensible values for these is to apply K means with k=2 here.\n",
    "\n",
    "1. the centroids would be the estimates of the `mean_j`\n",
    "2. the intra-cluster variance could be the estimate of `variance_j`\n",
    "3. the proportion of points in each cluster could be the estimate of `P(S_j)`\n",
    "\n",
    "Go through this process and list the parameter estimates it gives. Are they close or far from the true values?"
   ]
  },
  {
   "cell_type": "code",
   "execution_count": 20,
   "metadata": {},
   "outputs": [
    {
     "name": "stdout",
     "output_type": "stream",
     "text": [
      "[7.567313595281277, 7.411130650581626, 7.485074853462232, 7.148352348991734, 8.427069663095192]\n",
      "[6.058694263788755, 6.549479498974884, 4.808538414682599, 6.164500711586899, 5.0981848773142096]\n",
      "P(S_1) = 0.5,  P(S_2) = 0.5\n",
      "mean_1 = 7.607788222282411,  mean_2 = 5.73587955326947\n",
      "var_1 = 0.18753487355039233,  var_2 = 0.4432972786788314\n"
     ]
    },
    {
     "name": "stderr",
     "output_type": "stream",
     "text": [
      "/opt/homebrew/anaconda3/lib/python3.11/site-packages/sklearn/cluster/_kmeans.py:870: FutureWarning: The default value of `n_init` will change from 10 to 'auto' in 1.4. Set the value of `n_init` explicitly to suppress the warning\n",
      "  warnings.warn(\n"
     ]
    }
   ],
   "source": [
    "kmeans = KMeans(2, init='k-means++').fit(X=np.array(data).reshape(-1, 1))\n",
    "\n",
    "s1 = [x[0] for x in filter(lambda x: x[1] == 0, zip(data, kmeans.labels_))]\n",
    "print(s1)\n",
    "s2 = [x[0] for x in filter(lambda x: x[1] == 1, zip(data, kmeans.labels_))]\n",
    "print(s2)\n",
    "\n",
    "prob_s = [ len(s1) / (len(s1) + len(s2)) , len(s2) / (len(s2) + len(s1)) ]\n",
    "mean = [ sum(s1)/len(s1) , sum(s2)/len(s2) ]\n",
    "var = [ sum(map(lambda x : (x - mean[0])**2, s1)) / len(s1) , \n",
    "       sum(map(lambda x : (x - mean[1])**2, s2)) / len(s2)  ]\n",
    "\n",
    "print(\"P(S_1) = \" + str(prob_s[0]) + \",  P(S_2) = \" + str(prob_s[1]))\n",
    "print(\"mean_1 = \" + str(mean[0]) + \",  mean_2 = \" + str(mean[1]))\n",
    "print(\"var_1 = \" + str(var[0]) + \",  var_2 = \" + str(var[1]))"
   ]
  },
  {
   "cell_type": "markdown",
   "metadata": {},
   "source": []
  },
  {
   "cell_type": "markdown",
   "metadata": {},
   "source": [
    "e) For each data point, compute `P(S_j | X_i)`. Comment on which cluster you think each point belongs to based on the estimated probabilities. How does that compare to the truth?"
   ]
  },
  {
   "cell_type": "code",
   "execution_count": 21,
   "metadata": {},
   "outputs": [
    {
     "name": "stdout",
     "output_type": "stream",
     "text": [
      "point =  6.058694263788755\n",
      "probability of observing that point if it came from cluster 0 =  3.245813531366332e-15\n",
      "probability of observing that point if it came from cluster 1 =  0.6903402208680604\n",
      "point =  7.567313595281277\n",
      "probability of observing that point if it came from cluster 0 =  2.078324022079427\n",
      "probability of observing that point if it came from cluster 1 =  0.00017695476285189073\n",
      "point =  6.549479498974884\n",
      "probability of observing that point if it came from cluster 0 =  2.5850261317992795e-07\n",
      "probability of observing that point if it came from cluster 1 =  0.16701777947726892\n",
      "point =  7.411130650581626\n",
      "probability of observing that point if it came from cluster 0 =  1.2275537872282818\n",
      "probability of observing that point if it came from cluster 1 =  0.000712945263981787\n",
      "point =  4.808538414682599\n",
      "probability of observing that point if it came from cluster 0 =  8.850582093344626e-49\n",
      "probability of observing that point if it came from cluster 1 =  0.10091443051666653\n",
      "point =  6.164500711586899\n",
      "probability of observing that point if it came from cluster 0 =  2.9254997775708395e-13\n",
      "probability of observing that point if it came from cluster 1 =  0.5639074360666753\n",
      "point =  7.485074853462232\n",
      "probability of observing that point if it came from cluster 0 =  1.7173205016363904\n",
      "probability of observing that point if it came from cluster 1 =  0.00037432524266196117\n",
      "point =  7.148352348991734\n",
      "probability of observing that point if it came from cluster 0 =  0.10581350350958624\n",
      "probability of observing that point if it came from cluster 1 =  0.005618787197133304\n",
      "point =  8.427069663095192\n",
      "probability of observing that point if it came from cluster 0 =  0.00015257297190056127\n",
      "probability of observing that point if it came from cluster 1 =  8.937431129634671e-09\n",
      "point =  5.0981848773142096\n",
      "probability of observing that point if it came from cluster 0 =  2.761781700631761e-39\n",
      "probability of observing that point if it came from cluster 1 =  0.3197862638909861\n",
      "6.058694263788755\n",
      "Probability of coming from S_1 = 4.701759267749032e-15\n",
      "Probability of coming from S_2 = 0.9999999999999953\n",
      "\n",
      "7.567313595281277\n",
      "Probability of coming from S_1 = 0.9999148642387838\n",
      "Probability of coming from S_2 = 8.513576121610763e-05\n",
      "\n",
      "6.549479498974884\n",
      "Probability of coming from S_1 = 1.547752663763572e-06\n",
      "Probability of coming from S_2 = 0.9999984522473363\n",
      "\n",
      "7.411130650581626\n",
      "Probability of coming from S_1 = 0.999419551759303\n",
      "Probability of coming from S_2 = 0.0005804482406969999\n",
      "\n",
      "4.808538414682599\n",
      "Probability of coming from S_1 = 8.77038303444908e-48\n",
      "Probability of coming from S_2 = 1.0\n",
      "\n",
      "6.164500711586899\n",
      "Probability of coming from S_1 = 5.187907784963872e-13\n",
      "Probability of coming from S_2 = 0.9999999999994812\n",
      "\n",
      "7.485074853462232\n",
      "Probability of coming from S_1 = 0.9997820769808441\n",
      "Probability of coming from S_2 = 0.00021792301915590412\n",
      "\n",
      "7.148352348991734\n",
      "Probability of coming from S_1 = 0.9495766697292306\n",
      "Probability of coming from S_2 = 0.05042333027076937\n",
      "\n",
      "8.427069663095192\n",
      "Probability of coming from S_1 = 0.9999414253552811\n",
      "Probability of coming from S_2 = 5.857464471889648e-05\n",
      "\n",
      "5.0981848773142096\n",
      "Probability of coming from S_1 = 8.63633624230102e-39\n",
      "Probability of coming from S_2 = 1.0\n",
      "\n"
     ]
    }
   ],
   "source": [
    "from scipy.stats import norm\n",
    "\n",
    "prob_s0_x = [] # P(S_0 | X_i)\n",
    "prob_s1_x = [] # P(S_1 | X_i)\n",
    "prob_x = [] # P(X_i)\n",
    "\n",
    "k = 2\n",
    "\n",
    "for p in data:\n",
    "    print(\"point = \", p)\n",
    "    pdf_i = []\n",
    "\n",
    "    for j in range(k):\n",
    "        # P(X_i | S_j)\n",
    "        pdf_i.append(norm.pdf(p, mean[j], var[j]))\n",
    "        print(\"probability of observing that point if it came from cluster \" + str(j) + \" = \", pdf_i[j])\n",
    "        # P(S_j) already computed\n",
    "        prob_s[j]\n",
    "\n",
    "        \n",
    "    # pdf_i[0] is probability p(p | s_0)\n",
    "    \n",
    "    # P(X_i) = P(S_0)P(X_i | S_0) + P(S_1)P(X_i | S_1)\n",
    "    prob_x = prob_s[0] * pdf_i[0] + prob_s[1] * pdf_i[1]\n",
    "\n",
    "    # P(S_j | X_i) = P(X_i | S_j)P(S_j) / P(X_i)\n",
    "    prob_s0_x.append( pdf_i[0] *prob_s[0]/prob_x )\n",
    "    prob_s1_x.append( pdf_i[1] *prob_s[1]/prob_x  )\n",
    "\n",
    "probs = zip(data, prob_s0_x, prob_s1_x)\n",
    "for p in probs:\n",
    "    print(p[0])\n",
    "    print(\"Probability of coming from S_1 = \" + str(p[1]))\n",
    "    print(\"Probability of coming from S_2 = \" + str(p[2]))\n",
    "    print()\n"
   ]
  },
  {
   "cell_type": "markdown",
   "metadata": {},
   "source": [
    "f) Having computed `P(S_j | X_i)`, update the estimates of `mean_j`, `var_j`, and `P(S_j)`. How different are these values from the original ones you got from K means? briefly comment."
   ]
  },
  {
   "cell_type": "code",
   "execution_count": 22,
   "metadata": {},
   "outputs": [
    {
     "name": "stdout",
     "output_type": "stream",
     "text": [
      "P(S_1) = 0.49486361358166303,  P(S_2) = 0.5051363864183369\n",
      "mean_1 = 7.6124887087328315,  mean_2 = 0.5051363864183369\n",
      "var_1 = 0.18729567674450703,  var_2 = 27.970925247948486\n"
     ]
    }
   ],
   "source": [
    "prob_c = [sum(prob_s0_x)/ len(prob_s0_x),  sum(prob_s1_x)/ len(prob_s1_x)]\n",
    "mean = [sum([x[0] * x[1] for x in zip(prob_s0_x, data)]) / sum(prob_s0_x),  \n",
    "        sum(prob_s1_x)/ len(prob_s1_x) ]\n",
    "var = [sum([(x - mean[0]) ** 2 * prob for x, prob in zip(data, prob_s0_x)]) / sum(prob_s0_x),\n",
    "       sum([(x - mean[1]) ** 2 * prob for x, prob in zip(data, prob_s1_x)]) / sum(prob_s1_x)]\n",
    "\n",
    "\n",
    "print(\"P(S_1) = \" + str(prob_c[0]) + \",  P(S_2) = \" + str(prob_c[1]))\n",
    "print(\"mean_1 = \" + str(mean[0]) + \",  mean_2 = \" + str(mean[1]))\n",
    "print(\"var_1 = \" + str(var[0]) + \",  var_2 = \" + str(var[1]))"
   ]
  },
  {
   "cell_type": "markdown",
   "metadata": {},
   "source": []
  },
  {
   "cell_type": "markdown",
   "metadata": {},
   "source": [
    "g) Update `P(S_j | X_i)`. Comment on any differences or lack thereof you observe."
   ]
  },
  {
   "cell_type": "code",
   "execution_count": 25,
   "metadata": {},
   "outputs": [
    {
     "name": "stdout",
     "output_type": "stream",
     "text": [
      "Original P(S_0 | X_i): 4.701759267749032e-15, Updated P(S_0 | X_i): 1.0\n",
      "Original P(S_1 | X_i): 0.9999999999999953, Updated P(S_1 | X_i): 0.08094914891608032\n",
      "\n",
      "Original P(S_0 | X_i): 0.9999148642387838, Updated P(S_0 | X_i): 1.0\n",
      "Original P(S_1 | X_i): 8.513576121610763e-05, Updated P(S_1 | X_i): 78.34059218602802\n",
      "\n",
      "Original P(S_0 | X_i): 1.547752663763572e-06, Updated P(S_0 | X_i): 1.0\n",
      "Original P(S_1 | X_i): 0.9999984522473363, Updated P(S_1 | X_i): 0.010955275996320474\n",
      "\n",
      "Original P(S_0 | X_i): 0.999419551759303, Updated P(S_0 | X_i): 1.0\n",
      "Original P(S_1 | X_i): 0.0005804482406969999, Updated P(S_1 | X_i): 41263.45638887837\n",
      "\n",
      "Original P(S_0 | X_i): 8.77038303444908e-48, Updated P(S_0 | X_i): 1.0\n",
      "Original P(S_1 | X_i): 1.0, Updated P(S_1 | X_i): 2.68066765202749\n",
      "\n",
      "Original P(S_0 | X_i): 5.187907784963872e-13, Updated P(S_0 | X_i): 1.0\n",
      "Original P(S_1 | X_i): 0.9999999999994812, Updated P(S_1 | X_i): 339.58780844873803\n",
      "\n"
     ]
    }
   ],
   "source": [
    "import numpy as np\n",
    "from scipy.stats import norm\n",
    "\n",
    "\n",
    "num_clusters = 2\n",
    "data_points = [1.2, 2.3, 0.8, 3.1, 1.8, 2.5]  \n",
    "\n",
    "# Initialize parameters\n",
    "cluster_means = [1.0, 2.5]  \n",
    "cluster_variances = [0.2, 0.3]  \n",
    "cluster_prior_probabilities = [0.4, 0.6]  \n",
    "\n",
    "updated_prob_cluster_0 = []  \n",
    "updated_prob_cluster_1 = []  \n",
    "\n",
    "for data_point in data_points:\n",
    "    likelihoods = []\n",
    "\n",
    "    for cluster_index in range(num_clusters):\n",
    "       \n",
    "        likelihoods.append(norm.pdf(data_point, cluster_means[cluster_index], \n",
    "                                    np.sqrt(cluster_variances[cluster_index])))\n",
    "\n",
    "  \n",
    "    marginal_likelihood = cluster_prior_probabilities[0] * likelihoods[0] \n",
    "    + cluster_prior_probabilities[1] * likelihoods[1]\n",
    "\n",
    "  \n",
    "    updated_prob_cluster_0.append(likelihoods[0] * cluster_prior_probabilities[0] / marginal_likelihood)\n",
    "    updated_prob_cluster_1.append(likelihoods[1] * cluster_prior_probabilities[1] / marginal_likelihood)\n",
    "\n",
    "\n",
    "for old_prob_0, old_prob_1, new_prob_0, new_prob_1 in zip(prob_s0_x, prob_s1_x, updated_prob_cluster_0, updated_prob_cluster_1):\n",
    "    print(f\"Original P(S_0 | X_i): {old_prob_0}, Updated P(S_0 | X_i): {new_prob_0}\")\n",
    "    print(f\"Original P(S_1 | X_i): {old_prob_1}, Updated P(S_1 | X_i): {new_prob_1}\")\n",
    "    print()"
   ]
  },
  {
   "cell_type": "markdown",
   "metadata": {},
   "source": []
  },
  {
   "cell_type": "markdown",
   "metadata": {},
   "source": [
    "h) Use `P(S_j | X_i)` to create a hard assignment - label each point as belonging to a specific cluster (0 or 1)"
   ]
  },
  {
   "cell_type": "code",
   "execution_count": 26,
   "metadata": {},
   "outputs": [
    {
     "name": "stdout",
     "output_type": "stream",
     "text": [
      "Data point 1.2 is assigned to cluster 0\n",
      "Data point 2.3 is assigned to cluster 1\n",
      "Data point 0.8 is assigned to cluster 0\n",
      "Data point 3.1 is assigned to cluster 1\n",
      "Data point 1.8 is assigned to cluster 1\n",
      "Data point 2.5 is assigned to cluster 1\n"
     ]
    }
   ],
   "source": [
    "cluster_assignments = []\n",
    "\n",
    "for prob_0, prob_1 in zip(updated_prob_cluster_0, updated_prob_cluster_1):\n",
    "    if prob_0 > prob_1:\n",
    "        cluster_assignments.append(0)\n",
    "    else:\n",
    "        cluster_assignments.append(1)\n",
    "\n",
    "\n",
    "for data_point, cluster_label in zip(data_points, cluster_assignments):\n",
    "    print(f\"Data point {data_point} is assigned to cluster {cluster_label}\")"
   ]
  },
  {
   "cell_type": "code",
   "execution_count": null,
   "metadata": {},
   "outputs": [],
   "source": []
  }
 ],
 "metadata": {
  "kernelspec": {
   "display_name": "Python 3 (ipykernel)",
   "language": "python",
   "name": "python3"
  },
  "language_info": {
   "codemirror_mode": {
    "name": "ipython",
    "version": 3
   },
   "file_extension": ".py",
   "mimetype": "text/x-python",
   "name": "python",
   "nbconvert_exporter": "python",
   "pygments_lexer": "ipython3",
   "version": "3.11.3"
  },
  "vscode": {
   "interpreter": {
    "hash": "e7370f93d1d0cde622a1f8e1c04877d8463912d04d973331ad4851f04de6915a"
   }
  }
 },
 "nbformat": 4,
 "nbformat_minor": 2
}
