{
 "cells": [
  {
   "attachments": {},
   "cell_type": "markdown",
   "metadata": {},
   "source": [
    "# Worksheet 08\n",
    "\n",
    "Name: Ryan Chung  \n",
    "UID: U33101958\n",
    "\n",
    "### Topics\n",
    "\n",
    "- Soft Clustering\n",
    "- Clustering Aggregation\n",
    "\n",
    "### Probability Review\n",
    "\n",
    "Read through [the following](https://medium.com/@gallettilance/overview-of-probability-3272b72c82c8)\n",
    "\n",
    "### Soft Clustering\n",
    "\n",
    "We generate 10 data points that come from a normal distribution with mean 5 and variance 1."
   ]
  },
  {
   "cell_type": "code",
   "execution_count": 1,
   "metadata": {},
   "outputs": [
    {
     "name": "stdout",
     "output_type": "stream",
     "text": [
      "[3.780352009244771, 6.082787547466665, 3.6097353426749925, 2.8369058567769843, 5.886912719010031, 5.1764691359030435, 5.356688282979044, 5.333967404363398, 6.313572587269787, 3.6979644523103214]\n"
     ]
    }
   ],
   "source": [
    "import random\n",
    "import numpy as np\n",
    "from sklearn.cluster import KMeans\n",
    "\n",
    "mean = 5\n",
    "stdev = 1\n",
    "\n",
    "s1 = np.random.normal(mean, stdev, 10).tolist()\n",
    "print(s1)"
   ]
  },
  {
   "cell_type": "markdown",
   "metadata": {},
   "source": [
    "a) Generate 10 more data points, this time coming from a normal distribution with mean 8 and variance 1."
   ]
  },
  {
   "cell_type": "code",
   "execution_count": 3,
   "metadata": {},
   "outputs": [
    {
     "name": "stdout",
     "output_type": "stream",
     "text": [
      "[7.132992656710234, 7.4608679218425795, 6.839446499619022, 8.825112910322757, 8.139104779860283, 6.681269494182282, 8.483999192218986, 8.190893792433492, 7.5645077792401025, 7.913961919138005]\n"
     ]
    }
   ],
   "source": [
    "s2 = np.random.normal(8,1,10).tolist()\n",
    "print(s2)"
   ]
  },
  {
   "cell_type": "markdown",
   "metadata": {},
   "source": [
    "b) Flip a fair coin 10 times. If the coin lands on H, then pick the last data point of `c1` and remove it from `c1`, if T then pick the last data point from `c2` and remove it from `c2`. Add these 10 points to a list called `data`."
   ]
  },
  {
   "cell_type": "code",
   "execution_count": 5,
   "metadata": {},
   "outputs": [
    {
     "name": "stdout",
     "output_type": "stream",
     "text": [
      "[7.913961919138005, 3.6979644523103214, 7.5645077792401025, 8.190893792433492, 8.483999192218986, 6.681269494182282, 6.313572587269787, 5.333967404363398, 8.139104779860283, 5.356688282979044]\n"
     ]
    }
   ],
   "source": [
    "data = []\n",
    "for i in range(10):\n",
    "    # flip coin\n",
    "    coin_output = random.choice([0, 1])\n",
    "    if coin_output == 0:\n",
    "        p1 = s1.pop()\n",
    "        data.append(p1)\n",
    "    else:\n",
    "        p2 = s2.pop()\n",
    "        data.append(p2)\n",
    "print(data)"
   ]
  },
  {
   "cell_type": "markdown",
   "metadata": {},
   "source": [
    "c) This `data` is a Gaussian Mixture Distribution with 2 mixture components. Over the next few questions we will walk through the GMM algorithm to see if we can uncover the parameters we used to generate this data. First, please list all these parameters of the GMM that created `data` and the values we know they have."
   ]
  },
  {
   "cell_type": "markdown",
   "metadata": {},
   "source": []
  },
  {
   "cell_type": "markdown",
   "metadata": {},
   "source": [
    "d) Let's assume there are two mixture components (note: we could plot the data and make the observation that there are two clusters). The EM algorithm asks us to start with a random `mean_j`, `variance_j`, `P(S_j)` for each component j. One method we could use to find sensible values for these is to apply K means with k=2 here.\n",
    "\n",
    "1. the centroids would be the estimates of the `mean_j`\n",
    "2. the intra-cluster variance could be the estimate of `variance_j`\n",
    "3. the proportion of points in each cluster could be the estimate of `P(S_j)`\n",
    "\n",
    "Go through this process and list the parameter estimates it gives. Are they close or far from the true values?"
   ]
  },
  {
   "cell_type": "code",
   "execution_count": 8,
   "metadata": {},
   "outputs": [
    {
     "name": "stdout",
     "output_type": "stream",
     "text": [
      "[3.6979644523103214, 6.681269494182282, 6.313572587269787, 5.333967404363398, 5.356688282979044]\n",
      "[7.913961919138005, 7.5645077792401025, 8.190893792433492, 8.483999192218986, 8.139104779860283]\n",
      "P(S_1) = 0.5,  P(S_2) = 0.5\n",
      "mean_1 = 5.4766924442209675,  mean_2 = 8.058493492578174\n",
      "var_1 = 1.0700037896094234,  var_2 = 0.09399887603381765\n"
     ]
    }
   ],
   "source": [
    "kmeans = KMeans(2, init='k-means++').fit(X=np.array(data).reshape(-1, 1))\n",
    "\n",
    "s1 = [x[0] for x in filter(lambda x: x[1] == 0, zip(data, kmeans.labels_))]\n",
    "print(s1)\n",
    "s2 = [x[0] for x in filter(lambda x: x[1] == 1, zip(data, kmeans.labels_))]\n",
    "print(s2)\n",
    "\n",
    "prob_s = [ len(s1) / (len(s1) + len(s2)) , len(s2) / (len(s1) + len(s2))]\n",
    "mean = [ sum(s1)/len(s1) ,  sum(s2)/len(s2)]\n",
    "var = [ sum(map(lambda x : (x - mean[0])**2, s1)) / len(s1) , sum(map(lambda x : (x - mean[1])**2, s2)) / len(s2)]\n",
    "\n",
    "print(\"P(S_1) = \" + str(prob_s[0]) + \",  P(S_2) = \" + str(prob_s[1]))\n",
    "print(\"mean_1 = \" + str(mean[0]) + \",  mean_2 = \" + str(mean[1]))\n",
    "print(\"var_1 = \" + str(var[0]) + \",  var_2 = \" + str(var[1]))"
   ]
  },
  {
   "cell_type": "markdown",
   "metadata": {},
   "source": []
  },
  {
   "cell_type": "markdown",
   "metadata": {},
   "source": [
    "e) For each data point, compute `P(S_j | X_i)`. Comment on which cluster you think each point belongs to based on the estimated probabilities. How does that compare to the truth?"
   ]
  },
  {
   "cell_type": "code",
   "execution_count": 9,
   "metadata": {},
   "outputs": [
    {
     "name": "stdout",
     "output_type": "stream",
     "text": [
      "point =  7.913961919138005\n",
      "probability of observing that point if it came from cluster 0 =  0.027852884624638623\n",
      "probability of observing that point if it came from cluster 1 =  1.30140572477511\n",
      "point =  3.6979644523103214\n",
      "probability of observing that point if it came from cluster 0 =  0.09363831242498322\n",
      "probability of observing that point if it came from cluster 1 =  0.0\n",
      "point =  7.5645077792401025\n",
      "probability of observing that point if it came from cluster 0 =  0.05556314814542237\n",
      "probability of observing that point if it came from cluster 1 =  4.27303052362282e-06\n",
      "point =  8.190893792433492\n",
      "probability of observing that point if it came from cluster 0 =  0.014938089344218742\n",
      "probability of observing that point if it came from cluster 1 =  1.5738968218003908\n",
      "point =  8.483999192218986\n",
      "probability of observing that point if it came from cluster 0 =  0.007181720291060641\n",
      "probability of observing that point if it came from cluster 1 =  0.00015073004850893657\n",
      "point =  6.681269494182282\n",
      "probability of observing that point if it came from cluster 0 =  0.19784357310176473\n",
      "probability of observing that point if it came from cluster 1 =  1.031800442101838e-46\n",
      "point =  6.313572587269787\n",
      "probability of observing that point if it came from cluster 0 =  0.2745936287904215\n",
      "probability of observing that point if it came from cluster 1 =  6.315628477665414e-75\n",
      "point =  5.333967404363398\n",
      "probability of observing that point if it came from cluster 0 =  0.36953980244825985\n",
      "probability of observing that point if it came from cluster 1 =  1.5849774217685915e-182\n",
      "point =  8.139104779860283\n",
      "probability of observing that point if it came from cluster 0 =  0.016869676428957443\n",
      "probability of observing that point if it came from cluster 1 =  2.938251407481891\n",
      "point =  5.356688282979044\n",
      "probability of observing that point if it came from cluster 0 =  0.37050443136557565\n",
      "probability of observing that point if it came from cluster 1 =  1.6982736885150798e-179\n",
      "7.913961919138005\n",
      "Probability of coming from S_1 = 0.02095369887219772\n",
      "Probability of coming from S_2 = 0.9790463011278022\n",
      "\n",
      "3.6979644523103214\n",
      "Probability of coming from S_1 = 1.0\n",
      "Probability of coming from S_2 = 0.0\n",
      "\n",
      "7.5645077792401025\n",
      "Probability of coming from S_1 = 0.9999231018745661\n",
      "Probability of coming from S_2 = 7.689812543383835e-05\n",
      "\n",
      "8.190893792433492\n",
      "Probability of coming from S_1 = 0.009401914094056016\n",
      "Probability of coming from S_2 = 0.9905980859059439\n",
      "\n",
      "8.483999192218986\n",
      "Probability of coming from S_1 = 0.9794434272953038\n",
      "Probability of coming from S_2 = 0.02055657270469623\n",
      "\n",
      "6.681269494182282\n",
      "Probability of coming from S_1 = 1.0\n",
      "Probability of coming from S_2 = 5.215233560157707e-46\n",
      "\n",
      "6.313572587269787\n",
      "Probability of coming from S_1 = 1.0\n",
      "Probability of coming from S_2 = 2.2999909012767736e-74\n",
      "\n",
      "5.333967404363398\n",
      "Probability of coming from S_1 = 1.0\n",
      "Probability of coming from S_2 = 4.289057393189758e-182\n",
      "\n",
      "8.139104779860283\n",
      "Probability of coming from S_1 = 0.0057086244353249565\n",
      "Probability of coming from S_2 = 0.9942913755646751\n",
      "\n",
      "5.356688282979044\n",
      "Probability of coming from S_1 = 1.0\n",
      "Probability of coming from S_2 = 4.583679828755943e-179\n",
      "\n"
     ]
    }
   ],
   "source": [
    "from scipy.stats import norm\n",
    "\n",
    "prob_s0_x = [] # P(S_0 | X_i)\n",
    "prob_s1_x = [] # P(S_1 | X_i)\n",
    "prob_x = [] # P(X_i)\n",
    "\n",
    "k = 2\n",
    "\n",
    "for p in data:\n",
    "    print(\"point = \", p)\n",
    "    pdf_i = []\n",
    "\n",
    "    for j in range(k):\n",
    "        # P(X_i | S_j), calculate pdf and first item is pdf of first cluster, 2nd item is pdf for 2nd cluster ... \n",
    "        pdf_i.append(norm.pdf(p, mean[j], var[j]))\n",
    "        print(\"probability of observing that point if it came from cluster \" + str(j) + \" = \", pdf_i[j])\n",
    "        # P(S_j) already computed\n",
    "        prob_s[j]\n",
    "\n",
    "\n",
    "    # pdf_i[0] is p(p | s_0)\n",
    "        \n",
    "    # P(X_i) = P(S_0)P(X_i | S_0) + P(S_1)P(X_i | S_1)\n",
    "    prob_x = prob_s[0] * pdf_i[0] + prob_s[1] * pdf_i[1]\n",
    "\n",
    "    # P(S_j | X_i) = P(X_i | S_j)P(S_j) / P(X_i)\n",
    "    prob_s0_x.append( pdf_i[0] * prob_s[0] / prob_x )\n",
    "    prob_s1_x.append( pdf_i[1] * prob_s[1] / prob_x )\n",
    "\n",
    "probs = zip(data, prob_s0_x, prob_s1_x)\n",
    "for p in probs:\n",
    "    print(p[0])\n",
    "    print(\"Probability of coming from S_1 = \" + str(p[1]))\n",
    "    print(\"Probability of coming from S_2 = \" + str(p[2]))\n",
    "    print()\n"
   ]
  },
  {
   "cell_type": "markdown",
   "metadata": {},
   "source": [
    "f) Having computed `P(S_j | X_i)`, update the estimates of `mean_j`, `var_j`, and `P(S_j)`. How different are these values from the original ones you got from K means? briefly comment."
   ]
  },
  {
   "cell_type": "code",
   "execution_count": 10,
   "metadata": {},
   "outputs": [
    {
     "name": "stdout",
     "output_type": "stream",
     "text": [
      "P(S_1) = 0.5,  P(S_2) = 0.5\n",
      "mean_1 = 6.20721477354324,  mean_2 = 8.084799614195742\n",
      "var_1 = 2.146263513036785,  var_2 = 3.5407217139670806\n"
     ]
    }
   ],
   "source": [
    "prob_c = [sum(prob_s0_x)/ len(prob_s0_x), sum(prob_s1_x)/ len(prob_s1_x) ]\n",
    "mean = [sum([x[0] * x[1] for x in zip(prob_s0_x, data)]) / sum(prob_s0_x), sum([x[0] * x[1] for x in zip(prob_s1_x, data)]) / sum(prob_s1_x) ]\n",
    "var = [ sum([x[0] * (x[1] - mean[0]) ** 2 for x in zip(prob_s0_x, data)]) / sum(prob_s0_x) , sum([x[0] * (x[1] - mean[0]) ** 2 for x in zip(prob_s1_x, data)]) / sum(prob_s1_x)  ]\n",
    "\n",
    "print(\"P(S_1) = \" + str(prob_s[0]) + \",  P(S_2) = \" + str(prob_s[1]))\n",
    "print(\"mean_1 = \" + str(mean[0]) + \",  mean_2 = \" + str(mean[1]))\n",
    "print(\"var_1 = \" + str(var[0]) + \",  var_2 = \" + str(var[1]))"
   ]
  },
  {
   "cell_type": "markdown",
   "metadata": {},
   "source": []
  },
  {
   "cell_type": "markdown",
   "metadata": {},
   "source": [
    "g) Update `P(S_j | X_i)`. Comment on any differences or lack thereof you observe."
   ]
  },
  {
   "cell_type": "code",
   "execution_count": null,
   "metadata": {},
   "outputs": [],
   "source": []
  },
  {
   "cell_type": "markdown",
   "metadata": {},
   "source": []
  },
  {
   "cell_type": "markdown",
   "metadata": {},
   "source": [
    "h) Use `P(S_j | X_i)` to create a hard assignment - label each point as belonging to a specific cluster (0 or 1)"
   ]
  },
  {
   "cell_type": "code",
   "execution_count": null,
   "metadata": {},
   "outputs": [],
   "source": []
  }
 ],
 "metadata": {
  "kernelspec": {
   "display_name": "Python 3",
   "language": "python",
   "name": "python3"
  },
  "language_info": {
   "codemirror_mode": {
    "name": "ipython",
    "version": 3
   },
   "file_extension": ".py",
   "mimetype": "text/x-python",
   "name": "python",
   "nbconvert_exporter": "python",
   "pygments_lexer": "ipython3",
   "version": "3.11.1"
  },
  "orig_nbformat": 4,
  "vscode": {
   "interpreter": {
    "hash": "e7370f93d1d0cde622a1f8e1c04877d8463912d04d973331ad4851f04de6915a"
   }
  }
 },
 "nbformat": 4,
 "nbformat_minor": 2
}
