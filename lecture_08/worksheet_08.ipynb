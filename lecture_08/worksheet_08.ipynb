{
 "cells": [
  {
   "attachments": {},
   "cell_type": "markdown",
   "metadata": {},
   "source": [
    "# Worksheet 08\n",
    "\n",
    "Name: Akshat Gurbuxani\n",
    "\n",
    "\n",
    "UID: U80105862\n",
    "\n",
    "### Topics\n",
    "\n",
    "- Soft Clustering\n",
    "- Clustering Aggregation\n",
    "\n",
    "### Probability Review\n",
    "\n",
    "Read through [the following](https://medium.com/@gallettilance/overview-of-probability-3272b72c82c8)\n",
    "\n",
    "### Soft Clustering\n",
    "\n",
    "We generate 10 data points that come from a normal distribution with mean 5 and variance 1."
   ]
  },
  {
   "cell_type": "code",
   "execution_count": 2,
   "metadata": {},
   "outputs": [
    {
     "name": "stdout",
     "output_type": "stream",
     "text": [
      "[4.6534465354729955, 4.8818589975605295, 4.537416778830336, 4.990697858860169, 5.002638881457441, 5.531687026609374, 7.292602053313279, 4.995330735815908, 5.48284646011562, 4.242716721459701]\n"
     ]
    }
   ],
   "source": [
    "import random\n",
    "import numpy as np\n",
    "from sklearn.cluster import KMeans\n",
    "\n",
    "mean = 5\n",
    "stdev = 1\n",
    "\n",
    "s1 = np.random.normal(mean, stdev, 10).tolist()\n",
    "print(s1)"
   ]
  },
  {
   "cell_type": "markdown",
   "metadata": {},
   "source": [
    "a) Generate 10 more data points, this time coming from a normal distribution with mean 8 and variance 1."
   ]
  },
  {
   "cell_type": "code",
   "execution_count": 3,
   "metadata": {},
   "outputs": [
    {
     "name": "stdout",
     "output_type": "stream",
     "text": [
      "[8.482797578073573, 7.765988347248856, 7.664981075738338, 8.581067604655383, 8.184483547251544, 6.915616681973214, 8.343364020300621, 7.01932041795256, 10.350124943921404, 6.807074703405841]\n"
     ]
    }
   ],
   "source": [
    "data_points = 10\n",
    "mean = 8\n",
    "stdev = 1\n",
    "s2 = np.random.normal(mean, stdev, data_points).tolist()\n",
    "print(s2)"
   ]
  },
  {
   "cell_type": "markdown",
   "metadata": {},
   "source": [
    "b) Flip a fair coin 10 times. If the coin lands on H, then pick the last data point of `c1` and remove it from `c1`, if T then pick the last data point from `c2` and remove it from `c2`. Add these 10 points to a list called `data`."
   ]
  },
  {
   "cell_type": "code",
   "execution_count": 4,
   "metadata": {},
   "outputs": [
    {
     "name": "stdout",
     "output_type": "stream",
     "text": [
      "[6.807074703405841, 10.350124943921404, 4.242716721459701, 7.01932041795256, 8.343364020300621, 5.48284646011562, 6.915616681973214, 4.995330735815908, 7.292602053313279, 8.184483547251544]\n"
     ]
    }
   ],
   "source": [
    "data = []\n",
    "for i in range(10):\n",
    "    # flip coin\n",
    "    coin_output = random.choice([0, 1])\n",
    "    if coin_output == 0:\n",
    "        p1 = s1.pop()\n",
    "        data.append(p1)\n",
    "    else:\n",
    "        p2 = s2.pop()\n",
    "        data.append(p2)\n",
    "print(data)"
   ]
  },
  {
   "cell_type": "markdown",
   "metadata": {},
   "source": [
    "c) This `data` is a Gaussian Mixture Distribution with 2 mixture components. Over the next few questions we will walk through the GMM algorithm to see if we can uncover the parameters we used to generate this data. First, please list all these parameters of the GMM that created `data` and the values we know they have."
   ]
  },
  {
   "cell_type": "markdown",
   "metadata": {},
   "source": [
    "1. Prior probability, which is, here, the probability of choosing one of the two distributions (0.5).\n",
    "2. Mean of the distribution.\n",
    "3. Variance of the distribution."
   ]
  },
  {
   "cell_type": "markdown",
   "metadata": {},
   "source": [
    "d) Let's assume there are two mixture components (note: we could plot the data and make the observation that there are two clusters). The EM algorithm asks us to start with a random `mean_j`, `variance_j`, `P(S_j)` for each component j. One method we could use to find sensible values for these is to apply K means with k=2 here.\n",
    "\n",
    "1. the centroids would be the estimates of the `mean_j`\n",
    "2. the intra-cluster variance could be the estimate of `variance_j`\n",
    "3. the proportion of points in each cluster could be the estimate of `P(S_j)`\n",
    "\n",
    "Go through this process and list the parameter estimates it gives. Are they close or far from the true values?"
   ]
  },
  {
   "cell_type": "code",
   "execution_count": 5,
   "metadata": {},
   "outputs": [
    {
     "name": "stderr",
     "output_type": "stream",
     "text": [
      "/Users/akshatgurbuxani/Library/Python/3.9/lib/python/site-packages/sklearn/cluster/_kmeans.py:1416: FutureWarning: The default value of `n_init` will change from 10 to 'auto' in 1.4. Set the value of `n_init` explicitly to suppress the warning\n",
      "  super()._check_params_vs_input(X, default_n_init=10)\n"
     ]
    },
    {
     "name": "stdout",
     "output_type": "stream",
     "text": [
      "[6.807074703405841, 10.350124943921404, 7.01932041795256, 8.343364020300621, 6.915616681973214, 7.292602053313279, 8.184483547251544]\n",
      "[4.242716721459701, 5.48284646011562, 4.995330735815908]\n",
      "P(S_1) = 0.7,  P(S_2) = 0.3\n",
      "mean_1 = 7.844655195445496,  mean_2 = 4.90696463913041\n",
      "var_1 = 1.3667426378372765,  var_2 = 0.26022457830484846\n"
     ]
    }
   ],
   "source": [
    "kmeans = KMeans(2, init='k-means++').fit(X=np.array(data).reshape(-1, 1))\n",
    "\n",
    "s1 = [x[0] for x in filter(lambda x: x[1] == 0, zip(data, kmeans.labels_))]\n",
    "print(s1)\n",
    "s2 = [x[0] for x in filter(lambda x: x[1] == 1, zip(data, kmeans.labels_))]\n",
    "print(s2)\n",
    "\n",
    "prob_s = [ len(s1) / (len(s1) + len(s2)) , len(s2) / (len(s1) + len(s2)) ]\n",
    "mean = [ sum(s1)/len(s1) , sum(s2)/len(s2)]\n",
    "var = [ sum(map(lambda x : (x - mean[0])**2, s1)) / len(s1) , sum(map(lambda x : (x - mean[1])**2, s2)) / len(s2) ]\n",
    "\n",
    "print(\"P(S_1) = \" + str(prob_s[0]) + \",  P(S_2) = \" + str(prob_s[1]))\n",
    "print(\"mean_1 = \" + str(mean[0]) + \",  mean_2 = \" + str(mean[1]))\n",
    "print(\"var_1 = \" + str(var[0]) + \",  var_2 = \" + str(var[1]))"
   ]
  },
  {
   "cell_type": "markdown",
   "metadata": {},
   "source": [
    "They are pretty close to the true values."
   ]
  },
  {
   "cell_type": "markdown",
   "metadata": {},
   "source": [
    "e) For each data point, compute `P(S_j | X_i)`. Comment on which cluster you think each point belongs to based on the estimated probabilities. How does that compare to the truth?"
   ]
  },
  {
   "cell_type": "code",
   "execution_count": 6,
   "metadata": {},
   "outputs": [
    {
     "name": "stdout",
     "output_type": "stream",
     "text": [
      "Point =  6.807074703405841\n",
      "Probability of observing that point if it came from cluster 0 = 0.218814035273288\n",
      "Probability of observing that point if it came from cluster 1 = 4.055558510572887e-12\n",
      "Point =  10.350124943921404\n",
      "Probability of observing that point if it came from cluster 0 = 0.05438741767898043\n",
      "Probability of observing that point if it came from cluster 1 = 1.50526765486769e-95\n",
      "Point =  4.242716721459701\n",
      "Probability of observing that point if it came from cluster 0 = 0.009058212726988372\n",
      "Probability of observing that point if it came from cluster 1 = 0.058977544934515784\n",
      "Point =  7.01932041795256\n",
      "Probability of observing that point if it came from cluster 0 = 0.2432420477864768\n",
      "Probability of observing that point if it came from cluster 1 = 7.535932969264615e-15\n",
      "Point =  8.343364020300621\n",
      "Probability of observing that point if it came from cluster 0 = 0.2730936082646331\n",
      "Probability of observing that point if it came from cluster 1 = 2.080694524111701e-38\n",
      "Point =  5.48284646011562\n",
      "Probability of observing that point if it came from cluster 0 = 0.06558169001701447\n",
      "Probability of observing that point if it came from cluster 1 = 0.1324627448928225\n",
      "Point =  6.915616681973214\n",
      "Probability of observing that point if it came from cluster 0 = 0.2316803979710768\n",
      "Probability of observing that point if it came from cluster 1 = 1.7683280611418897e-13\n",
      "Point =  4.995330735815908\n",
      "Probability of observing that point if it came from cluster 0 = 0.03322436120142078\n",
      "Probability of observing that point if it came from cluster 1 = 1.4471783524419624\n",
      "Point =  7.292602053313279\n",
      "Probability of observing that point if it came from cluster 0 = 0.2690268656086944\n",
      "Probability of observing that point if it came from cluster 1 = 8.618000245315419e-19\n",
      "Point =  8.184483547251544\n",
      "Probability of observing that point if it came from cluster 0 = 0.2830080331100182\n",
      "Probability of observing that point if it came from cluster 1 = 5.480546466966361e-35\n",
      "Data Point: 6.807074703405841\n",
      "Probability of coming from S_1: 0.9999999999920568\n",
      "Probability of coming from S_2: 7.943258769240437e-12\n",
      "\n",
      "Data Point: 10.350124943921404\n",
      "Probability of coming from S_1: 1.0\n",
      "Probability of coming from S_2: 1.1861469743549398e-94\n",
      "\n",
      "Data Point: 4.242716721459701\n",
      "Probability of coming from S_1: 0.2638239843684555\n",
      "Probability of coming from S_2: 0.7361760156315446\n",
      "\n",
      "Data Point: 7.01932041795256\n",
      "Probability of coming from S_1: 0.9999999999999868\n",
      "Probability of coming from S_2: 1.3277661439075327e-14\n",
      "\n",
      "Data Point: 8.343364020300621\n",
      "Probability of coming from S_1: 1.0\n",
      "Probability of coming from S_2: 3.265276804850006e-38\n",
      "\n",
      "Data Point: 5.48284646011562\n",
      "Probability of coming from S_1: 0.5360107832086797\n",
      "Probability of coming from S_2: 0.46398921679132044\n",
      "\n",
      "Data Point: 6.915616681973214\n",
      "Probability of coming from S_1: 0.9999999999996729\n",
      "Probability of coming from S_2: 3.271122157865456e-13\n",
      "\n",
      "Data Point: 4.995330735815908\n",
      "Probability of coming from S_1: 0.05084502839969576\n",
      "Probability of coming from S_2: 0.9491549716003043\n",
      "\n",
      "Data Point: 7.292602053313279\n",
      "Probability of coming from S_1: 1.0\n",
      "Probability of coming from S_2: 1.3728846999005395e-18\n",
      "\n",
      "Data Point: 8.184483547251544\n",
      "Probability of coming from S_1: 1.0\n",
      "Probability of coming from S_2: 8.299430948614735e-35\n",
      "\n"
     ]
    }
   ],
   "source": [
    "from scipy.stats import norm\n",
    "\n",
    "# Lists to store probabilities\n",
    "prob_s0_x = [] \n",
    "prob_s1_x = [] \n",
    "\n",
    "k = 2  # Number of clusters\n",
    "\n",
    "for p in data:\n",
    "    print(\"Point = \", p)\n",
    "    pdf_i = []\n",
    "\n",
    "    for j in range(k):\n",
    "        pdf_i.append(norm.pdf(p, mean[j], var[j]))\n",
    "        print(f\"Probability of observing that point if it came from cluster {j} = {pdf_i[j]}\")\n",
    "\n",
    "    prob_x = sum(prob_s[j] * pdf_i[j] for j in range(k))\n",
    "\n",
    "    prob_s0_x.append(pdf_i[0] * prob_s[0] / prob_x)\n",
    "    prob_s1_x.append(pdf_i[1] * prob_s[1] / prob_x)\n",
    "\n",
    "probs = zip(data, prob_s0_x, prob_s1_x)\n",
    "\n",
    "for p in probs:\n",
    "    print(f\"Data Point: {p[0]}\")\n",
    "    print(f\"Probability of coming from S_1: {p[1]}\")\n",
    "    print(f\"Probability of coming from S_2: {p[2]}\\n\")"
   ]
  },
  {
   "cell_type": "markdown",
   "metadata": {},
   "source": [
    "Probabiliy of coming from S_1 is higher than S_2. As expected, close to the truth."
   ]
  },
  {
   "cell_type": "markdown",
   "metadata": {},
   "source": [
    "f) Having computed `P(S_j | X_i)`, update the estimates of `mean_j`, `var_j`, and `P(S_j)`. How different are these values from the original ones you got from K means? briefly comment."
   ]
  },
  {
   "cell_type": "code",
   "execution_count": 7,
   "metadata": {},
   "outputs": [
    {
     "name": "stdout",
     "output_type": "stream",
     "text": [
      "P(S_1) = 0.7,  P(S_2) = 0.3\n",
      "mean_1 = 7.543903317379604,  mean_2 = 4.84279211142856\n",
      "var_1 = 1.9976193230087063,  var_2 = 0.22205030226242742\n"
     ]
    }
   ],
   "source": [
    "prob_c = [sum(prob_s0_x)/ len(prob_s0_x), sum(prob_s1_x)/ len(prob_s1_x) ]\n",
    "mean = [sum([x[0] * x[1] for x in zip(prob_s0_x, data)]) / sum(prob_s0_x), sum([x[0] * x[1] for x in zip(prob_s1_x, data)]) / sum(prob_s1_x) ]\n",
    "var = [sum([x[0] * ((x[1] - mean[0]) ** 2) for x in zip(prob_s0_x, data)]) / sum(prob_s0_x), sum([x[0] * ((x[1] - mean[1]) ** 2) for x in zip(prob_s1_x, data)]) / sum(prob_s1_x)]\n",
    "\n",
    "print(\"P(S_1) = \" + str(prob_s[0]) + \",  P(S_2) = \" + str(prob_s[1]))\n",
    "print(\"mean_1 = \" + str(mean[0]) + \",  mean_2 = \" + str(mean[1]))\n",
    "print(\"var_1 = \" + str(var[0]) + \",  var_2 = \" + str(var[1]))"
   ]
  },
  {
   "cell_type": "markdown",
   "metadata": {},
   "source": [
    "The result of the code demonstrates a significant change in the classification likelihood and the variable value when compared to k-means. Specifically, the likelihood of classification into S_2 has notably increased, while the variable is considerably lower in this new context. This suggests a substantial shift in the clustering results when using the modified approach presented in the code."
   ]
  },
  {
   "cell_type": "markdown",
   "metadata": {},
   "source": [
    "g) Update `P(S_j | X_i)`. Comment on any differences or lack thereof you observe."
   ]
  },
  {
   "cell_type": "code",
   "execution_count": 8,
   "metadata": {},
   "outputs": [
    {
     "name": "stdout",
     "output_type": "stream",
     "text": [
      "Data Point: 6.807074703405841\n",
      "Probability Class 1: 0.9998414511329046\n",
      "Probability Class 2: 0.00015854886709536174\n",
      "\n",
      "Data Point: 10.350124943921404\n",
      "Probability Class 1: 1.0\n",
      "Probability Class 2: 1.286651720912174e-29\n",
      "\n",
      "Data Point: 4.242716721459701\n",
      "Probability Class 1: 0.15189312808685537\n",
      "Probability Class 2: 0.8481068719131447\n",
      "\n",
      "Data Point: 7.01932041795256\n",
      "Probability Class 1: 0.9999795045736538\n",
      "Probability Class 2: 2.0495426346193917e-05\n",
      "\n",
      "Data Point: 8.343364020300621\n",
      "Probability Class 1: 0.9999999999989989\n",
      "Probability Class 2: 1.001096478685369e-12\n",
      "\n",
      "Data Point: 5.48284646011562\n",
      "Probability Class 1: 0.5140614160470725\n",
      "Probability Class 2: 0.48593858395292755\n",
      "\n",
      "Data Point: 6.915616681973214\n",
      "Probability Class 1: 0.9999430386037848\n",
      "Probability Class 2: 5.696139621524411e-05\n",
      "\n",
      "Data Point: 4.995330735815908\n",
      "Probability Class 1: 0.2016035162229683\n",
      "Probability Class 2: 0.7983964837770317\n",
      "\n",
      "Data Point: 7.292602053313279\n",
      "Probability Class 1: 0.9999988721796276\n",
      "Probability Class 2: 1.1278203724160376e-06\n",
      "\n",
      "Data Point: 8.184483547251544\n",
      "Probability Class 1: 0.999999999989068\n",
      "Probability Class 2: 1.0932089668196223e-11\n",
      "\n"
     ]
    }
   ],
   "source": [
    "prob_c0_x = []\n",
    "prob_c1_x = []\n",
    "prob_x = []\n",
    "\n",
    "k = 2\n",
    "\n",
    "for p in data:\n",
    "    pdf_i = [norm.pdf(p, mean[j], np.sqrt(var[j])) for j in range(k)]\n",
    "    prob_x = sum(prob_c[j] * pdf_i[j] for j in range(k))\n",
    "\n",
    "    prob_c0_x.append(pdf_i[0] * prob_c[0] / prob_x)\n",
    "    prob_c1_x.append(pdf_i[1] * prob_c[1] / prob_x)\n",
    "\n",
    "probs = zip(data, prob_c0_x, prob_c1_x)\n",
    "\n",
    "for p in probs:\n",
    "    print(f\"Data Point: {p[0]}\")\n",
    "    print(f\"Probability Class 1: {p[1]}\")\n",
    "    print(f\"Probability Class 2: {p[2]}\\n\")\n"
   ]
  },
  {
   "cell_type": "markdown",
   "metadata": {},
   "source": [
    "Class 1 certainity is higher than class 2"
   ]
  },
  {
   "cell_type": "markdown",
   "metadata": {},
   "source": [
    "h) Use `P(S_j | X_i)` to create a hard assignment - label each point as belonging to a specific cluster (0 or 1)"
   ]
  },
  {
   "cell_type": "code",
   "execution_count": 9,
   "metadata": {},
   "outputs": [
    {
     "name": "stdout",
     "output_type": "stream",
     "text": [
      "6.807074703405841\n",
      "Cluster #1\n",
      "\n",
      "10.350124943921404\n",
      "Cluster #1\n",
      "\n",
      "4.242716721459701\n",
      "Cluster #2\n",
      "\n",
      "7.01932041795256\n",
      "Cluster #1\n",
      "\n",
      "8.343364020300621\n",
      "Cluster #1\n",
      "\n",
      "5.48284646011562\n",
      "Cluster #1\n",
      "\n",
      "6.915616681973214\n",
      "Cluster #1\n",
      "\n",
      "4.995330735815908\n",
      "Cluster #2\n",
      "\n",
      "7.292602053313279\n",
      "Cluster #1\n",
      "\n",
      "8.184483547251544\n",
      "Cluster #1\n",
      "\n"
     ]
    }
   ],
   "source": [
    "probs = zip(data, prob_c0_x, prob_c1_x)\n",
    "\n",
    "for p in probs:\n",
    "    print(p[0])\n",
    "\n",
    "    if p[1] > p[2]:\n",
    "        print(\"Cluster #1\\n\")\n",
    "    elif p[1] < p[2]:\n",
    "        print(\"Cluster #2\\n\")\n",
    "    else:\n",
    "        print(\"Ambiguous\\n\")\n",
    "    \n"
   ]
  }
 ],
 "metadata": {
  "kernelspec": {
   "display_name": "Python 3",
   "language": "python",
   "name": "python3"
  },
  "language_info": {
   "codemirror_mode": {
    "name": "ipython",
    "version": 3
   },
   "file_extension": ".py",
   "mimetype": "text/x-python",
   "name": "python",
   "nbconvert_exporter": "python",
   "pygments_lexer": "ipython3",
   "version": "3.9.6"
  },
  "orig_nbformat": 4,
  "vscode": {
   "interpreter": {
    "hash": "e7370f93d1d0cde622a1f8e1c04877d8463912d04d973331ad4851f04de6915a"
   }
  }
 },
 "nbformat": 4,
 "nbformat_minor": 2
}
