{
 "cells": [
  {
   "attachments": {},
   "cell_type": "markdown",
   "metadata": {},
   "source": [
    "# Worksheet 08\n",
    "\n",
    "Name: Haokun Wu\n",
    "UID: U18377013\n",
    "\n",
    "### Topics\n",
    "\n",
    "- Soft Clustering\n",
    "- Clustering Aggregation\n",
    "\n",
    "### Probability Review\n",
    "\n",
    "Read through [the following](https://medium.com/@gallettilance/overview-of-probability-3272b72c82c8)\n",
    "\n",
    "### Soft Clustering\n",
    "\n",
    "We generate 10 data points that come from a normal distribution with mean 5 and variance 1."
   ]
  },
  {
   "cell_type": "code",
   "execution_count": 3,
   "metadata": {},
   "outputs": [
    {
     "name": "stdout",
     "output_type": "stream",
     "text": [
      "[5.396207446771601, 3.1485032374514943, 5.037613712460368, 6.005984841848162, 5.595632417419438, 6.069185361625392, 6.201117980342201, 4.042670827914843, 5.7329791542707715, 5.1898889928732235]\n"
     ]
    }
   ],
   "source": [
    "import random\n",
    "import numpy as np\n",
    "from sklearn.cluster import KMeans\n",
    "\n",
    "mean = 5\n",
    "stdev = 1\n",
    "\n",
    "c1 = np.random.normal(mean, stdev, 10).tolist()\n",
    "print(c1)"
   ]
  },
  {
   "cell_type": "markdown",
   "metadata": {},
   "source": [
    "a) Generate 10 more data points, this time coming from a normal distribution with mean 8 and variance 1."
   ]
  },
  {
   "cell_type": "code",
   "execution_count": 2,
   "metadata": {},
   "outputs": [
    {
     "name": "stdout",
     "output_type": "stream",
     "text": [
      "[7.954014907903752, 9.325438679551066, 8.102790213599588, 7.308448657056504, 8.442478776761392, 9.064731701975022, 7.202710630415226, 8.022776244634088, 8.342712942228315, 7.92616805074897]\n"
     ]
    }
   ],
   "source": [
    "c2 = np.random.normal(8, 1, 10).tolist()\n",
    "print(c2)\n"
   ]
  },
  {
   "cell_type": "markdown",
   "metadata": {},
   "source": [
    "b) Flip a fair coin 10 times. If the coin lands on H, then pick the last data point of `c1` and remove it from `c1`, if T then pick the last data point from `c2` and remove it from `c2`. Add these 10 points to a list called `data`."
   ]
  },
  {
   "cell_type": "code",
   "execution_count": 4,
   "metadata": {},
   "outputs": [
    {
     "name": "stdout",
     "output_type": "stream",
     "text": [
      "[5.1898889928732235, 7.92616805074897, 5.7329791542707715, 4.042670827914843, 6.201117980342201, 6.069185361625392, 8.342712942228315, 8.022776244634088, 5.595632417419438, 7.202710630415226]\n"
     ]
    }
   ],
   "source": [
    "data = []\n",
    "for i in range(10):\n",
    "    # flip coin\n",
    "    coin_output = random.choice([0, 1])\n",
    "    if coin_output == 0 and c1:  \n",
    "        p1 = c1.pop() \n",
    "        data.append(p1)\n",
    "    elif coin_output == 1 and c2: \n",
    "        p2 = c2.pop()\n",
    "        data.append(p2)\n",
    "print(data)\n"
   ]
  },
  {
   "cell_type": "markdown",
   "metadata": {},
   "source": [
    "c) This `data` is a Gaussian Mixture Distribution with 2 mixture components. Over the next few questions we will walk through the GMM algorithm to see if we can uncover the parameters we used to generate this data. First, please list all these parameters of the GMM that created `data` and the values we know they have."
   ]
  },
  {
   "cell_type": "markdown",
   "metadata": {},
   "source": [
    "GMM is defined by the parameters (µ, Σ, π),"
   ]
  },
  {
   "cell_type": "markdown",
   "metadata": {},
   "source": [
    "d) Let's assume there are two mixture components (note: we could plot the data and make the observation that there are two clusters). The EM algorithm asks us to start with a random `mean_j`, `variance_j`, `P(C_j)` for each component j. One method we could use to find sensible values for these is to apply K means with k=2 here.\n",
    "\n",
    "1. the centroids would be the estimates of the `mean_j`\n",
    "2. the intra-cluster variance could be the estimate of `variance_j`\n",
    "3. the proportion of points in each cluster could be the estimate of `P(C_j)`\n",
    "\n",
    "Go through this process and list the parameter estimates it gives. Are they close or far from the true values?"
   ]
  },
  {
   "cell_type": "code",
   "execution_count": 5,
   "metadata": {},
   "outputs": [
    {
     "name": "stdout",
     "output_type": "stream",
     "text": [
      "P(C_1) = 0.6,  P(C_2) = 0.4\n",
      "mean_1 = 5.471912455740978,  mean_2 = 7.87359196700665\n",
      "var_1 = 0.5157011559217574,  var_2 = 0.17379411261313032\n"
     ]
    },
    {
     "name": "stderr",
     "output_type": "stream",
     "text": [
      "/Users/kyle/Library/Python/3.9/lib/python/site-packages/sklearn/cluster/_kmeans.py:1416: FutureWarning: The default value of `n_init` will change from 10 to 'auto' in 1.4. Set the value of `n_init` explicitly to suppress the warning\n",
      "  super()._check_params_vs_input(X, default_n_init=10)\n"
     ]
    }
   ],
   "source": [
    "kmeans = KMeans(n_clusters=2, init='k-means++').fit(X=np.array(data).reshape(-1, 1))\n",
    "\n",
    "c1 = [x[0] for x in filter(lambda x: x[1] == 0, zip(data, kmeans.labels_))]\n",
    "c2 = [x[0] for x in filter(lambda x: x[1] == 1, zip(data, kmeans.labels_))]\n",
    "\n",
    "prob_c = [len(c1) / (len(c1) + len(c2)), len(c2) / (len(c1) + len(c2))]\n",
    "mean = [sum(c1) / len(c1), sum(c2) / len(c2)]\n",
    "var = [sum(map(lambda x: (x - mean[0])**2, c1)) / len(c1), sum(map(lambda x: (x - mean[1])**2, c2)) / len(c2)]\n",
    "\n",
    "print(\"P(C_1) = \" + str(prob_c[0]) + \",  P(C_2) = \" + str(prob_c[1]))\n",
    "print(\"mean_1 = \" + str(mean[0]) + \",  mean_2 = \" + str(mean[1]))\n",
    "print(\"var_1 = \" + str(var[0]) + \",  var_2 = \" + str(var[1]))\n"
   ]
  },
  {
   "cell_type": "markdown",
   "metadata": {},
   "source": [
    "The estimated means are relatively close to the true values, but the variances from the K-means initialization are underestimated. This isn't surprising, as K-means clustering tends to form spherical clusters, which might not capture the full spread of the data."
   ]
  },
  {
   "cell_type": "markdown",
   "metadata": {},
   "source": [
    "e) For each data point, compute `P(C_j | X_i)`. Comment on which cluster you think each point belongs to based on the estimated probabilities. How does that compare to the truth?"
   ]
  },
  {
   "cell_type": "code",
   "execution_count": 6,
   "metadata": {},
   "outputs": [
    {
     "name": "stdout",
     "output_type": "stream",
     "text": [
      "point =  5.1898889928732235\n",
      "probability of observing that point if it came from cluster 0 =  0.5143042617733339\n",
      "probability of observing that point if it came from cluster 1 =  9.594425291343615e-10\n",
      "point =  7.92616805074897\n",
      "probability of observing that point if it came from cluster 0 =  0.0016159920843926323\n",
      "probability of observing that point if it came from cluster 1 =  0.9493770899851134\n",
      "point =  5.7329791542707715\n",
      "probability of observing that point if it came from cluster 0 =  0.5200109820725884\n",
      "probability of observing that point if it came from cluster 1 =  1.8014773737778776e-06\n",
      "point =  4.042670827914843\n",
      "probability of observing that point if it came from cluster 0 =  0.07666095442879262\n",
      "probability of observing that point if it came from cluster 1 =  4.405574581683192e-19\n",
      "point =  6.201117980342201\n",
      "probability of observing that point if it came from cluster 0 =  0.331749267884466\n",
      "probability of observing that point if it came from cluster 1 =  0.0003061726722995627\n",
      "point =  6.069185361625392\n",
      "probability of observing that point if it came from cluster 0 =  0.3930972251051709\n",
      "probability of observing that point if it came from cluster 1 =  8.181365068778902e-05\n",
      "point =  8.342712942228315\n",
      "probability of observing that point if it came from cluster 0 =  0.00018812619242572932\n",
      "probability of observing that point if it came from cluster 1 =  0.5080661116457027\n",
      "point =  8.022776244634088\n",
      "probability of observing that point if it came from cluster 0 =  0.0010111975810612396\n",
      "probability of observing that point if it came from cluster 1 =  0.8976040771806548\n",
      "point =  5.595632417419438\n",
      "probability of observing that point if it came from cluster 0 =  0.5473508827034828\n",
      "probability of observing that point if it came from cluster 1 =  3.143158789407038e-07\n",
      "point =  7.202710630415226\n",
      "probability of observing that point if it came from cluster 0 =  0.030431399879354393\n",
      "probability of observing that point if it came from cluster 1 =  0.2621424697258549\n",
      "5.1898889928732235\n",
      "Probability of coming from C_1 = 0.9999999987563231\n",
      "Probability of coming from C_2 = 1.2436769428184312e-09\n",
      "\n",
      "7.92616805074897\n",
      "Probability of coming from C_1 = 0.002546738160244521\n",
      "Probability of coming from C_2 = 0.9974532618397556\n",
      "\n",
      "5.7329791542707715\n",
      "Probability of coming from C_1 = 0.9999976904677332\n",
      "Probability of coming from C_2 = 2.3095322667067406e-06\n",
      "\n",
      "4.042670827914843\n",
      "Probability of coming from C_1 = 1.0\n",
      "Probability of coming from C_2 = 3.831219873280132e-18\n",
      "\n",
      "6.201117980342201\n",
      "Probability of coming from C_1 = 0.9993851090986869\n",
      "Probability of coming from C_2 = 0.0006148909013130486\n",
      "\n",
      "6.069185361625392\n",
      "Probability of coming from C_1 = 0.9998612687559991\n",
      "Probability of coming from C_2 = 0.00013873124400096712\n",
      "\n",
      "8.342712942228315\n",
      "Probability of coming from C_1 = 0.0005551101245345596\n",
      "Probability of coming from C_2 = 0.9994448898754654\n",
      "\n",
      "8.022776244634088\n",
      "Probability of coming from C_1 = 0.0016869771531377094\n",
      "Probability of coming from C_2 = 0.9983130228468623\n",
      "\n",
      "5.595632417419438\n",
      "Probability of coming from C_1 = 0.9999996171672584\n",
      "Probability of coming from C_2 = 3.828327416565909e-07\n",
      "\n",
      "7.202710630415226\n",
      "Probability of coming from C_1 = 0.14830619467231373\n",
      "Probability of coming from C_2 = 0.8516938053276862\n",
      "\n"
     ]
    }
   ],
   "source": [
    "from scipy.stats import norm\n",
    "\n",
    "prob_c0_x = [] # P(C_0 | X_i)\n",
    "prob_c1_x = [] # P(C_1 | X_i)\n",
    "prob_x_list = [] # P(X_i) for each data point\n",
    "\n",
    "k = 2\n",
    "\n",
    "for p in data:\n",
    "    print(\"point = \", p)\n",
    "    pdf_i = []\n",
    "\n",
    "    for j in range(k):\n",
    "        # P(X_i | C_j)\n",
    "        pdf_i.append(norm.pdf(p, mean[j], np.sqrt(var[j])))  # Use square root of variance to get std deviation\n",
    "        print(\"probability of observing that point if it came from cluster \" + str(j) + \" = \", pdf_i[j])\n",
    "\n",
    "    # P(X_i) = P(C_0)P(X_i | C_0) + P(C_1)P(X_i | C_1)\n",
    "    prob_x = prob_c[0] * pdf_i[0] + prob_c[1] * pdf_i[1]\n",
    "    prob_x_list.append(prob_x)\n",
    "\n",
    "    # P(C_j | X_i) = P(X_i | C_j)P(C_j) / P(X_i)\n",
    "    prob_c0_x.append(pdf_i[0] * prob_c[0] / prob_x)\n",
    "    prob_c1_x.append(pdf_i[1] * prob_c[1] / prob_x)\n",
    "\n",
    "probs = zip(data, prob_c0_x, prob_c1_x)\n",
    "for p in probs:\n",
    "    print(p[0])\n",
    "    print(\"Probability of coming from C_1 = \" + str(p[1]))\n",
    "    print(\"Probability of coming from C_2 = \" + str(p[2]))\n",
    "    print()\n",
    "\n"
   ]
  },
  {
   "cell_type": "markdown",
   "metadata": {},
   "source": [
    "f) Having computed `P(C_j | X_i)`, update the estimates of `mean_j`, `var_j`, and `P(C_j)`. How different are these values from the original ones you got from K means? briefly comment."
   ]
  },
  {
   "cell_type": "code",
   "execution_count": 7,
   "metadata": {},
   "outputs": [
    {
     "name": "stdout",
     "output_type": "stream",
     "text": [
      "P(C_1) = 0.615233870435623,  P(C_2) = 0.38476612956437684\n",
      "mean_1 = 5.5155224417058255,  mean_2 = 7.89894901716791\n",
      "var_1 = 0.5782023632028392,  var_2 = 0.16320824339288234\n"
     ]
    }
   ],
   "source": [
    "prob_c = [sum(prob_c0_x) / len(prob_c0_x), sum(prob_c1_x) / len(prob_c1_x)]\n",
    "\n",
    "mean = [\n",
    "    sum([x[0] * x[1] for x in zip(prob_c0_x, data)]) / sum(prob_c0_x),\n",
    "    sum([x[0] * x[1] for x in zip(prob_c1_x, data)]) / sum(prob_c1_x)\n",
    "]\n",
    "\n",
    "var = [\n",
    "    sum([prob_c0_x[i] * (data[i] - mean[0])**2 for i in range(len(data))]) / sum(prob_c0_x),\n",
    "    sum([prob_c1_x[i] * (data[i] - mean[1])**2 for i in range(len(data))]) / sum(prob_c1_x)\n",
    "]\n",
    "\n",
    "print(\"P(C_1) = \" + str(prob_c[0]) + \",  P(C_2) = \" + str(prob_c[1]))\n",
    "print(\"mean_1 = \" + str(mean[0]) + \",  mean_2 = \" + str(mean[1]))\n",
    "print(\"var_1 = \" + str(var[0]) + \",  var_2 = \" + str(var[1]))\n"
   ]
  },
  {
   "cell_type": "markdown",
   "metadata": {},
   "source": [
    "The updated parameters, derived from the E-step of the EM algorithm, are indeed a refinement of the initial estimates from K-means. The slight changes in probabilities, means, and variances better represent the Gaussian components underlying the mixed data. The adjustments, while not drastic, bring the parameters closer to the true nature of the data, even if they're not yet on the true values.\n",
    "\n"
   ]
  },
  {
   "cell_type": "markdown",
   "metadata": {},
   "source": [
    "g) Update `P(C_j | X_i)`. Comment on any differences or lack thereof you observe."
   ]
  },
  {
   "cell_type": "code",
   "execution_count": 8,
   "metadata": {},
   "outputs": [
    {
     "name": "stdout",
     "output_type": "stream",
     "text": [
      "Data point 1: 5.1898889928732235\n",
      "Initial P(C_1 | X_i): 0.9999999987563231, Updated: 0.9999999997780985\n",
      "Initial P(C_2 | X_i): 1.2436769428184312e-09, Updated: 2.2190150249055983e-10\n",
      "\n",
      "Data point 2: 7.92616805074897\n",
      "Initial P(C_1 | X_i): 0.002546738160244521, Updated: 0.0055629247866357525\n",
      "Initial P(C_2 | X_i): 0.9974532618397556, Updated: 0.9944370752133643\n",
      "\n",
      "Data point 3: 5.7329791542707715\n",
      "Initial P(C_1 | X_i): 0.9999976904677332, Updated: 0.9999992974441932\n",
      "Initial P(C_2 | X_i): 2.3095322667067406e-06, Updated: 7.025558067539655e-07\n",
      "\n",
      "Data point 4: 4.042670827914843\n",
      "Initial P(C_1 | X_i): 1.0, Updated: 1.0\n",
      "Initial P(C_2 | X_i): 3.831219873280132e-18, Updated: 1.2587187239488694e-19\n",
      "\n",
      "Data point 5: 6.201117980342201\n",
      "Initial P(C_1 | X_i): 0.9993851090986869, Updated: 0.999741819186455\n",
      "Initial P(C_2 | X_i): 0.0006148909013130486, Updated: 0.0002581808135449229\n",
      "\n",
      "Data point 6: 6.069185361625392\n",
      "Initial P(C_1 | X_i): 0.9998612687559991, Updated: 0.9999461243469366\n",
      "Initial P(C_2 | X_i): 0.00013873124400096712, Updated: 5.38756530632724e-05\n",
      "\n",
      "Data point 7: 8.342712942228315\n",
      "Initial P(C_1 | X_i): 0.0005551101245345596, Updated: 0.0015441614605945482\n",
      "Initial P(C_2 | X_i): 0.9994448898754654, Updated: 0.9984558385394054\n",
      "\n",
      "Data point 8: 8.022776244634088\n",
      "Initial P(C_1 | X_i): 0.0016869771531377094, Updated: 0.003863931478864449\n",
      "Initial P(C_2 | X_i): 0.9983130228468623, Updated: 0.9961360685211357\n",
      "\n",
      "Data point 9: 5.595632417419438\n",
      "Initial P(C_1 | X_i): 0.9999996171672584, Updated: 0.9999998965761929\n",
      "Initial P(C_2 | X_i): 3.828327416565909e-07, Updated: 1.0342380701262331e-07\n",
      "\n",
      "Data point 10: 7.202710630415226\n",
      "Initial P(C_1 | X_i): 0.14830619467231373, Updated: 0.24239002423314657\n",
      "Initial P(C_2 | X_i): 0.8516938053276862, Updated: 0.7576099757668534\n",
      "\n"
     ]
    }
   ],
   "source": [
    "from scipy.stats import norm\n",
    "\n",
    "updated_prob_c0_x = [] # Updated P(C_0 | X_i)\n",
    "updated_prob_c1_x = [] # Updated P(C_1 | X_i)\n",
    "\n",
    "for p in data:\n",
    "    pdf_i = []\n",
    "\n",
    "    for j in range(2):\n",
    "        # P(X_i | C_j) for the updated parameters\n",
    "        pdf_i.append(norm.pdf(p, mean[j], np.sqrt(var[j])))\n",
    "\n",
    "    # P(X_i) = P(C_0)P(X_i | C_0) + P(C_1)P(X_i | C_1)\n",
    "    prob_x = prob_c[0] * pdf_i[0] + prob_c[1] * pdf_i[1]\n",
    "\n",
    "    # P(C_j | X_i) = P(X_i | C_j)P(C_j) / P(X_i)\n",
    "    updated_prob_c0_x.append(pdf_i[0] * prob_c[0] / prob_x)\n",
    "    updated_prob_c1_x.append(pdf_i[1] * prob_c[1] / prob_x)\n",
    "\n",
    "# Let's print and compare\n",
    "for i in range(len(data)):\n",
    "    print(f\"Data point {i+1}: {data[i]}\")\n",
    "    print(f\"Initial P(C_1 | X_i): {prob_c0_x[i]}, Updated: {updated_prob_c0_x[i]}\")\n",
    "    print(f\"Initial P(C_2 | X_i): {prob_c1_x[i]}, Updated: {updated_prob_c1_x[i]}\")\n",
    "    print()\n"
   ]
  },
  {
   "cell_type": "markdown",
   "metadata": {},
   "source": [
    "The updates to the parameters have generally caused the posterior probabilities \\( P(C_j | X_i) \\) to increase slightly for \\( C_1 \\) and decrease slightly for \\( C_2 \\). "
   ]
  },
  {
   "cell_type": "markdown",
   "metadata": {},
   "source": [
    "h) Use `P(C_j | X_i)` to create a hard assignment - label each point as belonging to a specific cluster (0 or 1)"
   ]
  },
  {
   "cell_type": "code",
   "execution_count": 9,
   "metadata": {},
   "outputs": [
    {
     "name": "stdout",
     "output_type": "stream",
     "text": [
      "Data point 1: 5.1898889928732235, assigned to cluster 0\n",
      "Data point 2: 7.92616805074897, assigned to cluster 1\n",
      "Data point 3: 5.7329791542707715, assigned to cluster 0\n",
      "Data point 4: 4.042670827914843, assigned to cluster 0\n",
      "Data point 5: 6.201117980342201, assigned to cluster 0\n",
      "Data point 6: 6.069185361625392, assigned to cluster 0\n",
      "Data point 7: 8.342712942228315, assigned to cluster 1\n",
      "Data point 8: 8.022776244634088, assigned to cluster 1\n",
      "Data point 9: 5.595632417419438, assigned to cluster 0\n",
      "Data point 10: 7.202710630415226, assigned to cluster 1\n"
     ]
    }
   ],
   "source": [
    "assignments = []\n",
    "\n",
    "for i in range(len(data)):\n",
    "    if updated_prob_c0_x[i] > updated_prob_c1_x[i]:\n",
    "        assignments.append(0)\n",
    "    else:\n",
    "        assignments.append(1)\n",
    "\n",
    "for i, point in enumerate(data):\n",
    "    print(f\"Data point {i+1}: {point}, assigned to cluster {assignments[i]}\")\n"
   ]
  },
  {
   "cell_type": "markdown",
   "metadata": {},
   "source": [
    "### Clustering Aggregation\n",
    "\n",
    "| Point | C | P |\n",
    "|-------|---|---|\n",
    "| A     | 0 | a |\n",
    "| B     | 0 | b |\n",
    "| C     | 2 | b |\n",
    "| D     | 1 | c |\n",
    "| E     | 1 | d |\n",
    "\n",
    "a) Fill in the following table where for each pair of points determine whether C and P agree or disagree on how to cluster that pair."
   ]
  },
  {
   "cell_type": "markdown",
   "metadata": {},
   "source": [
    "| Pair | Disagreement |\n",
    "|------|--------------|\n",
    "| A  B |      no      |\n",
    "| A  C |      yes     |\n",
    "| A  D |      yes     |\n",
    "| A  E |      yes     |\n",
    "| B  C |      yes     |\n",
    "| B  D |      yes     |\n",
    "| B  E |      yes     |\n",
    "| C  D |      yes     |\n",
    "| C  E |      yes     |\n",
    "| D  E |      no      |\n"
   ]
  },
  {
   "cell_type": "markdown",
   "metadata": {},
   "source": [
    "As datasets become very large, this process can become computationally challenging.\n",
    "\n",
    "b) Given N points, what is the formula for the number of unique pairs of points one can create?"
   ]
  },
  {
   "cell_type": "markdown",
   "metadata": {},
   "source": [
    "N*(N-1)/2"
   ]
  },
  {
   "cell_type": "markdown",
   "metadata": {},
   "source": [
    "Assume that clustering C clusters all points in the same cluster and clustering P clusters points as such:\n",
    "\n",
    "| Point | P |\n",
    "|-------|---|\n",
    "| A     | 0 |\n",
    "| B     | 0 |\n",
    "| C     | 0 |\n",
    "| D     | 1 |\n",
    "| E     | 1 |\n",
    "| F     | 2 |\n",
    "| G     | 2 |\n",
    "| H     | 2 |\n",
    "| I     | 2 |\n",
    "\n",
    "c) What is the maximum number of disagreements there could be for a dataset of this size? (use the formula from b)?"
   ]
  },
  {
   "cell_type": "markdown",
   "metadata": {},
   "source": [
    "3 + 1 + 6 = 10"
   ]
  },
  {
   "cell_type": "markdown",
   "metadata": {},
   "source": [
    "d) If we look at cluster 0. There are (3 x 2) / 2 = 3 pairs that agree with C (since all points in C are in the same cluster). For each cluster, determine how many agreements there are. How many total agreements are there? How many disagreements does that mean there are between C and P?"
   ]
  },
  {
   "cell_type": "markdown",
   "metadata": {},
   "source": [
    "36 - 10 = 26"
   ]
  },
  {
   "cell_type": "markdown",
   "metadata": {},
   "source": [
    "e) Assuming that filtering the dataset by cluster number is a computationally easy operation, describe an algorithm inspired by the above process that can efficiently compute disagreement distances on large datasets."
   ]
  },
  {
   "cell_type": "markdown",
   "metadata": {},
   "source": [
    "For each cluster in P, we quickly filter and isolate its data points. We then calculate the number of unique point pairs within each cluster, treating these as \"agreements\" since both clustering methods group them together. The total disagreements are then deduced by subtracting the total agreements from the overall possible unique pairs in the dataset. "
   ]
  }
 ],
 "metadata": {
  "interpreter": {
   "hash": "76ca05dc3ea24b2e3b98cdb7774adfbb40773424bf5109b477fd793f623715af"
  },
  "kernelspec": {
   "display_name": "Python 3.9.9 64-bit ('env': venv)",
   "language": "python",
   "name": "python3"
  },
  "language_info": {
   "codemirror_mode": {
    "name": "ipython",
    "version": 3
   },
   "file_extension": ".py",
   "mimetype": "text/x-python",
   "name": "python",
   "nbconvert_exporter": "python",
   "pygments_lexer": "ipython3",
   "version": "3.9.6"
  },
  "orig_nbformat": 4
 },
 "nbformat": 4,
 "nbformat_minor": 2
}
