{
 "cells": [
  {
   "cell_type": "markdown",
   "metadata": {},
   "source": [
    "# Worksheet 08\n",
    "\n",
    "Name:  Duc Minh Nguyen\n",
    "UID: U17531382\n",
    "\n",
    "### Topics\n",
    "\n",
    "- Soft Clustering\n",
    "- Clustering Aggregation\n",
    "\n",
    "### Probability Review\n",
    "\n",
    "Read through [the following](https://medium.com/@gallettilance/overview-of-probability-3272b72c82c8)\n",
    "\n",
    "### Soft Clustering\n",
    "\n",
    "We generate 10 data points that come from a normal distribution with mean 5 and variance 1."
   ]
  },
  {
   "cell_type": "code",
   "execution_count": 7,
   "metadata": {},
   "outputs": [
    {
     "name": "stdout",
     "output_type": "stream",
     "text": [
      "[4.682816683542345, 5.140717370511015, 3.761607731171619, 5.098722127495119, 4.387056891921894, 4.807984988155657, 5.773716596025937, 6.374420563817723, 6.06444239224316, 5.923727399092353]\n"
     ]
    }
   ],
   "source": [
    "import random\n",
    "import numpy as np\n",
    "from sklearn.cluster import KMeans\n",
    "\n",
    "mean = 5\n",
    "stdev = 1\n",
    "\n",
    "c1 = np.random.normal(mean, stdev, 10).tolist()\n",
    "print(c1)"
   ]
  },
  {
   "cell_type": "markdown",
   "metadata": {},
   "source": [
    "a) Generate 10 more data points, this time coming from a normal distribution with mean 8 and variance 1."
   ]
  },
  {
   "cell_type": "code",
   "execution_count": 8,
   "metadata": {},
   "outputs": [
    {
     "name": "stdout",
     "output_type": "stream",
     "text": [
      "[6.74846742075453, 8.301766798238829, 8.580686258489141, 9.36200100961623, 7.9129243400408384, 6.807023102821784, 9.620855415382874, 8.864211660342427, 7.72274230732898, 8.315586557846666]\n"
     ]
    }
   ],
   "source": [
    "c2 = np.random.normal( 8 , 1 , 10 ).tolist()\n",
    "print(c2)"
   ]
  },
  {
   "cell_type": "markdown",
   "metadata": {},
   "source": [
    "b) Flip a fair coin 10 times. If the coin lands on H, then pick the last data point of `c1` and remove it from `c1`, if T then pick the last data point from `c2` and remove it from `c2`. Add these 10 points to a list called `data`."
   ]
  },
  {
   "cell_type": "code",
   "execution_count": 11,
   "metadata": {},
   "outputs": [
    {
     "name": "stdout",
     "output_type": "stream",
     "text": [
      "[5.923727399092353, 6.06444239224316, 8.315586557846666, 7.72274230732898, 8.864211660342427, 9.620855415382874, 6.807023102821784, 6.374420563817723, 5.773716596025937, 4.807984988155657]\n"
     ]
    }
   ],
   "source": [
    "data = []\n",
    "for i in range(10):\n",
    "    # flip coin\n",
    "    coin_output = random.choice([0, 1])\n",
    "    if coin_output == 0:\n",
    "        p1 = c1[-1]\n",
    "        c1.remove(p1)\n",
    "        data.append(p1)\n",
    "    else:\n",
    "        p2 = c2[-1]\n",
    "        c2.remove(p2)\n",
    "        data.append(p2)\n",
    "print(data)"
   ]
  },
  {
   "cell_type": "markdown",
   "metadata": {},
   "source": [
    "c) This `data` is a Gaussian Mixture Distribution with 2 mixture components. Over the next few questions we will walk through the GMM algorithm to see if we can uncover the parameters we used to generate this data. First, please list all these parameters of the GMM that created `data` and the values we know they have."
   ]
  },
  {
   "cell_type": "markdown",
   "metadata": {},
   "source": [
    "Prior parameter is 0.5 when we do the coin flip. Next are mean and variances."
   ]
  },
  {
   "cell_type": "markdown",
   "metadata": {},
   "source": [
    "d) Let's assume there are two mixture components (note: we could plot the data and make the observation that there are two clusters). The EM algorithm asks us to start with a random `mean_j`, `variance_j`, `P(C_j)` for each component j. One method we could use to find sensible values for these is to apply K means with k=2 here.\n",
    "\n",
    "1. the centroids would be the estimates of the `mean_j`\n",
    "2. the intra-cluster variance could be the estimate of `variance_j`\n",
    "3. the proportion of points in each cluster could be the estimate of `P(C_j)`\n",
    "\n",
    "Go through this process and list the parameter estimates it gives. Are they close or far from the true values?"
   ]
  },
  {
   "cell_type": "code",
   "execution_count": 12,
   "metadata": {},
   "outputs": [
    {
     "name": "stderr",
     "output_type": "stream",
     "text": [
      "C:\\Users\\Minhm\\anaconda3\\Lib\\site-packages\\sklearn\\cluster\\_kmeans.py:1412: FutureWarning: The default value of `n_init` will change from 10 to 'auto' in 1.4. Set the value of `n_init` explicitly to suppress the warning\n",
      "  super()._check_params_vs_input(X, default_n_init=10)\n",
      "C:\\Users\\Minhm\\anaconda3\\Lib\\site-packages\\sklearn\\cluster\\_kmeans.py:1436: UserWarning: KMeans is known to have a memory leak on Windows with MKL, when there are less chunks than available threads. You can avoid it by setting the environment variable OMP_NUM_THREADS=1.\n",
      "  warnings.warn(\n"
     ]
    },
    {
     "name": "stdout",
     "output_type": "stream",
     "text": [
      "[5.923727399092353, 6.06444239224316, 6.807023102821784, 6.374420563817723, 5.773716596025937, 4.807984988155657]\n",
      "[8.315586557846666, 7.72274230732898, 8.864211660342427, 9.620855415382874]\n",
      "P(C_1) = 0.6,  P(C_2) = 0.4\n",
      "mean_1 = 5.958552507026102,  mean_2 = 8.630848985225237\n",
      "var_1 = 0.37720732966639164,  var_2 = 7.63082321900743\n"
     ]
    }
   ],
   "source": [
    "kmeans = KMeans(2, init='k-means++').fit(X=np.array(data).reshape(-1, 1))\n",
    "\n",
    "c1 = [x[0] for x in filter(lambda x: x[1] == 0, zip(data, kmeans.labels_))]\n",
    "print(c1)\n",
    "c2 = [x[0] for x in filter(lambda x: x[1] == 1, zip(data, kmeans.labels_))]\n",
    "print(c2)\n",
    "\n",
    "prob_c = [ len(c1) / (len(c1) + len(c2)) , len(c2) / (len(c1) + len(c2)) ]\n",
    "mean = [ sum(c1)/len(c1) , sum(c2)/len(c2) ]\n",
    "var = [ sum(map(lambda x : (x - mean[0])**2, c1)) / len(c1) , sum(map(lambda x : (x - mean[0])**2, c2)) / len(c2) ]\n",
    "\n",
    "print(\"P(C_1) = \" + str(prob_c[0]) + \",  P(C_2) = \" + str(prob_c[1]))\n",
    "print(\"mean_1 = \" + str(mean[0]) + \",  mean_2 = \" + str(mean[1]))\n",
    "print(\"var_1 = \" + str(var[0]) + \",  var_2 = \" + str(var[1]))"
   ]
  },
  {
   "cell_type": "markdown",
   "metadata": {},
   "source": [
    "The mean is close for both but variance is very far for c2."
   ]
  },
  {
   "cell_type": "markdown",
   "metadata": {},
   "source": [
    "e) For each data point, compute `P(C_j | X_i)`. Comment on which cluster you think each point belongs to based on the estimated probabilities. How does that compare to the truth?"
   ]
  },
  {
   "cell_type": "code",
   "execution_count": 13,
   "metadata": {},
   "outputs": [
    {
     "name": "stdout",
     "output_type": "stream",
     "text": [
      "point =  5.923727399092353\n",
      "probability of observing that point if it came from cluster 0 =  1.0531229072568504\n",
      "probability of observing that point if it came from cluster 1 =  0.049091857486819136\n",
      "point =  6.06444239224316\n",
      "probability of observing that point if it came from cluster 0 =  1.0167585988039882\n",
      "probability of observing that point if it came from cluster 1 =  0.049405664542388546\n",
      "point =  8.315586557846666\n",
      "probability of observing that point if it came from cluster 0 =  3.513160624009808e-09\n",
      "probability of observing that point if it came from cluster 1 =  0.052235773514886695\n",
      "point =  7.72274230732898\n",
      "probability of observing that point if it came from cluster 0 =  1.8811679579494288e-05\n",
      "probability of observing that point if it came from cluster 1 =  0.051911477395479494\n",
      "point =  8.864211660342427\n",
      "probability of observing that point if it came from cluster 0 =  1.3783519093491522e-13\n",
      "probability of observing that point if it came from cluster 1 =  0.052255931043974\n",
      "point =  9.620855415382874\n",
      "probability of observing that point if it came from cluster 0 =  3.589621836894616e-21\n",
      "probability of observing that point if it came from cluster 1 =  0.0518422296787152\n",
      "point =  6.807023102821784\n",
      "probability of observing that point if it came from cluster 0 =  0.0842672732621238\n",
      "probability of observing that point if it came from cluster 1 =  0.05080824587591327\n",
      "point =  6.374420563817723\n",
      "probability of observing that point if it came from cluster 0 =  0.575956856740314\n",
      "probability of observing that point if it came from cluster 1 =  0.05004396912902497\n",
      "point =  5.773716596025937\n",
      "probability of observing that point if it came from cluster 0 =  0.9379732507495785\n",
      "probability of observing that point if it came from cluster 1 =  0.048741258439990484\n",
      "point =  4.807984988155657\n",
      "probability of observing that point if it came from cluster 0 =  0.010092962592834443\n",
      "probability of observing that point if it came from cluster 1 =  0.04611472110164335\n",
      "5.923727399092353\n",
      "Probability of coming from C_1 = 0.9698596670720766\n",
      "Probability of coming from C_2 = 0.030140332927923487\n",
      "\n",
      "6.06444239224316\n",
      "Probability of coming from C_1 = 0.9686222307776924\n",
      "Probability of coming from C_2 = 0.03137776922230771\n",
      "\n",
      "8.315586557846666\n",
      "Probability of coming from C_1 = 1.0088374402805944e-07\n",
      "Probability of coming from C_2 = 0.999999899116256\n",
      "\n",
      "7.72274230732898\n",
      "Probability of coming from C_1 = 0.000543274646019811\n",
      "Probability of coming from C_2 = 0.9994567253539801\n",
      "\n",
      "8.864211660342427\n",
      "Probability of coming from C_1 = 3.956542009127535e-12\n",
      "Probability of coming from C_2 = 0.9999999999960435\n",
      "\n",
      "9.620855415382874\n",
      "Probability of coming from C_1 = 1.0386190541400661e-19\n",
      "Probability of coming from C_2 = 1.0\n",
      "\n",
      "6.807023102821784\n",
      "Probability of coming from C_1 = 0.7132865643685153\n",
      "Probability of coming from C_2 = 0.2867134356314845\n",
      "\n",
      "6.374420563817723\n",
      "Probability of coming from C_1 = 0.9452460557535679\n",
      "Probability of coming from C_2 = 0.054753944246432124\n",
      "\n",
      "5.773716596025937\n",
      "Probability of coming from C_1 = 0.9665169880804022\n",
      "Probability of coming from C_2 = 0.03348301191959783\n",
      "\n",
      "4.807984988155657\n",
      "Probability of coming from C_1 = 0.24715778741742755\n",
      "Probability of coming from C_2 = 0.7528422125825723\n",
      "\n"
     ]
    }
   ],
   "source": [
    "from scipy.stats import norm\n",
    "\n",
    "prob_c0_x = [] # P(C_0 | X_i)\n",
    "prob_c1_x = [] # P(C_1 | X_i)\n",
    "prob_x = [] # P(X_i)\n",
    "\n",
    "k = 2\n",
    "\n",
    "for p in data:\n",
    "    print(\"point = \", p)\n",
    "    pdf_i = []\n",
    "\n",
    "    for j in range(k):\n",
    "        # P(X_i | C_j)\n",
    "        pdf_i.append(norm.pdf(p, mean[j], var[j]))\n",
    "        print(\"probability of observing that point if it came from cluster \" + str(j) + \" = \", pdf_i[j])\n",
    "        # P(C_j) already computed\n",
    "        prob_c[j]\n",
    "\n",
    "    # P(X_i) = P(C_0)P(X_i | C_0) + P(C_1)P(X_i | C_1)\n",
    "    prob_x = prob_c[0] * pdf_i[0] + prob_c[1] * pdf_i[1]\n",
    "\n",
    "    # P(C_j | X_i) = P(X_i | C_j)P(C_j) / P(X_i)\n",
    "    prob_c0_x.append( pdf_i[0]*prob_c[0] / prob_x )\n",
    "    prob_c1_x.append( pdf_i[1]*prob_c[1] / prob_x  )\n",
    "\n",
    "probs = zip(data, prob_c0_x, prob_c1_x)\n",
    "for p in probs:\n",
    "    print(p[0])\n",
    "    print(\"Probability of coming from C_1 = \" + str(p[1]))\n",
    "    print(\"Probability of coming from C_2 = \" + str(p[2]))\n",
    "    print()\n"
   ]
  },
  {
   "cell_type": "markdown",
   "metadata": {},
   "source": [
    "f) Having computed `P(C_j | X_i)`, update the estimates of `mean_j`, `var_j`, and `P(C_j)`. How different are these values from the original ones you got from K means? briefly comment."
   ]
  },
  {
   "cell_type": "code",
   "execution_count": 14,
   "metadata": {},
   "outputs": [
    {
     "name": "stdout",
     "output_type": "stream",
     "text": [
      "P(C_1) = 0.48112326690034024,  P(C_2) = 0.5188767330996598\n",
      "mean_1 = 6.084306569378176,  mean_2 = 7.9020109850171565\n",
      "var_1 = 0.9748259488059032,  var_2 = 12.137491354603986\n"
     ]
    }
   ],
   "source": [
    "prob_c = [sum(prob_c0_x)/ len(prob_c0_x), sum(prob_c1_x)/ len(prob_c1_x) ]\n",
    "mean = [sum([x[0] * x[1] for x in zip(prob_c0_x, data)]) / sum(prob_c0_x), sum([x[0] * x[1] for x in zip(prob_c1_x, data)]) / sum(prob_c1_x) ]\n",
    "var = [ sum([(x[0]-mean[0])**2 * x[1] for x in zip(data,prob_c0_x)]) , sum([(x[0]-mean[1])**2 * x[1] for x in zip(data,prob_c1_x)]) ]\n",
    "\n",
    "print(\"P(C_1) = \" + str(prob_c[0]) + \",  P(C_2) = \" + str(prob_c[1]))\n",
    "print(\"mean_1 = \" + str(mean[0]) + \",  mean_2 = \" + str(mean[1]))\n",
    "print(\"var_1 = \" + str(var[0]) + \",  var_2 = \" + str(var[1]))"
   ]
  },
  {
   "cell_type": "markdown",
   "metadata": {},
   "source": [
    "The probability of seeing a data from c1 is about the same as c2. GMM is a probabilistic model that can represent clusters with different shapes and sizes, and it assigns probabilities to data points for each cluster. K-means, on the other hand, is a non-probabilistic, distance-based clustering algorithm that assigns each data point to a single cluster without providing probabilities."
   ]
  },
  {
   "cell_type": "markdown",
   "metadata": {},
   "source": [
    "g) Update `P(C_j | X_i)`. Comment on any differences or lack thereof you observe."
   ]
  },
  {
   "cell_type": "code",
   "execution_count": 21,
   "metadata": {},
   "outputs": [
    {
     "name": "stdout",
     "output_type": "stream",
     "text": [
      "For C1:\n",
      "[0.9698596670720766, 0.9686222307776924, 1.0088374402805944e-07, 0.000543274646019811, 3.956542009127535e-12, 1.0386190541400661e-19, 0.7132865643685153, 0.9452460557535679, 0.9665169880804022, 0.24715778741742755, 0.9202661041821171, 0.9211085762305351, 0.4569318634609202, 0.7376725598202176, 0.16566272200597265, 0.0159147436375127, 0.8980277103340198, 0.917578211030479, 0.9176524359594028, 0.8350204063495914]\n",
      "For C2:\n",
      "[0.030140332927923487, 0.03137776922230771, 0.999999899116256, 0.9994567253539801, 0.9999999999960435, 1.0, 0.2867134356314845, 0.054753944246432124, 0.03348301191959783, 0.7528422125825723, 0.07973389581788298, 0.07889142376946484, 0.5430681365390798, 0.2623274401797824, 0.8343372779940275, 0.9840852563624873, 0.10197228966598001, 0.08242178896952097, 0.08234756404059719, 0.16497959365040857]\n"
     ]
    }
   ],
   "source": [
    "print('For C1:')\n",
    "print(prob_c0_x)\n",
    "print('For C2:')\n",
    "print(prob_c1_x)"
   ]
  },
  {
   "cell_type": "markdown",
   "metadata": {},
   "source": [
    "Above, in the loop part. The main difference between data points is how they are assigned to clusters based on these updated probabilities. Some data points will be more confidently assigned to one cluster (C_0 or C_1), while others may be assigned with less confidence."
   ]
  },
  {
   "cell_type": "markdown",
   "metadata": {},
   "source": [
    "h) Use `P(C_j | X_i)` to create a hard assignment - label each point as belonging to a specific cluster (0 or 1)"
   ]
  },
  {
   "cell_type": "code",
   "execution_count": 15,
   "metadata": {},
   "outputs": [
    {
     "data": {
      "text/plain": [
       "[0, 0, 1, 1, 1, 1, 0, 0, 0, 1]"
      ]
     },
     "execution_count": 15,
     "metadata": {},
     "output_type": "execute_result"
    }
   ],
   "source": [
    "hard_assignments = []  # List to store the hard cluster assignments (0 or 1)\n",
    "\n",
    "for p_c0, p_c1 in zip(prob_c0_x, prob_c1_x):\n",
    "    if p_c0 > p_c1:\n",
    "        hard_assignments.append(0)\n",
    "    else:\n",
    "        hard_assignments.append(1)\n",
    "hard_assignments"
   ]
  },
  {
   "cell_type": "code",
   "execution_count": 19,
   "metadata": {},
   "outputs": [
    {
     "name": "stdout",
     "output_type": "stream",
     "text": [
      "[5.923727399092353, 6.06444239224316, 8.315586557846666, 7.72274230732898, 8.864211660342427, 9.620855415382874, 6.807023102821784, 6.374420563817723, 5.773716596025937, 4.807984988155657]\n"
     ]
    }
   ],
   "source": [
    "print(data)"
   ]
  },
  {
   "cell_type": "markdown",
   "metadata": {},
   "source": [
    "The cluster labels match the indexes of the items in the data."
   ]
  }
 ],
 "metadata": {
  "interpreter": {
   "hash": "76ca05dc3ea24b2e3b98cdb7774adfbb40773424bf5109b477fd793f623715af"
  },
  "kernelspec": {
   "display_name": "Python 3 (ipykernel)",
   "language": "python",
   "name": "python3"
  },
  "language_info": {
   "codemirror_mode": {
    "name": "ipython",
    "version": 3
   },
   "file_extension": ".py",
   "mimetype": "text/x-python",
   "name": "python",
   "nbconvert_exporter": "python",
   "pygments_lexer": "ipython3",
   "version": "3.11.4"
  }
 },
 "nbformat": 4,
 "nbformat_minor": 2
}
