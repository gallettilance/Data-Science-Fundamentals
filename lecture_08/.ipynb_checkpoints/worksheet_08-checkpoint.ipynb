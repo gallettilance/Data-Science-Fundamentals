{
 "cells": [
  {
   "cell_type": "markdown",
   "metadata": {},
   "source": [
    "# Worksheet 08\n",
    "\n",
    "Name:  Aaron Zheng\n",
    "UID: U00544935\n",
    "\n",
    "### Topics\n",
    "\n",
    "- Soft Clustering\n",
    "- Clustering Aggregation\n",
    "\n",
    "### Probability Review\n",
    "\n",
    "Read through [the following](https://medium.com/@gallettilance/overview-of-probability-3272b72c82c8)\n",
    "\n",
    "### Soft Clustering\n",
    "\n",
    "We generate 10 data points that come from a normal distribution with mean 5 and variance 1."
   ]
  },
  {
   "cell_type": "code",
   "execution_count": 1,
   "metadata": {},
   "outputs": [
    {
     "name": "stderr",
     "output_type": "stream",
     "text": [
      "/Users/aaron/opt/anaconda3/lib/python3.9/site-packages/scipy/__init__.py:146: UserWarning: A NumPy version >=1.16.5 and <1.23.0 is required for this version of SciPy (detected version 1.26.0\n",
      "  warnings.warn(f\"A NumPy version >={np_minversion} and <{np_maxversion}\"\n"
     ]
    },
    {
     "name": "stdout",
     "output_type": "stream",
     "text": [
      "[5.122733524479001, 4.201256251135195, 6.421438500776697, 4.249964090707382, 4.5268784300836025, 5.466081209179636, 5.3222355861810815, 6.004961929989068, 4.770766561613248, 2.2635639395221805]\n"
     ]
    }
   ],
   "source": [
    "import random\n",
    "import numpy as np\n",
    "from sklearn.cluster import KMeans\n",
    "\n",
    "mean = 5\n",
    "stdev = 1\n",
    "\n",
    "c1 = np.random.normal(mean, stdev, 10).tolist()\n",
    "print(c1)"
   ]
  },
  {
   "cell_type": "markdown",
   "metadata": {},
   "source": [
    "a) Generate 10 more data points, this time coming from a normal distribution with mean 8 and variance 1."
   ]
  },
  {
   "cell_type": "code",
   "execution_count": 2,
   "metadata": {},
   "outputs": [
    {
     "name": "stdout",
     "output_type": "stream",
     "text": [
      "[8.165755167455725, 7.585254721561976, 6.985585159993601, 7.080288476687963, 8.910602213544054, 8.233035337864763, 7.565816840825951, 7.383152721630162, 7.934325325124567, 9.136530810701922]\n"
     ]
    }
   ],
   "source": [
    "c2 = np.random.normal(8, 1 ,10).tolist()\n",
    "print(c2)"
   ]
  },
  {
   "cell_type": "markdown",
   "metadata": {},
   "source": [
    "b) Flip a fair coin 10 times. If the coin lands on H, then pick the last data point of `c1` and remove it from `c1`, if T then pick the last data point from `c2` and remove it from `c2`. Add these 10 points to a list called `data`."
   ]
  },
  {
   "cell_type": "code",
   "execution_count": 3,
   "metadata": {},
   "outputs": [
    {
     "name": "stdout",
     "output_type": "stream",
     "text": [
      "[2.2635639395221805, 9.136530810701922, 7.934325325124567, 4.770766561613248, 7.383152721630162, 7.565816840825951, 6.004961929989068, 8.233035337864763, 5.3222355861810815, 5.466081209179636]\n"
     ]
    }
   ],
   "source": [
    "data = []\n",
    "for i in range(10):\n",
    "    # flip coin\n",
    "    coin_output = random.choice([0, 1])\n",
    "    if coin_output == 0:\n",
    "        p1 = c1.pop()\n",
    "        data.append(p1)\n",
    "    else:\n",
    "        p2 = c2.pop()\n",
    "        data.append(p2)\n",
    "print(data)"
   ]
  },
  {
   "cell_type": "markdown",
   "metadata": {},
   "source": [
    "c) This `data` is a Gaussian Mixture Distribution with 2 mixture components. Over the next few questions we will walk through the GMM algorithm to see if we can uncover the parameters we used to generate this data. First, please list all these parameters of the GMM that created `data` and the values we know they have."
   ]
  },
  {
   "cell_type": "markdown",
   "metadata": {},
   "source": [
    "Mean = 5 or 8, stdev/variance = 1, sample size = 10 (bimodal distribution)"
   ]
  },
  {
   "cell_type": "markdown",
   "metadata": {},
   "source": [
    "d) Let's assume there are two mixture components (note: we could plot the data and make the observation that there are two clusters). The EM algorithm asks us to start with a random `mean_j`, `variance_j`, `P(C_j)` for each component j. One method we could use to find sensible values for these is to apply K means with k=2 here.\n",
    "\n",
    "1. the centroids would be the estimates of the `mean_j`\n",
    "2. the intra-cluster variance could be the estimate of `variance_j`\n",
    "3. the proportion of points in each cluster could be the estimate of `P(C_j)`\n",
    "\n",
    "Go through this process and list the parameter estimates it gives. Are they close or far from the true values?"
   ]
  },
  {
   "cell_type": "code",
   "execution_count": 4,
   "metadata": {},
   "outputs": [
    {
     "name": "stdout",
     "output_type": "stream",
     "text": [
      "[9.136530810701922, 7.934325325124567, 7.383152721630162, 7.565816840825951, 8.233035337864763]\n",
      "[2.2635639395221805, 4.770766561613248, 6.004961929989068, 5.3222355861810815, 5.466081209179636]\n",
      "P(C_1) = 0.5,  P(C_2) = 0.5\n",
      "mean_1 = 8.050572207229473,  mean_2 = 4.765521845297043\n",
      "var_1 = 0.38130975102216735,  var_2 = 1.7193492408945263\n"
     ]
    }
   ],
   "source": [
    "kmeans = KMeans(2, init='k-means++').fit(X=np.array(data).reshape(-1, 1))\n",
    "\n",
    "c1 = [x[0] for x in filter(lambda x: x[1] == 0, zip(data, kmeans.labels_))]\n",
    "print(c1)\n",
    "c2 = [x[0] for x in filter(lambda x: x[1] == 1, zip(data, kmeans.labels_))]\n",
    "print(c2)\n",
    "\n",
    "prob_c = [ len(c1) / (len(c1) + len(c2)) , len(c2) / (len(c1) + len(c2)) ]\n",
    "mean = [ sum(c1)/len(c1) , sum(c2)/len(c2)]\n",
    "var = [ sum(map(lambda x : (x - mean[0])**2, c1)) / len(c1) , sum(map(lambda x : (x - mean[1])**2, c2)) / len(c2)  ]\n",
    "\n",
    "print(\"P(C_1) = \" + str(prob_c[0]) + \",  P(C_2) = \" + str(prob_c[1]))\n",
    "print(\"mean_1 = \" + str(mean[0]) + \",  mean_2 = \" + str(mean[1]))\n",
    "print(\"var_1 = \" + str(var[0]) + \",  var_2 = \" + str(var[1]))"
   ]
  },
  {
   "cell_type": "markdown",
   "metadata": {},
   "source": [
    "They are close, but seem to be lower than expected. means are 1 less than expected and variances are 0.5 less than expected. "
   ]
  },
  {
   "cell_type": "markdown",
   "metadata": {},
   "source": [
    "e) For each data point, compute `P(C_j | X_i)`. Comment on which cluster you think each point belongs to based on the estimated probabilities. How does that compare to the truth?"
   ]
  },
  {
   "cell_type": "code",
   "execution_count": 5,
   "metadata": {},
   "outputs": [
    {
     "name": "stdout",
     "output_type": "stream",
     "text": [
      "point =  2.2635639395221805\n",
      "probability of observing that point if it came from cluster 0 =  1.0090023518870013e-50\n",
      "probability of observing that point if it came from cluster 1 =  0.0804873843219279\n",
      "point =  9.136530810701922\n",
      "probability of observing that point if it came from cluster 0 =  0.018128664901955294\n",
      "probability of observing that point if it came from cluster 1 =  0.009164736818288789\n",
      "point =  7.934325325124567\n",
      "probability of observing that point if it came from cluster 0 =  0.9987350643106389\n",
      "probability of observing that point if it came from cluster 1 =  0.042457367955854336\n",
      "point =  4.770766561613248\n",
      "probability of observing that point if it came from cluster 0 =  8.997357318929727e-17\n",
      "probability of observing that point if it came from cluster 1 =  0.23202989528857546\n",
      "point =  7.383152721630162\n",
      "probability of observing that point if it came from cluster 0 =  0.22613341031566483\n",
      "probability of observing that point if it came from cluster 1 =  0.07281610273998175\n",
      "point =  7.565816840825951\n",
      "probability of observing that point if it came from cluster 0 =  0.4663192768252948\n",
      "probability of observing that point if it came from cluster 1 =  0.06159296518601266\n",
      "point =  6.004961929989068\n",
      "probability of observing that point if it came from cluster 0 =  5.89042102998902e-07\n",
      "probability of observing that point if it came from cluster 1 =  0.17893788435228572\n",
      "point =  8.233035337864763\n",
      "probability of observing that point if it came from cluster 0 =  0.9330612155171687\n",
      "probability of observing that point if it came from cluster 1 =  0.030362610400561648\n",
      "point =  5.3222355861810815\n",
      "probability of observing that point if it came from cluster 0 =  7.988372249559758e-12\n",
      "probability of observing that point if it came from cluster 1 =  0.22018097652586938\n",
      "point =  5.466081209179636\n",
      "probability of observing that point if it came from cluster 0 =  1.1061489698441488e-10\n",
      "probability of observing that point if it came from cluster 1 =  0.2135477864178238\n",
      "2.2635639395221805\n",
      "Probability of coming from C_1 = 1.2536155329029741e-49\n",
      "Probability of coming from C_2 = 1.0\n",
      "\n",
      "9.136530810701922\n",
      "Probability of coming from C_1 = 0.6642141968147887\n",
      "Probability of coming from C_2 = 0.3357858031852114\n",
      "\n",
      "7.934325325124567\n",
      "Probability of coming from C_1 = 0.9592223621300896\n",
      "Probability of coming from C_2 = 0.04077763786991046\n",
      "\n",
      "4.770766561613248\n",
      "Probability of coming from C_1 = 3.87767158526694e-16\n",
      "Probability of coming from C_2 = 0.9999999999999997\n",
      "\n",
      "7.383152721630162\n",
      "Probability of coming from C_1 = 0.7564267558233897\n",
      "Probability of coming from C_2 = 0.24357324417661028\n",
      "\n",
      "7.565816840825951\n",
      "Probability of coming from C_1 = 0.8833272648663195\n",
      "Probability of coming from C_2 = 0.1166727351336804\n",
      "\n",
      "6.004961929989068\n",
      "Probability of coming from C_1 = 3.2918695003093365e-06\n",
      "Probability of coming from C_2 = 0.9999967081304997\n",
      "\n",
      "8.233035337864763\n",
      "Probability of coming from C_1 = 0.9684846797600847\n",
      "Probability of coming from C_2 = 0.03151532023991527\n",
      "\n",
      "5.3222355861810815\n",
      "Probability of coming from C_1 = 3.628093750565852e-11\n",
      "Probability of coming from C_2 = 0.9999999999637191\n",
      "\n",
      "5.466081209179636\n",
      "Probability of coming from C_1 = 5.17986623896399e-10\n",
      "Probability of coming from C_2 = 0.9999999994820133\n",
      "\n"
     ]
    }
   ],
   "source": [
    "from scipy.stats import norm\n",
    "\n",
    "prob_c0_x = [] # P(C_0 | X_i)\n",
    "prob_c1_x = [] # P(C_1 | X_i)\n",
    "prob_x = [] # P(X_i)\n",
    "\n",
    "k = 2\n",
    "\n",
    "for p in data:\n",
    "    print(\"point = \", p)\n",
    "    pdf_i = []\n",
    "\n",
    "    for j in range(k):\n",
    "        # P(X_i | C_j)\n",
    "        pdf_i.append(norm.pdf(p, mean[j], var[j]))\n",
    "        print(\"probability of observing that point if it came from cluster \" + str(j) + \" = \", pdf_i[j])\n",
    "        # P(C_j) already computed\n",
    "        prob_c[j]\n",
    "\n",
    "    # P(X_i) = P(C_0)P(X_i | C_0) + P(C_1)P(X_i | C_1)\n",
    "    prob_x = prob_c[0] * pdf_i[0] + prob_c[1] * pdf_i[1]\n",
    "\n",
    "    # P(C_j | X_i) = P(X_i | C_j)P(C_j) / P(X_i)\n",
    "    prob_c0_x.append( pdf_i[0] * prob_c[0] / prob_x )\n",
    "    prob_c1_x.append( pdf_i[1] * prob_c[1] / prob_x )\n",
    "\n",
    "probs = zip(data, prob_c0_x, prob_c1_x)\n",
    "for p in probs:\n",
    "    print(p[0])\n",
    "    print(\"Probability of coming from C_1 = \" + str(p[1]))\n",
    "    print(\"Probability of coming from C_2 = \" + str(p[2]))\n",
    "    print()\n"
   ]
  },
  {
   "cell_type": "markdown",
   "metadata": {},
   "source": [
    "f) Having computed `P(C_j | X_i)`, update the estimates of `mean_j`, `var_j`, and `P(C_j)`. How different are these values from the original ones you got from K means? briefly comment."
   ]
  },
  {
   "cell_type": "code",
   "execution_count": 6,
   "metadata": {},
   "outputs": [
    {
     "name": "stdout",
     "output_type": "stream",
     "text": [
      "P(C_1) = 0.423167855181844,  P(C_2) = 0.5768321448181559\n",
      "mean_1 = 8.015942198747721,  mean_2 = 5.22848455283004\n",
      "var_1 = 0.32327057573196805,  var_2 = 2.97280232840358\n"
     ]
    }
   ],
   "source": [
    "prob_c = [sum(prob_c0_x)/ len(prob_c0_x), sum(prob_c1_x)/ len(prob_c1_x) ]\n",
    "mean = [sum([x[0] * x[1] for x in zip(prob_c0_x, data)]) / sum(prob_c0_x), \n",
    "       sum([x[0] * x[1] for x in zip(prob_c1_x, data)]) / sum(prob_c1_x)]\n",
    "var = [ sum([((x - mean[0]) ** 2) * prob_c0_x[i] for i, x in enumerate(data)]) / sum(prob_c0_x) , \n",
    "      sum([((x - mean[1]) ** 2) * prob_c1_x[i] for i, x in enumerate(data)]) / sum(prob_c1_x)]\n",
    "\n",
    "print(\"P(C_1) = \" + str(prob_c[0]) + \",  P(C_2) = \" + str(prob_c[1]))\n",
    "print(\"mean_1 = \" + str(mean[0]) + \",  mean_2 = \" + str(mean[1]))\n",
    "print(\"var_1 = \" + str(var[0]) + \",  var_2 = \" + str(var[1]))"
   ]
  },
  {
   "cell_type": "markdown",
   "metadata": {},
   "source": [
    "These values are still off by similar amounts, where the means are off by 1 and the variance is off by 0.5"
   ]
  },
  {
   "cell_type": "markdown",
   "metadata": {},
   "source": [
    "g) Update `P(C_j | X_i)`. Comment on any differences or lack thereof you observe."
   ]
  },
  {
   "cell_type": "code",
   "execution_count": 7,
   "metadata": {},
   "outputs": [
    {
     "name": "stdout",
     "output_type": "stream",
     "text": [
      "2.2635639395221805\n",
      "Probability of coming from C_1 = 1.2536155329029741e-49\n",
      "Probability of coming from C_2 = 1.0\n",
      "\n",
      "9.136530810701922\n",
      "Probability of coming from C_1 = 0.6642141968147887\n",
      "Probability of coming from C_2 = 0.3357858031852114\n",
      "\n",
      "7.934325325124567\n",
      "Probability of coming from C_1 = 0.9592223621300896\n",
      "Probability of coming from C_2 = 0.04077763786991046\n",
      "\n",
      "4.770766561613248\n",
      "Probability of coming from C_1 = 3.87767158526694e-16\n",
      "Probability of coming from C_2 = 0.9999999999999997\n",
      "\n",
      "7.383152721630162\n",
      "Probability of coming from C_1 = 0.7564267558233897\n",
      "Probability of coming from C_2 = 0.24357324417661028\n",
      "\n",
      "7.565816840825951\n",
      "Probability of coming from C_1 = 0.8833272648663195\n",
      "Probability of coming from C_2 = 0.1166727351336804\n",
      "\n",
      "6.004961929989068\n",
      "Probability of coming from C_1 = 3.2918695003093365e-06\n",
      "Probability of coming from C_2 = 0.9999967081304997\n",
      "\n",
      "8.233035337864763\n",
      "Probability of coming from C_1 = 0.9684846797600847\n",
      "Probability of coming from C_2 = 0.03151532023991527\n",
      "\n",
      "5.3222355861810815\n",
      "Probability of coming from C_1 = 3.628093750565852e-11\n",
      "Probability of coming from C_2 = 0.9999999999637191\n",
      "\n",
      "5.466081209179636\n",
      "Probability of coming from C_1 = 5.17986623896399e-10\n",
      "Probability of coming from C_2 = 0.9999999994820133\n",
      "\n"
     ]
    }
   ],
   "source": [
    "prob_x = prob_c[0] * pdf_i[0] + prob_c[1] * pdf_i[1]\n",
    "prob_c0_x.append(pdf_i[0] * prob_c[0] / prob_x)\n",
    "prob_c1_x.append(pdf_i[1] * prob_c[1] / prob_x)\n",
    "\n",
    "probs = zip(data, prob_c0_x, prob_c1_x)\n",
    "for p in probs:\n",
    "    print(p[0])\n",
    "    print(\"Probability of coming from C_1 = \" + str(p[1]))\n",
    "    print(\"Probability of coming from C_2 = \" + str(p[2]))\n",
    "    print()"
   ]
  },
  {
   "cell_type": "markdown",
   "metadata": {},
   "source": [
    "There seems to be a lot more sure estimatations of which cluster a point came from, with many 0.99 probabilities."
   ]
  },
  {
   "cell_type": "markdown",
   "metadata": {},
   "source": [
    "h) Use `P(C_j | X_i)` to create a hard assignment - label each point as belonging to a specific cluster (0 or 1)"
   ]
  },
  {
   "cell_type": "code",
   "execution_count": 14,
   "metadata": {},
   "outputs": [
    {
     "name": "stdout",
     "output_type": "stream",
     "text": [
      "[1, 0, 0, 1, 0, 0, 1, 0, 1, 1]\n"
     ]
    }
   ],
   "source": [
    "assignment = []\n",
    "for i in range(len(data)):\n",
    "    if prob_c0_x[i] > prob_c1_x[i]:\n",
    "        assignment.append(0)\n",
    "    else:\n",
    "        assignment.append(1)\n",
    "print(assignment)"
   ]
  },
  {
   "cell_type": "markdown",
   "metadata": {},
   "source": [
    "### Clustering Aggregation\n",
    "\n",
    "| Point | C | P |\n",
    "|-------|---|---|\n",
    "| A     | 0 | a |\n",
    "| B     | 0 | b |\n",
    "| C     | 2 | b |\n",
    "| D     | 1 | c |\n",
    "| E     | 1 | d |\n",
    "\n",
    "a) Fill in the following table where for each pair of points determine whether C and P agree or disagree on how to cluster that pair."
   ]
  },
  {
   "cell_type": "markdown",
   "metadata": {},
   "source": [
    "| Pair | Disagreement |\n",
    "|------|--------------|\n",
    "| A  B |      T       |\n",
    "| A  C |      T       |\n",
    "| A  D |      T       |\n",
    "| A  E |      T       |\n",
    "| B  C |      T       |\n",
    "| B  D |      T       |\n",
    "| B  E |      T       |\n",
    "| C  D |      T       |\n",
    "| C  E |      T       |\n",
    "| D  E |      T       |\n"
   ]
  },
  {
   "cell_type": "markdown",
   "metadata": {},
   "source": [
    "As datasets become very large, this process can become computationally challenging.\n",
    "\n",
    "b) Given N points, what is the formula for the number of unique pairs of points one can create?"
   ]
  },
  {
   "cell_type": "markdown",
   "metadata": {},
   "source": [
    "n*(n-1)/2"
   ]
  },
  {
   "cell_type": "markdown",
   "metadata": {},
   "source": [
    "Assume that clustering C clusters all points in the same cluster and clustering P clusters points as such:\n",
    "\n",
    "| Point | P |\n",
    "|-------|---|\n",
    "| A     | 0 |\n",
    "| B     | 0 |\n",
    "| C     | 0 |\n",
    "| D     | 1 |\n",
    "| E     | 1 |\n",
    "| F     | 2 |\n",
    "| G     | 2 |\n",
    "| H     | 2 |\n",
    "| I     | 2 |\n",
    "\n",
    "c) What is the maximum number of disagreements there could be for a dataset of this size? (use the formula from b)?"
   ]
  },
  {
   "cell_type": "markdown",
   "metadata": {},
   "source": [
    "9*8/2= 36"
   ]
  },
  {
   "cell_type": "markdown",
   "metadata": {},
   "source": [
    "d) If we look at cluster 0. There are (3 x 2) / 2 = 3 pairs that agree with C (since all points in C are in the same cluster). For each cluster, determine how many agreements there are. How many total agreements are there? How many disagreements does that mean there are between C and P?"
   ]
  },
  {
   "cell_type": "markdown",
   "metadata": {},
   "source": [
    "there are 3 agreements in cluster 0, 1 agreement in 1, 6 agreement in 2, there are therefore 36-10 total disagreements."
   ]
  },
  {
   "cell_type": "markdown",
   "metadata": {},
   "source": [
    "e) Assuming that filtering the dataset by cluster number is a computationally easy operation, describe an algorithm inspired by the above process that can efficiently compute disagreement distances on large datasets."
   ]
  },
  {
   "cell_type": "markdown",
   "metadata": {},
   "source": [
    "we can use a dictionary to track the amount of agreements in cluster pairs and dynamically update it as we iterate through the dataset, then calculate disagreements by subtracting agreements from max possible disagreements. "
   ]
  },
  {
   "cell_type": "code",
   "execution_count": null,
   "metadata": {},
   "outputs": [],
   "source": []
  }
 ],
 "metadata": {
  "interpreter": {
   "hash": "76ca05dc3ea24b2e3b98cdb7774adfbb40773424bf5109b477fd793f623715af"
  },
  "kernelspec": {
   "display_name": "Python 3 (ipykernel)",
   "language": "python",
   "name": "python3"
  },
  "language_info": {
   "codemirror_mode": {
    "name": "ipython",
    "version": 3
   },
   "file_extension": ".py",
   "mimetype": "text/x-python",
   "name": "python",
   "nbconvert_exporter": "python",
   "pygments_lexer": "ipython3",
   "version": "3.9.12"
  }
 },
 "nbformat": 4,
 "nbformat_minor": 2
}
