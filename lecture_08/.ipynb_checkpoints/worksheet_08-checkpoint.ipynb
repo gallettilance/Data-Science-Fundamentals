{
 "cells": [
  {
   "cell_type": "markdown",
   "metadata": {},
   "source": [
    "# Worksheet 08\n",
    "\n",
    "Name: Lucia Kisova\n",
    "UID: U59695691\n",
    "\n",
    "### Topics\n",
    "\n",
    "- Soft Clustering\n",
    "- Clustering Aggregation\n",
    "\n",
    "### Probability Review\n",
    "\n",
    "Read through [the following](https://medium.com/@gallettilance/overview-of-probability-3272b72c82c8)\n",
    "\n",
    "### Soft Clustering\n",
    "\n",
    "We generate 10 data points that come from a normal distribution with mean 5 and variance 1."
   ]
  },
  {
   "cell_type": "code",
   "execution_count": 2,
   "metadata": {},
   "outputs": [
    {
     "name": "stdout",
     "output_type": "stream",
     "text": [
      "[4.756722168413138, 4.341801258361781, 5.512898026098207, 5.719091676305421, 6.475572200508436, 4.685049038004945, 5.255684305055251, 4.993559425147074, 6.027435769010786, 5.850042177602807]\n"
     ]
    }
   ],
   "source": [
    "import random\n",
    "import numpy as np\n",
    "from sklearn.cluster import KMeans\n",
    "\n",
    "mean = 5\n",
    "stdev = 1\n",
    "\n",
    "c1 = np.random.normal(mean, stdev, 10).tolist()\n",
    "print(c1)"
   ]
  },
  {
   "cell_type": "markdown",
   "metadata": {},
   "source": [
    "a) Generate 10 more data points, this time coming from a normal distribution with mean 8 and variance 1."
   ]
  },
  {
   "cell_type": "code",
   "execution_count": 3,
   "metadata": {},
   "outputs": [
    {
     "name": "stdout",
     "output_type": "stream",
     "text": [
      "[7.503454498103803, 8.688722056794093, 8.272719361798346, 8.807542872850046, 8.642031589309097, 7.364204806615996, 8.933842890894331, 7.594150783761741, 6.70498111882574, 6.964773439598892]\n"
     ]
    }
   ],
   "source": [
    "mean2 = 8\n",
    "stdev2 = 1\n",
    "\n",
    "c2 = np.random.normal(mean2, stdev2, 10).tolist()\n",
    "print(c2)"
   ]
  },
  {
   "cell_type": "markdown",
   "metadata": {},
   "source": [
    "b) Flip a fair coin 10 times. If the coin lands on H, then pick the last data point of `c1` and remove it from `c1`, if T then pick the last data point from `c2` and remove it from `c2`. Add these 10 points to a list called `data`."
   ]
  },
  {
   "cell_type": "code",
   "execution_count": 4,
   "metadata": {},
   "outputs": [
    {
     "name": "stdout",
     "output_type": "stream",
     "text": [
      "[6.964773439598892, 5.850042177602807, 6.70498111882574, 7.594150783761741, 8.933842890894331, 6.027435769010786, 4.993559425147074, 5.255684305055251, 4.685049038004945, 7.364204806615996]\n"
     ]
    }
   ],
   "source": [
    "data = []\n",
    "for i in range(10):\n",
    "    # flip coin\n",
    "    coin_output = random.choice([0, 1])\n",
    "    if coin_output == 0:\n",
    "        p1 = c1.pop()\n",
    "        data.append(p1)\n",
    "    else:\n",
    "        p2 = c2.pop()\n",
    "        data.append(p2)\n",
    "print(data)"
   ]
  },
  {
   "cell_type": "markdown",
   "metadata": {},
   "source": [
    "c) This `data` is a Gaussian Mixture Distribution with 2 mixture components. Over the next few questions we will walk through the GMM algorithm to see if we can uncover the parameters we used to generate this data. First, please list all these parameters of the GMM that created `data` and the values we know they have."
   ]
  },
  {
   "cell_type": "markdown",
   "metadata": {},
   "source": [
    "Mean and variance of the two normal distrubutions that compose the GMM, probability of taking from $c_1$ over $c_2$: $\\mu_1 = 5$, $\\sigma_1 = 1$, $\\mu_2 = 8$, $\\sigma_2 = 1$, $p = 0.5$."
   ]
  },
  {
   "cell_type": "markdown",
   "metadata": {},
   "source": [
    "d) Let's assume there are two mixture components (note: we could plot the data and make the observation that there are two clusters). The EM algorithm asks us to start with a random `mean_j`, `variance_j`, `P(C_j)` for each component j. One method we could use to find sensible values for these is to apply K means with k=2 here.\n",
    "\n",
    "1. the centroids would be the estimates of the `mean_j`\n",
    "2. the intra-cluster variance could be the estimate of `variance_j`\n",
    "3. the proportion of points in each cluster could be the estimate of `P(C_j)`\n",
    "\n",
    "Go through this process and list the parameter estimates it gives. Are they close or far from the true values?"
   ]
  },
  {
   "cell_type": "code",
   "execution_count": 5,
   "metadata": {},
   "outputs": [
    {
     "name": "stderr",
     "output_type": "stream",
     "text": [
      "C:\\Users\\Lucy\\anaconda3\\lib\\site-packages\\sklearn\\cluster\\_kmeans.py:1412: FutureWarning: The default value of `n_init` will change from 10 to 'auto' in 1.4. Set the value of `n_init` explicitly to suppress the warning\n",
      "  super()._check_params_vs_input(X, default_n_init=10)\n",
      "C:\\Users\\Lucy\\anaconda3\\lib\\site-packages\\sklearn\\cluster\\_kmeans.py:1436: UserWarning: KMeans is known to have a memory leak on Windows with MKL, when there are less chunks than available threads. You can avoid it by setting the environment variable OMP_NUM_THREADS=1.\n",
      "  warnings.warn(\n"
     ]
    },
    {
     "name": "stdout",
     "output_type": "stream",
     "text": [
      "[6.964773439598892, 6.70498111882574, 7.594150783761741, 8.933842890894331, 7.364204806615996]\n",
      "[5.850042177602807, 6.027435769010786, 4.993559425147074, 5.255684305055251, 4.685049038004945]\n",
      "P(C_1) = 0.5,  P(C_2) = 0.5\n",
      "mean_1 = 7.51239060793934,  mean_2 = 5.362354142964173\n",
      "var_1 = 0.6001929993908405,  var_2 = 4.879917479092439\n"
     ]
    }
   ],
   "source": [
    "kmeans = KMeans(2, init='k-means++').fit(X=np.array(data).reshape(-1, 1))\n",
    "\n",
    "c1 = [x[0] for x in filter(lambda x: x[1] == 0, zip(data, kmeans.labels_))]\n",
    "print(c1)\n",
    "c2 = [x[0] for x in filter(lambda x: x[1] == 1, zip(data, kmeans.labels_))]\n",
    "print(c2)\n",
    "\n",
    "prob_c = [ len(c1) / (len(c1) + len(c2)) , len(c2) / (len(c1) + len(c2)) ]\n",
    "mean = [ sum(c1)/len(c1) , sum(c2)/len(c2) ]\n",
    "var = [ sum(map(lambda x : (x - mean[0])**2, c1)) / len(c1) , sum(map(lambda x : (x - mean[0])**2, c2)) / len(c2) ]\n",
    "\n",
    "print(\"P(C_1) = \" + str(prob_c[0]) + \",  P(C_2) = \" + str(prob_c[1]))\n",
    "print(\"mean_1 = \" + str(mean[0]) + \",  mean_2 = \" + str(mean[1]))\n",
    "print(\"var_1 = \" + str(var[0]) + \",  var_2 = \" + str(var[1]))"
   ]
  },
  {
   "cell_type": "markdown",
   "metadata": {},
   "source": [
    "Means are close to the true values, variances are not close."
   ]
  },
  {
   "cell_type": "markdown",
   "metadata": {},
   "source": [
    "e) For each data point, compute `P(C_j | X_i)`. Comment on which cluster you think each point belongs to based on the estimated probabilities. How does that compare to the truth?"
   ]
  },
  {
   "cell_type": "code",
   "execution_count": 7,
   "metadata": {},
   "outputs": [
    {
     "name": "stdout",
     "output_type": "stream",
     "text": [
      "point =  6.964773439598892\n",
      "probability of observing that point if it came from cluster 0 =  0.4383783018108462\n",
      "probability of observing that point if it came from cluster 1 =  0.0774610286842129\n",
      "point =  5.850042177602807\n",
      "probability of observing that point if it came from cluster 0 =  0.014349713154479098\n",
      "probability of observing that point if it came from cluster 1 =  0.08134461677788733\n",
      "point =  6.70498111882574\n",
      "probability of observing that point if it came from cluster 0 =  0.26893569408851387\n",
      "probability of observing that point if it came from cluster 1 =  0.07871543936299621\n",
      "point =  7.594150783761741\n",
      "probability of observing that point if it came from cluster 0 =  0.6585512743245031\n",
      "probability of observing that point if it came from cluster 1 =  0.0736340147230092\n",
      "point =  8.933842890894331\n",
      "probability of observing that point if it came from cluster 0 =  0.04023906632239278\n",
      "probability of observing that point if it came from cluster 1 =  0.06254385913584894\n",
      "point =  6.027435769010786\n",
      "probability of observing that point if it came from cluster 0 =  0.031145316327575116\n",
      "probability of observing that point if it came from cluster 1 =  0.08099610110619457\n",
      "point =  4.993559425147074\n",
      "probability of observing that point if it came from cluster 0 =  9.9576086793176e-05\n",
      "probability of observing that point if it came from cluster 1 =  0.08151872299853767\n",
      "point =  5.255684305055251\n",
      "probability of observing that point if it came from cluster 0 =  0.00056588869708562\n",
      "probability of observing that point if it came from cluster 1 =  0.08173232098967292\n",
      "point =  4.685049038004945\n",
      "probability of observing that point if it came from cluster 0 =  1.0090873543151658e-05\n",
      "probability of observing that point if it came from cluster 1 =  0.08096820093741577\n",
      "point =  7.364204806615996\n",
      "probability of observing that point if it came from cluster 0 =  0.644736503571735\n",
      "probability of observing that point if it came from cluster 1 =  0.0751545976746718\n",
      "6.964773439598892\n",
      "Probability of coming from C_1 = 0.8498349697184349\n",
      "Probability of coming from C_2 = 0.15016503028156528\n",
      "\n",
      "5.850042177602807\n",
      "Probability of coming from C_1 = 0.14995364056178667\n",
      "Probability of coming from C_2 = 0.8500463594382134\n",
      "\n",
      "6.70498111882574\n",
      "Probability of coming from C_1 = 0.7735792241448988\n",
      "Probability of coming from C_2 = 0.22642077585510112\n",
      "\n",
      "7.594150783761741\n",
      "Probability of coming from C_1 = 0.8994325400626411\n",
      "Probability of coming from C_2 = 0.10056745993735884\n",
      "\n",
      "8.933842890894331\n",
      "Probability of coming from C_1 = 0.39149563162357126\n",
      "Probability of coming from C_2 = 0.6085043683764287\n",
      "\n",
      "6.027435769010786\n",
      "Probability of coming from C_1 = 0.27773250098224794\n",
      "Probability of coming from C_2 = 0.7222674990177521\n",
      "\n",
      "4.993559425147074\n",
      "Probability of coming from C_1 = 0.0012200215871819445\n",
      "Probability of coming from C_2 = 0.9987799784128181\n",
      "\n",
      "5.255684305055251\n",
      "Probability of coming from C_1 = 0.006876075424234522\n",
      "Probability of coming from C_2 = 0.9931239245757654\n",
      "\n",
      "4.685049038004945\n",
      "Probability of coming from C_1 = 0.00012461208204673496\n",
      "Probability of coming from C_2 = 0.9998753879179534\n",
      "\n",
      "7.364204806615996\n",
      "Probability of coming from C_1 = 0.8956028244486556\n",
      "Probability of coming from C_2 = 0.10439717555134444\n",
      "\n"
     ]
    }
   ],
   "source": [
    "from scipy.stats import norm\n",
    "\n",
    "prob_c0_x = [] # P(C_0 | X_i)\n",
    "prob_c1_x = [] # P(C_1 | X_i)\n",
    "prob_x = [] # P(X_i)\n",
    "\n",
    "k = 2\n",
    "\n",
    "for p in data:\n",
    "    print(\"point = \", p)\n",
    "    pdf_i = []\n",
    "\n",
    "    for j in range(k):\n",
    "        # P(X_i | C_j)\n",
    "        pdf_i.append(norm.pdf(p, mean[j], var[j]))\n",
    "        print(\"probability of observing that point if it came from cluster \" + str(j) + \" = \", pdf_i[j])\n",
    "        # P(C_j) already computed\n",
    "        prob_c[j]\n",
    "\n",
    "    # P(X_i) = P(C_0)P(X_i | C_0) + P(C_1)P(X_i | C_1)\n",
    "    prob_x = prob_c[0] * pdf_i[0] + prob_c[1] * pdf_i[1]\n",
    "\n",
    "    # P(C_j | X_i) = P(X_i | C_j)P(C_j) / P(X_i)\n",
    "    prob_c0_x.append(pdf_i[0] * prob_c[0] / prob_x)\n",
    "    prob_c1_x.append(pdf_i[1] * prob_c[1] / prob_x)\n",
    "\n",
    "probs = zip(data, prob_c0_x, prob_c1_x)\n",
    "for p in probs:\n",
    "    print(p[0])\n",
    "    print(\"Probability of coming from C_1 = \" + str(p[1]))\n",
    "    print(\"Probability of coming from C_2 = \" + str(p[2]))\n",
    "    print()\n"
   ]
  },
  {
   "cell_type": "markdown",
   "metadata": {},
   "source": [
    "f) Having computed `P(C_j | X_i)`, update the estimates of `mean_j`, `var_j`, and `P(C_j)`. How different are these values from the original ones you got from K means? briefly comment."
   ]
  },
  {
   "cell_type": "code",
   "execution_count": 8,
   "metadata": {},
   "outputs": [
    {
     "name": "stdout",
     "output_type": "stream",
     "text": [
      "P(C_1) = 0.4245852040635699,  P(C_2) = 0.5754147959364301\n",
      "mean_1 = 7.212497214044294,  mean_2 = 5.865425772596391\n",
      "var_1 = 0.5333605216557978,  var_2 = 3.4040705633049764\n"
     ]
    }
   ],
   "source": [
    "prob_c = [sum(prob_c0_x)/ len(prob_c0_x), sum(prob_c1_x)/ len(prob_c1_x)]\n",
    "mean = [sum([x[0] * x[1] for x in zip(prob_c0_x, data)]) / sum(prob_c0_x), sum([x[0] * x[1] for x in zip(prob_c1_x, data)]) / sum(prob_c1_x)]\n",
    "var = [sum([x[0] * ((x[1] - mean[0]) ** 2) for x in zip(prob_c0_x, data)]) / sum(prob_c0_x), sum([x[0] * ((x[1] - mean[0]) ** 2) for x in zip(prob_c1_x, data)]) / sum(prob_c1_x)]\n",
    "\n",
    "print(\"P(C_1) = \" + str(prob_c[0]) + \",  P(C_2) = \" + str(prob_c[1]))\n",
    "print(\"mean_1 = \" + str(mean[0]) + \",  mean_2 = \" + str(mean[1]))\n",
    "print(\"var_1 = \" + str(var[0]) + \",  var_2 = \" + str(var[1]))"
   ]
  },
  {
   "cell_type": "markdown",
   "metadata": {},
   "source": []
  },
  {
   "cell_type": "markdown",
   "metadata": {},
   "source": [
    "g) Update `P(C_j | X_i)`. Comment on any differences or lack thereof you observe."
   ]
  },
  {
   "cell_type": "code",
   "execution_count": 11,
   "metadata": {},
   "outputs": [
    {
     "name": "stdout",
     "output_type": "stream",
     "text": [
      "point =  6.964773439598892\n",
      "probability of observing that point if it came from cluster 0 =  0.6714997379965121\n",
      "probability of observing that point if it came from cluster 1 =  0.11124068224468915\n",
      "point =  5.850042177602807\n",
      "probability of observing that point if it came from cluster 0 =  0.028637250868555005\n",
      "probability of observing that point if it came from cluster 1 =  0.11719445857929317\n",
      "point =  6.70498111882574\n",
      "probability of observing that point if it came from cluster 0 =  0.47563762585269453\n",
      "probability of observing that point if it came from cluster 1 =  0.11368494072973558\n",
      "point =  7.594150783761741\n",
      "probability of observing that point if it came from cluster 0 =  0.5790324577555149\n",
      "probability of observing that point if it came from cluster 1 =  0.10301697721624682\n",
      "point =  8.933842890894331\n",
      "probability of observing that point if it came from cluster 0 =  0.004093713887816784\n",
      "probability of observing that point if it came from cluster 1 =  0.07806852967355563\n",
      "point =  6.027435769010786\n",
      "probability of observing that point if it came from cluster 0 =  0.06337096903342884\n",
      "probability of observing that point if it came from cluster 1 =  0.1170630007713548\n",
      "point =  4.993559425147074\n",
      "probability of observing that point if it came from cluster 0 =  0.00013046398081795123\n",
      "probability of observing that point if it came from cluster 1 =  0.11341400563586741\n",
      "point =  5.255684305055251\n",
      "probability of observing that point if it came from cluster 0 =  0.0008933215574172544\n",
      "probability of observing that point if it came from cluster 1 =  0.11533057728752272\n",
      "point =  4.685049038004945\n",
      "probability of observing that point if it came from cluster 0 =  9.948067146913596e-06\n",
      "probability of observing that point if it came from cluster 1 =  0.11035754120910332\n",
      "point =  7.364204806615996\n",
      "probability of observing that point if it came from cluster 0 =  0.7183250322587599\n",
      "probability of observing that point if it came from cluster 1 =  0.10636930617529829\n",
      "6.964773439598892\n",
      "Probability of coming from C_1 = 0.8498349697184349\n",
      "Probability of coming from C_2 = 0.15016503028156528\n",
      "\n",
      "5.850042177602807\n",
      "Probability of coming from C_1 = 0.14995364056178667\n",
      "Probability of coming from C_2 = 0.8500463594382134\n",
      "\n",
      "6.70498111882574\n",
      "Probability of coming from C_1 = 0.7735792241448988\n",
      "Probability of coming from C_2 = 0.22642077585510112\n",
      "\n",
      "7.594150783761741\n",
      "Probability of coming from C_1 = 0.8994325400626411\n",
      "Probability of coming from C_2 = 0.10056745993735884\n",
      "\n",
      "8.933842890894331\n",
      "Probability of coming from C_1 = 0.39149563162357126\n",
      "Probability of coming from C_2 = 0.6085043683764287\n",
      "\n",
      "6.027435769010786\n",
      "Probability of coming from C_1 = 0.27773250098224794\n",
      "Probability of coming from C_2 = 0.7222674990177521\n",
      "\n",
      "4.993559425147074\n",
      "Probability of coming from C_1 = 0.0012200215871819445\n",
      "Probability of coming from C_2 = 0.9987799784128181\n",
      "\n",
      "5.255684305055251\n",
      "Probability of coming from C_1 = 0.006876075424234522\n",
      "Probability of coming from C_2 = 0.9931239245757654\n",
      "\n",
      "4.685049038004945\n",
      "Probability of coming from C_1 = 0.00012461208204673496\n",
      "Probability of coming from C_2 = 0.9998753879179534\n",
      "\n",
      "7.364204806615996\n",
      "Probability of coming from C_1 = 0.8956028244486556\n",
      "Probability of coming from C_2 = 0.10439717555134444\n",
      "\n"
     ]
    }
   ],
   "source": [
    "from scipy.stats import norm\n",
    "\n",
    "prob_s0_x = [] # P(S_0 | X_i)\n",
    "prob_s1_x = [] # P(S_1 | X_i)\n",
    "prob_x = [] # P(X_i)\n",
    "\n",
    "k = 2\n",
    "\n",
    "for p in data:\n",
    "    print(\"point = \", p)\n",
    "    pdf_i = []\n",
    "    \n",
    "    for j in range(k):\n",
    "        # P(X_i | C_j)\n",
    "        pdf_i.append(norm.pdf(p, mean[j], var[j]))\n",
    "        print(\"probability of observing that point if it came from cluster \" + str(j) + \" = \", pdf_i[j])\n",
    "        \n",
    "    # P(X_i) = P(C_0)P(X_i | C_0) + P(C_1)P(X_i | C_1)\n",
    "    prob_x = prob_c[0] * pdf_i[0] + prob_c[1] * pdf_i[1]\n",
    "    \n",
    "    # P(S_j | X_i) = P(X_i | S_j)P(S_j) / P(X_i)\n",
    "    prob_c0_x.append((pdf_i[0] * prob_c[0]) / prob_x)\n",
    "    prob_c1_x.append((pdf_i[1] * prob_c[1]) / prob_x)\n",
    "    \n",
    "probs = zip(data, prob_c0_x, prob_c1_x)\n",
    "for p in probs:\n",
    "    print(p[0])\n",
    "    print(\"Probability of coming from C_1 = \" + str(p[1]))\n",
    "    print(\"Probability of coming from C_2 = \" + str(p[2]))\n",
    "    print()\n"
   ]
  },
  {
   "cell_type": "markdown",
   "metadata": {},
   "source": []
  },
  {
   "cell_type": "markdown",
   "metadata": {},
   "source": [
    "h) Use `P(C_j | X_i)` to create a hard assignment - label each point as belonging to a specific cluster (0 or 1)"
   ]
  },
  {
   "cell_type": "code",
   "execution_count": 13,
   "metadata": {},
   "outputs": [
    {
     "name": "stdout",
     "output_type": "stream",
     "text": [
      "[(6.964773439598892, 0), (5.850042177602807, 1), (6.70498111882574, 0), (7.594150783761741, 0), (8.933842890894331, 1), (6.027435769010786, 1), (4.993559425147074, 1), (5.255684305055251, 1), (4.685049038004945, 1), (7.364204806615996, 0)]\n"
     ]
    }
   ],
   "source": [
    "assigns = [(x[0], 0 if x[1] > x[2] else 1) for x in zip(data, prob_c0_x, prob_c1_x)]\n",
    "print(assigns)"
   ]
  },
  {
   "cell_type": "markdown",
   "metadata": {},
   "source": [
    "### Clustering Aggregation\n",
    "\n",
    "| Point | C | P |\n",
    "|-------|---|---|\n",
    "| A     | 0 | a |\n",
    "| B     | 0 | b |\n",
    "| C     | 2 | b |\n",
    "| D     | 1 | c |\n",
    "| E     | 1 | d |\n",
    "\n",
    "a) Fill in the following table where for each pair of points determine whether C and P agree or disagree on how to cluster that pair."
   ]
  },
  {
   "cell_type": "markdown",
   "metadata": {},
   "source": [
    "| Pair | Disagreement |\n",
    "|------|--------------|\n",
    "| A  B |      ?       |\n",
    "| A  C |      ?       |\n",
    "| A  D |      ?       |\n",
    "| A  E |      ?       |\n",
    "| B  C |      ?       |\n",
    "| B  D |      ?       |\n",
    "| B  E |      ?       |\n",
    "| C  D |      ?       |\n",
    "| C  E |      ?       |\n",
    "| D  E |      ?       |\n"
   ]
  },
  {
   "cell_type": "markdown",
   "metadata": {},
   "source": [
    "As datasets become very large, this process can become computationally challenging.\n",
    "\n",
    "b) Given N points, what is the formula for the number of unique pairs of points one can create?"
   ]
  },
  {
   "cell_type": "markdown",
   "metadata": {},
   "source": []
  },
  {
   "cell_type": "markdown",
   "metadata": {},
   "source": [
    "Assume that clustering C clusters all points in the same cluster and clustering P clusters points as such:\n",
    "\n",
    "| Point | P |\n",
    "|-------|---|\n",
    "| A     | 0 |\n",
    "| B     | 0 |\n",
    "| C     | 0 |\n",
    "| D     | 1 |\n",
    "| E     | 1 |\n",
    "| F     | 2 |\n",
    "| G     | 2 |\n",
    "| H     | 2 |\n",
    "| I     | 2 |\n",
    "\n",
    "c) What is the maximum number of disagreements there could be for a dataset of this size? (use the formula from b)?"
   ]
  },
  {
   "cell_type": "markdown",
   "metadata": {},
   "source": []
  },
  {
   "cell_type": "markdown",
   "metadata": {},
   "source": [
    "d) If we look at cluster 0. There are (3 x 2) / 2 = 3 pairs that agree with C (since all points in C are in the same cluster). For each cluster, determine how many agreements there are. How many total agreements are there? How many disagreements does that mean there are between C and P?"
   ]
  },
  {
   "cell_type": "markdown",
   "metadata": {},
   "source": []
  },
  {
   "cell_type": "markdown",
   "metadata": {},
   "source": [
    "e) Assuming that filtering the dataset by cluster number is a computationally easy operation, describe an algorithm inspired by the above process that can efficiently compute disagreement distances on large datasets."
   ]
  },
  {
   "cell_type": "markdown",
   "metadata": {},
   "source": []
  }
 ],
 "metadata": {
  "interpreter": {
   "hash": "76ca05dc3ea24b2e3b98cdb7774adfbb40773424bf5109b477fd793f623715af"
  },
  "kernelspec": {
   "display_name": "Python 3 (ipykernel)",
   "language": "python",
   "name": "python3"
  },
  "language_info": {
   "codemirror_mode": {
    "name": "ipython",
    "version": 3
   },
   "file_extension": ".py",
   "mimetype": "text/x-python",
   "name": "python",
   "nbconvert_exporter": "python",
   "pygments_lexer": "ipython3",
   "version": "3.8.18"
  }
 },
 "nbformat": 4,
 "nbformat_minor": 2
}
