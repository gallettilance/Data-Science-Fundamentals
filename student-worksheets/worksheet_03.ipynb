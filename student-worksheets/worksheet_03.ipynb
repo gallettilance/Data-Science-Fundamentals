{
 "cells": [
  {
   "cell_type": "markdown",
   "source": [
    "# Worksheet 03\n",
    "\n",
    "Name:  Truc Duong\n",
    "UID: U40568683\n",
    "\n",
    "### Topics\n",
    "\n",
    "- Intro to DS\n",
    "\n",
    "### Linear Algebra Review\n",
    "\n",
    "If you need a linear algebra review, please read through the [following pdf](https://github.com/gallettilance/CS506-Spring2023/raw/main/worksheets/lecture_03_linear_algebra_review.pdf) before next class\n",
    "\n",
    "### Intro to Data Science\n",
    "\n",
    "a) what property must a hypothesis have?"
   ],
   "metadata": {},
   "attachments": {}
  },
  {
   "cell_type": "markdown",
   "source": [],
   "metadata": {}
  },
  {
   "cell_type": "code",
   "execution_count": null,
   "source": [
    "- Rule is the superset of the Hypothesis\n",
    "- Only by submitting negative example that we realize our hypothesis is incorrect.\n",
    "- Some probability that a hypothesis must have:\n",
    "1. Testability\n",
    "2. Falsifiability\n",
    "3. Specificity\n",
    "4. Relevance\n",
    "5. Consistency with Existing Knowledge\n"
   ],
   "outputs": [],
   "metadata": {}
  },
  {
   "cell_type": "markdown",
   "source": [
    "b) what examples would you have wanted to try?"
   ],
   "metadata": {}
  },
  {
   "cell_type": "markdown",
   "source": [
    "(0, 0, 0)\n",
    "(-2, -4, -6)"
   ],
   "metadata": {}
  },
  {
   "cell_type": "markdown",
   "source": [
    "c) Poll 1"
   ],
   "metadata": {}
  },
  {
   "cell_type": "markdown",
   "source": [
    "I picked C. (1,2,3)"
   ],
   "metadata": {}
  },
  {
   "cell_type": "markdown",
   "source": [
    "d) Given the hypothesis (x, 2x, 3x), for each of the following, determine whether they are positive or negative examples:\n",
    "\n",
    "- (2, 4, 6)\n",
    "- (6, 8 , 10)\n",
    "- (1, 3, 5)"
   ],
   "metadata": {}
  },
  {
   "cell_type": "markdown",
   "source": [
    "Positive example:\n",
    "- (2,4,6)\n",
    "Negative example:\n",
    "- (6,8, 10)\n",
    "- (1,3, 5)"
   ],
   "metadata": {}
  },
  {
   "cell_type": "markdown",
   "source": [
    "e) Poll 2"
   ],
   "metadata": {}
  },
  {
   "cell_type": "markdown",
   "source": [
    "(1,2,3)\n",
    "By choosing the (1,2,3) negative example, we know that hypothesis (x, x+2, x+4) is not correct. The rule is (a < b < c)"
   ],
   "metadata": {}
  },
  {
   "cell_type": "markdown",
   "source": [
    "f) Describe steps of a Data Science Workflow"
   ],
   "metadata": {},
   "attachments": {}
  },
  {
   "cell_type": "markdown",
   "source": [
    "1. Process Data\n",
    "- What data should and shouldn't be used for the task?\n",
    "- What to do with missing/ inconsistent data?\n",
    "- What assumption are you making with the transformations of the data\n",
    "2. Explore Data\n",
    "- Describe, contextualize and visualize the data\n",
    "- What might be related to what you're trying to predict\n",
    "- Are there imbalances in the data\n",
    "3. Extract Features\n",
    "- Are the features provided by the dataset the best features to use for the task?\n",
    "- What other features can be extracted?\n",
    "- Should existing features be transformed?\n",
    "4. Create Model - the right one\n",
    "- The success of this step depends entirely on the work done previous steps\n",
    "- Remember: garbage in, garbage out (it's all about the data)\n",
    "- Is your model easy to explain?\n",
    "- when you model fails, can you explain why?\n"
   ],
   "metadata": {}
  },
  {
   "cell_type": "markdown",
   "source": [
    "g) Give a real world example for each of the following data types:\n",
    "\n",
    "- record\n",
    "- graph\n",
    "- image\n",
    "- text"
   ],
   "metadata": {},
   "attachments": {}
  },
  {
   "cell_type": "markdown",
   "source": [
    "- record: \n",
    "    - (name, age, height) -> (\"John\", 24, 5ft5)\n",
    "- graph:\n",
    "    - G(nodes, egdes) -> imagine the map of a state, nodes can be its cities, and edges be the roads connecting the cities.\n",
    "- image:\n",
    "    - An image is a matrix with pixels. Each pixel can be a 3 tuple - (R, G, B)\n",
    "    - grey scale images, where each pixel is represented by a single value indicating the intensity level. This type of image is often used in medical imaging such ax XRAY scans or MRI scans.\n",
    "- text:\n",
    "    - an essay written in a language can be data for a project analyzing grammar of that language\n",
    "    - words in documents can be stored into matrices. We can manipulate the matrices to analize the documents, like are they similar, etc."
   ],
   "metadata": {}
  },
  {
   "cell_type": "markdown",
   "source": [
    "h) Give a real world example of unsupervised learning"
   ],
   "metadata": {},
   "attachments": {}
  },
  {
   "cell_type": "markdown",
   "source": [
    "- clustering in customer segmentation\n",
    "- clustering with heights of BU students"
   ],
   "metadata": {}
  },
  {
   "cell_type": "markdown",
   "source": [
    "i) Give a real world example of supervised learning"
   ],
   "metadata": {},
   "attachments": {}
  },
  {
   "cell_type": "markdown",
   "source": [
    "- cricket chirps per minute for a given temperature. We can increase or decrease the temperature and record cricket chirps/minute. Given a temperature, we can predict cricket chirps/minute.\n",
    "- Predict if a tumor is malignant based on its size and age of subject."
   ],
   "metadata": {}
  }
 ],
 "metadata": {
  "kernelspec": {
   "display_name": "Python 3",
   "language": "python",
   "name": "python3"
  },
  "language_info": {
   "codemirror_mode": {
    "name": "ipython",
    "version": 3
   },
   "file_extension": ".py",
   "mimetype": "text/x-python",
   "name": "python",
   "nbconvert_exporter": "python",
   "pygments_lexer": "ipython3",
   "version": "3.11.1 (main, Dec  7 2022, 00:00:00) [GCC 12.2.1 20221121 (Red Hat 12.2.1-4)]"
  },
  "orig_nbformat": 4,
  "vscode": {
   "interpreter": {
    "hash": "e7370f93d1d0cde622a1f8e1c04877d8463912d04d973331ad4851f04de6915a"
   }
  }
 },
 "nbformat": 4,
 "nbformat_minor": 2
}