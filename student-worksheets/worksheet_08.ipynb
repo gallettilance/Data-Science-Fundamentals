{
 "cells": [
  {
   "cell_type": "markdown",
   "metadata": {},
   "source": [
    "# Worksheet 08\n",
    "\n",
    "Name:  Medha Dhir\n",
    "UID: U62101055\n",
    "\n",
    "### Topics\n",
    "\n",
    "- Soft Clustering\n",
    "- Clustering Aggregation\n",
    "\n",
    "### Probability Review\n",
    "\n",
    "Read through [the following](https://medium.com/@gallettilance/overview-of-probability-3272b72c82c8)\n",
    "\n",
    "### Soft Clustering\n",
    "\n",
    "We generate 10 data points that come from a normal distribution with mean 5 and variance 1."
   ]
  },
  {
   "cell_type": "code",
   "execution_count": 5,
   "metadata": {},
   "outputs": [
    {
     "name": "stdout",
     "output_type": "stream",
     "text": [
      "[4.556496031818065, 5.764286128136619, 4.656735384460079, 5.757270144014049, 6.782340698535936, 4.460559336380519, 4.583605493928479, 5.950709071077135, 5.881246962820661, 5.425403794551165]\n"
     ]
    }
   ],
   "source": [
    "import random\n",
    "import numpy as np\n",
    "from sklearn.cluster import KMeans\n",
    "\n",
    "mean = 5\n",
    "stdev = 1\n",
    "\n",
    "s1 = np.random.normal(mean, stdev, 10).tolist()\n",
    "print(s1)"
   ]
  },
  {
   "cell_type": "markdown",
   "metadata": {},
   "source": [
    "a) Generate 10 more data points, this time coming from a normal distribution with mean 8 and variance 1."
   ]
  },
  {
   "cell_type": "code",
   "execution_count": 6,
   "metadata": {},
   "outputs": [
    {
     "name": "stdout",
     "output_type": "stream",
     "text": [
      "[7.614162243363462, 7.674408405475877, 7.7387481296850265, 8.7297743608764, 9.953206269670696, 5.613683905854343, 9.797273845464947, 5.429452035685413, 7.768480339668468, 8.152551378247475]\n"
     ]
    }
   ],
   "source": [
    "mean = 8 \n",
    "stdev = 1\n",
    "s2 = np.random.normal(8, 1, 10).tolist()\n",
    "print(s2)"
   ]
  },
  {
   "cell_type": "markdown",
   "metadata": {},
   "source": [
    "b) Flip a fair coin 10 times. If the coin lands on H, then pick the last data point of `c1` and remove it from `c1`, if T then pick the last data point from `c2` and remove it from `c2`. Add these 10 points to a list called `data`."
   ]
  },
  {
   "cell_type": "code",
   "execution_count": 7,
   "metadata": {},
   "outputs": [
    {
     "name": "stdout",
     "output_type": "stream",
     "text": [
      "[8.152551378247475, 7.768480339668468, 5.425403794551165, 5.881246962820661, 5.429452035685413, 5.950709071077135, 9.797273845464947, 4.583605493928479, 5.613683905854343, 4.460559336380519]\n"
     ]
    }
   ],
   "source": [
    "data = []\n",
    "for i in range(10):\n",
    "    # flip coin\n",
    "    coin_output = random.choice([0, 1])\n",
    "    if coin_output == 0:\n",
    "        p1 = s1.pop()\n",
    "        data.append(p1)\n",
    "    else:\n",
    "        p2 = s2.pop()\n",
    "        data.append(p2)\n",
    "print(data)"
   ]
  },
  {
   "cell_type": "markdown",
   "metadata": {},
   "source": [
    "c) This `data` is a Gaussian Mixture Distribution with 2 mixture components. Over the next few questions we will walk through the GMM algorithm to see if we can uncover the parameters we used to generate this data. First, please list all these parameters of the GMM that created `data` and the values we know they have."
   ]
  },
  {
   "cell_type": "markdown",
   "metadata": {},
   "source": [
    "For each individual probability's\n",
    "\n",
    "mean\n",
    "variance\n",
    "And a probaility of x being i-th species \n",
    "\n",
    "Gaussian Mixture Model: when all \n",
    " are normal distribution with parameters:\n",
    " \n",
    " \n",
    "Start with random \n",
    "Compute \n",
    " for all Xi by using \n",
    "Compute / Update \n",
    " from \n",
    "Repeat 2 & 3 until convergence"
   ]
  },
  {
   "cell_type": "markdown",
   "metadata": {},
   "source": [
    "d) Let's assume there are two mixture components (note: we could plot the data and make the observation that there are two clusters). The EM algorithm asks us to start with a random `mean_j`, `variance_j`, `P(S_j)` for each component j. One method we could use to find sensible values for these is to apply K means with k=2 here.\n",
    "\n",
    "1. the centroids would be the estimates of the `mean_j`\n",
    "2. the intra-cluster variance could be the estimate of `variance_j`\n",
    "3. the proportion of points in each cluster could be the estimate of `P(S_j)`\n",
    "\n",
    "Go through this process and list the parameter estimates it gives. Are they close or far from the true values?"
   ]
  },
  {
   "cell_type": "code",
   "execution_count": 8,
   "metadata": {},
   "outputs": [
    {
     "name": "stdout",
     "output_type": "stream",
     "text": [
      "[5.425403794551165, 5.881246962820661, 5.429452035685413, 5.950709071077135, 4.583605493928479, 5.613683905854343, 4.460559336380519]\n",
      "[8.152551378247475, 7.768480339668468, 9.797273845464947]\n",
      "P(S_1) = 0.7,  P(S_2) = 0.3\n",
      "mean_1 = 5.334951514328246,  mean_2 = 8.572768521126962\n",
      "var_1 = 0.30021175979768383,  var_2 = 0.7742917384452279\n"
     ]
    },
    {
     "name": "stderr",
     "output_type": "stream",
     "text": [
      "/Users/medhadhir/anaconda3/lib/python3.11/site-packages/sklearn/cluster/_kmeans.py:1412: FutureWarning: The default value of `n_init` will change from 10 to 'auto' in 1.4. Set the value of `n_init` explicitly to suppress the warning\n",
      "  super()._check_params_vs_input(X, default_n_init=10)\n"
     ]
    }
   ],
   "source": [
    "kmeans = KMeans(2, init='k-means++').fit(X=np.array(data).reshape(-1, 1))\n",
    "\n",
    "s1 = [x[0] for x in filter(lambda x: x[1] == 0, zip(data, kmeans.labels_))]\n",
    "print(s1)\n",
    "s2 = [x[0] for x in filter(lambda x: x[1] != 0, zip(data, kmeans.labels_))]\n",
    "print(s2)\n",
    "\n",
    "prob_s = [ len(s1) / (len(s1) + len(s2)) , len(s2) /(len(s2) + len(s1)) ]\n",
    "mean = [ sum(s1)/len(s1) , sum(s2)/len(s2) ]\n",
    "var = [ sum(map(lambda x : (x - mean[0])**2, s1)) / len(s1) , sum(map(lambda x : (x - mean[1])**2, s2)) / len(s2) ]\n",
    "\n",
    "print(\"P(S_1) = \" + str(prob_s[0]) + \",  P(S_2) = \" + str(prob_s[1]))\n",
    "print(\"mean_1 = \" + str(mean[0]) + \",  mean_2 = \" + str(mean[1]))\n",
    "print(\"var_1 = \" + str(var[0]) + \",  var_2 = \" + str(var[1]))"
   ]
  },
  {
   "cell_type": "markdown",
   "metadata": {},
   "source": []
  },
  {
   "cell_type": "markdown",
   "metadata": {},
   "source": [
    "e) For each data point, compute `P(S_j | X_i)`. Comment on which cluster you think each point belongs to based on the estimated probabilities. How does that compare to the truth?"
   ]
  },
  {
   "cell_type": "code",
   "execution_count": 9,
   "metadata": {},
   "outputs": [
    {
     "name": "stdout",
     "output_type": "stream",
     "text": [
      "point =  8.152551378247475\n",
      "probability of observing that point if it came from cluster 0 =  9.908580579651856e-20\n",
      "probability of observing that point if it came from cluster 1 =  0.44468018325202746\n",
      "point =  7.768480339668468\n",
      "probability of observing that point if it came from cluster 0 =  7.164619290724567e-15\n",
      "probability of observing that point if it came from cluster 1 =  0.30040524930397644\n",
      "point =  5.425403794551165\n",
      "probability of observing that point if it came from cluster 0 =  1.2699014990344903\n",
      "probability of observing that point if it came from cluster 1 =  0.00013308057967412285\n",
      "point =  5.881246962820661\n",
      "probability of observing that point if it came from cluster 0 =  0.2537702236473325\n",
      "probability of observing that point if it came from cluster 1 =  0.0012250241399666595\n",
      "point =  5.429452035685413\n",
      "probability of observing that point if it came from cluster 0 =  1.264637567149157\n",
      "probability of observing that point if it came from cluster 1 =  0.00013593724617826385\n",
      "point =  5.950709071077135\n",
      "probability of observing that point if it came from cluster 0 =  0.16216667685702382\n",
      "probability of observing that point if it came from cluster 1 =  0.0016665905838776504\n",
      "point =  9.797273845464947\n",
      "probability of observing that point if it came from cluster 0 =  1.4055323136209586e-48\n",
      "probability of observing that point if it came from cluster 1 =  0.14754421130075984\n",
      "point =  4.583605493928479\n",
      "probability of observing that point if it came from cluster 0 =  0.0579905380083055\n",
      "probability of observing that point if it came from cluster 1 =  8.875830307894449e-07\n",
      "point =  5.613683905854343\n",
      "probability of observing that point if it came from cluster 0 =  0.8635672798859706\n",
      "probability of observing that point if it came from cluster 1 =  0.00034716912793698797\n",
      "point =  4.460559336380519\n",
      "probability of observing that point if it came from cluster 0 =  0.019115683421325743\n",
      "probability of observing that point if it came from cluster 1 =  3.8650522370071914e-07\n",
      "8.152551378247475\n",
      "Probability of coming from S_1 = 5.199247059637345e-19\n",
      "Probability of coming from S_2 = 1.0\n",
      "\n",
      "7.768480339668468\n",
      "Probability of coming from S_1 = 5.564964344139521e-14\n",
      "Probability of coming from S_2 = 0.9999999999999444\n",
      "\n",
      "5.425403794551165\n",
      "Probability of coming from S_1 = 0.9999550894516329\n",
      "Probability of coming from S_2 = 4.491054836710553e-05\n",
      "\n",
      "5.881246962820661\n",
      "Probability of coming from S_1 = 0.9979354298645079\n",
      "Probability of coming from S_2 = 0.002064570135492126\n",
      "\n",
      "5.429452035685413\n",
      "Probability of coming from S_1 = 0.9999539345203847\n",
      "Probability of coming from S_2 = 4.606547961526596e-05\n",
      "\n",
      "5.950709071077135\n",
      "Probability of coming from S_1 = 0.9956148758020215\n",
      "Probability of coming from S_2 = 0.004385124197978526\n",
      "\n",
      "9.797273845464947\n",
      "Probability of coming from S_1 = 2.2227746988756403e-47\n",
      "Probability of coming from S_2 = 1.0\n",
      "\n",
      "4.583605493928479\n",
      "Probability of coming from S_1 = 0.9999934404776132\n",
      "Probability of coming from S_2 = 6.559522386774525e-06\n",
      "\n",
      "5.613683905854343\n",
      "Probability of coming from S_1 = 0.999827736480934\n",
      "Probability of coming from S_2 = 0.00017226351906600345\n",
      "\n",
      "4.460559336380519\n",
      "Probability of coming from S_1 = 0.9999913346723289\n",
      "Probability of coming from S_2 = 8.665327671094897e-06\n",
      "\n"
     ]
    }
   ],
   "source": [
    "from scipy.stats import norm\n",
    "\n",
    "prob_s0_x = [] # P(S_0 | X_i)\n",
    "prob_s1_x = [] # P(S_1 | X_i)\n",
    "prob_x = [] # P(X_i)\n",
    "\n",
    "k = 2\n",
    "\n",
    "for p in data:\n",
    "    print(\"point = \", p)\n",
    "    pdf_i = []\n",
    "\n",
    "    for j in range(k):\n",
    "        # P(X_i | S_j)\n",
    "        pdf_i.append(norm.pdf(p, mean[j], var[j]))\n",
    "        print(\"probability of observing that point if it came from cluster \" + str(j) + \" = \", pdf_i[j])\n",
    "        # P(S_j) already computed\n",
    "        prob_s[j]\n",
    "\n",
    "    # P(X_i) = P(S_0)P(X_i | S_0) + P(S_1)P(X_i | S_1)\n",
    "    prob_x = prob_s[0] * pdf_i[0] + prob_s[1] * pdf_i[1]\n",
    "\n",
    "    # P(S_j | X_i) = P(X_i | S_j)P(S_j) / P(X_i)\n",
    "    prob_s0_x.append(pdf_i[0] * prob_s[0] / prob_x)\n",
    "    prob_s1_x.append(pdf_i[1] * prob_s[1] / prob_x)\n",
    "\n",
    "probs = zip(data, prob_s0_x, prob_s1_x)\n",
    "for p in probs:\n",
    "    print(p[0])\n",
    "    print(\"Probability of coming from S_1 = \" + str(p[1]))\n",
    "    print(\"Probability of coming from S_2 = \" + str(p[2]))\n",
    "    print()\n"
   ]
  },
  {
   "cell_type": "markdown",
   "metadata": {},
   "source": [
    "f) Having computed `P(S_j | X_i)`, update the estimates of `mean_j`, `var_j`, and `P(S_j)`. How different are these values from the original ones you got from K means? briefly comment."
   ]
  },
  {
   "cell_type": "code",
   "execution_count": 10,
   "metadata": {},
   "outputs": [
    {
     "name": "stdout",
     "output_type": "stream",
     "text": [
      "P(S_1) = 0.7,  P(S_2) = 0.3\n",
      "mean_1 = 5.334397844422619,  mean_2 = 8.566811021261293\n",
      "var_1 = 0.30017092602515827,  var_2 = 0.7884094003223018\n"
     ]
    }
   ],
   "source": [
    "prob_c = [sum(prob_s0_x)/ len(prob_s0_x), sum(prob_s1_x)/ len(prob_s1_x) ]\n",
    "mean = [sum([x[0] * x[1] for x in zip(prob_s0_x, data)]) / sum(prob_s0_x), sum([x[0] * x[1] for x in zip(prob_s1_x, data)]) / sum(prob_s1_x) ]\n",
    "var = [sum([(p * (x - mean[0])**2) for p, x in zip(prob_s0_x, data)]) / sum(prob_s0_x) , sum([(p * (x - mean[1])**2) for p, x in zip(prob_s1_x, data)]) / sum(prob_s1_x)]\n",
    "\n",
    "print(\"P(S_1) = \" + str(prob_s[0]) + \",  P(S_2) = \" + str(prob_s[1]))\n",
    "print(\"mean_1 = \" + str(mean[0]) + \",  mean_2 = \" + str(mean[1]))\n",
    "print(\"var_1 = \" + str(var[0]) + \",  var_2 = \" + str(var[1]))"
   ]
  },
  {
   "cell_type": "markdown",
   "metadata": {},
   "source": [
    "The P and the means are quite similar, but there is a more notable difference in the variances."
   ]
  },
  {
   "cell_type": "markdown",
   "metadata": {},
   "source": [
    "g) Update `P(S_j | X_i)`. Comment on any differences or lack thereof you observe."
   ]
  },
  {
   "cell_type": "code",
   "execution_count": 11,
   "metadata": {},
   "outputs": [
    {
     "name": "stdout",
     "output_type": "stream",
     "text": [
      "point =  8.152551378247475\n",
      "probability of observing that point if it came from cluster 0 =  9.623789527650094e-20\n",
      "probability of observing that point if it came from cluster 1 =  0.4407652366581097\n",
      "point =  7.768480339668468\n",
      "probability of observing that point if it came from cluster 0 =  6.996404062116714e-15\n",
      "probability of observing that point if it came from cluster 1 =  0.30304806647609905\n",
      "point =  5.425403794551165\n",
      "probability of observing that point if it came from cluster 0 =  1.2693506794296214\n",
      "probability of observing that point if it came from cluster 1 =  0.0001805920038535714\n",
      "point =  5.881246962820661\n",
      "probability of observing that point if it came from cluster 0 =  0.25283981455035553\n",
      "probability of observing that point if it came from cluster 1 =  0.0015297320181676453\n",
      "point =  5.429452035685413\n",
      "probability of observing that point if it came from cluster 0 =  1.264056157095872\n",
      "probability of observing that point if it came from cluster 1 =  0.0001843223829081663\n",
      "point =  5.950709071077135\n",
      "probability of observing that point if it came from cluster 0 =  0.16148349100226592\n",
      "probability of observing that point if it came from cluster 1 =  0.0020571489146075372\n",
      "point =  9.797273845464947\n",
      "probability of observing that point if it came from cluster 0 =  1.3272018946626642e-48\n",
      "probability of observing that point if it came from cluster 1 =  0.14970662969705378\n",
      "point =  4.583605493928479\n",
      "probability of observing that point if it came from cluster 0 =  0.05821709206694163\n",
      "probability of observing that point if it came from cluster 1 =  1.4505236139407384e-06\n",
      "point =  5.613683905854343\n",
      "probability of observing that point if it came from cluster 0 =  0.8621041464752911\n",
      "probability of observing that point if it came from cluster 1 =  0.0004545286556031134\n",
      "point =  4.460559336380519\n",
      "probability of observing that point if it came from cluster 0 =  0.019199080711248248\n",
      "probability of observing that point if it came from cluster 1 =  6.513253796255463e-07\n",
      "8.152551378247475\n",
      "Probability of coming from S_1 = 5.094664240789112e-19\n",
      "Probability of coming from S_2 = 1.0\n",
      "\n",
      "7.768480339668468\n",
      "Probability of coming from S_1 = 5.3869153502394344e-14\n",
      "Probability of coming from S_2 = 0.9999999999999462\n",
      "\n",
      "5.425403794551165\n",
      "Probability of coming from S_1 = 0.9999390303597792\n",
      "Probability of coming from S_2 = 6.0969640220827536e-05\n",
      "\n",
      "5.881246962820661\n",
      "Probability of coming from S_1 = 0.9974137621424901\n",
      "Probability of coming from S_2 = 0.002586237857509822\n",
      "\n",
      "5.429452035685413\n",
      "Probability of coming from S_1 = 0.9999375103945092\n",
      "Probability of coming from S_2 = 6.248960549075045e-05\n",
      "\n",
      "5.950709071077135\n",
      "Probability of coming from S_1 = 0.994570045492697\n",
      "Probability of coming from S_2 = 0.005429954507302974\n",
      "\n",
      "9.797273845464947\n",
      "Probability of coming from S_1 = 2.068582017473936e-47\n",
      "Probability of coming from S_2 = 1.0\n",
      "\n",
      "4.583605493928479\n",
      "Probability of coming from S_1 = 0.9999893219273366\n",
      "Probability of coming from S_2 = 1.0678072663483464e-05\n",
      "\n",
      "5.613683905854343\n",
      "Probability of coming from S_1 = 0.9997740945915479\n",
      "Probability of coming from S_2 = 0.00022590540845214986\n",
      "\n",
      "4.460559336380519\n",
      "Probability of coming from S_1 = 0.9999854610023157\n",
      "Probability of coming from S_2 = 1.4538997684384758e-05\n",
      "\n"
     ]
    }
   ],
   "source": [
    "prob_s0_x = [] # P(S_0 | X_i)\n",
    "prob_s1_x = [] # P(S_1 | X_i)\n",
    "prob_x = [] # P(X_i)\n",
    "\n",
    "k = 2\n",
    "\n",
    "for p in data:\n",
    "    print(\"point = \", p)\n",
    "    pdf_i = []\n",
    "\n",
    "    for j in range(k):\n",
    "        # P(X_i | S_j)\n",
    "        pdf_i.append(norm.pdf(p, mean[j], var[j]))\n",
    "        print(\"probability of observing that point if it came from cluster \" + str(j) + \" = \", pdf_i[j])\n",
    "        # P(S_j) already computed\n",
    "        prob_s[j]\n",
    "\n",
    "    # P(X_i) = P(S_0)P(X_i | S_0) + P(S_1)P(X_i | S_1)\n",
    "    prob_x = prob_s[0] * pdf_i[0] + prob_s[1] * pdf_i[1]\n",
    "\n",
    "    # P(S_j | X_i) = P(X_i | S_j)P(S_j) / P(X_i)\n",
    "    prob_s0_x.append(pdf_i[0] * prob_s[0] / prob_x )\n",
    "    prob_s1_x.append(pdf_i[1] * prob_s[1] / prob_x )\n",
    "\n",
    "probs = zip(data, prob_s0_x, prob_s1_x)\n",
    "for p in probs:\n",
    "    print(p[0])\n",
    "    print(\"Probability of coming from S_1 = \" + str(p[1]))\n",
    "    print(\"Probability of coming from S_2 = \" + str(p[2]))\n",
    "    print()"
   ]
  },
  {
   "cell_type": "markdown",
   "metadata": {},
   "source": [
    "we see that it comes from C_1."
   ]
  },
  {
   "cell_type": "markdown",
   "metadata": {},
   "source": [
    "h) Use `P(S_j | X_i)` to create a hard assignment - label each point as belonging to a specific cluster (0 or 1)"
   ]
  },
  {
   "cell_type": "code",
   "execution_count": 12,
   "metadata": {},
   "outputs": [
    {
     "name": "stdout",
     "output_type": "stream",
     "text": [
      "points in cluster 0 : [5.425403794551165, 5.881246962820661, 5.429452035685413, 5.950709071077135, 4.583605493928479, 5.613683905854343, 4.460559336380519]\n",
      "points in cluster 1 : [8.152551378247475, 7.768480339668468, 9.797273845464947]\n"
     ]
    }
   ],
   "source": [
    "assignments = [[], []]\n",
    "for x in zip(data, prob_s0_x):\n",
    "    p = x[1]\n",
    "    d = x[0]\n",
    "    if random.random() <= p:\n",
    "        assignments[0].append(d)\n",
    "    else:\n",
    "        assignments[1].append(d)\n",
    "print(f\"points in cluster 0 : {assignments[0]}\\npoints in cluster 1 : {assignments[1]}\")"
   ]
  },
  {
   "cell_type": "code",
   "execution_count": null,
   "metadata": {},
   "outputs": [],
   "source": []
  }
 ],
 "metadata": {
  "kernelspec": {
   "display_name": "Python 3 (ipykernel)",
   "language": "python",
   "name": "python3"
  },
  "language_info": {
   "codemirror_mode": {
    "name": "ipython",
    "version": 3
   },
   "file_extension": ".py",
   "mimetype": "text/x-python",
   "name": "python",
   "nbconvert_exporter": "python",
   "pygments_lexer": "ipython3",
   "version": "3.11.4"
  },
  "vscode": {
   "interpreter": {
    "hash": "e7370f93d1d0cde622a1f8e1c04877d8463912d04d973331ad4851f04de6915a"
   }
  }
 },
 "nbformat": 4,
 "nbformat_minor": 2
}
