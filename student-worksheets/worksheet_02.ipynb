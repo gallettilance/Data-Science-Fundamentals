{
 "cells": [
  {
   "cell_type": "markdown",
   "source": [
    "# Worksheet 02\n",
    "\n",
    "Name:  Truc Duong\n",
    "UID:  U40568683\n",
    "\n",
    "### Topics\n",
    "\n",
    "- Effective Programming\n",
    "\n",
    "### Effective Programming\n",
    "\n",
    "a) What is a drawback of the top down approach?"
   ],
   "metadata": {}
  },
  {
   "cell_type": "markdown",
   "source": [
    "In the top-down approach, developers often start with a high-level design of the system then breaking it down into smaller, more manageable pieces."
   ],
   "metadata": {}
  },
  {
   "cell_type": "markdown",
   "source": [
    "Some drawbacks of the topdown approach:\n",
    "  - Potential for Inaccurate Time Estimates: It's harder to estimate the time required for development from a high-level design since we're uncertain about the lower-level component\n",
    "  - Less Flexibility for Exploratory Development: In some cases, it can be less flexible while using the top-down approach, compared to a more iterative and exploratory approach\n",
    "  - Possible difficulty in Debugging and Testing: It is harder to identify and isolate issues that stem from interactions between components in the low-level layer"
   ],
   "metadata": {}
  },
  {
   "cell_type": "markdown",
   "source": [
    "b) What is a drawback of the bottom up approach?"
   ],
   "metadata": {}
  },
  {
   "cell_type": "markdown",
   "source": [
    "In the bottom up approach, developers start with smaller, lower-level components and gradually combining them to build a larger system."
   ],
   "metadata": {}
  },
  {
   "cell_type": "markdown",
   "source": [
    "There are some drawback to this approach:\n",
    "\n",
    "- Lack of Overall System Vision: developers may focus too much on individual compoents without having a clear plan of how to add the components together to a cohesive system.\n",
    "- Less Code Reusability: Components developed individually and in isolation may not be as reusable.\n",
    "- Possible difficulty in Debugging and Testing: It is harder to identify and isolate issues that stem from interactions between components in the low-level layer\n",
    "- Possible Inefficiencies: We may create unnecessary or overly complex components"
   ],
   "metadata": {}
  },
  {
   "cell_type": "markdown",
   "source": [
    "c) What are 3 things you can do to have a better debugging experience?"
   ],
   "metadata": {}
  },
  {
   "cell_type": "markdown",
   "source": [
    "\n",
    "1. Don't Panic\n",
    "2. Read the error\n",
    "3. Reread your code\n",
    "4. Sanity check\n",
    "5. Look online for help\n",
    "\n"
   ],
   "metadata": {}
  },
  {
   "cell_type": "markdown",
   "source": [
    "d) Follow along with the live coding. You can write your code here:"
   ],
   "metadata": {}
  },
  {
   "cell_type": "markdown",
   "source": [
    "- The 8 Queen problem: Place the Queens on the board such that no queen is in the same row, column, diagonals line with another queen.\n",
    "- We use backtracking\n",
    "- Coding steps:\n",
    "    - Create a board\n",
    "    - Get and Set Queens\n",
    "    - Is a location valid?\n",
    "    - Search for 1 sol first\n",
    "    - Find all solutions\n",
    "    - Refine code"
   ],
   "metadata": {}
  },
  {
   "cell_type": "code",
   "execution_count": 5,
   "source": [
    "class Board:\n",
    "    \n",
    "    def __init__(self):\n",
    "        self.board = [[\"_\" for _ in range(8)] for i in range(8)]\n",
    "    \n",
    "    def __repr__(self):\n",
    "        res = \"\"\n",
    "        for row in self.board:\n",
    "            for col in row:\n",
    "                res += col\n",
    "                res += \" \"\n",
    "            res += \"\\n\"\n",
    "        return res\n",
    "    \n",
    "    def is_legal_row(self,row):\n",
    "        for j in range(len(self.board)):\n",
    "            if self.board[row][j] == \"Q\":\n",
    "                return False\n",
    "        return True\n",
    "    \n",
    "    def is_legal_col(self,col):\n",
    "        for c in range(len(self.board)):\n",
    "            if self.board[c][col] == \"Q\":\n",
    "                return False\n",
    "        return True\n",
    "    \n",
    "    def is_on_board(self, row, col):\n",
    "        return (0 <= row < 8) and ( 0 <= col < 8)\n",
    "    \n",
    "    def is_legal_diag(self, row, col):\n",
    "        for i in range(len(self.board)):\n",
    "            if self.is_on_board(row-i, col-i) and self.board[row-i][col-i] ==  \"Q\":\n",
    "                return False\n",
    "            if self.is_on_board(row+i, col+i) and self.board[row+i][col+i] ==  \"Q\":\n",
    "                return False\n",
    "            if self.is_on_board(row-i, col+i) and self.board[row-i][col+i] ==  \"Q\":\n",
    "                return False\n",
    "            if self.is_on_board(row+i, col-i) and self.board[row+i][col-i] ==  \"Q\":\n",
    "                return False\n",
    "        return True\n",
    "        \n",
    "    \n",
    "    def is_legal(self, row, col):\n",
    "        if not self.is_legal_row(row):\n",
    "            return False\n",
    "        if not self.is_legal_col(col):\n",
    "            return False\n",
    "        if not self.is_legal_diag(row, col):\n",
    "            return False\n",
    "        return True\n",
    "    def set_queen_at(self, row, col):\n",
    "        self.board[row][col] = \"Q\"\n",
    "    def unset_queen_at(self, row):\n",
    "        self.board[row] = [\"_\" for _ in range(8)]\n",
    "    \n",
    "    def get_queen_on(self,row):\n",
    "        for col in range(len(self.board)):\n",
    "            if self.board[row][col] == \"Q\":\n",
    "                return col\n",
    "        # if no queen found on this row\n",
    "        raise ValueError(\"programmer error\")\n",
    "    \n",
    "    def search(self):\n",
    "        row = 0\n",
    "        col = 0\n",
    "        while row < 8:\n",
    "            if self.is_on_board(row, col) and self.is_legal(row,col):\n",
    "                self.set_queen_at(row, col)\n",
    "                row += 1\n",
    "                col = 0\n",
    "            else:\n",
    "                col += 1\n",
    "                if col >= 8:\n",
    "                    col = self.get_queen_on(row - 1)\n",
    "                    self.unset_queen_at(row-1)\n",
    "                    col += 1\n",
    "                    row -= 1\n",
    "        print(self)\n",
    "        \n",
    "        \n",
    "                    \n",
    "myBoard = Board()\n",
    "print(myBoard.search())\n",
    "                        \n",
    "        \n",
    "        "
   ],
   "outputs": [
    {
     "output_type": "stream",
     "name": "stdout",
     "text": [
      "Q _ _ _ _ _ _ _ \n",
      "_ _ _ _ Q _ _ _ \n",
      "_ _ _ _ _ _ _ Q \n",
      "_ _ _ _ _ Q _ _ \n",
      "_ _ Q _ _ _ _ _ \n",
      "_ _ _ _ _ _ Q _ \n",
      "_ Q _ _ _ _ _ _ \n",
      "_ _ _ Q _ _ _ _ \n",
      "\n",
      "None\n"
     ]
    }
   ],
   "metadata": {}
  },
  {
   "cell_type": "code",
   "execution_count": null,
   "source": [
    "my_Board = Board()\n",
    "print(my_Board.search())"
   ],
   "outputs": [],
   "metadata": {}
  }
 ],
 "metadata": {
  "kernelspec": {
   "display_name": "Python 3 (ipykernel)",
   "language": "python",
   "name": "python3"
  },
  "language_info": {
   "codemirror_mode": {
    "name": "ipython",
    "version": 3
   },
   "file_extension": ".py",
   "mimetype": "text/x-python",
   "name": "python",
   "nbconvert_exporter": "python",
   "pygments_lexer": "ipython3",
   "version": "3.9.7"
  },
  "vscode": {
   "interpreter": {
    "hash": "76ca05dc3ea24b2e3b98cdb7774adfbb40773424bf5109b477fd793f623715af"
   }
  }
 },
 "nbformat": 4,
 "nbformat_minor": 2
}