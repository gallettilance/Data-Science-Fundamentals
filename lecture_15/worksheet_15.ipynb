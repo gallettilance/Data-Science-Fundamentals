{
 "cells": [
  {
   "attachments": {},
   "cell_type": "markdown",
   "metadata": {},
   "source": [
    "# Worksheet 15\n",
    "\n",
    "Name:  Thian Amarasekera\n",
    "\n",
    "UID: U91933393\n",
    "\n",
    "### Topics\n",
    "\n",
    "- Support Vector Machines\n",
    "\n",
    "## Support Vector Machines\n",
    "\n",
    "a) Follow along in class to implement the perceptron algorithm and create an animation of the algorithm."
   ]
  },
  {
   "cell_type": "code",
   "execution_count": 3,
   "metadata": {},
   "outputs": [],
   "source": [
    "import numpy as np\n",
    "from PIL import Image as im\n",
    "import matplotlib.pyplot as plt\n",
    "import sklearn.datasets as datasets\n",
    "\n",
    "TEMPFILE = \"temp.png\"\n",
    "CENTERS = [[0, 1], [1, 0]]\n",
    "\n",
    "# Dataset\n",
    "X, labels = datasets.make_blobs(n_samples=10, centers=CENTERS, cluster_std=0.2, random_state=0)\n",
    "Y = np.array(list(map(lambda x : -1 if x == 0 else 1, labels.tolist())))\n",
    "\n",
    "# Initializing w and b\n",
    "w = np.array([1, 1])\n",
    "b = 0.1\n",
    "\n",
    "# Perceptron Parameters\n",
    "epochs = 100\n",
    "alpha = .05\n",
    "expanding_rate = .99\n",
    "retracting_rate = 1.1\n",
    "\n",
    "def snap(x, w, b, error):\n",
    "    \"\"\"\n",
    "        Plot the street induced by w and b.\n",
    "        Circle the point x in red if it was\n",
    "        misclassified or in yellow if it was\n",
    "        classified correctly.\n",
    "    \"\"\"\n",
    "\n",
    "    xplot = np.linspace(-3, 3)\n",
    "    cs = np.array([x for x in 'gb'])\n",
    "\n",
    "    svm = (w[0] * xplot + b) / w[1]\n",
    "    right_svm = (w[0] * xplot + b - 1) / w[1]\n",
    "    left_svm = (w[0] * xplot + b + 1) / w[1] \n",
    "\n",
    "    fig, ax = plt.subplots()\n",
    "    ax.scatter(X[:,0],X[:,1],color=cs[labels].tolist(), s=50, alpha=0.8)\n",
    "    if error:\n",
    "        ax.add_patch(plt.Circle((x[0], x[1]), .2, color='r',fill=False))\n",
    "    else:\n",
    "        ax.add_patch(plt.Circle((x[0], x[1]), .2, color='y',fill=False))\n",
    "    ax.plot(xplot, left_svm, 'g--', lw=2)\n",
    "    ax.plot(xplot, svm, 'r-', lw=2)\n",
    "    ax.plot(xplot, right_svm, 'b--', lw=2)\n",
    "    ax.set_xlim(min(X[:, 0]) - 1, max(X[:,0]) + 1)\n",
    "    ax.set_ylim(min(X[:, 1]) - 1, max(X[:,1]) + 1)\n",
    "    fig.savefig(TEMPFILE)\n",
    "    plt.close()\n",
    "\n",
    "    return im.fromarray(np.asarray(im.open(TEMPFILE)))\n",
    "\n",
    "\n",
    "images = []\n",
    "for _ in range(epochs):\n",
    "    # pick a point from X at random\n",
    "    i = np.random.randint(0, len(X))\n",
    "    x, y = X[i], Y[i]\n",
    "    error = False\n",
    "\n",
    "    # did we classify the point correctly or not\n",
    "    y_pred = w.T @ x + b\n",
    "    if (y_pred < 0 and y < 0) or (y_pred > 0 and y > 0):\n",
    "        # correctly classified\n",
    "        # check if we're inside the street\n",
    "        if y_pred < 1 and y_pred > -1:\n",
    "            # we're inside the street, so we need to expand it \n",
    "            w *= retracting_rate\n",
    "            b *= retracting_rate\n",
    "            error = False\n",
    "    else:\n",
    "        # misclassified\n",
    "        # move in the direction of x \n",
    "\n",
    "        w = w + y * x * alpha\n",
    "        b = b + y * alpha\n",
    "        # expand street\n",
    "        w *= expanding_rate \n",
    "        b *= expanding_rate\n",
    "        error = True \n",
    "                    \n",
    "    images.append(snap(x, w, b, error))\n",
    "\n",
    "images[0].save(\n",
    "    'svm.gif',\n",
    "    optimize=False,\n",
    "    save_all=True,\n",
    "    append_images=images[1:],\n",
    "    loop=0,\n",
    "    duration=100\n",
    ")"
   ]
  },
  {
   "attachments": {},
   "cell_type": "markdown",
   "metadata": {},
   "source": [
    "b) Consider the following dataset:"
   ]
  },
  {
   "cell_type": "code",
   "execution_count": null,
   "metadata": {},
   "outputs": [
    {
     "data": {
      "image/png": "[encoded data removed]",
      "text/plain": [
       "<Figure size 432x288 with 1 Axes>"
      ]
     },
     "metadata": {},
     "output_type": "display_data"
    }
   ],
   "source": [
    "import numpy as np\n",
    "import matplotlib.pyplot as plt\n",
    "import sklearn.datasets as datasets\n",
    "\n",
    "centers = [[0, 1], [1, 0]]\n",
    "X, _ = datasets.make_blobs(n_samples=10, centers=centers, cluster_std=0.3, random_state=0)\n",
    "Y = np.array([1 if x[0] - x[1] >= 0 else 0 for x in X])\n",
    "\n",
    "cs = np.array([x for x in 'bg'])\n",
    "_, ax = plt.subplots()\n",
    "ax.scatter(X[:,0],X[:,1],color=cs[Y].tolist(), s=50, alpha=0.8)\n",
    "ax.set_aspect('equal', adjustable='datalim')\n",
    "ax.add_patch(plt.Circle((X[0][0], X[0][1]), .1, color='r',fill=False))\n",
    "ax.add_patch(plt.Circle((X[1][0], X[1][1]), .1, color='r',fill=False))\n",
    "plt.show()"
   ]
  },
  {
   "cell_type": "markdown",
   "metadata": {},
   "source": [
    "if we fit an SVM to the above dataset, moved the points circled in red, and re-fit the SVM, describe how the fit would change depending on how the points are moved."
   ]
  },
  {
   "cell_type": "markdown",
   "metadata": {},
   "source": [
    "If we slightly moved the points circled in red then the SVM would not change. If we moved the points circled in red to the other side of the line then the SVM would change. If you were to move the points circled in red farther from the middle or up and down in respect to the line then the SVM would greatly change due to the fact that its calculated based on the width from the street."
   ]
  },
  {
   "attachments": {},
   "cell_type": "markdown",
   "metadata": {},
   "source": [
    "c) If we were to fit an SVM to the above dataset, which points do you think would affect the decision boundary the most? Circle them in red."
   ]
  },
  {
   "cell_type": "code",
   "execution_count": 2,
   "metadata": {},
   "outputs": [
    {
     "data": {
      "image/png": "[encoded data removed]",
      "text/plain": [
       "<Figure size 432x288 with 1 Axes>"
      ]
     },
     "metadata": {
      "needs_background": "light"
     },
     "output_type": "display_data"
    }
   ],
   "source": [
    "import numpy as np\n",
    "import matplotlib.pyplot as plt\n",
    "import sklearn.datasets as datasets\n",
    "\n",
    "centers = [[0, 1], [1, 0]]\n",
    "X, _ = datasets.make_blobs(n_samples=10, centers=centers, cluster_std=0.3, random_state=0)\n",
    "Y = np.array([1 if x[0] - x[1] >= 0 else 0 for x in X])\n",
    "\n",
    "cs = np.array([x for x in 'bg'])\n",
    "_, ax = plt.subplots()\n",
    "ax.scatter(X[:,0],X[:,1],color=cs[Y].tolist(), s=50, alpha=0.8)\n",
    "ax.set_aspect('equal', adjustable='datalim')\n",
    "ax.add_patch(plt.Circle((X[2][0], X[2][1]), .1, color='r',fill=False))\n",
    "ax.add_patch(plt.Circle((X[6][0], X[6][1]), .1, color='r',fill=False))\n",
    "plt.show()"
   ]
  }
 ],
 "metadata": {
  "kernelspec": {
   "display_name": "Python 3",
   "language": "python",
   "name": "python3"
  },
  "language_info": {
   "codemirror_mode": {
    "name": "ipython",
    "version": 3
   },
   "file_extension": ".py",
   "mimetype": "text/x-python",
   "name": "python",
   "nbconvert_exporter": "python",
   "pygments_lexer": "ipython3",
   "version": "3.9.12"
  },
  "orig_nbformat": 4,
  "vscode": {
   "interpreter": {
    "hash": "e7370f93d1d0cde622a1f8e1c04877d8463912d04d973331ad4851f04de6915a"
   }
  }
 },
 "nbformat": 4,
 "nbformat_minor": 2
}
