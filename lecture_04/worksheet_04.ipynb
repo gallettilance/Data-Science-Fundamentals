{
  "cells": [
    {
      "cell_type": "markdown",
      "metadata": {
        "id": "9XD-vjv-oAm-"
      },
      "source": [
        "# Worksheet 04\n",
        "\n",
        "Name:  Quan Ho\n",
        "\n",
        "UID: U17207751\n",
        "\n",
        "### Topics\n",
        "\n",
        "- Distance & Similarity"
      ]
    },
    {
      "cell_type": "markdown",
      "metadata": {
        "id": "Sn_OQoNWoAm_"
      },
      "source": [
        "### Distance & Similarity\n",
        "\n",
        "#### Part 1\n",
        "\n",
        "a) In the minkowski distance, describe what the parameters p and d are."
      ]
    },
    {
      "cell_type": "markdown",
      "metadata": {
        "id": "GYSeydB5oAm_"
      },
      "source": [
        "p: The type of distance metric, it controls the order of distance calculation expoenentially, and it is a real number.\n",
        "\n",
        "d: The number of dimensions, it represents the number of features or attributes in the data."
      ]
    },
    {
      "cell_type": "markdown",
      "metadata": {
        "id": "TN_9kIqooAm_"
      },
      "source": [
        "b) In your own words describe the difference between the Euclidean distance and the Manhattan distance."
      ]
    },
    {
      "cell_type": "markdown",
      "metadata": {
        "id": "4fhDJGxpoAm_"
      },
      "source": [
        "The Euclidean metric, denoted as L2 distance, is utilized to compute the distance between two points across n dimensions. When p = 2, it signifies the shortest path's length between the points within Euclidean space.\n",
        "\n",
        "The Manhattan metric, known as L1 distance, is determined by summing the absolute differences between the coordinates of the points across each dimension, with p = 1.\n",
        "\n",
        "\n",
        "\n",
        "\n",
        "\n",
        "\n",
        "\n"
      ]
    },
    {
      "cell_type": "markdown",
      "metadata": {
        "id": "wJxzp-izoAm_"
      },
      "source": [
        "Consider A = (0, 0) and B = (1, 1). When:\n",
        "\n",
        "- p = 1, d(A, B) = 2\n",
        "- p = 2, d(A, B) = $\\sqrt{2} = 1.41$\n",
        "- p = 3, d(A, B) = $2^{1/3} = 1.26$\n",
        "- p = 4, d(A, B) = $2^{1/4} = 1.19$\n",
        "\n",
        "c) Describe what you think distance would look like when p is very large."
      ]
    },
    {
      "cell_type": "markdown",
      "metadata": {
        "id": "BoZJ-biioAm_"
      },
      "source": [
        "It will be more sensitive to the largest difference in dimension."
      ]
    },
    {
      "cell_type": "markdown",
      "metadata": {
        "id": "jpobXpj0oAm_"
      },
      "source": [
        "d) Is the minkowski distance still a distance function when p < 1? Expain why / why not."
      ]
    },
    {
      "cell_type": "markdown",
      "metadata": {
        "id": "FQkEEgayoAm_"
      },
      "source": [
        "No, because it will go agaist the triangle inequality."
      ]
    },
    {
      "cell_type": "markdown",
      "metadata": {
        "id": "Qzq4tPwcoAm_"
      },
      "source": [
        "e) when would you use cosine similarity over the euclidan distance?"
      ]
    },
    {
      "cell_type": "markdown",
      "metadata": {
        "id": "cR6VlaJZoAm_"
      },
      "source": [
        "When I am assessing documents or text for similarity, particularly when focusing on the angle between vectors. Basically any example where the angle between vectors is prioritized."
      ]
    },
    {
      "cell_type": "markdown",
      "metadata": {
        "id": "5hOujk-ToAm_"
      },
      "source": [
        "f) what does the jaccard distance account for that the manhattan distance doesn't?"
      ]
    },
    {
      "cell_type": "markdown",
      "metadata": {
        "id": "foGNqvM2oAm_"
      },
      "source": [
        "It account for the intersesction and it takes the direction and magnitude of differences along each dimension which manhattan does not."
      ]
    },
    {
      "cell_type": "markdown",
      "metadata": {
        "id": "p_kkQJR_oAnA"
      },
      "source": [
        "#### Part 2\n",
        "\n",
        "Consider the following two sentences:"
      ]
    },
    {
      "cell_type": "code",
      "execution_count": 66,
      "metadata": {
        "id": "yWxYJNzmoAnA"
      },
      "outputs": [],
      "source": [
        "s1 = \"hello my name is Alice\"\n",
        "s2 = \"hello my name is Bob\""
      ]
    },
    {
      "cell_type": "markdown",
      "metadata": {
        "id": "Lo-iOXbsoAnA"
      },
      "source": [
        "using the union of words from both sentences, we can represent each sentence as a vector. Each element of the vector represents the presence or absence of the word at that index.\n",
        "\n",
        "In this example, the union of words is (\"hello\", \"my\", \"name\", \"is\", \"Alice\", \"Bob\") so we can represent the above sentences as such:"
      ]
    },
    {
      "cell_type": "code",
      "execution_count": 67,
      "metadata": {
        "id": "cjpES0tzoAnA"
      },
      "outputs": [],
      "source": [
        "v1 = [1,    1, 1,   1, 1,    0]\n",
        "#     hello my name is Alice\n",
        "v2 = [1,    1, 1,   1, 0, 1]\n",
        "#     hello my name is    Bob"
      ]
    },
    {
      "cell_type": "markdown",
      "metadata": {
        "id": "TiZnSYWwoAnA"
      },
      "source": [
        "Programmatically, we can do the following:"
      ]
    },
    {
      "cell_type": "code",
      "execution_count": 68,
      "metadata": {
        "colab": {
          "base_uri": "https://localhost:8080/"
        },
        "id": "2sFaI_MSoAnA",
        "outputId": "6c49d99b-ccaf-4c0c-92b9-2c1125344056"
      },
      "outputs": [
        {
          "output_type": "stream",
          "name": "stdout",
          "text": [
            "['hello', 'is', 'my', 'Bob', 'Alice', 'name']\n",
            "[1, 1, 1, 0, 1, 1]\n"
          ]
        }
      ],
      "source": [
        "corpus = [s1, s2]\n",
        "all_words = list(set([item for x in corpus for item in x.split()]))\n",
        "print(all_words)\n",
        "v1 = [1 if x in s1 else 0 for x in all_words]\n",
        "print(v1)"
      ]
    },
    {
      "cell_type": "markdown",
      "metadata": {
        "id": "VsoGAvuyoAnB"
      },
      "source": [
        "Let's add a new sentence to our corpus:"
      ]
    },
    {
      "cell_type": "code",
      "execution_count": 69,
      "metadata": {
        "id": "jyPjM2JsoAnB"
      },
      "outputs": [],
      "source": [
        "s3 = \"hi my name is Claude\"\n",
        "corpus.append(s3)"
      ]
    },
    {
      "cell_type": "markdown",
      "metadata": {
        "id": "I7i4FNr6oAnB"
      },
      "source": [
        "a) What is the new union of words used to represent s1, s2, and s3?"
      ]
    },
    {
      "cell_type": "code",
      "execution_count": 70,
      "metadata": {
        "colab": {
          "base_uri": "https://localhost:8080/"
        },
        "id": "Cw4JO8xjoAnB",
        "outputId": "50a07ff7-c855-4a4c-bd13-1f208d3ae4e9"
      },
      "outputs": [
        {
          "output_type": "execute_result",
          "data": {
            "text/plain": [
              "['hello', 'is', 'my', 'Bob', 'Claude', 'hi', 'Alice', 'name']"
            ]
          },
          "metadata": {},
          "execution_count": 70
        }
      ],
      "source": [
        "corpus = [s1, s2,s3]\n",
        "all_words = list(set([item for x in corpus for item in x.split()]))\n",
        "all_words"
      ]
    },
    {
      "cell_type": "markdown",
      "metadata": {
        "id": "IYZwWLGxoAnB"
      },
      "source": [
        "b) Represent s1, s2, and s3 as vectors as above, using this new set of words."
      ]
    },
    {
      "cell_type": "code",
      "execution_count": 71,
      "metadata": {
        "colab": {
          "base_uri": "https://localhost:8080/"
        },
        "id": "nQZDvcRFoAnB",
        "outputId": "71eb6d56-8fb3-47e8-e7a7-846b2466b471"
      },
      "outputs": [
        {
          "output_type": "stream",
          "name": "stdout",
          "text": [
            "v1: 11100011\n",
            "v2: 11110001\n",
            "v3: 01101101\n"
          ]
        }
      ],
      "source": [
        "v1 = [1 if x in s1 else 0 for x in all_words]\n",
        "\n",
        "v2 = [1 if x in s2 else 0 for x in all_words]\n",
        "\n",
        "v3 = [1 if x in s3 else 0 for x in all_words]\n",
        "\n",
        "print(\"v1:\", ''.join(map(str, v1)))\n",
        "print(\"v2:\", ''.join(map(str, v2)))\n",
        "print(\"v3:\", ''.join(map(str, v3)))\n",
        "\n"
      ]
    },
    {
      "cell_type": "markdown",
      "metadata": {
        "id": "rY3kDg05oAnB"
      },
      "source": [
        "c) Write a function that computes the manhattan distance between two vectors. Which pair of vectors are the most similar under that distance function?"
      ]
    },
    {
      "cell_type": "code",
      "execution_count": 72,
      "metadata": {
        "colab": {
          "base_uri": "https://localhost:8080/"
        },
        "id": "KEjFMzsCoAnB",
        "outputId": "ab75586c-1013-4491-8fb4-d25ea7574f39"
      },
      "outputs": [
        {
          "output_type": "stream",
          "name": "stdout",
          "text": [
            "2.0\n",
            "4.0\n",
            "4.0\n",
            "[1 1 1 0 0 0 1 1]\n",
            "[1 1 1 1 0 0 0 1]\n",
            "[0 1 1 0 1 1 0 1]\n"
          ]
        }
      ],
      "source": [
        "import numpy as np\n",
        "\n",
        "def mikowski(vector1, vector2, p):\n",
        "    return np.sum(np.abs(np.array(vector1) - np.array(vector2)) ** p) ** (1 / p)\n",
        "\n",
        "def manhattan(vector1, vector2):\n",
        "    return mikowski(vector1, vector2, 1)\n",
        "\n",
        "v1 = np.array(v1)\n",
        "v2 = np.array(v2)\n",
        "v3 = np.array(v3)\n",
        "\n",
        "print(manhattan(v1, v2))\n",
        "print(manhattan(v2, v3))\n",
        "print(manhattan(v1, v3))\n",
        "print(v1)\n",
        "print(v2)\n",
        "print(v3)\n"
      ]
    },
    {
      "cell_type": "markdown",
      "metadata": {
        "id": "SAzluiZVoAnB"
      },
      "source": [
        "\"hello my name is Alice\" and \"hello my name is Bob\""
      ]
    },
    {
      "cell_type": "markdown",
      "metadata": {
        "id": "HVrHKwFtoAnB"
      },
      "source": [
        "d) Create a matrix of all these vectors (row major) and add the following sentences in vector form:\n",
        "\n",
        "- \"hi Alice\"\n",
        "- \"hello Claude\"\n",
        "- \"Bob my name is Claude\"\n",
        "- \"hi Claude my name is Alice\"\n",
        "- \"hello Bob\""
      ]
    },
    {
      "cell_type": "code",
      "execution_count": 73,
      "metadata": {
        "colab": {
          "base_uri": "https://localhost:8080/"
        },
        "id": "dyNGOz8ooAnB",
        "outputId": "7ccd12a5-e317-4a68-9bf2-18d39df46ea3"
      },
      "outputs": [
        {
          "output_type": "stream",
          "name": "stdout",
          "text": [
            "['hello', 'my', 'name', 'is', 'Alice', 'Bob', 'Claude', 'hi']\n"
          ]
        },
        {
          "output_type": "execute_result",
          "data": {
            "text/plain": [
              "[[1, 1, 1, 1, 1, 0, 0, 0],\n",
              " [1, 1, 1, 1, 0, 1, 0, 0],\n",
              " [0, 1, 1, 1, 0, 0, 1, 1],\n",
              " [0, 1, 0, 0, 0, 1, 0, 0],\n",
              " [1, 0, 1, 0, 0, 0, 0, 0],\n",
              " [0, 0, 1, 1, 0, 0, 1, 1],\n",
              " [0, 1, 1, 1, 1, 1, 0, 0],\n",
              " [1, 0, 0, 0, 0, 0, 0, 1]]"
            ]
          },
          "metadata": {},
          "execution_count": 73
        }
      ],
      "source": [
        "all_words = [\"hello\", \"my\", \"name\", \"is\", \"Alice\", \"Bob\", \"Claude\", \"hi\"]\n",
        "v1 = [1 if x in s1 else 0 for x in all_words]\n",
        "\n",
        "v2 = [1 if x in s2 else 0 for x in all_words]\n",
        "\n",
        "v3 = [1 if x in s3 else 0 for x in all_words]\n",
        "v4, v5, v6, v7, v8 = [\n",
        "    [0,1,0,0,0,1,0,0],\n",
        "    [1,0,1,0,0,0,0,0],\n",
        "    [0,0,1,1,0,0,1,1],\n",
        "    [0,1,1,1,1,1,0,0],\n",
        "    [1,0,0,0,0,0,0,1]\n",
        "]\n",
        "\n",
        "matrix = [v1,v2,v3,v4,v5,v6,v7,v8]\n",
        "\n",
        "print(all_words)\n",
        "matrix\n"
      ]
    },
    {
      "cell_type": "markdown",
      "metadata": {
        "id": "paodkPG4oAnB"
      },
      "source": [
        "e) How many rows and columns does this matrix have?"
      ]
    },
    {
      "cell_type": "code",
      "execution_count": 74,
      "metadata": {
        "colab": {
          "base_uri": "https://localhost:8080/"
        },
        "id": "aJmsVj4HoAnB",
        "outputId": "79bf7c12-be76-4f98-e613-9f6f68ec0079"
      },
      "outputs": [
        {
          "output_type": "stream",
          "name": "stdout",
          "text": [
            "Number of rows: 8\n",
            "Number of columns: 8\n"
          ]
        }
      ],
      "source": [
        "print('Number of rows:', len(matrix))\n",
        "print('Number of columns:', len(matrix[0]))"
      ]
    },
    {
      "cell_type": "markdown",
      "metadata": {
        "id": "YTxx8432oAnB"
      },
      "source": [
        "f) When using the Manhattan distance, which two sentences are the most similar?"
      ]
    },
    {
      "cell_type": "code",
      "execution_count": 75,
      "metadata": {
        "colab": {
          "base_uri": "https://localhost:8080/"
        },
        "id": "pH_Fe0tuoAnB",
        "outputId": "808a3573-367a-4700-d1b0-d21719fd4c87"
      },
      "outputs": [
        {
          "output_type": "stream",
          "name": "stdout",
          "text": [
            "0   1   2.0\n",
            "0   6   2.0\n",
            "1   6   2.0\n",
            "2   5   1.0\n"
          ]
        }
      ],
      "source": [
        "min_distance = 100000\n",
        "for i in range(7):\n",
        "    for j in range(i+1,8):\n",
        "        dis = manhattan(matrix[i],matrix[j])\n",
        "        if dis <= min_distance:\n",
        "            print(i, ' ',j, ' ', dis)\n",
        "            min_distance = dis"
      ]
    },
    {
      "cell_type": "markdown",
      "metadata": {
        "id": "9VIpaaB5oAnB"
      },
      "source": [
        "s1: \"hello my name is Alice\" and s2: \"hello my name is Bob\" are the most similiar. Other sentences with identical similarity scores include s3 and s7, as well as s5 and s8."
      ]
    }
  ],
  "metadata": {
    "kernelspec": {
      "display_name": "Python 3",
      "language": "python",
      "name": "python3"
    },
    "language_info": {
      "codemirror_mode": {
        "name": "ipython",
        "version": 3
      },
      "file_extension": ".py",
      "mimetype": "text/x-python",
      "name": "python",
      "nbconvert_exporter": "python",
      "pygments_lexer": "ipython3",
      "version": "3.11.1"
    },
    "orig_nbformat": 4,
    "vscode": {
      "interpreter": {
        "hash": "76ca05dc3ea24b2e3b98cdb7774adfbb40773424bf5109b477fd793f623715af"
      }
    },
    "colab": {
      "provenance": []
    }
  },
  "nbformat": 4,
  "nbformat_minor": 0
}
