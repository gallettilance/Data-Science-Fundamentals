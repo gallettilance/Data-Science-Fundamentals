{
 "cells": [
  {
   "attachments": {},
   "cell_type": "markdown",
   "metadata": {},
   "source": [
    "# Worksheet 04\n",
    "\n",
    "Name:   Ria Singh\n",
    "UID:    U21576658\n",
    "\n",
    "Name:   Arunesh Kumar Lal\n",
    "UID:    U26502933\n",
    "\n",
    "Name:   Pranav Goyanka\n",
    "UID:    U18853014\n",
    "### Topics\n",
    "\n",
    "- Distance & Similarity"
   ]
  },
  {
   "cell_type": "markdown",
   "metadata": {},
   "source": [
    "### Distance & Similarity\n",
    "\n",
    "#### Part 1\n",
    "\n",
    "a) In the minkowski distance, describe what the parameters p and d are."
   ]
  },
  {
   "cell_type": "markdown",
   "metadata": {},
   "source": [
    "The parameter \\(p\\) isthe order of the distance. \n",
    "For \\(p=1\\) results in the Manhattan distance, where the distance is the sum of the absolute differences of their coordinates.\n",
    "For \\(p=2\\), it is  Euclidean distance, calculated as the square root of the sum of the squares of the differences.\n",
    "Higher values of \\(p\\) increase the emphasis on larger differences between coordinates, making the distance measurement more sensitive to outliers.\n",
    "\n",
    "The parameter \\(d\\) represents the dimensionality of the space, indicating the number of coordinates required to specify each point.\n",
    "For instance, in a 3-D space , points are described by three coordinates, such as \\(x = [x1, x2, x3]\\) and \\(y = [y1, y2, y3]\\). This dimensionality determines the complexity of the space in which distances are measured, with higher dimensions allowing for more detailed representations of points and their relationships."
   ]
  },
  {
   "cell_type": "markdown",
   "metadata": {},
   "source": [
    "b) In your own words describe the difference between the Euclidean distance and the Manhattan distance."
   ]
  },
  {
   "cell_type": "markdown",
   "metadata": {},
   "source": [
    "Euclidean distance measures the shortest direct path between two points as if drawing a straight line bwetween them.\n",
    "\n",
    "while Manahattan is shortest distance in a grid space i.e. minimum length movements to get from source to destination when moving in a grid path.\n"
   ]
  },
  {
   "attachments": {},
   "cell_type": "markdown",
   "metadata": {},
   "source": [
    "Consider A = (0, 0) and B = (1, 1). When:\n",
    "\n",
    "- p = 1, d(A, B) = 2\n",
    "- p = 2, d(A, B) = $\\sqrt{2} = 1.41$\n",
    "- p = 3, d(A, B) = $2^{1/3} = 1.26$\n",
    "- p = 4, d(A, B) = $2^{1/4} = 1.19$\n",
    "\n",
    "c) Describe what you think distance would look like when p is very large."
   ]
  },
  {
   "cell_type": "markdown",
   "metadata": {},
   "source": [
    "As p increases to very large values, the computed distance for A and B continues to decrease until it reaches 1. "
   ]
  },
  {
   "cell_type": "markdown",
   "metadata": {},
   "source": [
    "d) Is the minkowski distance still a distance function when p < 1? Expain why / why not."
   ]
  },
  {
   "cell_type": "markdown",
   "metadata": {},
   "source": [
    "When p<1, the minkowski distance formula would then violate the inequality property. For example, let us take two points A=(0,0) and B=(1,1) and p<1, d(A,B) = 2^(1/p). Considering another point C=(2,0), it should still hold the traingle inequality. But d(A,B) + d(B,C) = 2*2^(1/p). Here can notice that traingle inequality is violated when p<1 which then makes it not a valid distance function."
   ]
  },
  {
   "cell_type": "markdown",
   "metadata": {},
   "source": [
    "e) when would you use cosine similarity over the euclidan distance?"
   ]
  },
  {
   "cell_type": "markdown",
   "metadata": {},
   "source": [
    "We could use cosine similarity over the euclidian distance when the direction of the two points matter more than the magnitude of distance between them."
   ]
  },
  {
   "cell_type": "markdown",
   "metadata": {},
   "source": [
    "f) what does the jaccard distance account for that the manhattan distance doesn't?"
   ]
  },
  {
   "cell_type": "markdown",
   "metadata": {},
   "source": [
    "Jaccard distance accounts for the size of the vectors aswell instead of just the distance between them according to manhattan distance. One example of such case is that where there are two sets of points A=(1,1,0), B=(1,0,1) and C=(1,0), D=(0,1). Here Manhattan distance between (A,B) and (C,D) are the same but jaccard distance would account for the size of the vectors aswell."
   ]
  },
  {
   "attachments": {},
   "cell_type": "markdown",
   "metadata": {},
   "source": [
    "#### Part 2\n",
    "\n",
    "Consider the following two sentences:"
   ]
  },
  {
   "cell_type": "code",
   "execution_count": 190,
   "metadata": {},
   "outputs": [],
   "source": [
    "s1 = \"hello my name is Alice\"  \n",
    "s2 = \"hello my name is Bob\""
   ]
  },
  {
   "cell_type": "markdown",
   "metadata": {},
   "source": [
    "using the union of words from both sentences, we can represent each sentence as a vector. Each element of the vector represents the presence or absence of the word at that index.\n",
    "\n",
    "In this example, the union of words is (\"hello\", \"my\", \"name\", \"is\", \"Alice\", \"Bob\") so we can represent the above sentences as such:"
   ]
  },
  {
   "cell_type": "code",
   "execution_count": 191,
   "metadata": {},
   "outputs": [],
   "source": [
    "v1 = [1,    1, 1,   1, 1,    0]\n",
    "#     hello my name is Alice\n",
    "v2 = [1,    1, 1,   1, 0, 1]\n",
    "#     hello my name is    Bob"
   ]
  },
  {
   "attachments": {},
   "cell_type": "markdown",
   "metadata": {},
   "source": [
    "Programmatically, we can do the following:"
   ]
  },
  {
   "cell_type": "code",
   "execution_count": 192,
   "metadata": {},
   "outputs": [
    {
     "name": "stdout",
     "output_type": "stream",
     "text": [
      "['name', 'my', 'is', 'Bob', 'hello', 'Alice']\n",
      "[1, 1, 1, 0, 1, 1]\n"
     ]
    }
   ],
   "source": [
    "corpus = [s1, s2]\n",
    "all_words = list(set([item for x in corpus for item in x.split()]))\n",
    "print(all_words)\n",
    "v1 = [1 if x in s1 else 0 for x in all_words]\n",
    "print(v1)"
   ]
  },
  {
   "cell_type": "markdown",
   "metadata": {},
   "source": [
    "Let's add a new sentence to our corpus:"
   ]
  },
  {
   "cell_type": "code",
   "execution_count": 193,
   "metadata": {},
   "outputs": [],
   "source": [
    "s3 = \"hi my name is Claude\"\n",
    "corpus.append(s3)"
   ]
  },
  {
   "cell_type": "markdown",
   "metadata": {},
   "source": [
    "a) What is the new union of words used to represent s1, s2, and s3?"
   ]
  },
  {
   "cell_type": "code",
   "execution_count": 194,
   "metadata": {},
   "outputs": [
    {
     "name": "stdout",
     "output_type": "stream",
     "text": [
      "['name', 'hi', 'my', 'is', 'Bob', 'Claude', 'hello', 'Alice']\n"
     ]
    }
   ],
   "source": [
    "all_words_new = list(set([item for x in corpus for item in x.split()]))\n",
    "print(all_words_new)"
   ]
  },
  {
   "attachments": {},
   "cell_type": "markdown",
   "metadata": {},
   "source": [
    "b) Represent s1, s2, and s3 as vectors as above, using this new set of words."
   ]
  },
  {
   "cell_type": "code",
   "execution_count": 195,
   "metadata": {},
   "outputs": [
    {
     "name": "stdout",
     "output_type": "stream",
     "text": [
      "[1, 0, 1, 1, 0, 0, 1, 1]\n",
      "[1, 0, 1, 1, 1, 0, 1, 0]\n",
      "[1, 1, 1, 1, 0, 1, 0, 0]\n"
     ]
    }
   ],
   "source": [
    "vec1= [1 if x in s1 else 0 for x in all_words_new]\n",
    "vec2= [1 if x in s2 else 0 for x in all_words_new]\n",
    "vec3= [1 if x in s3 else 0 for x in all_words_new]\n",
    "\n",
    "print(vec1)\n",
    "print(vec2)\n",
    "print(vec3)"
   ]
  },
  {
   "cell_type": "markdown",
   "metadata": {},
   "source": [
    "c) Write a function that computes the manhattan distance between two vectors. Which pair of vectors are the most similar under that distance function?"
   ]
  },
  {
   "cell_type": "code",
   "execution_count": 196,
   "metadata": {},
   "outputs": [
    {
     "name": "stdout",
     "output_type": "stream",
     "text": [
      "2\n",
      "4\n",
      "4\n"
     ]
    }
   ],
   "source": [
    "def calcManhattanDistance(v1, v2):\n",
    "    return sum([abs(x-y) for x,y in zip(v1,v2)])\n",
    "\n",
    "print(calcManhattanDistance(vec1, vec2))\n",
    "print(calcManhattanDistance(vec1, vec3))\n",
    "print(calcManhattanDistance(vec2, vec3))\n"
   ]
  },
  {
   "cell_type": "markdown",
   "metadata": {},
   "source": []
  },
  {
   "cell_type": "markdown",
   "metadata": {},
   "source": [
    "d) Create a matrix of all these vectors (row major) and add the following sentences in vector form:\n",
    "\n",
    "- \"hi Alice\"\n",
    "- \"hello Claude\"\n",
    "- \"Bob my name is Claude\"\n",
    "- \"hi Claude my name is Alice\"\n",
    "- \"hello Bob\""
   ]
  },
  {
   "cell_type": "code",
   "execution_count": 197,
   "metadata": {},
   "outputs": [
    {
     "name": "stdout",
     "output_type": "stream",
     "text": [
      "[[0, 1, 0, 0, 0, 0, 0, 1], [0, 0, 0, 0, 0, 1, 1, 0], [1, 0, 1, 1, 1, 1, 0, 0], [1, 1, 1, 1, 0, 1, 0, 1], [0, 0, 0, 0, 1, 0, 1, 0]]\n"
     ]
    }
   ],
   "source": [
    "corpus =[] #creating new corpus\n",
    "# print(corpus) \n",
    "corpus.extend([\n",
    "    \"hi Alice\",\n",
    "    \"hello Claude\",\n",
    "    \"Bob my name is Claude\",\n",
    "    \"hi Claude my name is Alice\",\n",
    "    \"hello Bob\"\n",
    "])\n",
    "\n",
    "all_words_2 = list(set([item for x in corpus for item in x.split()]))\n",
    "vectorMatrix = []\n",
    "for sentence in corpus:\n",
    "    vectorMatrix.append([1 if x in sentence else 0 for x in all_words_2])\n",
    "\n",
    "print(vectorMatrix)"
   ]
  },
  {
   "cell_type": "markdown",
   "metadata": {},
   "source": [
    "e) How many rows and columns does this matrix have?"
   ]
  },
  {
   "cell_type": "code",
   "execution_count": 198,
   "metadata": {},
   "outputs": [
    {
     "name": "stdout",
     "output_type": "stream",
     "text": [
      "Rows: 5\n",
      "Columns: 8\n"
     ]
    }
   ],
   "source": [
    "print(\"Rows:\", len(vectorMatrix))\n",
    "print(\"Columns:\", len(vectorMatrix[0]))"
   ]
  },
  {
   "attachments": {},
   "cell_type": "markdown",
   "metadata": {},
   "source": [
    "f) When using the Manhattan distance, which two sentences are the most similar?"
   ]
  },
  {
   "cell_type": "code",
   "execution_count": 199,
   "metadata": {},
   "outputs": [
    {
     "name": "stdout",
     "output_type": "stream",
     "text": [
      "Most Similar Sentences with Manhattan distance=2\n",
      "hello Claude\" : [0, 0, 0, 0, 0, 1, 1, 0]\n",
      "hello Bob\" : [0, 0, 0, 0, 1, 0, 1, 0])\n"
     ]
    }
   ],
   "source": [
    "sentenceDist = []\n",
    "for i in range(len(vectorMatrix)):\n",
    "    for j in range(len(vectorMatrix)):\n",
    "        if i<j:\n",
    "            sentenceDist.append([i,j,calcManhattanDistance(vectorMatrix[i],vectorMatrix[j])])\n",
    "\n",
    "id1, id2, dist=min(sentenceDist, key=lambda x:x[2])\n",
    "print(f\"Most Similar Sentences with Manhattan distance={dist}\")\n",
    "print(f\"{corpus[id1]}\\\" : {vectorMatrix[id1]}\")\n",
    "print(f\"{corpus[id2]}\\\" : {vectorMatrix[id2]})\")"
   ]
  },
  {
   "cell_type": "markdown",
   "metadata": {},
   "source": [
    "#### Part 3 Challenge"
   ]
  },
  {
   "cell_type": "markdown",
   "metadata": {},
   "source": [
    "Given a set of graphs $\\mathcal{G}$, each graph $G \\in \\mathcal{G}$ is defined over the same set of nodes $V$. The graphs are represented by their adjacency matrices, which are 2D arrays where each element indicates whether a pair of nodes is connected by an edge.\n",
    "\n",
    "Your task is to compute the pairwise distances between these graphs based on a specific distance metric. The distance $d(G, G')$ between two graphs $G = (V, E)$ and $G' = (V, E')$ is defined as the sum of the number of edges in $G$ but not in $G'$, and the number of edges in $G'$ but not in $G$. Mathematically, this can be expressed as:\n",
    "\n",
    "$$\n",
    "d(G, G') = |E \\setminus E'| + |E' \\setminus E|.\n",
    "$$\n",
    "\n",
    "##### Requirements:\n",
    "1. **Input**: Should take a list of 2D numpy arrays as input. Each array represents the adjacency matrix of a graph.\n",
    "\n",
    "2. **Output**: Should output a pairwise distance matrix. If there are $n$ graphs in the input list, the output should be an $n \\times n$ matrix where the entry at position $(i, j)$ represents the distance between the $i^{th}$ and $j^{th}$ graph."
   ]
  },
  {
   "cell_type": "code",
   "execution_count": 200,
   "metadata": {},
   "outputs": [
    {
     "name": "stdout",
     "output_type": "stream",
     "text": [
      "[array([[0, 0, 0, 0, 1, 1],\n",
      "       [0, 0, 1, 0, 1, 0],\n",
      "       [0, 0, 0, 0, 0, 0],\n",
      "       [0, 0, 0, 0, 0, 0],\n",
      "       [0, 0, 0, 0, 0, 0],\n",
      "       [0, 0, 0, 0, 0, 0]]), array([[0, 1, 1, 1, 1, 1],\n",
      "       [0, 0, 1, 1, 0, 1],\n",
      "       [0, 0, 0, 0, 1, 0],\n",
      "       [0, 0, 0, 0, 0, 0],\n",
      "       [0, 0, 0, 0, 0, 0],\n",
      "       [0, 0, 0, 0, 0, 0]]), array([[0, 1, 1, 0, 1, 0],\n",
      "       [0, 0, 1, 1, 1, 0],\n",
      "       [0, 0, 0, 1, 1, 1],\n",
      "       [0, 0, 0, 0, 0, 0],\n",
      "       [0, 0, 0, 0, 0, 0],\n",
      "       [0, 0, 0, 0, 0, 0]]), array([[0, 1, 1, 0, 1, 1],\n",
      "       [0, 0, 1, 0, 0, 1],\n",
      "       [0, 0, 0, 1, 1, 0],\n",
      "       [0, 0, 0, 0, 1, 0],\n",
      "       [0, 0, 0, 0, 0, 1],\n",
      "       [0, 0, 0, 0, 0, 0]]), array([[0, 1, 1, 1, 1, 0],\n",
      "       [0, 0, 1, 1, 0, 1],\n",
      "       [0, 0, 0, 1, 0, 0],\n",
      "       [0, 0, 0, 0, 1, 1],\n",
      "       [0, 0, 0, 0, 0, 1],\n",
      "       [0, 0, 0, 0, 0, 0]])]\n"
     ]
    }
   ],
   "source": [
    "import numpy as np\n",
    "graphCount=5\n",
    "graphNodeCount=6\n",
    "graphList=[]\n",
    "for _ in range(graphCount):\n",
    "    upper=np.triu(np.random.randint(2,size=(graphNodeCount,graphNodeCount)),1)\n",
    "    graphList.append(upper)\n",
    "print(graphList)"
   ]
  },
  {
   "cell_type": "code",
   "execution_count": 201,
   "metadata": {},
   "outputs": [],
   "source": [
    "def calcGraphDistance(graph1, graph2):\n",
    "    dist=0\n",
    "    for i in range(len(graph1)):\n",
    "        for j in range(len(graph1)):\n",
    "            if ((graph1[i][j] and not graph2[i][j]) or (graph2[i][j] and not graph1[i][j])):\n",
    "                    dist+=1\n",
    "    return dist\n"
   ]
  },
  {
   "cell_type": "code",
   "execution_count": 202,
   "metadata": {},
   "outputs": [
    {
     "data": {
      "text/plain": [
       "array([[ 0,  7,  7,  8, 11],\n",
       "       [ 7,  0,  6,  5,  6],\n",
       "       [ 7,  6,  0,  7,  8],\n",
       "       [ 8,  5,  7,  0,  5],\n",
       "       [11,  6,  8,  5,  0]])"
      ]
     },
     "execution_count": 202,
     "metadata": {},
     "output_type": "execute_result"
    }
   ],
   "source": [
    "\n",
    "def calcGraphDistMatrix(graphs):\n",
    "    distances = np.zeros((len(graphs),len(graphs)), dtype=int)\n",
    "    for i in range(len(graphs)):\n",
    "        for j in range(i+1, len(graphs)):\n",
    "            distances[i][j] = calcGraphDistance(graphs[i], graphs[j])\n",
    "    return distances + distances.T\n",
    "\n",
    "calcGraphDistMatrix(graphList)"
   ]
  }
 ],
 "metadata": {
  "kernelspec": {
   "display_name": "Python 3",
   "language": "python",
   "name": "python3"
  },
  "language_info": {
   "codemirror_mode": {
    "name": "ipython",
    "version": 3
   },
   "file_extension": ".py",
   "mimetype": "text/x-python",
   "name": "python",
   "nbconvert_exporter": "python",
   "pygments_lexer": "ipython3",
   "version": "3.11.6"
  },
  "orig_nbformat": 4,
  "vscode": {
   "interpreter": {
    "hash": "76ca05dc3ea24b2e3b98cdb7774adfbb40773424bf5109b477fd793f623715af"
   }
  }
 },
 "nbformat": 4,
 "nbformat_minor": 2
}
