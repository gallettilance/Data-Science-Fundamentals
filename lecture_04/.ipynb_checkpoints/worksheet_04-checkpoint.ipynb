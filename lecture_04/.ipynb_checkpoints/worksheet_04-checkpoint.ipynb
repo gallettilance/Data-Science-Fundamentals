{
 "cells": [
  {
   "cell_type": "markdown",
   "metadata": {},
   "source": [
    "# Worksheet 04\n",
    "\n",
    "Name:  Zedong Lin <br>\n",
    "UID: U92127126\n",
    "\n",
    "### Topics\n",
    "\n",
    "- Distance & Similarity"
   ]
  },
  {
   "cell_type": "markdown",
   "metadata": {},
   "source": [
    "### Distance & Similarity\n",
    "\n",
    "#### Part 1\n",
    "\n",
    "a) In the minkowski distance, describe what the parameters p and d are."
   ]
  },
  {
   "cell_type": "markdown",
   "metadata": {},
   "source": [
    "P is a parameter for generalized distance function. When p = 1, it is Manhattan distance. When p = 2, it is Euclidean distance. D is the dimension of the vector space."
   ]
  },
  {
   "cell_type": "markdown",
   "metadata": {},
   "source": [
    "b) In your own words describe the difference between the Euclidean distance and the Manhattan distance."
   ]
  },
  {
   "cell_type": "markdown",
   "metadata": {},
   "source": [
    "The Euclidean distance is the straight line distance between two points. The Manhattan distance is the sum of the absolute differences between the coordinates of the two points."
   ]
  },
  {
   "cell_type": "markdown",
   "metadata": {},
   "source": [
    "Consider A = (0, 0) and B = (1, 1). When:\n",
    "\n",
    "- p = 1, d(A, B) = 2\n",
    "- p = 2, d(A, B) = $\\sqrt{2} = 1.41$\n",
    "- p = 3, d(A, B) = $2^{1/3} = 1.26$\n",
    "- p = 4, d(A, B) = $2^{1/4} = 1.19$\n",
    "\n",
    "c) Describe what you think distance would look like when p is very large."
   ]
  },
  {
   "cell_type": "markdown",
   "metadata": {},
   "source": [
    "The distance value will be very small."
   ]
  },
  {
   "cell_type": "markdown",
   "metadata": {},
   "source": [
    "d) Is the minkowski distance still a distance function when p < 1? Expain why / why not."
   ]
  },
  {
   "cell_type": "markdown",
   "metadata": {},
   "source": [
    "No. Because it will violate the triangle inequality."
   ]
  },
  {
   "cell_type": "markdown",
   "metadata": {},
   "source": [
    "e) when would you use cosine similarity over the euclidan distance?"
   ]
  },
  {
   "cell_type": "markdown",
   "metadata": {},
   "source": [
    "When the magnitude of the vectors is not the most important aspect of the vectors."
   ]
  },
  {
   "cell_type": "markdown",
   "metadata": {},
   "source": [
    "f) what does the jaccard distance account for that the manhattan distance doesn't?"
   ]
  },
  {
   "cell_type": "markdown",
   "metadata": {},
   "source": [
    "The Jaccard distance can take into account the number of elements that are in both sets."
   ]
  },
  {
   "cell_type": "markdown",
   "metadata": {},
   "source": [
    "#### Part 2\n",
    "\n",
    "Consider the following two sentences:"
   ]
  },
  {
   "cell_type": "code",
   "execution_count": 44,
   "metadata": {
    "ExecuteTime": {
     "end_time": "2023-09-26T18:35:08.079983Z",
     "start_time": "2023-09-26T18:35:08.071223400Z"
    }
   },
   "outputs": [],
   "source": [
    "s1 = \"hello my name is Alice\"  \n",
    "s2 = \"hello my name is Bob\""
   ]
  },
  {
   "cell_type": "markdown",
   "metadata": {},
   "source": [
    "using the union of words from both sentences, we can represent each sentence as a vector. Each element of the vector represents the presence or absence of the word at that index.\n",
    "\n",
    "In this example, the union of words is (\"hello\", \"my\", \"name\", \"is\", \"Alice\", \"Bob\") so we can represent the above sentences as such:"
   ]
  },
  {
   "cell_type": "code",
   "execution_count": 45,
   "metadata": {
    "ExecuteTime": {
     "end_time": "2023-09-26T18:35:09.952961Z",
     "start_time": "2023-09-26T18:35:09.936689500Z"
    }
   },
   "outputs": [],
   "source": [
    "v1 = [1,    1, 1,   1, 1,    0]\n",
    "#     hello my name is Alice\n",
    "v2 = [1,    1, 1,   1, 0, 1]\n",
    "#     hello my name is    Bob"
   ]
  },
  {
   "cell_type": "markdown",
   "metadata": {},
   "source": [
    "Programmatically, we can do the following:"
   ]
  },
  {
   "cell_type": "code",
   "execution_count": 46,
   "metadata": {
    "ExecuteTime": {
     "end_time": "2023-09-26T18:35:12.058540600Z",
     "start_time": "2023-09-26T18:35:12.044543300Z"
    }
   },
   "outputs": [
    {
     "name": "stdout",
     "output_type": "stream",
     "text": [
      "['Alice', 'is', 'name', 'hello', 'my', 'Bob']\n",
      "[1, 1, 1, 1, 1, 0]\n"
     ]
    }
   ],
   "source": [
    "corpus = [s1, s2]\n",
    "all_words = list(set([item for x in corpus for item in x.split()]))\n",
    "print(all_words)\n",
    "v1 = [1 if x in s1 else 0 for x in all_words]\n",
    "print(v1)"
   ]
  },
  {
   "cell_type": "markdown",
   "metadata": {},
   "source": [
    "Let's add a new sentence to our corpus:"
   ]
  },
  {
   "cell_type": "code",
   "execution_count": 47,
   "metadata": {
    "ExecuteTime": {
     "end_time": "2023-09-26T18:35:14.559040300Z",
     "start_time": "2023-09-26T18:35:14.550407100Z"
    }
   },
   "outputs": [],
   "source": [
    "s3 = \"hi my name is Claude\"\n",
    "corpus.append(s3)"
   ]
  },
  {
   "cell_type": "markdown",
   "metadata": {},
   "source": [
    "a) What is the new union of words used to represent s1, s2, and s3?"
   ]
  },
  {
   "cell_type": "code",
   "execution_count": 49,
   "metadata": {
    "ExecuteTime": {
     "end_time": "2023-09-26T18:35:36.340221900Z",
     "start_time": "2023-09-26T18:35:36.330140800Z"
    }
   },
   "outputs": [
    {
     "name": "stdout",
     "output_type": "stream",
     "text": [
      "['hi', 'Alice', 'is', 'name', 'hello', 'Claude', 'my', 'Bob']\n"
     ]
    }
   ],
   "source": [
    "mtx = [s1, s2, s3]\n",
    "all_words = list(set([item for x in mtx for item in x.split()]))\n",
    "print(all_words)"
   ]
  },
  {
   "cell_type": "markdown",
   "metadata": {},
   "source": [
    "b) Represent s1, s2, and s3 as vectors as above, using this new set of words."
   ]
  },
  {
   "cell_type": "code",
   "execution_count": 51,
   "metadata": {
    "ExecuteTime": {
     "end_time": "2023-09-26T18:36:40.659387200Z",
     "start_time": "2023-09-26T18:36:40.649931100Z"
    }
   },
   "outputs": [
    {
     "name": "stdout",
     "output_type": "stream",
     "text": [
      "all_words ['hi', 'Alice', 'is', 'name', 'hello', 'Claude', 'my', 'Bob']\n",
      "v1 [0, 1, 1, 1, 1, 0, 1, 0]\n",
      "v2 [0, 0, 1, 1, 1, 0, 1, 1]\n",
      "v3 [1, 0, 1, 1, 0, 1, 1, 0]\n"
     ]
    }
   ],
   "source": [
    "v1 = [1 if x in s1 else 0 for x in all_words]\n",
    "v2 = [1 if x in s2 else 0 for x in all_words]\n",
    "v3 = [1 if x in s3 else 0 for x in all_words]\n",
    "print(\"all_words\", all_words)\n",
    "print(\"v1\", v1)\n",
    "print(\"v2\", v2)\n",
    "print(\"v3\", v3)"
   ]
  },
  {
   "cell_type": "markdown",
   "metadata": {},
   "source": [
    "c) Write a function that computes the manhattan distance between two vectors. Which pair of vectors are the most similar under that distance function?"
   ]
  },
  {
   "cell_type": "code",
   "execution_count": 54,
   "metadata": {
    "ExecuteTime": {
     "end_time": "2023-09-26T18:41:42.052586900Z",
     "start_time": "2023-09-26T18:41:42.020427500Z"
    }
   },
   "outputs": [
    {
     "name": "stdout",
     "output_type": "stream",
     "text": [
      "v1 and v2: 2.0\n",
      "v1 and v3: 4.0\n",
      "v2 and v3: 4.0\n",
      "The most similar pair is:  ('V1', 'V2')\n"
     ]
    }
   ],
   "source": [
    "def minkowski_distance(v1, v2, p):\n",
    "    if p < 1:\n",
    "        raise ValueError(\"p must be greater than or equal to 1\")\n",
    "    if len(v1) != len(v2):\n",
    "        raise ValueError(\"v1 and v2 must be the same length\")\n",
    "    ret = 0\n",
    "    for i in range(len(v1)):\n",
    "        ret += abs(v1[i] - v2[i]) ** p\n",
    "    return ret ** (1 / p)\n",
    "\n",
    "def manhattan_distance(v1, v2):\n",
    "    return minkowski_distance(v1, v2, 1)\n",
    "\n",
    "mtx_v = [v1, v2, v3]\n",
    "output = []\n",
    "for i in range(len(mtx_v)):\n",
    "    for j in range(i + 1, len(mtx_v)):\n",
    "        output.append((manhattan_distance(mtx_v[i], mtx_v[j]), \"V\"+str(i+1), \"V\"+str(j+1)))\n",
    "        print(\"v{} and v{}: {}\".format(i + 1, j + 1, manhattan_distance(mtx_v[i], mtx_v[j])))\n",
    "print(\"The most similar pair is: \", min(output, key=lambda x: x[0])[1:])"
   ]
  },
  {
   "cell_type": "markdown",
   "metadata": {},
   "source": [
    "d) Create a matrix of all these vectors (row major) and add the following sentences in vector form:\n",
    "\n",
    "- \"hi Alice\"\n",
    "- \"hello Claude\"\n",
    "- \"Bob my name is Claude\"\n",
    "- \"hi Claude my name is Alice\"\n",
    "- \"hello Bob\""
   ]
  },
  {
   "cell_type": "code",
   "execution_count": 55,
   "metadata": {
    "ExecuteTime": {
     "end_time": "2023-09-26T18:45:19.869190100Z",
     "start_time": "2023-09-26T18:45:19.832186400Z"
    }
   },
   "outputs": [
    {
     "name": "stdout",
     "output_type": "stream",
     "text": [
      "['hi', 'Alice', 'is', 'name', 'hello', 'Claude', 'my', 'Bob']\n",
      "v1: [1, 1, 0, 0, 0, 0, 0, 0]\n",
      "v2: [0, 0, 0, 0, 1, 1, 0, 0]\n",
      "v3: [0, 0, 1, 1, 0, 1, 1, 1]\n",
      "v4: [1, 1, 1, 1, 0, 1, 1, 0]\n",
      "v5: [0, 0, 0, 0, 1, 0, 0, 1]\n"
     ]
    }
   ],
   "source": [
    "S1 = \"hi Alice\"\n",
    "S2 = \"hello Claude\"\n",
    "S3 = \"Bob my name is Claude\"\n",
    "S4 = \"hi Claude my name is Alice\"\n",
    "S5 = \"hello Bob\"\n",
    "\n",
    "\n",
    "mtx = [S1, S2, S3, S4, S5]\n",
    "all_words = list(set([item for x in mtx for item in x.split()]))\n",
    "print(all_words)\n",
    "mtx_v = []\n",
    "for s in range(len(mtx)):\n",
    "    v = [1 if x in mtx[s] else 0 for x in all_words]\n",
    "    mtx_v.append(v)\n",
    "    print(\"v{}: {}\".format(s + 1, v))"
   ]
  },
  {
   "cell_type": "markdown",
   "metadata": {},
   "source": [
    "e) How many rows and columns does this matrix have?"
   ]
  },
  {
   "cell_type": "code",
   "execution_count": 56,
   "metadata": {
    "ExecuteTime": {
     "end_time": "2023-09-26T18:45:46.680715Z",
     "start_time": "2023-09-26T18:45:46.660217700Z"
    }
   },
   "outputs": [
    {
     "name": "stdout",
     "output_type": "stream",
     "text": [
      "The matrix has 5 rows and 8 columns\n"
     ]
    }
   ],
   "source": [
    "print(\"The matrix has {} rows and {} columns\".format(len(mtx_v), len(mtx_v[0])))"
   ]
  },
  {
   "cell_type": "markdown",
   "metadata": {},
   "source": [
    "f) When using the Manhattan distance, which two sentences are the most similar?"
   ]
  },
  {
   "cell_type": "code",
   "execution_count": 58,
   "metadata": {
    "ExecuteTime": {
     "end_time": "2023-09-26T18:46:18.341033500Z",
     "start_time": "2023-09-26T18:46:18.307741100Z"
    }
   },
   "outputs": [
    {
     "name": "stdout",
     "output_type": "stream",
     "text": [
      "v1 and v2: 4.0\n",
      "v1 and v3: 7.0\n",
      "v1 and v4: 4.0\n",
      "v1 and v5: 4.0\n",
      "v2 and v3: 5.0\n",
      "v2 and v4: 6.0\n",
      "v2 and v5: 2.0\n",
      "v3 and v4: 3.0\n",
      "v3 and v5: 5.0\n",
      "v4 and v5: 8.0\n",
      "The most similar pair is:  ('V2', 'V5') with distance 2.0\n"
     ]
    }
   ],
   "source": [
    "output = []\n",
    "for i in range(len(mtx_v)):\n",
    "    for j in range(i + 1, len(mtx_v)):\n",
    "        output.append((manhattan_distance(mtx_v[i], mtx_v[j]), \"V\"+str(i+1), \"V\"+str(j+1)))\n",
    "        print(\"v{} and v{}: {}\".format(i + 1, j + 1, manhattan_distance(mtx_v[i], mtx_v[j])))\n",
    "print(\"The most similar pair is: \", min(output, key=lambda x: x[0])[1:], \"with distance\", min(output, key=lambda x: x[0])[0])"
   ]
  },
  {
   "cell_type": "markdown",
   "metadata": {},
   "source": []
  }
 ],
 "metadata": {
  "kernelspec": {
   "display_name": "Python 3 (ipykernel)",
   "language": "python",
   "name": "python3"
  },
  "language_info": {
   "codemirror_mode": {
    "name": "ipython",
    "version": 3
   },
   "file_extension": ".py",
   "mimetype": "text/x-python",
   "name": "python",
   "nbconvert_exporter": "python",
   "pygments_lexer": "ipython3",
   "version": "3.9.16"
  },
  "vscode": {
   "interpreter": {
    "hash": "76ca05dc3ea24b2e3b98cdb7774adfbb40773424bf5109b477fd793f623715af"
   }
  }
 },
 "nbformat": 4,
 "nbformat_minor": 4
}
