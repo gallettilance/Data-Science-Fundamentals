{
 "cells": [
  {
   "cell_type": "markdown",
   "metadata": {},
   "source": [
    "# Matplotlib Tutorial: Introduction to Data Visualization\n",
    "\n",
    "\n",
    "Name:  \n",
    "UID: \n",
    "\n",
    "In this tutorial, we will explore the basics of Matplotlib, a popular Python library for creating static, interactive, and animated visualizations. Matplotlib provides a wide range of functionalities for generating histograms, scatter plots, bar charts, and more.\n",
    "\n",
    "# 1. Installation\n",
    "\n",
    "Before getting started, ensure that Matplotlib is installed and imported in your Python environment. You can install it using pip and typically, we import the package as plt. Let's also import numpy to use some useful features"
   ]
  },
  {
   "cell_type": "code",
   "execution_count": null,
   "metadata": {},
   "outputs": [],
   "source": [
    "pip install matplotlib"
   ]
  },
  {
   "cell_type": "code",
   "execution_count": 9,
   "metadata": {},
   "outputs": [],
   "source": [
    "import matplotlib.pyplot as plt\n",
    "import numpy as np"
   ]
  },
  {
   "cell_type": "markdown",
   "metadata": {},
   "source": [
    "# 2. Basic Plotting\n",
    "We'll begin by creating a simple line plot using Matplotlib. First, let's generate some sample data. The numpy linspace function returns evenly spaced numbers over a specified interval. We can implement the function as:\n",
    "\n",
    "np.linspace(start, stop, num_samples)\n",
    "\n",
    "See if you can generate 100 samples between 0 and 10."
   ]
  },
  {
   "cell_type": "code",
   "execution_count": 10,
   "metadata": {},
   "outputs": [],
   "source": [
    "# Generate data\n",
    "x = np.linspace(0, 10, 100)\n",
    "y = np.sin(x)"
   ]
  },
  {
   "cell_type": "markdown",
   "metadata": {},
   "source": [
    "Now that we have a dataset, let's plot our data. We can use the matplotlib plot function to create a simple line plot of our data. We can implement the function as:\n",
    "\n",
    "plt.plot(x, y, ..., experiment w/ other parameters!)"
   ]
  },
  {
   "cell_type": "code",
   "execution_count": null,
   "metadata": {},
   "outputs": [],
   "source": [
    "# Create a figure (graph)\n",
    "plt.figure(figsize=(8, 6))\n",
    "\n",
    "# Plot the x and y data\n",
    "plt.plot(..., ..., label='sin(x)', color='blue', linestyle='--', linewidth=2)\n",
    "\n",
    "# Add labels and title\n",
    "plt.xlabel('x')\n",
    "plt.ylabel('sin(x)')\n",
    "plt.title('Sine Function')\n",
    "\n",
    "# Add legend\n",
    "plt.legend()\n",
    "\n",
    "# Show plot\n",
    "plt.grid(True)\n",
    "plt.show()"
   ]
  },
  {
   "cell_type": "markdown",
   "metadata": {},
   "source": [
    "# 3. Scatter Plot\n",
    "\n",
    "One of the most important parts of data science is generating data according to our needs. Let's try to generate 100 random data points and then plot them as a scatter plot. To generate our data, we can use np.random.rand, which returns random values in a given shape (for this excercise let's stick to 1 dimension):\n",
    "\n",
    "random.rand(d0, d1, ..., dn)\n",
    "\n",
    "The matplotlib scatter function is similar to the plot function where again there are a lot of parameters that can affect the resulting visualization. Here, let's try to plot our random data with random marker sizes as defined by the \"s\" parameter. \n"
   ]
  },
  {
   "cell_type": "code",
   "execution_count": null,
   "metadata": {},
   "outputs": [],
   "source": [
    "# Generate random data\n",
    "x = np.random.rand(...)\n",
    "y = np.random.rand(...)\n",
    "sizes = np.random.randint(10, 100, size=100)\n",
    "\n",
    "# Create scatter plot\n",
    "plt.figure(figsize=(8, 6))\n",
    "plt.scatter(..., ..., s=..., alpha=0.5, c='red', marker='o')\n",
    "\n",
    "# Add labels and title\n",
    "plt.xlabel('X')\n",
    "plt.ylabel('Y')\n",
    "plt.title('Scatter Plot')\n",
    "\n",
    "# Show plot\n",
    "plt.grid(True)\n",
    "plt.show()\n"
   ]
  },
  {
   "cell_type": "markdown",
   "metadata": {},
   "source": [
    "# 4. Bar Chart\n",
    "\n",
    "Another important thing to consider is when to utilize certain visualization methods over others. For example, let's generate some data that is organized by an arbitrary classification. Create arrays for both the categories you wish to plot as well as their values, and we can use the plt.bar function to create a bar chart."
   ]
  },
  {
   "cell_type": "code",
   "execution_count": null,
   "metadata": {},
   "outputs": [],
   "source": [
    "# Generate data\n",
    "categories = ...\n",
    "values = ...\n",
    "\n",
    "# Create bar chart\n",
    "plt.figure(figsize=(8, 6))\n",
    "plt.bar(..., ..., color='green')\n",
    "\n",
    "# Add labels and title\n",
    "plt.xlabel('Categories')\n",
    "plt.ylabel('Values')\n",
    "plt.title('Bar Chart')\n",
    "\n",
    "# Show plot\n",
    "plt.grid(True)\n",
    "plt.show()\n"
   ]
  },
  {
   "cell_type": "markdown",
   "metadata": {},
   "source": [
    "# 5. Histogram\n",
    "\n",
    "In certain applications, we want to be able to look at the overall distribution of our data. One way we can do this is by using a histogram. Try to generate data with a specific mean and standard deviation, and observe how the resulting histogram changes accordingly. To generate data, we can use the numpy normal function as:\n",
    "\n",
    "np.random.normal(mean, standard_dev, num_samples)"
   ]
  },
  {
   "cell_type": "code",
   "execution_count": null,
   "metadata": {},
   "outputs": [],
   "source": [
    "# Generate random data\n",
    "data = np.random.normal(..., ..., ...)\n",
    "\n",
    "# Create histogram\n",
    "plt.figure(figsize=(8, 6))\n",
    "plt.hist(data, bins=..., color='skyblue', edgecolor='black')\n",
    "\n",
    "# Add labels and title\n",
    "plt.xlabel('Values')\n",
    "plt.ylabel('Frequency')\n",
    "plt.title('Histogram')\n",
    "\n",
    "# Show plot\n",
    "plt.grid(True)\n",
    "plt.show()\n"
   ]
  },
  {
   "cell_type": "markdown",
   "metadata": {},
   "source": [
    "# 6. 3D Plot\n",
    "\n",
    "Naturally, we are not limited to visualizing data in 2 dimensions. 3d plots can be very useful when working with dense datasets with multiple features and can provide a more detailed view of the data. To plot 3-dimensional data, we need arrays with values for all 3 axes, as well as the scatter3D function. Also try other functions within the library in order to create an interactive 3d model of the data!"
   ]
  },
  {
   "cell_type": "code",
   "execution_count": null,
   "metadata": {},
   "outputs": [],
   "source": [
    "# Generate 3-dimensional data\n",
    "x = ...\n",
    "y = ...\n",
    "z = ...\n",
    "\n",
    "# Create and show the plot\n",
    "plt.figure()\n",
    "ax = plt.axes(projection='3d')\n",
    "ax.scatter3D(..., ..., ..., c='r')\n",
    "\n",
    "plt.xlabel('X')\n",
    "plt.ylabel('Y')\n",
    "plt.title('3D Plot')\n",
    "\n",
    "plt.grid(True)\n",
    "plt.show()"
   ]
  },
  {
   "cell_type": "markdown",
   "metadata": {},
   "source": [
    "# 7. Animations\n",
    "\n",
    "One of the most useful yet complex applications of matplotlib is to create animations of datasets that change over time, in order to highlight trends and observe the growth of the data. Use the sample code below to create a gif of a scatter plot that grows randomly."
   ]
  },
  {
   "cell_type": "code",
   "execution_count": 45,
   "metadata": {},
   "outputs": [],
   "source": [
    "from PIL import Image as im\n",
    "\n",
    "class tutorial():\n",
    "    def __init__(self):\n",
    "        # Initialize object with array to store each frame of animation\n",
    "        self.snaps = []\n",
    "    \n",
    "    def snap(self, x, y):\n",
    "        # Plots the data into a figure, then saves that figure as an individual frame of animation\n",
    "        TEMPFILE = \"temp.png\"\n",
    "        fig, ax = plt.subplots()\n",
    "        plt.xlabel('X')\n",
    "        plt.ylabel('Y')\n",
    "        plt.title(\"PLT Animation\")\n",
    "        ax.plot(x, y)\n",
    "\n",
    "        fig.savefig(TEMPFILE)\n",
    "        plt.close()\n",
    "        self.snaps.append(im.fromarray(np.asarray(im.open(TEMPFILE))))\n",
    "\n",
    "    def generate_gif(self, iter):\n",
    "        # Builds each array iteratively and saves a \"snapshot\" at each iteration\n",
    "        x = [0]\n",
    "        y = [0]\n",
    "        for _ in range(iter):\n",
    "            x.append(x[-1] + 1)\n",
    "            y.append(np.random.randint(10))\n",
    "            self.snap(x,y)\n",
    "        return\n",
    "            \n",
    "# Initialize objects and call appropriate method\n",
    "gif = tutorial()\n",
    "gif.generate_gif(...)\n",
    "\n",
    "# Save the array of snapshots as a single .gif file\n",
    "images = gif.snaps\n",
    "images[0].save(\n",
    "    'tutorial.gif',\n",
    "    optimize=False,\n",
    "    save_all=True,\n",
    "    append_images=images[1:],\n",
    "    loop=0,\n",
    "    duration=500\n",
    ")"
   ]
  }
 ],
 "metadata": {
  "kernelspec": {
   "display_name": "Python 3",
   "language": "python",
   "name": "python3"
  },
  "language_info": {
   "codemirror_mode": {
    "name": "ipython",
    "version": 3
   },
   "file_extension": ".py",
   "mimetype": "text/x-python",
   "name": "python",
   "nbconvert_exporter": "python",
   "pygments_lexer": "ipython3",
   "version": "3.12.2"
  }
 },
 "nbformat": 4,
 "nbformat_minor": 2
}
