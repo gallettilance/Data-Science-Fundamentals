{
 "cells": [
  {
   "cell_type": "markdown",
   "metadata": {},
   "source": [
    "# Worksheet 09\n",
    "\n",
    "Name:  Alvis Zou\n",
    "UID: U90560271\n",
    "\n",
    "### Topics\n",
    "\n",
    "- Clustering Review\n",
    "- Clustering Aggregation"
   ]
  },
  {
   "cell_type": "markdown",
   "metadata": {},
   "source": [
    "### Clustering Aggregation\n",
    "\n",
    "| Point | C | P |\n",
    "|-------|---|---|\n",
    "| A     | 0 | a |\n",
    "| B     | 0 | b |\n",
    "| C     | 2 | b |\n",
    "| D     | 1 | c |\n",
    "| E     | 1 | d |\n",
    "\n",
    "a) Fill in the following table where for each pair of points determine whether C and P agree or disagree on how to cluster that pair."
   ]
  },
  {
   "cell_type": "markdown",
   "metadata": {},
   "source": [
    "| Pair | Disagreement |\n",
    "|------|--------------|\n",
    "| A  B |   Disagree   |\n",
    "| A  C |    Agree     |\n",
    "| A  D |    Agree     |\n",
    "| A  E |    Agree     |\n",
    "| B  C |   Disagree   |\n",
    "| B  D |    Agree     |\n",
    "| B  E |    Agree     |\n",
    "| C  D |    Agree     |\n",
    "| C  E |    Agree     |\n",
    "| D  E |   Disagree   |\n"
   ]
  },
  {
   "cell_type": "markdown",
   "metadata": {},
   "source": [
    "As datasets become very large, this process can become computationally challenging.\n",
    "\n",
    "b) Given N points, what is the formula for the number of unique pairs of points one can create?"
   ]
  },
  {
   "cell_type": "markdown",
   "metadata": {},
   "source": [
    "The formula for the number of unique pairs is C(N, 2), which is N choose 2. This can be written as the formula $\\frac{N(N-1)}{2}$."
   ]
  },
  {
   "cell_type": "markdown",
   "metadata": {},
   "source": [
    "Assume that clustering C clusters all points in the same cluster and clustering P clusters points as such:\n",
    "\n",
    "| Point | P |\n",
    "|-------|---|\n",
    "| A     | 0 |\n",
    "| B     | 0 |\n",
    "| C     | 0 |\n",
    "| D     | 1 |\n",
    "| E     | 1 |\n",
    "| F     | 2 |\n",
    "| G     | 2 |\n",
    "| H     | 2 |\n",
    "| I     | 2 |\n",
    "\n",
    "c) What is the maximum number of disagreements there could be for a dataset of this size? (use the formula from b)?"
   ]
  },
  {
   "cell_type": "markdown",
   "metadata": {},
   "source": [
    "We have N = 9, so we plug this into the formula to get $\\frac{9 (9-1)}{2}$ = $\\frac{9 (8)}{2}$ = 36. This means that 36 is the max number of disagreements there can be (This is when all pairs disagree)."
   ]
  },
  {
   "cell_type": "markdown",
   "metadata": {},
   "source": [
    "d) If we look at cluster 0. There are (3 x 2) / 2 = 3 pairs that agree with C (since all points in C are in the same cluster). For each cluster, determine how many agreements there are. How many total agreements are there? How many disagreements does that mean there are between C and P?"
   ]
  },
  {
   "cell_type": "markdown",
   "metadata": {},
   "source": [
    "Cluster 0: (3x2)/2 = 3 agreements <br>\n",
    "Cluster 1: (2x1)/2 = 1 agreement <br>\n",
    "Cluster 2: (4x3)/2 = 6 agreements <br>\n",
    "If we add these up, we have 10 total agreements. To get number of disagreements, all we have to do is subtract the total number of agreements from the total possible disagreements, which is 36 (calculated in part c). 36 - 10 = 26, so there are 26 disagreements between C and P.\n"
   ]
  },
  {
   "cell_type": "markdown",
   "metadata": {},
   "source": [
    "e) Assuming that filtering the dataset by cluster number is a computationally easy operation, describe an algorithm inspired by the above process that can efficiently compute disagreement distances on large datasets."
   ]
  },
  {
   "cell_type": "markdown",
   "metadata": {},
   "source": [
    "1. Filter the dataset by cluster number (Assuming it is computationally easy, which we are)\n",
    "2. For each cluster in cluster C and each cluster in cluster P, find the points that are in the same cluster for both cluster C and P (intersection).\n",
    "3.) Use the formula $\\frac{N(N-1)}{2}$ to calculate the number of agreements for the points found in step 2.\n",
    "4.) Add the number from step 3 to the total number of agreements.\n",
    "5.) Calculate the max number of disagreements for the dataset like in part c. \n",
    "6.) Subtract the total number of agreements from step 4 from the total number of disagreements and return this value."
   ]
  }
 ],
 "metadata": {
  "interpreter": {
   "hash": "76ca05dc3ea24b2e3b98cdb7774adfbb40773424bf5109b477fd793f623715af"
  },
  "kernelspec": {
   "display_name": "Python 3 (ipykernel)",
   "language": "python",
   "name": "python3"
  },
  "language_info": {
   "codemirror_mode": {
    "name": "ipython",
    "version": 3
   },
   "file_extension": ".py",
   "mimetype": "text/x-python",
   "name": "python",
   "nbconvert_exporter": "python",
   "pygments_lexer": "ipython3",
   "version": "3.9.7"
  }
 },
 "nbformat": 4,
 "nbformat_minor": 2
}
