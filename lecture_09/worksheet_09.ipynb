{
 "cells": [
  {
   "attachments": {},
   "cell_type": "markdown",
   "metadata": {},
   "source": [
    "# Worksheet 09\n",
    "\n",
    "Name:  Jeremy Bui\n",
    "UID: U87383281\n",
    "\n",
    "### Topics\n",
    "\n",
    "- Clustering Review\n",
    "- Clustering Aggregation"
   ]
  },
  {
   "cell_type": "markdown",
   "metadata": {},
   "source": [
    "### Clustering Aggregation\n",
    "\n",
    "| Point | C | P |\n",
    "|-------|---|---|\n",
    "| A     | 0 | a |\n",
    "| B     | 0 | b |\n",
    "| C     | 2 | b |\n",
    "| D     | 1 | c |\n",
    "| E     | 1 | d |\n",
    "\n",
    "a) Fill in the following table where for each pair of points determine whether C and P agree or disagree on how to cluster that pair."
   ]
  },
  {
   "cell_type": "markdown",
   "metadata": {},
   "source": [
    "| Pair | Disagreement |\n",
    "|------|----------------|\n",
    "| A  B |      YES       |\n",
    "| A  C |      YES       |\n",
    "| A  D |      YES       |\n",
    "| A  E |      YES       |\n",
    "| B  C |      NO        |\n",
    "| B  D |      YES       |\n",
    "| B  E |      YES       |\n",
    "| C  D |      NO        |\n",
    "| C  E |      YES       |\n",
    "| D  E |      NO        |\n"
   ]
  },
  {
   "cell_type": "markdown",
   "metadata": {},
   "source": [
    "As datasets become very large, this process can become computationally challenging.\n",
    "\n",
    "b) Given N points, what is the formula for the number of unique pairs of points one can create?"
   ]
  },
  {
   "cell_type": "markdown",
   "metadata": {},
   "source": [
    "The number of unique pairs of points that can be created from $N$ points can be calculated using combinations.\r\n",
    "\r\n",
    "In combinatorics, the number of combinations of $n$ items taken $k$ at a time is given by the formula:\r\n",
    "\r\n",
    "$$ C(n, k) = \\frac{n!}{k!(n-k)!} $$\r\n",
    "\r\n",
    "However, when we're creating pairs, the order doesn't matter (i.e., choosing point A and then point B is the same as choosing point B and then point A), so we're dealing with combinations, not permutations. The formula for combinations is adjusted by dividing by $2!$ to account for this.\r\n",
    "\r\n",
    "So, the formula for the number of unique pairs of points from $N$ point is:\r\n",
    "\r\n",
    "$$ \\text{Number of pairs} = \\frac{N!}{!(\n",
    "N(N-1)}{2} $$\r\n",
    "{N(N-1)}{2} \\]"
   ]
  },
  {
   "cell_type": "markdown",
   "metadata": {},
   "source": [
    "Assume that clustering C clusters all points in the same cluster and clustering P clusters points as such:\n",
    "\n",
    "| Point | P |\n",
    "|-------|---|\n",
    "| A     | 0 |\n",
    "| B     | 0 |\n",
    "| C     | 0 |\n",
    "| D     | 1 |\n",
    "| E     | 1 |\n",
    "| F     | 2 |\n",
    "| G     | 2 |\n",
    "| H     | 2 |\n",
    "| I     | 2 |\n",
    "\n",
    "c) What is the maximum number of disagreements there could be for a dataset of this size? (use the formula from b)?"
   ]
  },
  {
   "cell_type": "markdown",
   "metadata": {},
   "source": [
    "Considering the clustering scheme provided, where clustering C assigns all points to the same cluster and clustering P assigns points to three different clusters, we can determine the maximum number of disagreements without using formulas. Clustering C inherently has no disagreements since all points are in a single cluster. However, clustering P introduces potential disagreements due to its partitioning of points into multiple clusters. In this case, with 9 points and 3 clusters, the maximum number of disagreements occurs when every pair of points from different clusters disagrees. For instance, for cluster 0 with points A, B, and C, there are 3 unique pairs. Similarly, cluster 1 has 1 unique pair (points D and E), and cluster 2 has 6 unique pairs (points F, G, H, and I). Summing these up, we find that clustering P presents a total of 10 agreements within its clusters. Therefore, the maximum number of disagreements can be calculated by subtracting the total number of agreements (10) from the total number of unique pairs of points (36), yielding a maximum of 26 disagreements for a dataset of this size."
   ]
  },
  {
   "cell_type": "markdown",
   "metadata": {},
   "source": [
    "d) If we look at cluster 0. There are (3 x 2) / 2 = 3 pairs that agree with C (since all points in C are in the same cluster). For each cluster, determine how many agreements there are. How many total agreements are there? How many disagreements does that mean there are between C and P?"
   ]
  },
  {
   "cell_type": "markdown",
   "metadata": {},
   "source": [
    "Analyzing each cluster individually, for cluster 0 with 3 points (A, B, and C), clustering C, which assigns all points to the same cluster, results in 3 pairs that agree. For cluster 1 containing points D and E, clustering P groups both points together, yielding 1 agreement. In cluster 2 with points F, G, H, and I, there are 6 pairs agreeing. Thus, the total number of agreements is 10. Subtracting this from the total number of unique pairs of points, 36, we find there are 26 disagreements between clustering C and clustering P.\n"
   ]
  },
  {
   "cell_type": "markdown",
   "metadata": {},
   "source": [
    "e) Assuming that filtering the dataset by cluster number is a computationally easy operation, describe an algorithm inspired by the above process that can efficiently compute disagreement distances on large datasets."
   ]
  },
  {
   "cell_type": "markdown",
   "metadata": {},
   "source": [
    "One efficient algorithm for computing disagreement distances on large datasets could be designed as follows: Initially, employ a scalable clustering algorithm such as K-means or DBSCAN to partition the dataset into clusters, ensuring computational feasibility for large datasets. Subsequently, within each cluster, efficiently compute pairwise distances between points using optimized distance calculation methods like scipy's pdist function. Then, determine the number of pairs agreeing on their cluster assignments by comparing cluster labels assigned by the clustering algorithm. Subtracting the agreement pairs from the total number of pairs within each cluster yields the number of disagreement pairs. Aggregate the disagreement pairs across all clusters to obtain the total number of disagreement distances. This approach leverages the computational efficiency of modern clustering algorithms and optimized distance calculation techniques, allowing for scalable computation of disagreement distances on large datasets."
   ]
  },
  {
   "cell_type": "code",
   "execution_count": null,
   "metadata": {},
   "outputs": [],
   "source": []
  }
 ],
 "metadata": {
  "interpreter": {
   "hash": "76ca05dc3ea24b2e3b98cdb7774adfbb40773424bf5109b477fd793f623715af"
  },
  "kernelspec": {
   "display_name": "Python 3 (ipykernel)",
   "language": "python",
   "name": "python3"
  },
  "language_info": {
   "codemirror_mode": {
    "name": "ipython",
    "version": 3
   },
   "file_extension": ".py",
   "mimetype": "text/x-python",
   "name": "python",
   "nbconvert_exporter": "python",
   "pygments_lexer": "ipython3",
   "version": "3.11.5"
  }
 },
 "nbformat": 4,
 "nbformat_minor": 4
}
