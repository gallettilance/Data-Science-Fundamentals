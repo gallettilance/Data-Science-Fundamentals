{
 "cells": [
  {
   "cell_type": "markdown",
   "metadata": {},
   "source": [
    "# Worksheet 09\n",
    "\n",
    "Name: Kian Boon Tan\n",
    "\n",
    "UID: U93983891\n",
    "\n",
    "### Topics\n",
    "\n",
    "- Clustering Review\n",
    "- Clustering Aggregation"
   ]
  },
  {
   "cell_type": "markdown",
   "metadata": {},
   "source": [
    "### Clustering Aggregation\n",
    "\n",
    "| Point | C | P |\n",
    "|-------|---|---|\n",
    "| A     | 0 | a |\n",
    "| B     | 0 | b |\n",
    "| C     | 2 | b |\n",
    "| D     | 1 | c |\n",
    "| E     | 1 | d |\n",
    "\n",
    "a) Fill in the following table where for each pair of points determine whether C and P agree or disagree on how to cluster that pair."
   ]
  },
  {
   "cell_type": "markdown",
   "metadata": {},
   "source": [
    "| Pair | Disagreement |\n",
    "|------|--------------|\n",
    "| A  B |      1       |\n",
    "| A  C |      0       |\n",
    "| A  D |      0       |\n",
    "| A  E |      0       |\n",
    "| B  C |      1       |\n",
    "| B  D |      0       |\n",
    "| B  E |      0       |\n",
    "| C  D |      0       |\n",
    "| C  E |      0       |\n",
    "| D  E |      1       |\n"
   ]
  },
  {
   "cell_type": "markdown",
   "metadata": {},
   "source": [
    "As datasets become very large, this process can become computationally challenging.\n",
    "\n",
    "b) Given N points, what is the formula for the number of unique pairs of points one can create?"
   ]
  },
  {
   "cell_type": "markdown",
   "metadata": {},
   "source": [
    "The formula would be $\\sum\\limits_{i=1}^{N-1} i = \\frac{N(N-1)}{2}$, since the first point can be paired with $N-1$ points, the second point can be paired with $N-2$ points and so on. Comparing it with the example above with $N = 5$ points, we got $10$ points, which is consistent with the formula."
   ]
  },
  {
   "cell_type": "markdown",
   "metadata": {},
   "source": [
    "Assume that clustering C clusters all points in the same cluster and clustering P clusters points as such:\n",
    "\n",
    "| Point | P |\n",
    "|-------|---|\n",
    "| A     | 0 |\n",
    "| B     | 0 |\n",
    "| C     | 0 |\n",
    "| D     | 1 |\n",
    "| E     | 1 |\n",
    "| F     | 2 |\n",
    "| G     | 2 |\n",
    "| H     | 2 |\n",
    "| I     | 2 |\n",
    "\n",
    "c) What is the maximum number of disagreements there could be for a dataset of this size? (use the formula from b)?"
   ]
  },
  {
   "cell_type": "markdown",
   "metadata": {},
   "source": [
    "If each point is in the same cluster for one clustering $C$, and the other clustering $P$ assigns each point a different cluster, every pair of points would result in a disagreement. Hence, we can substitute the size of this dataset into the formula we derived above: $\\frac{9 \\times 8}{2} = 36$."
   ]
  },
  {
   "cell_type": "markdown",
   "metadata": {},
   "source": [
    "d) If we look at cluster 0. There are (3 x 2) / 2 = 3 pairs that agree with C (since all points in C are in the same cluster). For each cluster, determine how many agreements there are. How many total agreements are there? How many disagreements does that mean there are between C and P?"
   ]
  },
  {
   "cell_type": "markdown",
   "metadata": {},
   "source": [
    "We can apply the same formula used for calculating the number of pairs in the dataset, to calculate the number of pairs within the cluster that will agree.\n",
    "\n",
    "For cluster $1$, there will be $\\frac{2 \\times 1}{2} = 1$ agreement.\n",
    "\n",
    "For cluster $2$, there are $\\frac{4 \\times 3}{2} = 6$ agreements.\n",
    "\n",
    "In total, there are $1 + 6 + 3 = 10$ agreements. Since there are $36$ possible disagreements, this means that the number of true disagreements are $36 - 10 = 26$."
   ]
  },
  {
   "cell_type": "markdown",
   "metadata": {},
   "source": [
    "e) Assuming that filtering the dataset by cluster number is a computationally easy operation, describe an algorithm inspired by the above process that can efficiently compute disagreement distances on large datasets."
   ]
  },
  {
   "cell_type": "markdown",
   "metadata": {},
   "source": [
    "Instead of brute forcing to check every possible pair, we can apply the formulas above:\n",
    "\n",
    "1. Filter the dataset by each clustering, assuming that this filtering is a computationally easy operation.\n",
    "2. For each cluster number in clustering 1, and for each cluster number in clustering 2\n",
    "    - we can find the points which intersect (i.e. are in the same clusters for both clusterings).\n",
    "    - apply the formula for the number of agreements given these points, as shown in part d).\n",
    "3. Calculate the total number of possible disagreements as in part c).\n",
    "4. Calculate the true disagreement distance by subtracting the total number of agreements from the total number of possible disagreements."
   ]
  }
 ],
 "metadata": {
  "interpreter": {
   "hash": "76ca05dc3ea24b2e3b98cdb7774adfbb40773424bf5109b477fd793f623715af"
  },
  "kernelspec": {
   "display_name": "Python 3 (ipykernel)",
   "language": "python",
   "name": "python3"
  },
  "language_info": {
   "codemirror_mode": {
    "name": "ipython",
    "version": 3
   },
   "file_extension": ".py",
   "mimetype": "text/x-python",
   "name": "python",
   "nbconvert_exporter": "python",
   "pygments_lexer": "ipython3",
   "version": "3.8.3"
  }
 },
 "nbformat": 4,
 "nbformat_minor": 2
}
