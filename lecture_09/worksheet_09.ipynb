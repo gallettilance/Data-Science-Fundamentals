{
 "cells": [
  {
   "attachments": {},
   "cell_type": "markdown",
   "metadata": {},
   "source": [
    "# Worksheet 09\n",
    "\n",
    "Name:  Junyu Chen\n",
    "UID: U95744434\n",
    "\n",
    "### Topics\n",
    "\n",
    "- Clustering Review\n",
    "- Clustering Aggregation"
   ]
  },
  {
   "cell_type": "markdown",
   "metadata": {},
   "source": [
    "### Clustering Aggregation\n",
    "\n",
    "| Point | C | P |\n",
    "|-------|---|---|\n",
    "| A     | 0 | a |\n",
    "| B     | 0 | b |\n",
    "| C     | 2 | b |\n",
    "| D     | 1 | c |\n",
    "| E     | 1 | d |\n",
    "\n",
    "a) Fill in the following table where for each pair of points determine whether C and P agree or disagree on how to cluster that pair."
   ]
  },
  {
   "cell_type": "markdown",
   "metadata": {},
   "source": [
    "| Pair | Disagreement |\n",
    "|------|--------------|\n",
    "| A  B |      ?       |\n",
    "| A  C |      ?       |\n",
    "| A  D |      ?       |\n",
    "| A  E |      ?       |\n",
    "| B  C |      ?       |\n",
    "| B  D |      ?       |\n",
    "| B  E |      ?       |\n",
    "| C  D |      ?       |\n",
    "| C  E |      ?       |\n",
    "| D  E |      ?       |\n"
   ]
  },
  {
   "cell_type": "code",
   "execution_count": 1,
   "metadata": {},
   "outputs": [
    {
     "name": "stdout",
     "output_type": "stream",
     "text": [
      "Pair AB: Disagree\n",
      "Pair AC: Agree\n",
      "Pair AD: Agree\n",
      "Pair AE: Agree\n",
      "Pair BC: Disagree\n",
      "Pair BD: Agree\n",
      "Pair BE: Agree\n",
      "Pair CD: Agree\n",
      "Pair CE: Agree\n",
      "Pair DE: Disagree\n"
     ]
    }
   ],
   "source": [
    "# Define the cluster assignments for both methods C and P\n",
    "data = {\n",
    "    'A': {'C': 0, 'P': 'a'},\n",
    "    'B': {'C': 0, 'P': 'b'},\n",
    "    'C': {'C': 2, 'P': 'b'},\n",
    "    'D': {'C': 1, 'P': 'c'},\n",
    "    'E': {'C': 1, 'P': 'd'}\n",
    "}\n",
    "\n",
    "# List of all points\n",
    "points = list(data.keys())\n",
    "\n",
    "# Function to determine agreement\n",
    "def check_agreement(point1, point2):\n",
    "    same_cluster_c = (data[point1]['C'] == data[point2]['C'])\n",
    "    same_cluster_p = (data[point1]['P'] == data[point2]['P'])\n",
    "    return \"Agree\" if same_cluster_c == same_cluster_p else \"Disagree\"\n",
    "\n",
    "# Generate the comparison table\n",
    "disagreement_table = []\n",
    "for i in range(len(points)):\n",
    "    for j in range(i + 1, len(points)):\n",
    "        pair = points[i] + points[j]\n",
    "        disagreement = check_agreement(points[i], points[j])\n",
    "        disagreement_table.append((pair, disagreement))\n",
    "\n",
    "# Print the result\n",
    "for pair, disagreement in disagreement_table:\n",
    "    print(f\"Pair {pair}: {disagreement}\")\n"
   ]
  },
  {
   "cell_type": "markdown",
   "metadata": {},
   "source": [
    "As datasets become very large, this process can become computationally challenging.\n",
    "\n",
    "b) Given N points, what is the formula for the number of unique pairs of points one can create?"
   ]
  },
  {
   "cell_type": "markdown",
   "metadata": {},
   "source": [
    "Given $N$ points, the formula for the number of unique pairs of points one can create is given by the combination formula $\\binom{N}{2}$. This is calculated as:\n",
    "\n",
    "$$\n",
    "\\binom{N}{2} = \\frac{N(N-1)}{2}\n",
    "$$\n"
   ]
  },
  {
   "cell_type": "markdown",
   "metadata": {},
   "source": [
    "Assume that clustering C clusters all points in the same cluster and clustering P clusters points as such:\n",
    "\n",
    "| Point | P |\n",
    "|-------|---|\n",
    "| A     | 0 |\n",
    "| B     | 0 |\n",
    "| C     | 0 |\n",
    "| D     | 1 |\n",
    "| E     | 1 |\n",
    "| F     | 2 |\n",
    "| G     | 2 |\n",
    "| H     | 2 |\n",
    "| I     | 2 |\n",
    "\n",
    "c) What is the maximum number of disagreements there could be for a dataset of this size? (use the formula from b)?"
   ]
  },
  {
   "cell_type": "markdown",
   "metadata": {},
   "source": [
    "For \\( N = 9 \\) points, the formula to calculate the number of unique pairs:\n",
    "\n",
    "$$\n",
    "\\binom{9}{2} = \\frac{9 \\times (9-1)}{2} = 36\n",
    "$$\n",
    "\n",
    "Thus, there can be a maximum of 36 disagreements for a dataset of this size.\n"
   ]
  },
  {
   "cell_type": "markdown",
   "metadata": {},
   "source": [
    "d) If we look at cluster 0. There are (3 x 2) / 2 = 3 pairs that agree with C (since all points in C are in the same cluster). For each cluster, determine how many agreements there are. How many total agreements are there? How many disagreements does that mean there are between C and P?"
   ]
  },
  {
   "cell_type": "markdown",
   "metadata": {},
   "source": [
    "If we consider Cluster 0 in P, where all points are in the same sub-cluster, and since all points in C are in the same cluster, all pairwise combinations of points in Cluster 0 of P are also in agreement with C.\n",
    "\n",
    "Number of points in Cluster 0 of P: 3 points, calculated using the combination formula for pairs:\n",
    "\n",
    "Number of pairs = $$ \\binom{3}{2} = 3 \\ $$\n",
    "\n",
    "This means there are 3 pairs that agree with C since all points in C are in the same cluster.\n",
    "\n",
    "\n",
    "Total Agreements: If all points in P's Cluster 0 are also considered as being in the same cluster in C, and given that all points in C are indeed in one single cluster, all pairs of points within each cluster of P that are also in C contribute to agreements.\n",
    "\n",
    "Total Disagreements: To find disagreements, we would look at pairs of points that are clustered together in C but not in P or vice versa. However, with the information given that all points in C are in one cluster, any pair of points not clustered together in P would count as a disagreement."
   ]
  },
  {
   "cell_type": "markdown",
   "metadata": {},
   "source": [
    "e) Assuming that filtering the dataset by cluster number is a computationally easy operation, describe an algorithm inspired by the above process that can efficiently compute disagreement distances on large datasets."
   ]
  },
  {
   "cell_type": "markdown",
   "metadata": {},
   "source": [
    "#### Input:\n",
    "\n",
    "A dataset partitioned into clusters C1, C2, ..., Ck.\n",
    "\n",
    "Another clustering method that assigns cluster labels P1, P2, ..., Pj to the data.\n",
    "\n",
    "#### Output:\n",
    "\n",
    "Disagreement distance between the two clustering methods.\n",
    "\n",
    "#### Steps:\n",
    "\n",
    "1. Initialize Counters:\n",
    "\n",
    "Set ‘totalDisagreements’ to 0 to track the total number of disagreements across all clusters.\n",
    "\n",
    "2. Compute Intra-cluster Pairs:\n",
    "\n",
    "For each cluster Ci in C:\n",
    "\n",
    "Identify all data points in Ci.\n",
    "\n",
    "Check the clustering according to P for each of these points.\n",
    "\n",
    "Compute the number of pairs within Ci that are placed in different clusters in P.\n",
    "\n",
    "This can be achieved by:\n",
    "\n",
    "Constructing a frequency count of points belonging to each cluster in P.\n",
    "\n",
    "Calculating disagreements within Ci based on these counts.\n",
    "\n",
    "3. Calculate Disagreements:\n",
    "\n",
    "For every pair of points in Ci:\n",
    "\n",
    "If they belong to the same cluster in C but different clusters in P, increment the totalDisagreements counter.\n",
    "\n",
    "4. Optimize with Hash Maps:\n",
    "\n",
    "Use hash maps to store and quickly retrieve the cluster assignments in P for all points in each Ci.\n",
    "\n",
    "This reduces the need for repeated scanning of the dataset.\n",
    "\n",
    "5. Parallel Processing:\n",
    "\n",
    "If feasible, implement this computation in parallel for different clusters, as the computation for each cluster is independent of others.\n",
    "\n",
    "6. Return Result:\n",
    "\n",
    "The totalDisagreements now contains the sum of all disagreements between C and P over the dataset."
   ]
  }
 ],
 "metadata": {
  "interpreter": {
   "hash": "76ca05dc3ea24b2e3b98cdb7774adfbb40773424bf5109b477fd793f623715af"
  },
  "kernelspec": {
   "display_name": "Python 3 (ipykernel)",
   "language": "python",
   "name": "python3"
  },
  "language_info": {
   "codemirror_mode": {
    "name": "ipython",
    "version": 3
   },
   "file_extension": ".py",
   "mimetype": "text/x-python",
   "name": "python",
   "nbconvert_exporter": "python",
   "pygments_lexer": "ipython3",
   "version": "3.8.18"
  },
  "orig_nbformat": 4
 },
 "nbformat": 4,
 "nbformat_minor": 2
}
