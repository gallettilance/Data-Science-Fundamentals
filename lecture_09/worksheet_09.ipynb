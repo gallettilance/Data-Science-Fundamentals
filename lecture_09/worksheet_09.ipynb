{
 "cells": [
  {
   "attachments": {},
   "cell_type": "markdown",
   "metadata": {},
   "source": [
    "# Worksheet 09\n",
    "\n",
    "Name: Minfeng Qian \n",
    "UID: U10282863\n",
    "\n",
    "### Topics\n",
    "\n",
    "- Clustering Review\n",
    "- Clustering Aggregation\n",
    "\n",
    "### Clustering Aggregation\n",
    "\n",
    "| Point | C | P |\n",
    "|-------|---|---|\n",
    "| A     | 0 | a |\n",
    "| B     | 0 | b |\n",
    "| C     | 2 | b |\n",
    "| D     | 1 | c |\n",
    "| E     | 1 | d |\n",
    "\n",
    "a) Fill in the following table where for each pair of points determine whether C and P agree or disagree on how to cluster that pair."
   ]
  },
  {
   "cell_type": "markdown",
   "metadata": {},
   "source": [
    "| Pair | Disagreement |\n",
    "|------|--------------|\n",
    "| A  B |      No       |\n",
    "| A  C |      Yes      |\n",
    "| A  D |      No       |\n",
    "| A  E |      No       |\n",
    "| B  C |      Yes       |\n",
    "| B  D |      No       |\n",
    "| B  E |      No       |\n",
    "| C  D |      Yes       |\n",
    "| C  E |      Yes       |\n",
    "| D  E |      Yes      |\n"
   ]
  },
  {
   "cell_type": "markdown",
   "metadata": {},
   "source": [
    "As datasets become very large, this process can become computationally challenging.\n",
    "\n",
    "b) Given N points, what is the formula for the number of unique pairs of points one can create?"
   ]
  },
  {
   "cell_type": "markdown",
   "metadata": {},
   "source": [
    "The expression for the distinct number of points is calculated using the combinations of pairs, simplifying to C(N, 2) = (N * (N - 1)) / 2."
   ]
  },
  {
   "cell_type": "markdown",
   "metadata": {},
   "source": [
    "Assume that clustering C clusters all points in the same cluster and clustering P clusters points as such:\n",
    "\n",
    "| Point | P |\n",
    "|-------|---|\n",
    "| A     | 0 |\n",
    "| B     | 0 |\n",
    "| C     | 0 |\n",
    "| D     | 1 |\n",
    "| E     | 1 |\n",
    "| F     | 2 |\n",
    "| G     | 2 |\n",
    "| H     | 2 |\n",
    "| I     | 2 |\n",
    "\n",
    "c) What is the maximum number of disagreements there could be for a dataset of this size? (use the formula from b)?"
   ]
  },
  {
   "cell_type": "markdown",
   "metadata": {},
   "source": [
    "Substituting the values into the formula: (9 * 8) / 2 = 36 possible conflicts."
   ]
  },
  {
   "cell_type": "markdown",
   "metadata": {},
   "source": [
    "d) If we look at cluster 0. There are (3 x 2) / 2 = 3 pairs that agree with C (since all points in C are in the same cluster). For each cluster, determine how many agreements there are. How many total agreements are there? How many disagreements does that mean there are between C and P?"
   ]
  },
  {
   "cell_type": "markdown",
   "metadata": {},
   "source": [
    "In cluster 0, there are 3 points (A, B, C). Since all points are placed in the same cluster according to clustering C, there are no disagreements among these points. Each point in cluster 0 is in agreement with every other point regarding their cluster membership in both C and P. Therefore, the number of agreements can be calculated using the combination formula: (3 * 2 / 2) = 3 agreements. Following the same method for the other clusters, we find 1 pair and 6 pairs respectively. Thus, the total agreements amount to 1 + 3 + 6 = 10. With 36 potential disagreements and 10 agreements, there are 26 total disagreements."
   ]
  },
  {
   "cell_type": "markdown",
   "metadata": {},
   "source": [
    "e) Assuming that filtering the dataset by cluster number is a computationally easy operation, describe an algorithm inspired by the above process that can efficiently compute disagreement distances on large datasets."
   ]
  },
  {
   "cell_type": "markdown",
   "metadata": {},
   "source": [
    "\r\n",
    "### Algorithm: Efficient Disagreement Distance Calculation\r\n",
    "\r\n",
    "#### Step 1: Preprocessing\r\n",
    "- **Input:** Dataset \\( D \\) with points assigned to clusters according to two different clustering schemes \\( C \\) and \\( P \\).\r\n",
    "- **Operation:** Pre-compute and store the cluster memberships for each point under both clustering schemes. This involves creating two lists or arrays, \\( C[i] \\) and \\( P[i] \\), where \\( i \\) represents the index of a point in \\( D \\), and the values represent the cluster number to which point \\( i \\) is assigned in \\( C \\) and \\( P \\) respectively.\r\n",
    "\r\n",
    "#### Step 2: Filtering by Cluster\r\n",
    "- **Operation:** For each cluster \\( k \\) in \\( C \\), retrieve all points that belong to \\( k \\). Repeat this operation for each cluster in \\( P \\). This filtering can be efficiently done using hash tables or dictionaries where the keys are the cluster numbers and the values are lists of points belonging to those clusters.\r\n",
    "\r\n",
    "#### Step 3: Calculate Agreements\r\n",
    "- **Operation:** For each cluster \\( k \\) in \\( C \\):\r\n",
    "  - For each cluster \\( j \\) in \\( P \\):\r\n",
    "    - Intersect the sets of points in \\( C[k] \\) and \\( P[j] \\). The size of this intersection gives the number of pairwise agreements between points that both schemes agree are in the same cluster.\r\n",
    "  - The total number of agreements within these intersecting subsets can be calculated using the combination formula \\( C(n, 2) \\), where \\( n \\) is the number of points in the intersection.\r\n",
    "\r\n",
    "#### Step 4: Compute Disagreements\r\n",
    "- **Calculation:** Knowing the total number of potential pairwise interactions in the dataset (using \\( C(N, 2) \\) where \\( N \\) is the total number of points in \\( D \\)) and the number of agreements from Step 3:\r\n",
    "  - Total disagreements = Total potential pairwise combinations - Total agreements.\r\n",
    "\r\n",
    "#### Step 5: Optimization Considerations\r\n",
    "- **Batch Processing:** For very large datasets, process data in batches to minimize memory usage.\r\n",
    "- **Parallel Processing:** Use multi-threading or distributed computing to handle different clusters or pairs of clusters in parallel, especially when intersecting and counting pairs.\r\n",
    "- **Data Structures:** Efficient data structures like hash maps (for cluster memberships) and trees (for sorting and quickly finding intersections) can significantly speed up the process.\r\n",
    "\r\n",
    "#### Step 6: Output\r\n",
    "- **Return:** The total number of disagreements between t suitable for large datasets."
   ]
  }
 ],
 "metadata": {
  "interpreter": {
   "hash": "76ca05dc3ea24b2e3b98cdb7774adfbb40773424bf5109b477fd793f623715af"
  },
  "kernelspec": {
   "display_name": "Python 3 (ipykernel)",
   "language": "python",
   "name": "python3"
  },
  "language_info": {
   "codemirror_mode": {
    "name": "ipython",
    "version": 3
   },
   "file_extension": ".py",
   "mimetype": "text/x-python",
   "name": "python",
   "nbconvert_exporter": "python",
   "pygments_lexer": "ipython3",
   "version": "3.9.18"
  }
 },
 "nbformat": 4,
 "nbformat_minor": 4
}
