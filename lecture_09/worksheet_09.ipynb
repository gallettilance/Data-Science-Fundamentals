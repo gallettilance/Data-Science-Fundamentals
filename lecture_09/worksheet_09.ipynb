{
  "cells": [
    {
      "cell_type": "markdown",
      "metadata": {
        "id": "da4fvZr3x-gy"
      },
      "source": [
        "# Worksheet 09\n",
        "\n",
        "Name: Hrishav Varma\n",
        "\n",
        "UID: U57996211\n",
        "\n",
        "Name: Pranav Goyanka\n",
        "\n",
        "UID: U18853014\n",
        "\n",
        "Name: Ria Singh\n",
        "\n",
        "UID: U21576658\n",
        "\n",
        "Name: Arunesh Kumar Lal\n",
        "\n",
        "UID: U26502933\n",
        "\n",
        "Name: Sonja Poe \n",
        "\n",
        "UID: U15566089\n",
        "\n",
        "Name: Sri Harsha Kotamraju \n",
        "\n",
        "UID: U57771922\n",
        "\n",
        "### Topics\n",
        "\n",
        "- Clustering Review\n",
        "- Clustering Aggregation"
      ]
    },
    {
      "cell_type": "markdown",
      "metadata": {
        "id": "iVSjnwX2x-g0"
      },
      "source": [
        "### Clustering Aggregation\n",
        "\n",
        "| Point | C | P |\n",
        "|-------|---|---|\n",
        "| A     | 0 | a |\n",
        "| B     | 0 | b |\n",
        "| C     | 2 | b |\n",
        "| D     | 1 | c |\n",
        "| E     | 1 | d |\n",
        "\n",
        "a) Fill in the following table where for each pair of points determine whether C and P agree or disagree on how to cluster that pair."
      ]
    },
    {
      "cell_type": "markdown",
      "metadata": {
        "id": "S_Z_p1rlx-g1"
      },
      "source": [
        "| Pair | Disagreement |\n",
        "|------|--------------|\n",
        "| A  B |      Disagree       |\n",
        "| A  C |      Agree       |\n",
        "| A  D |      Disagree       |\n",
        "| A  E |      Disagree       |\n",
        "| B  C |      Agree       |\n",
        "| B  D |      Disgree       |\n",
        "| B  E |      Disgree       |\n",
        "| C  D |      Agree       |\n",
        "| C  E |      Agree       |\n",
        "| D  E |      Agree       |\n"
      ]
    },
    {
      "cell_type": "markdown",
      "metadata": {
        "id": "hBgmfx_Hx-g2"
      },
      "source": [
        "As datasets become very large, this process can become computationally challenging.\n",
        "\n",
        "b) Given N points, what is the formula for the number of unique pairs of points one can create?"
      ]
    },
    {
      "cell_type": "markdown",
      "metadata": {
        "id": "YrJFrsSrx-g2"
      },
      "source": [
        "We can use the formula\n",
        "\n",
        "nCr = N! / (2! * (N-2)!)"
      ]
    },
    {
      "cell_type": "markdown",
      "metadata": {
        "id": "_qtF-O3vx-g3"
      },
      "source": [
        "Assume that clustering C clusters all points in the same cluster and clustering P clusters points as such:\n",
        "\n",
        "| Point | P |\n",
        "|-------|---|\n",
        "| A     | 0 |\n",
        "| B     | 0 |\n",
        "| C     | 0 |\n",
        "| D     | 1 |\n",
        "| E     | 1 |\n",
        "| F     | 2 |\n",
        "| G     | 2 |\n",
        "| H     | 2 |\n",
        "| I     | 2 |\n",
        "\n",
        "c) What is the maximum number of disagreements there could be for a dataset of this size? (use the formula from b)?"
      ]
    },
    {
      "cell_type": "markdown",
      "metadata": {
        "id": "1IS0J2P6x-g3"
      },
      "source": [
        "Using the above formula,\n",
        "Let N = 9  \n",
        "N * (N - 1) / 2 = 9 * 8 / 2 = 36\n",
        "\n",
        "So the maximum number of disagreements for this dataset with 9 points is 36."
      ]
    },
    {
      "cell_type": "markdown",
      "metadata": {
        "id": "_FwxC0tAx-g4"
      },
      "source": [
        "d) If we look at cluster 0. There are (3 x 2) / 2 = 3 pairs that agree with C (since all points in C are in the same cluster). For each cluster, determine how many agreements there are. How many total agreements are there? How many disagreements does that mean there are between C and P?"
      ]
    },
    {
      "cell_type": "markdown",
      "metadata": {
        "id": "3tqd4BrFx-g4"
      },
      "source": [
        "Number of agreements :\n",
        "\n",
        "For Cluster 0 with 3 points we have 3 agreements\n",
        "For Cluster 1 with 2 points we have 1 agreement\n",
        "For Cluster 2 with 4 points we have 6 agreements\n",
        "\n",
        "In Total there are 10 agreements.\n",
        "\n",
        "If there are 36 possible unique pairs from 9 points and 10 agreements within P's clusters, we subtract the agreements from the total unique pairs to get the disagreements:\n",
        "\n",
        "Disagreements = Total Unique Pairs - Agreements\n",
        "Disagreements = 36 - 10\n",
        "Disagreements = 26"
      ]
    },
    {
      "cell_type": "markdown",
      "metadata": {
        "id": "_pYk-AgXx-g4"
      },
      "source": [
        "e) Assuming that filtering the dataset by cluster number is a computationally easy operation, describe an algorithm inspired by the above process that can efficiently compute disagreement distances on large datasets."
      ]
    },
    {
      "cell_type": "markdown",
      "metadata": {
        "id": "ThBQ76eRx-g5"
      },
      "source": [
        "To efficiently compute disagreement distances on large datasets, the initial step involves organizing the dataset into clusters using two different clustering methods, denoted as C and P. Utilizing the assumption that cluster filtering is straightforward, we can swiftly gather all points belonging to the same cluster for each method. Once these clusters are established, we proceed to tally the number of point pairs within each cluster of method P to ascertain agreements. To identify disagreements, we iterate through each point in a cluster in P and verify if it has a corresponding pair in the same cluster in C; if not, it's marked as a disagreement. The total count of disagreements is determined by subtracting the agreement count from the total possible pairs in the dataset, which is computed using the combination formula for the total number of points. This methodology optimizes operations by leveraging clusters to streamline the comparison process, making it particularly well-suited for large datasets where direct pairwise comparison would be unmanageable.\n",
        "\n",
        "\n",
        "\n",
        "\n",
        "\n"
      ]
    }
  ],
  "metadata": {
    "colab": {
      "provenance": []
    },
    "interpreter": {
      "hash": "76ca05dc3ea24b2e3b98cdb7774adfbb40773424bf5109b477fd793f623715af"
    },
    "kernelspec": {
      "display_name": "Python 3 (ipykernel)",
      "language": "python",
      "name": "python3"
    },
    "language_info": {
      "codemirror_mode": {
        "name": "ipython",
        "version": 3
      },
      "file_extension": ".py",
      "mimetype": "text/x-python",
      "name": "python",
      "nbconvert_exporter": "python",
      "pygments_lexer": "ipython3",
      "version": "3.11.1"
    },
    "orig_nbformat": 4
  },
  "nbformat": 4,
  "nbformat_minor": 0
}
