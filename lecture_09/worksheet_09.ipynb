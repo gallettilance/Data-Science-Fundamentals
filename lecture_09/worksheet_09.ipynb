{
 "cells": [
  {
   "cell_type": "markdown",
   "metadata": {},
   "source": [
    "# Worksheet 09\n",
    "\n",
    "Name:  Qiji Zheng  \n",
    "UID: U03410444\n",
    "\n",
    "### Topics\n",
    "\n",
    "- Clustering Review\n",
    "- Clustering Aggregation"
   ]
  },
  {
   "cell_type": "markdown",
   "metadata": {},
   "source": [
    "### Clustering Aggregation\n",
    "\n",
    "| Point | C | P |\n",
    "|-------|---|---|\n",
    "| A     | 0 | a |\n",
    "| B     | 0 | b |\n",
    "| C     | 2 | b |\n",
    "| D     | 1 | c |\n",
    "| E     | 1 | d |\n",
    "\n",
    "a) Fill in the following table where for each pair of points determine whether C and P agree or disagree on how to cluster that pair."
   ]
  },
  {
   "cell_type": "markdown",
   "metadata": {},
   "source": [
    "| Pair | Disagreement |\n",
    "|------|--------------|\n",
    "| A  B |      Disagree       |\n",
    "| A  C |      Disagree       |\n",
    "| A  D |      Disagree       |\n",
    "| A  E |      Disagree       |\n",
    "| B  C |      Disagree       |\n",
    "| B  D |      Disagree       |\n",
    "| B  E |      Disagree       |\n",
    "| C  D |      Disagree       |\n",
    "| C  E |      Disagree       |\n",
    "| D  E |      Disagree       |\n"
   ]
  },
  {
   "cell_type": "markdown",
   "metadata": {},
   "source": [
    "As datasets become very large, this process can become computationally challenging.\n",
    "\n",
    "b) Given N points, what is the formula for the number of unique pairs of points one can create?"
   ]
  },
  {
   "cell_type": "markdown",
   "metadata": {},
   "source": [
    "\n",
    "$$\\binom{N}{2} = \\frac{N \\times (N - 1)}{2}$$\n"
   ]
  },
  {
   "cell_type": "markdown",
   "metadata": {},
   "source": [
    "Assume that clustering C clusters all points in the same cluster and clustering P clusters points as such:\n",
    "\n",
    "| Point | P |\n",
    "|-------|---|\n",
    "| A     | 0 |\n",
    "| B     | 0 |\n",
    "| C     | 0 |\n",
    "| D     | 1 |\n",
    "| E     | 1 |\n",
    "| F     | 2 |\n",
    "| G     | 2 |\n",
    "| H     | 2 |\n",
    "| I     | 2 |\n",
    "\n",
    "c) What is the maximum number of disagreements there could be for a dataset of this size? (use the formula from b)?"
   ]
  },
  {
   "cell_type": "markdown",
   "metadata": {},
   "source": [
    "$$\\binom{9}{2} = \\frac{9 \\times 8}{2} = 36$$\n"
   ]
  },
  {
   "cell_type": "markdown",
   "metadata": {},
   "source": [
    "d) If we look at cluster 0. There are (3 x 2) / 2 = 3 pairs that agree with C (since all points in C are in the same cluster). For each cluster, determine how many agreements there are. How many total agreements are there? How many disagreements does that mean there are between C and P?"
   ]
  },
  {
   "cell_type": "markdown",
   "metadata": {},
   "source": [
    "### Cluster Agreement Analysis\n",
    "\n",
    "1. **Cluster 0 (Points A, B, C)**\n",
    "   - The number of pairs that agree for Cluster 0: $\\binom{3}{2} = 3\\$ pairs.\n",
    "\n",
    "2. **Cluster 1 (Points D, E)**\n",
    "   - The number of pairs that agree for Cluster 1: $\\binom{2}{2} = 1\\$ pair.\n",
    "\n",
    "3. **Cluster 2 (Points F, G, H, I)**\n",
    "   - The number of pairs that agree for Cluster 2: $\\binom{4}{2} = 6\\$ pairs.\n",
    "\n",
    "### Calculating Total Agreements\n",
    "Adding up all the agreements from the clusters:\n",
    "\n",
    "\n",
    "$3 + 1  + 6 = 10 \\text{ agreements}$\n",
    "\n",
    "\n",
    "### Total Disagreements Calculation\n",
    "Since there are 36 unique pairs in total :\n",
    "\n",
    "$\n",
    "\\text{Total disagreements} = \\text{Total pairs} - \\text{Total agreements} = 36 - 10 = 26 \\text{ disagreements}\n",
    "$\n",
    "\n"
   ]
  },
  {
   "cell_type": "markdown",
   "metadata": {},
   "source": [
    "e) Assuming that filtering the dataset by cluster number is a computationally easy operation, describe an algorithm inspired by the above process that can efficiently compute disagreement distances on large datasets."
   ]
  },
  {
   "cell_type": "markdown",
   "metadata": {},
   "source": [
    "#### Step 1: Identify Cluster Assignments in P\n",
    "- **Input**: Dataset with points assigned to clusters by two methods, C and P.\n",
    "- For each point in the dataset, note its cluster assignment in P. Since C clusters all points together, its cluster assignment can be considered uniform and doesn’t need explicit tracking.\n",
    "\n",
    "#### Step 2: Group Points by P Clusters\n",
    "- Create a data structure (e.g., an array of lists) where each list holds the points that belong to the same cluster in P.\n",
    "- For each point, append it to the list corresponding to its cluster number in P.\n",
    "\n",
    "#### Step 3: Calculate Agreement Pairs within Each Cluster\n",
    "- For each cluster list in P:\n",
    "  - Compute the number of pairs that can be formed from the points in this list using the combination formula $\\binom{n}{2}\\$, where n is the number of points in the list.\n",
    "  - Sum these values to get the total number of agreements.\n",
    "\n",
    "#### Step 4: Calculate Total Possible Pairs\n",
    "- Use the combination formula $\\binom{N}{2}\\$ to calculate the total number of pairs for the entire dataset, where N is the total number of points.\n",
    "\n",
    "#### Step 5: Compute Total Disagreements\n",
    "- Subtract the total number of agreements from the total possible pairs to get the total number of disagreements:\n",
    "  - $ \\text{Total disagreements} = \\text{Total pairs} - \\text{Total agreements} \\$.\n",
    "\n",
    "#### Step 6: Output the Result\n",
    "- Output or return the total number of disagreements.\n",
    "\n"
   ]
  },
  {
   "cell_type": "code",
   "execution_count": null,
   "metadata": {},
   "outputs": [],
   "source": []
  }
 ],
 "metadata": {
  "interpreter": {
   "hash": "76ca05dc3ea24b2e3b98cdb7774adfbb40773424bf5109b477fd793f623715af"
  },
  "kernelspec": {
   "display_name": "Python 3 (ipykernel)",
   "language": "python",
   "name": "python3"
  },
  "language_info": {
   "codemirror_mode": {
    "name": "ipython",
    "version": 3
   },
   "file_extension": ".py",
   "mimetype": "text/x-python",
   "name": "python",
   "nbconvert_exporter": "python",
   "pygments_lexer": "ipython3",
   "version": "3.11.5"
  }
 },
 "nbformat": 4,
 "nbformat_minor": 2
}
