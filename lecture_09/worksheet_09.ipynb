{
 "cells": [
  {
   "attachments": {},
   "cell_type": "markdown",
   "metadata": {},
   "source": [
    "# Worksheet 09\n",
    "\n",
    "Name: Ryan Chung\n",
    "UID: U33101958\n",
    "\n",
    "### Topics\n",
    "\n",
    "- Clustering Review\n",
    "- Clustering Aggregation"
   ]
  },
  {
   "cell_type": "markdown",
   "metadata": {},
   "source": [
    "### Clustering Aggregation\n",
    "\n",
    "| Point | C | P |\n",
    "|-------|---|---|\n",
    "| A     | 0 | a |\n",
    "| B     | 0 | b |\n",
    "| C     | 2 | b |\n",
    "| D     | 1 | c |\n",
    "| E     | 1 | d |\n",
    "\n",
    "a) Fill in the following table where for each pair of points determine whether C and P agree or disagree on how to cluster that pair."
   ]
  },
  {
   "cell_type": "markdown",
   "metadata": {},
   "source": [
    "| Pair | Disagreement |\n",
    "|------|--------------|\n",
    "| A  B |      yes       |\n",
    "| A  C |      no       |\n",
    "| A  D |      no       |\n",
    "| A  E |      no       |\n",
    "| B  C |      no       |\n",
    "| B  D |      no       |\n",
    "| B  E |      no       |\n",
    "| C  D |      no       |\n",
    "| C  E |      no       |\n",
    "| D  E |      yes       |\n"
   ]
  },
  {
   "cell_type": "markdown",
   "metadata": {},
   "source": [
    "As datasets become very large, this process can become computationally challenging.\n",
    "\n",
    "b) Given N points, what is the formula for the number of unique pairs of points one can create?"
   ]
  },
  {
   "cell_type": "markdown",
   "metadata": {},
   "source": [
    "(N(N-1)) / 2"
   ]
  },
  {
   "cell_type": "markdown",
   "metadata": {},
   "source": [
    "Assume that clustering C clusters all points in the same cluster and clustering P clusters points as such:\n",
    "\n",
    "| Point | P |\n",
    "|-------|---|\n",
    "| A     | 0 |\n",
    "| B     | 0 |\n",
    "| C     | 0 |\n",
    "| D     | 1 |\n",
    "| E     | 1 |\n",
    "| F     | 2 |\n",
    "| G     | 2 |\n",
    "| H     | 2 |\n",
    "| I     | 2 |\n",
    "\n",
    "c) What is the maximum number of disagreements there could be for a dataset of this size? (use the formula from b)?"
   ]
  },
  {
   "cell_type": "markdown",
   "metadata": {},
   "source": [
    "26"
   ]
  },
  {
   "cell_type": "markdown",
   "metadata": {},
   "source": [
    "d) If we look at cluster 0. There are (3 x 2) / 2 = 3 pairs that agree with C (since all points in C are in the same cluster). For each cluster, determine how many agreements there are. How many total agreements are there? How many disagreements does that mean there are between C and P?"
   ]
  },
  {
   "cell_type": "markdown",
   "metadata": {},
   "source": [
    "10 agreements and 26 disagreements between C and P"
   ]
  },
  {
   "cell_type": "markdown",
   "metadata": {},
   "source": [
    "e) Assuming that filtering the dataset by cluster number is a computationally easy operation, describe an algorithm inspired by the above process that can efficiently compute disagreement distances on large datasets."
   ]
  },
  {
   "cell_type": "markdown",
   "metadata": {},
   "source": [
    "Algorithm ComputeDisagreementDistances\n",
    "Input: Dataset D, Clustering C, Clustering P\n",
    "Output: Number of disagreements\n",
    "\n",
    "1. Initialize:\n",
    "   - disagreements = 0\n",
    "   - totalPairs = 0\n",
    "   - agreements = 0\n",
    "\n",
    "2. Preprocess:\n",
    "   - Create two dictionaries clusterMapC and clusterMapP\n",
    "   - For each point in D:\n",
    "       - Add point to clusterMapC[cluster in C]\n",
    "       - Add point to clusterMapP[cluster in P]\n",
    "\n",
    "3. Compute Agreements:\n",
    "   - For each cluster clusterC in clusterMapC:\n",
    "       - Initialize localAgreements = 0\n",
    "       - Create subClusterMapP to divide points in clusterC based on clusters in P\n",
    "       - For each point in clusterMapC[clusterC]:\n",
    "           - Add point to subClusterMapP[cluster in P]\n",
    "       - For each subCluster in subClusterMapP:\n",
    "           - n = number of points in subCluster\n",
    "           - localAgreements += n * (n - 1) / 2\n",
    "       - agreements += localAgreements\n",
    "\n",
    "4. Compute Total Possible Pairs:\n",
    "   - N = total number of points in D\n",
    "   - totalPairs = N * (N - 1) / 2\n",
    "\n",
    "5. Compute Disagreements:\n",
    "   - disagreements = totalPairs - agreements\n",
    "\n",
    "6. Return disagreements"
   ]
  }
 ],
 "metadata": {
  "interpreter": {
   "hash": "76ca05dc3ea24b2e3b98cdb7774adfbb40773424bf5109b477fd793f623715af"
  },
  "kernelspec": {
   "display_name": "Python 3 (ipykernel)",
   "language": "python",
   "name": "python3"
  },
  "language_info": {
   "codemirror_mode": {
    "name": "ipython",
    "version": 3
   },
   "file_extension": ".py",
   "mimetype": "text/x-python",
   "name": "python",
   "nbconvert_exporter": "python",
   "pygments_lexer": "ipython3",
   "version": "3.11.1"
  },
  "orig_nbformat": 4
 },
 "nbformat": 4,
 "nbformat_minor": 2
}
