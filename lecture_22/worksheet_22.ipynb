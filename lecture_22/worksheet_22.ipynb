{
 "cells": [
  {
   "attachments": {},
   "cell_type": "markdown",
   "metadata": {},
   "source": [
    "# Worksheet 22\n",
    "\n",
    "Name: Ryan Chung  \n",
    "UID: U33101958 \n",
    "\n",
    "### Topics\n",
    "\n",
    "- Neural Networks\n",
    "\n",
    "## Neural Networks\n",
    "\n",
    "Nothing to do in this worksheet except follow along in lecture / use this code to better understand Neural Networks."
   ]
  },
  {
   "cell_type": "code",
   "execution_count": 5,
   "metadata": {},
   "outputs": [
    {
     "name": "stderr",
     "output_type": "stream",
     "text": [
      "/Library/Frameworks/Python.framework/Versions/3.11/lib/python3.11/site-packages/keras/src/layers/core/dense.py:87: UserWarning: Do not pass an `input_shape`/`input_dim` argument to a layer. When using Sequential models, prefer using an `Input(shape)` object as the first layer in the model instead.\n",
      "  super().__init__(activity_regularizer=activity_regularizer, **kwargs)\n"
     ]
    }
   ],
   "source": [
    "import math as m\n",
    "import numpy as np\n",
    "import matplotlib.pyplot as plt\n",
    "import sklearn.datasets as datasets\n",
    "import tensorflow as tf\n",
    "from tensorflow import keras\n",
    "from tensorflow.keras import layers\n",
    "\n",
    "# Set random seed for reproducibility\n",
    "np.random.seed(1)\n",
    "tf.random.set_seed(1)\n",
    "\n",
    "# Data generation - don't modify\n",
    "centers = [[0, 0]]\n",
    "t, _ = datasets.make_blobs(n_samples=200, centers=centers, cluster_std=1, random_state=1)\n",
    "\n",
    "colors = np.array([x for x in 'bgrcmyk'])\n",
    "colors = np.hstack([colors] * 20)\n",
    "\n",
    "# Define data generating functions\n",
    "def generate_circle_data(t):\n",
    "    X = np.array([x for x in t if (x[0] - centers[0][0])**2 + (x[1] - centers[0][1])**2 < 1 or\n",
    "                 (x[0] - centers[0][0])**2 + (x[1] - centers[0][1])**2 > 1.5])\n",
    "    Y = np.array([1 if (x[0] - centers[0][0])**2 + (x[1] - centers[0][1])**2 >= 1 else 0 for x in X])\n",
    "    return X, Y\n",
    "\n",
    "def generate_xor_data():\n",
    "    X = np.array([[0,0], [0,1], [1,0], [1,1]])\n",
    "    Y = np.array([x[0] ^ x[1] for x in X])\n",
    "    return X, Y\n",
    "\n",
    "# XOR Data\n",
    "X, Y = generate_xor_data()\n",
    "\n",
    "# Model configuration\n",
    "model = keras.Sequential([\n",
    "    layers.Dense(2, input_dim=2, activation=\"sigmoid\"),\n",
    "    layers.Dense(1, activation=\"sigmoid\")\n",
    "])\n",
    "model.compile(loss=\"binary_crossentropy\", optimizer=\"sgd\")\n",
    "\n",
    "# Train the model\n",
    "history = model.fit(X, Y, batch_size=1, epochs=1000, verbose=0)\n",
    "\n",
    "# Visualize the decision boundary\n",
    "plt.scatter(X[:, 0], X[:, 1], color=colors[Y].tolist(), s=100, alpha=0.9)\n",
    "plt.title(\"Training Points\")\n",
    "plt.show()\n",
    "\n",
    "# Plot decision boundary\n",
    "x_span = np.linspace(X[:, 0].min() - 0.5, X[:, 0].max() + 0.5, 400)\n",
    "y_span = np.linspace(X[:, 1].min() - 0.5, X[:, 1].max() + 0.5, 400)\n",
    "xx, yy = np.meshgrid(x_span, y_span)\n",
    "grid = np.c_[xx.ravel(), yy.ravel()]\n",
    "preds = model.predict(grid)\n",
    "Z = preds.reshape(xx.shape)\n",
    "\n",
    "plt.contourf(xx, yy, Z, levels=[0, 0.5, 1], cmap=\"RdGy\", alpha=0.5)\n",
    "plt.scatter(X[:, 0], X[:, 1], color=colors[Y].tolist(), s=100, alpha=0.9)\n",
    "plt.title(\"Decision Boundary\")\n",
    "plt.show()\n"
   ]
  }
 ],
 "metadata": {
  "kernelspec": {
   "display_name": "Python 3",
   "language": "python",
   "name": "python3"
  },
  "language_info": {
   "codemirror_mode": {
    "name": "ipython",
    "version": 3
   },
   "file_extension": ".py",
   "mimetype": "text/x-python",
   "name": "python",
   "nbconvert_exporter": "python",
   "pygments_lexer": "ipython3",
   "version": "3.11.1"
  },
  "orig_nbformat": 4,
  "vscode": {
   "interpreter": {
    "hash": "e7370f93d1d0cde622a1f8e1c04877d8463912d04d973331ad4851f04de6915a"
   }
  }
 },
 "nbformat": 4,
 "nbformat_minor": 2
}
