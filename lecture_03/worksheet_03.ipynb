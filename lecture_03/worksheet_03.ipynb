{
  "cells": [
    {
      "cell_type": "markdown",
      "metadata": {
        "id": "7axou677RKV9"
      },
      "source": [
        "# Worksheet 03\n",
        "\n",
        "Name:  Tianyi Wang\n",
        "UID: U94598267\n",
        "\n",
        "### Topics\n",
        "\n",
        "- Intro to DS\n",
        "\n",
        "### Linear Algebra Review\n",
        "\n",
        "If you need a linear algebra review, please read through the [following pdf](https://github.com/gallettilance/CS506-Spring2023/raw/main/worksheets/lecture_03_linear_algebra_review.pdf) before next class\n",
        "\n",
        "### Intro to Data Science\n",
        "\n",
        "a) what property must a hypothesis have?"
      ]
    },
    {
      "cell_type": "code",
      "source": [
        "# @title\n",
        "from google.colab import drive\n",
        "drive.mount('/content/drive')"
      ],
      "metadata": {
        "id": "0CAjyhs3iS8M"
      },
      "execution_count": null,
      "outputs": []
    },
    {
      "cell_type": "markdown",
      "metadata": {
        "id": "uUyAxOrZRKWB"
      },
      "source": [
        "It can only be positive or negative. It must be testable.It should be specific and precise.\n"
      ]
    },
    {
      "cell_type": "markdown",
      "metadata": {
        "id": "vnk4gaKVRKWB"
      },
      "source": [
        "b) what examples would you have wanted to try?"
      ]
    },
    {
      "cell_type": "markdown",
      "metadata": {
        "id": "0k7w2V3-RKWC"
      },
      "source": [
        "(1,3,6)"
      ]
    },
    {
      "cell_type": "markdown",
      "metadata": {
        "id": "hPhg7lZORKWC"
      },
      "source": [
        "c) Poll 1"
      ]
    },
    {
      "cell_type": "markdown",
      "metadata": {
        "id": "dPvqMEwQRKWD"
      },
      "source": [
        "C"
      ]
    },
    {
      "cell_type": "markdown",
      "metadata": {
        "id": "gUFO_XTiRKWD"
      },
      "source": [
        "d) Given the hypothesis (x, 2x, 3x), for each of the following, determine whether they are positive or negative examples:\n",
        "\n",
        "- (2, 4, 6)\n",
        "- (6, 8 , 10)\n",
        "- (1, 3, 5)"
      ]
    },
    {
      "cell_type": "markdown",
      "metadata": {
        "id": "xMfHQZFaRKWD"
      },
      "source": [
        "(2, 4, 6) positive\n",
        "(6, 8 , 10) negative\n",
        "(1, 3, 5) negative"
      ]
    },
    {
      "cell_type": "markdown",
      "metadata": {
        "id": "0s5URFyyRKWE"
      },
      "source": [
        "e) Poll 2"
      ]
    },
    {
      "cell_type": "markdown",
      "metadata": {
        "id": "TIQCFLolRKWE"
      },
      "source": [
        "C"
      ]
    },
    {
      "cell_type": "markdown",
      "metadata": {
        "id": "t6ewA7fiRKWE"
      },
      "source": [
        "f) Describe steps of a Data Science Workflow"
      ]
    },
    {
      "cell_type": "markdown",
      "metadata": {
        "id": "3xu2M-wqRKWE"
      },
      "source": [
        "Process Data - Determine what data should be included.\n",
        "Explore Data -  Describe contextualize and visualize the data\n",
        "Extract Features - To extract features from data\n",
        "Create Model - Build the model base on features extracted from data"
      ]
    },
    {
      "cell_type": "markdown",
      "metadata": {
        "id": "lbY1O1oORKWF"
      },
      "source": [
        "g) Give a real world example for each of the following data types:\n",
        "\n",
        "- record\n",
        "- graph\n",
        "- image\n",
        "- text"
      ]
    },
    {
      "cell_type": "markdown",
      "metadata": {
        "id": "_9DQwYWTRKWF"
      },
      "source": [
        "- record: User database - (name, age balance)\n",
        "- graph: Nodes connected by edges\n",
        "- image: Digital photograph of a landscape, a person, or an object\n",
        "- text: List of words"
      ]
    },
    {
      "cell_type": "markdown",
      "metadata": {
        "id": "eVSgR4ExRKWF"
      },
      "source": [
        "h) Give a real world example of unsupervised learning"
      ]
    },
    {
      "cell_type": "markdown",
      "metadata": {
        "id": "-krYjroPRKWF"
      },
      "source": [
        "From chatGPT:\n",
        "Customer Segmentation\n",
        "\n",
        "Imagine you're the owner of an e-commerce website, and you want to group your customers into segments for targeted marketing. You can use unsupervised learning, such as clustering algorithms like K-Means or hierarchical clustering, to analyze customer data. This data may include features like purchase history, age, location, and browsing behavior. Without providing any labels, the algorithm can identify distinct customer segments based on similarities in their behavior and characteristics. This information can help you tailor marketing strategies for each segment, even though you didn't provide explicit labels for each group."
      ]
    },
    {
      "cell_type": "markdown",
      "metadata": {
        "id": "oMfgK6bfRKWF"
      },
      "source": [
        "i) Give a real world example of supervised learning"
      ]
    },
    {
      "cell_type": "markdown",
      "metadata": {
        "id": "jb6zKkgnRKWG"
      },
      "source": [
        "From chatGPT: Customer Segmentation\n",
        "\n",
        "Imagine you're the owner of an e-commerce website, and you want to group your customers into segments for targeted marketing. You can use unsupervised learning, such as clustering algorithms like K-Means or hierarchical clustering, to analyze customer data. This data may include features like purchase history, age, location, and browsing behavior. Without providing any labels, the algorithm can identify distinct customer segments based on similarities in their behavior and characteristics. This information can help you tailor marketing strategies for each segment, even though you didn't provide explicit labels for each group."
      ]
    }
  ],
  "metadata": {
    "kernelspec": {
      "display_name": "Python 3",
      "language": "python",
      "name": "python3"
    },
    "language_info": {
      "codemirror_mode": {
        "name": "ipython",
        "version": 3
      },
      "file_extension": ".py",
      "mimetype": "text/x-python",
      "name": "python",
      "nbconvert_exporter": "python",
      "pygments_lexer": "ipython3",
      "version": "3.11.1 (main, Dec  7 2022, 00:00:00) [GCC 12.2.1 20221121 (Red Hat 12.2.1-4)]"
    },
    "orig_nbformat": 4,
    "vscode": {
      "interpreter": {
        "hash": "e7370f93d1d0cde622a1f8e1c04877d8463912d04d973331ad4851f04de6915a"
      }
    },
    "colab": {
      "provenance": []
    }
  },
  "nbformat": 4,
  "nbformat_minor": 0
}