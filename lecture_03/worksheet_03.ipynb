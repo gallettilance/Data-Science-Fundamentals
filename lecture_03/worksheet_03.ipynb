{
  "cells": [
    {
      "cell_type": "markdown",
      "metadata": {
        "id": "view-in-github",
        "colab_type": "text"
      },
      "source": [
        "<a href=\"https://colab.research.google.com/github/prathamshroff/Data-Science-Fundamentals/blob/main/lecture_03/worksheet_03.ipynb\" target=\"_parent\"><img src=\"https://colab.research.google.com/assets/colab-badge.svg\" alt=\"Open In Colab\"/></a>"
      ]
    },
    {
      "cell_type": "markdown",
      "metadata": {
        "id": "8QB-Z2Ez1brj"
      },
      "source": [
        "# Worksheet 03\n",
        "\n",
        "Name: Pratham Shroff\n",
        "UID: U00574969\n",
        "\n",
        "### Topics\n",
        "\n",
        "- Intro to DS\n",
        "\n",
        "### Linear Algebra Review\n",
        "\n",
        "If you need a linear algebra review, please read through the [following pdf](https://github.com/gallettilance/CS506-Spring2023/raw/main/worksheets/lecture_03_linear_algebra_review.pdf) before next class\n",
        "\n",
        "### Intro to Data Science\n",
        "\n",
        "a) what property must a hypothesis have?"
      ]
    },
    {
      "cell_type": "markdown",
      "metadata": {
        "id": "hsO83pv31brk"
      },
      "source": [
        "A hypothesis must be testable and falsifiable. It should clearly predict an outcome that can be verified through experimentation or observation, and there should be a potential outcome that can prove it wrong."
      ]
    },
    {
      "cell_type": "markdown",
      "metadata": {
        "id": "Q8yFsBB41brk"
      },
      "source": [
        "b) what examples would you have wanted to try?"
      ]
    },
    {
      "cell_type": "markdown",
      "metadata": {
        "id": "HhJ1a1ey1brk"
      },
      "source": []
    },
    {
      "cell_type": "markdown",
      "metadata": {
        "id": "6ParhHjP1brk"
      },
      "source": [
        "c) Poll 1"
      ]
    },
    {
      "cell_type": "markdown",
      "metadata": {
        "id": "kFrCfyra1brk"
      },
      "source": [
        "As we hear (2, 4, 6) follows the rule, instinctively the confirmation bias says it's either even numbers or +2 as the rule or (x, 2x, 3x). I would have wanted to try all of A, B & C as they all confirm to either one of these patterns and would've helped determine which one we're referring to."
      ]
    },
    {
      "cell_type": "markdown",
      "metadata": {
        "id": "X8I5_c1V1brk"
      },
      "source": [
        "d) Given the hypothesis (x, 2x, 3x), for each of the following, determine\n",
        "\n",
        "---\n",
        "\n",
        "whether they are positive or negative examples:\n",
        "\n",
        "- (2, 4, 6)\n",
        "- (6, 8 , 10)\n",
        "- (1, 3, 5)"
      ]
    },
    {
      "cell_type": "markdown",
      "metadata": {
        "id": "4cyVBtDm1brk"
      },
      "source": [
        "Given the hypothesis,\n",
        "- positive\n",
        "- positive\n",
        "- negative"
      ]
    },
    {
      "cell_type": "markdown",
      "metadata": {
        "id": "50fG0KQ-1brk"
      },
      "source": [
        "e) Poll 2"
      ]
    },
    {
      "cell_type": "markdown",
      "metadata": {
        "id": "2FkBvmJQ1brk"
      },
      "source": [
        "(1, 2, 3)"
      ]
    },
    {
      "cell_type": "markdown",
      "metadata": {
        "id": "3fh-Eyso1brk"
      },
      "source": [
        "f) Describe steps of a Data Science Workflow"
      ]
    },
    {
      "cell_type": "markdown",
      "metadata": {
        "id": "UpShlYBk1brk"
      },
      "source": [
        "- process data\n",
        "- explore data\n",
        "- extract features\n",
        "- create model"
      ]
    },
    {
      "cell_type": "markdown",
      "metadata": {
        "id": "sHog9kSB1brk"
      },
      "source": [
        "g) Give a real world example for each of the following data types:\n",
        "\n",
        "- record\n",
        "- graph\n",
        "- image\n",
        "- text"
      ]
    },
    {
      "cell_type": "markdown",
      "metadata": {
        "id": "DMn_sgdU1brk"
      },
      "source": [
        "- record: (\"John\", 20, 100)\n",
        "- graph: adjacency list [1: {2, 3}, 2: {1, 3}, 3: {1,2}]\n",
        "- text: list of words e.g. {\"john\", \"hancock\", \"hires\", \"engineers\"}\n",
        "- image: ![Screenshot 2023-09-21 at 11.45.54 PM.png](data:image/png;base64,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)"
      ]
    },
    {
      "cell_type": "markdown",
      "metadata": {
        "id": "QCsLVq5S1brk"
      },
      "source": [
        "h) Give a real world example of unsupervised learning"
      ]
    },
    {
      "cell_type": "markdown",
      "metadata": {
        "id": "4p3s0NvJ1brk"
      },
      "source": [
        "Clustering\n",
        "- Anomaly Detection in Credit Card Transactions\n",
        "- Content Recommendation Systems"
      ]
    },
    {
      "cell_type": "markdown",
      "metadata": {
        "id": "gRGfSCwS1brk"
      },
      "source": [
        "i) Give a real world example of supervised learning"
      ]
    },
    {
      "cell_type": "markdown",
      "metadata": {
        "id": "OSPbHz791brk"
      },
      "source": [
        "Classification\n",
        "- Medical Diagnosis\n",
        "- House Price Prediction\n",
        "- Email Spam Detection"
      ]
    }
  ],
  "metadata": {
    "kernelspec": {
      "display_name": "Python 3",
      "language": "python",
      "name": "python3"
    },
    "language_info": {
      "codemirror_mode": {
        "name": "ipython",
        "version": 3
      },
      "file_extension": ".py",
      "mimetype": "text/x-python",
      "name": "python",
      "nbconvert_exporter": "python",
      "pygments_lexer": "ipython3",
      "version": "3.11.1 (main, Dec  7 2022, 00:00:00) [GCC 12.2.1 20221121 (Red Hat 12.2.1-4)]"
    },
    "orig_nbformat": 4,
    "vscode": {
      "interpreter": {
        "hash": "e7370f93d1d0cde622a1f8e1c04877d8463912d04d973331ad4851f04de6915a"
      }
    },
    "colab": {
      "provenance": [],
      "include_colab_link": true
    }
  },
  "nbformat": 4,
  "nbformat_minor": 0
}