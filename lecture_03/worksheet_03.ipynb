{
 "cells": [
  {
   "cell_type": "markdown",
   "metadata": {},
   "source": [
    "# Worksheet 03\n",
    "\n",
    "Name: Annie Liang\n",
    "\n",
    "UID: U44666626\n",
    "\n",
    "### Topics\n",
    "\n",
    "- Intro to DS\n",
    "\n",
    "### Linear Algebra Review\n",
    "\n",
    "If you need a linear algebra review, please read through the [following pdf](https://github.com/gallettilance/CS506-Spring2023/raw/main/worksheets/lecture_03_linear_algebra_review.pdf) before next class\n",
    "\n",
    "### Intro to Data Science\n",
    "\n",
    "a) what property must a hypothesis have?"
   ]
  },
  {
   "cell_type": "markdown",
   "metadata": {},
   "source": [
    "A property a hypothesis must have is the potential for verification, allowing it to be testable such that it is able to be proven valid if tested for evidence. Another property of a hypothesis is that it must have falsifiability, where the hypothesis have the ability to be disproof if presented with specific instances; otherwise it would just be confirmation. "
   ]
  },
  {
   "cell_type": "markdown",
   "metadata": {},
   "source": [
    "b) what examples would you have wanted to try?"
   ]
  },
  {
   "cell_type": "markdown",
   "metadata": {},
   "source": [
    "Examples I would try are:\n",
    "1. (5, 7, 9) -> to test if the sequence is a < b < c\n",
    "2. (-6, -4, -2) --> to test increments by 2 with negative numbers "
   ]
  },
  {
   "cell_type": "markdown",
   "metadata": {},
   "source": [
    "c) Poll 1"
   ]
  },
  {
   "cell_type": "markdown",
   "metadata": {},
   "source": [
    "Option C, because it permits us to disprove the inital hypothesis and if unsuccessful of disproving, the hypothesis can become stronger. "
   ]
  },
  {
   "cell_type": "markdown",
   "metadata": {},
   "source": [
    "d) Given the hypothesis (x, 2x, 3x), for each of the following, determine whether they are positive or negative examples:\n",
    "\n",
    "- (2, 4, 6)\n",
    "- (6, 8 , 10)\n",
    "- (1, 3, 5)"
   ]
  },
  {
   "cell_type": "markdown",
   "metadata": {},
   "source": [
    "- (2, 4, 6) -> positive\n",
    "- (6, 8 , 10) -> negative \n",
    "- (1, 3, 5) -> negative "
   ]
  },
  {
   "cell_type": "markdown",
   "metadata": {},
   "source": [
    "e) Poll 2"
   ]
  },
  {
   "cell_type": "markdown",
   "metadata": {},
   "source": [
    "Option C, beaucase it allows us to disproved the inital hypothesis, thus if unsuccessful of disproving, like mentioned in part c , the hypothesis becomes stronger."
   ]
  },
  {
   "cell_type": "markdown",
   "metadata": {},
   "source": [
    "f) Describe steps of a Data Science Workflow"
   ]
  },
  {
   "cell_type": "markdown",
   "metadata": {},
   "source": [
    "1. Process Data: clean the dataset by selecting relevant data points and eliminate irrelevant ones\n",
    "2. Explore Data: observe the connections and patterns between various data elements\n",
    "3. Extract Features: transform the raw data into numerical features suitable for input into neural networks\n",
    "4. Create Model: employ a structured training framework to compartmentalize the training of a neural network, allowing it to continuously analyze, interpret, or classify data"
   ]
  },
  {
   "cell_type": "markdown",
   "metadata": {},
   "source": [
    "g) Give a real world example for each of the following data types:\n",
    "\n",
    "- record\n",
    "- graph\n",
    "- image\n",
    "- text"
   ]
  },
  {
   "cell_type": "markdown",
   "metadata": {},
   "source": [
    "- record: (name, age, balance) -> (\"John\", 20, 100)\n",
    "- graph: adjacency matrix/list\n",
    "- image: determine what animal is on a image by training a neural network to discover patterns in pixels\n",
    "- text: list of words to create docs "
   ]
  },
  {
   "cell_type": "markdown",
   "metadata": {},
   "source": [
    "h) Give a real world example of unsupervised learning"
   ]
  },
  {
   "cell_type": "markdown",
   "metadata": {},
   "source": [
    "A real world example of unsupervised learning is clustering is marketing. To elaborate, based on customer data of their purchase history, demographics, and online behavior, a company may be able to  categorize these customers in order to group customers with similar characteristics together. Thus allowing better customer retention and advirtising. "
   ]
  },
  {
   "cell_type": "markdown",
   "metadata": {},
   "source": [
    "i) Give a real world example of supervised learning"
   ]
  },
  {
   "cell_type": "markdown",
   "metadata": {},
   "source": [
    "A real world example of supervised learning is using classification algorithm for filtering spam emails. Given a labeled dataset  containing examples of both spam and non-spam emails, the algorithm will learn to classify incoming emails as either spam or non-spam based on the patterns and features it extracts from the text and other attributes of the emails."
   ]
  },
  {
   "cell_type": "code",
   "execution_count": null,
   "metadata": {},
   "outputs": [],
   "source": []
  }
 ],
 "metadata": {
  "kernelspec": {
   "display_name": "Python 3 (ipykernel)",
   "language": "python",
   "name": "python3"
  },
  "language_info": {
   "codemirror_mode": {
    "name": "ipython",
    "version": 3
   },
   "file_extension": ".py",
   "mimetype": "text/x-python",
   "name": "python",
   "nbconvert_exporter": "python",
   "pygments_lexer": "ipython3",
   "version": "3.8.18"
  },
  "vscode": {
   "interpreter": {
    "hash": "e7370f93d1d0cde622a1f8e1c04877d8463912d04d973331ad4851f04de6915a"
   }
  }
 },
 "nbformat": 4,
 "nbformat_minor": 2
}
