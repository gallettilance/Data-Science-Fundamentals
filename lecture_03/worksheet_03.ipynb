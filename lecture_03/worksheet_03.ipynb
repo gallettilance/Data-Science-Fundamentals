{
 "cells": [
  {
   "attachments": {},
   "cell_type": "markdown",
   "metadata": {},
   "source": [
    "# Worksheet 03\n",
    "\n",
    "Name:  Nyx (Lili) Zhao\n",
    "UID:    U18256657\n",
    "\n",
    "### Topics\n",
    "\n",
    "- Intro to DS\n",
    "\n",
    "### Linear Algebra Review\n",
    "\n",
    "If you need a linear algebra review, please read through the [following pdf](https://github.com/gallettilance/CS506-Spring2023/raw/main/worksheets/lecture_03_linear_algebra_review.pdf) before next class\n",
    "\n",
    "### Intro to Data Science\n",
    "\n",
    "a) what property must a hypothesis have?"
   ]
  },
  {
   "cell_type": "markdown",
   "metadata": {},
   "source": [
    "A hypothesis must be falsifyable and testable."
   ]
  },
  {
   "cell_type": "markdown",
   "metadata": {},
   "source": [
    "b) what examples would you have wanted to try?"
   ]
  },
  {
   "cell_type": "markdown",
   "metadata": {},
   "source": [
    "(10, 8, 6) to check if it must be increment or rather is only a difference of two\n",
    "\n",
    "(1, 2, 3) to ensure if it is increments of 2\n",
    "\n",
    "(1/2, 1/4, 1/6) to see if this would still match the pattern"
   ]
  },
  {
   "cell_type": "markdown",
   "metadata": {},
   "source": [
    "c) Poll 1"
   ]
  },
  {
   "cell_type": "markdown",
   "metadata": {},
   "source": [
    "Although I would have wanted to try all of them, I chose A because they were very big numbers, and I wanted to check if the pattern would still follow."
   ]
  },
  {
   "cell_type": "markdown",
   "metadata": {},
   "source": [
    "d) Given the hypothesis (x, 2x, 3x), for each of the following, determine whether they are positive or negative examples:\n",
    "\n",
    "- (2, 4, 6)\n",
    "- (6, 8 , 10)\n",
    "- (1, 3, 5)"
   ]
  },
  {
   "cell_type": "markdown",
   "metadata": {},
   "source": [
    "- (2, 4, 6) positive example\n",
    "- (6, 8 , 10) negative example\n",
    "- (1, 3, 5) negative example "
   ]
  },
  {
   "cell_type": "markdown",
   "metadata": {},
   "source": [
    "e) Poll 2"
   ]
  },
  {
   "cell_type": "markdown",
   "metadata": {},
   "source": [
    "I chose the negative example, C, as a negative example would be useful here to test and poten tially falsify the hypothesis to see if it is truly true or not."
   ]
  },
  {
   "attachments": {},
   "cell_type": "markdown",
   "metadata": {},
   "source": [
    "f) Describe steps of a Data Science Workflow"
   ]
  },
  {
   "cell_type": "markdown",
   "metadata": {},
   "source": [
    "1. Process Data\n",
    "    - Ask:\n",
    "        1. what data should and shouldn’t be used for the task?\n",
    "        2. missing data?\n",
    "        3. inconsistent data?\n",
    "        4. what assumptions are you making with the transformations of the data?\n",
    "    - Process data into a comprehensible format\n",
    "2. Explore Data\n",
    "    - Ask:\n",
    "        1. describe, contextualize, visualize\n",
    "        2. what might be related to what you are trying to predict?\n",
    "        3. imbalances in the data?\n",
    "    - Explore the data to understand how different items in the dataframe and how they are related as a function of each other\n",
    "3. Extract Features\n",
    "    -Ask:\n",
    "        1. what features can I extract for my modeling? \n",
    "        2. what will I describe the target as a function of?\n",
    "        3. should existing features be transformed?\n",
    "        4. best set of features to explore data/use for the task?\n",
    "    - Understand what features to extract for the modeling and to help with predicting the target\n",
    "4. Create Model\n",
    "    -Ask:\n",
    "        1. is model easy to explain?\n",
    "        2. if it fails, can you explain why?    \n",
    "    - 0.9% (all prev. steps need to be done properly! all about the data!)\n",
    "    - Now, we can make an accurate model that reflects the target\n",
    "            - May have to go back to make a better model"
   ]
  },
  {
   "attachments": {},
   "cell_type": "markdown",
   "metadata": {},
   "source": [
    "g) Give a real world example for each of the following data types:\n",
    "\n",
    "- record\n",
    "- graph\n",
    "- image\n",
    "- text"
   ]
  },
  {
   "cell_type": "markdown",
   "metadata": {},
   "source": [
    "- record\n",
    "   - m-dimensional points / vectors\n",
    "    -(name, age, balance) -> (“John”, 20, 100) as possible bank dataframe\n",
    "- graph\n",
    "    -adjacency matrix or list\n",
    "    - person as node; social relationships (like following or not) as directed edges\n",
    "- image\n",
    "    -medical imaging\n",
    "    - pixels contain color information\n",
    "- text\n",
    "    -providing information or storytelling using a list of cures\n",
    "    -documents, emails; a news article"
   ]
  },
  {
   "attachments": {},
   "cell_type": "markdown",
   "metadata": {},
   "source": [
    "h) Give a real world example of unsupervised learning"
   ]
  },
  {
   "cell_type": "markdown",
   "metadata": {},
   "source": [
    "A real world example of unsupervised learning is a collection of articles which can use clustering to see if the articles discuss the same or similar  topics."
   ]
  },
  {
   "attachments": {},
   "cell_type": "markdown",
   "metadata": {},
   "source": [
    "i) Give a real world example of supervised learning"
   ]
  },
  {
   "cell_type": "markdown",
   "metadata": {},
   "source": [
    "A real world example of supervised learning would be using the labeled datasets of temperature vs. cricket chirps per minute. Using regression, we can see a relationship between the two, but we cannot test for causality -- only correlations."
   ]
  }
 ],
 "metadata": {
  "kernelspec": {
   "display_name": "Python 3",
   "language": "python",
   "name": "python3"
  },
  "language_info": {
   "codemirror_mode": {
    "name": "ipython",
    "version": 3
   },
   "file_extension": ".py",
   "mimetype": "text/x-python",
   "name": "python",
   "nbconvert_exporter": "python",
   "pygments_lexer": "ipython3",
   "version": "3.11.1"
  },
  "orig_nbformat": 4,
  "vscode": {
   "interpreter": {
    "hash": "e7370f93d1d0cde622a1f8e1c04877d8463912d04d973331ad4851f04de6915a"
   }
  }
 },
 "nbformat": 4,
 "nbformat_minor": 2
}
