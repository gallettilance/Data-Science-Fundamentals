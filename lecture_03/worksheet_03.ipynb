{
  "cells": [
    {
      "cell_type": "markdown",
      "metadata": {
        "id": "fj-L2sXH-c3M"
      },
      "source": [
        "# Worksheet 03\n",
        "\n",
        "Name:  Quan Ho\n",
        "UID: U17207751\n",
        "\n",
        "### Topics\n",
        "\n",
        "- Intro to DS\n",
        "\n",
        "### Linear Algebra Review\n",
        "\n",
        "If you need a linear algebra review, please read through the [following pdf](https://github.com/gallettilance/CS506-Spring2023/raw/main/worksheets/lecture_03_linear_algebra_review.pdf) before next class\n",
        "\n",
        "### Intro to Data Science\n",
        "\n",
        "a) what property must a hypothesis have?"
      ]
    },
    {
      "cell_type": "markdown",
      "metadata": {
        "id": "tYdUWtuw-c3N"
      },
      "source": [
        "To be testable"
      ]
    },
    {
      "cell_type": "markdown",
      "metadata": {
        "id": "3c19Op3F-c3O"
      },
      "source": [
        "b) what examples would you have wanted to try?"
      ]
    },
    {
      "cell_type": "markdown",
      "metadata": {
        "id": "LrXndhne-c3O"
      },
      "source": [
        "[5,7,9] or [2,4,6]: Rule of 3 consecutive odd/even numbers"
      ]
    },
    {
      "cell_type": "markdown",
      "metadata": {
        "id": "Li8JUHYe-c3O"
      },
      "source": [
        "c) Poll 1"
      ]
    },
    {
      "cell_type": "markdown",
      "metadata": {
        "id": "8Xj-8Tz8-c3O"
      },
      "source": []
    },
    {
      "cell_type": "markdown",
      "metadata": {
        "id": "5XV1ooBh-c3O"
      },
      "source": [
        "d) Given the hypothesis (x, 2x, 3x), for each of the following, determine whether they are positive or negative examples:\n",
        "\n",
        "- (2, 4, 6)\n",
        "- (6, 8 , 10)\n",
        "- (1, 3, 5)"
      ]
    },
    {
      "cell_type": "markdown",
      "metadata": {
        "id": "L65gQ51w-c3O"
      },
      "source": [
        "Respectively: positive, negative, negative"
      ]
    },
    {
      "cell_type": "markdown",
      "metadata": {
        "id": "jqR_TVv9-c3O"
      },
      "source": [
        "e) Poll 2"
      ]
    },
    {
      "cell_type": "markdown",
      "metadata": {
        "id": "GPyqnAFO-c3O"
      },
      "source": []
    },
    {
      "cell_type": "markdown",
      "metadata": {
        "id": "nmaeSuT8-c3O"
      },
      "source": [
        "f) Describe steps of a Data Science Workflow"
      ]
    },
    {
      "cell_type": "markdown",
      "metadata": {
        "id": "uetoQkaK-c3O"
      },
      "source": [
        "Process data, Explore data , Extract data , Create model"
      ]
    },
    {
      "cell_type": "markdown",
      "metadata": {
        "id": "zpyiZmL9-c3O"
      },
      "source": [
        "g) Give a real world example for each of the following data types:\n",
        "\n",
        "- record\n",
        "- graph\n",
        "- image\n",
        "- text"
      ]
    },
    {
      "cell_type": "markdown",
      "metadata": {
        "id": "P613-vYY-c3O"
      },
      "source": [
        "Employee record, bar graph of sales, photo of Obama, weather report"
      ]
    },
    {
      "cell_type": "markdown",
      "metadata": {
        "id": "KLVdlu7g-c3O"
      },
      "source": [
        "h) Give a real world example of unsupervised learning"
      ]
    },
    {
      "cell_type": "markdown",
      "metadata": {
        "id": "wOo84fAU-c3O"
      },
      "source": [
        "A company using clustering algorithms, such as k-means clustering, to group the data of their customers i.e  purchase history, age, location, and types of products purchased into segments. This is to detect similiarities so they can analyze their cutomer's purchasing behviour."
      ]
    },
    {
      "cell_type": "markdown",
      "metadata": {
        "id": "zH_7lqEU-c3O"
      },
      "source": [
        "i) Give a real world example of supervised learning"
      ]
    },
    {
      "cell_type": "markdown",
      "metadata": {
        "id": "OvQy8ZEF-c3O"
      },
      "source": [
        "Using the same ssplit segments from cutomer data above the company would use data and input it into a supervised learning model, such as a classification algorithm, to predict the or extrapolate new data."
      ]
    }
  ],
  "metadata": {
    "kernelspec": {
      "display_name": "Python 3",
      "language": "python",
      "name": "python3"
    },
    "language_info": {
      "codemirror_mode": {
        "name": "ipython",
        "version": 3
      },
      "file_extension": ".py",
      "mimetype": "text/x-python",
      "name": "python",
      "nbconvert_exporter": "python",
      "pygments_lexer": "ipython3",
      "version": "3.11.1"
    },
    "orig_nbformat": 4,
    "vscode": {
      "interpreter": {
        "hash": "e7370f93d1d0cde622a1f8e1c04877d8463912d04d973331ad4851f04de6915a"
      }
    },
    "colab": {
      "provenance": []
    }
  },
  "nbformat": 4,
  "nbformat_minor": 0
}
