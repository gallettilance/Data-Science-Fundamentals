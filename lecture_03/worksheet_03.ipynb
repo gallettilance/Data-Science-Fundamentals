{
 "cells": [
  {
   "attachments": {},
   "cell_type": "markdown",
   "metadata": {},
   "source": [
    "# Worksheet 03\n",
    "\n",
    "Name: Muntasir Meah\n",
    "UID: U57620875\n",
    "\n",
    "### Topics\n",
    "\n",
    "- Intro to DS\n",
    "\n",
    "### Linear Algebra Review\n",
    "\n",
    "If you need a linear algebra review, please read through the [following pdf](https://github.com/gallettilance/CS506-Spring2023/raw/main/worksheets/lecture_03_linear_algebra_review.pdf) before next class\n",
    "\n",
    "### Intro to Data Science\n",
    "\n",
    "a) what property must a hypothesis have?"
   ]
  },
  {
   "cell_type": "markdown",
   "metadata": {},
   "source": [
    "A property that a hypothesis could have is testability as a means of gaining evidence to prove its validity. The hypothesis must also have falsifiability, meaning the hypothesis may be proven false by using specific examples, else you only get confirmation. This rigorous testing reinforces the scientific or mathematical validity of the statement.  "
   ]
  },
  {
   "cell_type": "markdown",
   "metadata": {},
   "source": [
    "b) what examples would you have wanted to try?"
   ]
  },
  {
   "cell_type": "markdown",
   "metadata": {},
   "source": [
    "1. (1,4,7) - try to check if the sequence is a < b < c\n",
    "2. (-4, -2, 0) - another example of incrementing by 2 but with negative numbers"
   ]
  },
  {
   "cell_type": "markdown",
   "metadata": {},
   "source": [
    "c) Poll 1"
   ]
  },
  {
   "cell_type": "markdown",
   "metadata": {},
   "source": [
    "C) This option allow us to try to disprove the assumed hypothesis, if it doesn't disprove it, the hypothesis becomes stronger. "
   ]
  },
  {
   "cell_type": "markdown",
   "metadata": {},
   "source": [
    "d) Given the hypothesis (x, 2x, 3x), for each of the following, determine whether they are positive or negative examples:\n",
    "\n",
    "- (2, 4, 6)\n",
    "- (6, 8 , 10)\n",
    "- (1, 3, 5)"
   ]
  },
  {
   "cell_type": "markdown",
   "metadata": {},
   "source": [
    "(2, 4, 6) - positive \n",
    "(6, 8, 10) - negative \n",
    "(1, 3, 5) - negative "
   ]
  },
  {
   "cell_type": "markdown",
   "metadata": {},
   "source": [
    "e) Poll 2"
   ]
  },
  {
   "cell_type": "markdown",
   "metadata": {},
   "source": [
    "C) Again, this option allow us to try to disprove the assumed hypothesis, and eliminate potential sequences, if it doesn't disprove it, the hypothesis becomes stronger as mentioned in part c). Using negative examples can avoid confirmation bias. "
   ]
  },
  {
   "attachments": {},
   "cell_type": "markdown",
   "metadata": {},
   "source": [
    "f) Describe steps of a Data Science Workflow"
   ]
  },
  {
   "cell_type": "markdown",
   "metadata": {},
   "source": [
    "Process Data -> Explore Data -> Extract Features -> Create Model\n",
    "\n",
    "1. Process Data - clean the dataset to use useful data points and remove irrelevant ones \n",
    "2. Explore Data - observe what relationships exist between different data points \n",
    "3. Extract Features - convert the raw data into numerical features that can be fed into neural networks\n",
    "4. Create Model - utilize a formal training mechanism to modularize the training of a nueral network so it can continuously analyze, interpret, or classify data "
   ]
  },
  {
   "attachments": {},
   "cell_type": "markdown",
   "metadata": {},
   "source": [
    "g) Give a real world example for each of the following data types:\n",
    "\n",
    "- record: (name, age, balance) -> (\"John\", 20, 100) - records use m-dimensional points / vectors where each point maps to a certain value \n",
    "- graph: Nodes connected by edges, find connectivity of data points\n",
    "- image: Utilize photos of faces to determine if someone is happy or sad, train the nueral network to discover patterns in pixels \n",
    "- text: use corpus of documents to find relationships between words and letters, for example which words appear most often together in different sentences "
   ]
  },
  {
   "attachments": {},
   "cell_type": "markdown",
   "metadata": {},
   "source": [
    "h) Give a real world example of unsupervised learning"
   ]
  },
  {
   "cell_type": "markdown",
   "metadata": {},
   "source": [
    "A real world example of unsupervised learning is clustering for marketing. By using this technique, market researches can discover clusters of people with similar demographics, purchase history, etc, that may share the same preferences. This allows for better advertising campaigns. "
   ]
  },
  {
   "attachments": {},
   "cell_type": "markdown",
   "metadata": {},
   "source": [
    "i) Give a real world example of supervised learning"
   ]
  },
  {
   "cell_type": "markdown",
   "metadata": {},
   "source": [
    "A real world example of supervised learning learning is using classification algorithms to determine if a tumor is malignant based on the patients age and their tumor size. "
   ]
  }
 ],
 "metadata": {
  "kernelspec": {
   "display_name": "Python 3",
   "language": "python",
   "name": "python3"
  },
  "language_info": {
   "codemirror_mode": {
    "name": "ipython",
    "version": 3
   },
   "file_extension": ".py",
   "mimetype": "text/x-python",
   "name": "python",
   "nbconvert_exporter": "python",
   "pygments_lexer": "ipython3",
   "version": "3.11.1"
  },
  "orig_nbformat": 4,
  "vscode": {
   "interpreter": {
    "hash": "e7370f93d1d0cde622a1f8e1c04877d8463912d04d973331ad4851f04de6915a"
   }
  }
 },
 "nbformat": 4,
 "nbformat_minor": 2
}
