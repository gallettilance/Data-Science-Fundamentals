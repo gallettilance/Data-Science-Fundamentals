{
 "cells": [
  {
   "attachments": {},
   "cell_type": "markdown",
   "metadata": {},
   "source": [
    "# Worksheet 14\n",
    "\n",
    "Name:  Jeff Tedi\n",
    "UID: U47550540\n",
    "\n",
    "### Topics\n",
    "\n",
    "- Naive Bayes\n",
    "- Model Evaluation\n",
    "\n",
    "### Naive Bayes\n",
    "\n",
    "| Attribute A | Attribute B | Attribute C | Class |\n",
    "|-------------|-------------|-------------|-------|\n",
    "| Yes         | Single      | High        | No    |\n",
    "| No          | Married     | Mid         | No    |\n",
    "| No          | Single      | Low         | No    |\n",
    "| Yes         | Married     | High        | No    |\n",
    "| No          | Divorced    | Mid         | Yes   |\n",
    "| No          | Married     | Low         | No    |\n",
    "| Yes         | Divorced    | High        | No    |\n",
    "| No          | Single      | Mid         | Yes   |\n",
    "| No          | Married     | Low         | No    |\n",
    "| No          | Single      | Mid         | Yes   |\n",
    "\n",
    "a) Compute the following probabilities:\n",
    "\n",
    "- P(Attribute A = Yes | Class = No)\n",
    "- P(Attribute B = Divorced | Class = Yes)\n",
    "- P(Attribute C = High | Class = No)\n",
    "- P(Attribute C = Mid | Class = Yes)"
   ]
  },
  {
   "cell_type": "markdown",
   "metadata": {},
   "source": [
    "- P(Attribute A = Yes | Class = No)\n",
    "    - We calculate this using our eyes: P(A = Yes | Class = No) = (count A is Yes and class is No) / (count A is Yes)\n",
    "    - This is equal to **0/3 = 0**\n",
    "- P(Attribute B = Divorced | Class = Yes)\n",
    "    - Again: (count B is Divorced and class is Yes) / (count B is Divorced)\n",
    "    - **1/2**\n",
    "- P(Attribute C = High | Class = No)\n",
    "    - (count C is High and class is No) / (count C is High)\n",
    "    - **3/3**\n",
    "- P(Attribute C = Mid | Class = Yes)\n",
    "    - (count C is Mid and class is Yes) / (cound C is Mid)\n",
    "    - **3/4**"
   ]
  },
  {
   "cell_type": "markdown",
   "metadata": {},
   "source": [
    "b) Classify the following unseen records:\n",
    "\n",
    "- (Yes, Married, Mid)\n",
    "- (No, Divorced, High)\n",
    "- (No, Single, High)\n",
    "- (No, Divorced, Low)"
   ]
  },
  {
   "cell_type": "markdown",
   "metadata": {},
   "source": [
    "- (Yes, Married, Mid):\n",
    "    - The probability where C = yes is:\n",
    "$\\frac{3}{3} \\cdot \\frac{0}{4} \\cdot \\frac{3}{4} \\cdot \\frac{3}{10} = 0$\n",
    "    - For C = no, we get:\n",
    "$\\frac{0}{3} \\cdot \\frac{4}{4} \\cdot \\frac{1}{4} \\cdot \\frac{7}{10} = 0$\n",
    "- (No, Divorced, High)\n",
    "    - For C = yes, we get:\n",
    "$\\frac{3}{7} \\cdot \\frac{1}{2} \\cdot \\frac{0}{3} \\cdot \\frac{3}{10} = 0$\n",
    "    - For C = no, we get:\n",
    "$\\frac{4}{7} \\cdot \\frac{1}{2} \\cdot \\frac{3}{3} \\cdot \\frac{7}{10} = \\frac{2}{5}$ --> **NO**\n",
    "- (No, Single, High)\n",
    "    - For C = yes, we get:\n",
    "$\\frac{3}{7} \\cdot \\frac{2}{4} \\cdot \\frac{0}{3} \\cdot \\frac{3}{10} = 0$\n",
    "    - For C = no, we get:\n",
    "$\\frac{4}{7} \\cdot \\frac{2}{4} \\cdot \\frac{3}{3} \\cdot \\frac{7}{10} = \\frac{1}{5}$ --> **NO**\n",
    "- (No, Divorced, Low)\n",
    "    - For C = yes, we get:\n",
    "$\\frac{3}{7} \\cdot \\frac{1}{2} \\cdot \\frac{0}{3} \\cdot \\frac{3}{10} = 0$\n",
    "    - For C = no, we get:\n",
    "$\\frac{4}{7} \\cdot \\frac{1}{2} \\cdot \\frac{3}{3} \\cdot \\frac{7}{10} = \\frac{2}{5}$ --> **NO**"
   ]
  },
  {
   "cell_type": "markdown",
   "metadata": {},
   "source": [
    "### Model Evaluation\n",
    "\n",
    "a) Write a function to generate the confusion matrix for a list of actual classes and a list of predicted classes"
   ]
  },
  {
   "cell_type": "code",
   "execution_count": null,
   "metadata": {},
   "outputs": [],
   "source": [
    "actual_class = [\"Yes\", \"No\", \"No\", \"Yes\", \"No\", \"No\", \"Yes\", \"No\", \"No\", \"No\"]\n",
    "predicted_class = [\"Yes\", \"No\", \"Yes\", \"No\", \"No\", \"No\", \"Yes\", \"Yes\", \"Yes\", \"No\"]\n",
    "\n",
    "def confusion_matrix(actual, predicted, output=False):\n",
    "    # Count four possible probabilities\n",
    "    # Variables are formatted as {predicted}_{actual}\n",
    "    yes_yes, yes_no, no_no, no_yes = 0,0,0,0\n",
    "    for i in range(len(actual)):\n",
    "        if predicted[i] == \"Yes\":\n",
    "            if actual[i] == predicted[i]:\n",
    "                yes_yes += 1\n",
    "            else:\n",
    "                yes_no += 1\n",
    "        else:\n",
    "            if actual[i] == predicted[i]:\n",
    "                no_no += 1\n",
    "            else:\n",
    "                no_yes += 1\n",
    "                \n",
    "    # Format printing\n",
    "    if output:\n",
    "        print(\"| Predicted |\")\n",
    "        print(\"|  Y     N  |\")\n",
    "        print(\"|-----------|--------\")\n",
    "        print(f\"|  {yes_yes}  |  {no_yes}  | Y\")\n",
    "        print(\"|-----------|   Acutal\")\n",
    "        print(f\"|  {yes_no}  |  {no_no}  | N\")\n",
    "    return [yes_yes, no_yes, yes_no, no_no]\n",
    "\n",
    "confusion_matrix(actual_class, predicted_class, output=True)\n",
    "print()"
   ]
  },
  {
   "cell_type": "markdown",
   "metadata": {},
   "source": [
    "b) Assume you have the following Cost Matrix:\n",
    "\n",
    "|            | predicted = Y | predicted = N |\n",
    "|------------|---------------|---------------|\n",
    "| actual = Y |       -1      |       5       |\n",
    "| actual = N |        10     |       0       |\n",
    "\n",
    "What is the cost of the above classification?"
   ]
  },
  {
   "cell_type": "markdown",
   "metadata": {},
   "source": [
    "To calculate the cost, we don't perform real matrix multiplication - we multiply the similar entries in each matrix and sum the total.\n",
    "\n",
    "$$C = (-1)(2) + (5)(1) + (10)(3) + (0)(4)$$\n",
    "$$= 33$$"
   ]
  },
  {
   "cell_type": "markdown",
   "metadata": {},
   "source": [
    "c) Write a function that takes in the actual values, the predictions, and a cost matrix and outputs a cost. Test it on the above example."
   ]
  },
  {
   "cell_type": "code",
   "execution_count": null,
   "metadata": {},
   "outputs": [],
   "source": [
    "def cost(actual, predicted, cost_matrix):\n",
    "    cost = 0\n",
    "    con_matrix = confusion_matrix(actual, predicted)\n",
    "    for i in range(4):\n",
    "        cost += con_matrix[i] * cost_matrix[i]\n",
    "\n",
    "    return cost\n",
    "\n",
    "# Create cost matrix based on cell above\n",
    "cost_matrix = [-1, 5, 10, 0]\n",
    "\n",
    "cost(actual_class, predicted_class, cost_matrix)"
   ]
  },
  {
   "cell_type": "markdown",
   "metadata": {},
   "source": [
    "d) Implement functions for the following:\n",
    "\n",
    "- accuracy\n",
    "- precision\n",
    "- recall\n",
    "- f-measure\n",
    "\n",
    "and apply them to the above example."
   ]
  },
  {
   "cell_type": "code",
   "execution_count": null,
   "metadata": {},
   "outputs": [],
   "source": [
    "def accuracy(con_matrix):\n",
    "    correct = con_matrix[0] + con_matrix[3]\n",
    "    total = correct + con_matrix[1] + con_matrix[2]\n",
    "    return correct / total\n",
    "\n",
    "def precision(con_matrix):\n",
    "    a = con_matrix[0]\n",
    "    c = con_matrix[2]\n",
    "    return a / (a + c)\n",
    "\n",
    "def recall(con_matrix):\n",
    "    a = con_matrix[0]\n",
    "    b = con_matrix[1]\n",
    "    return a / (a + b)\n",
    "\n",
    "def f_measure(con_matrix):\n",
    "    p = precision(con_matrix)\n",
    "    r = recall(con_matrix)\n",
    "    return 2*r*p/(r + p)\n",
    "\n",
    "con_matrix = confusion_matrix(actual_class, predicted_class)\n",
    "print(f\"Accuracy of above example: {accuracy(con_matrix)}\")\n",
    "print(f\"Precision of above example: {precision(con_matrix)}\")\n",
    "print(f\"Recall of above example: {recall(con_matrix)}\")\n",
    "print(f\"F-measure of above example: {f_measure(con_matrix)}\")"
   ]
  }
 ],
 "metadata": {
  "kernelspec": {
   "display_name": "Python 3",
   "language": "python",
   "name": "python3"
  },
  "language_info": {
   "name": "python",
   "version": "3.11.1"
  },
  "orig_nbformat": 4,
  "vscode": {
   "interpreter": {
    "hash": "e7370f93d1d0cde622a1f8e1c04877d8463912d04d973331ad4851f04de6915a"
   }
  }
 },
 "nbformat": 4,
 "nbformat_minor": 2
}
