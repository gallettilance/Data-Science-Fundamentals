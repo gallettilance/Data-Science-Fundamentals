{
 "cells": [
  {
   "attachments": {},
   "cell_type": "markdown",
   "metadata": {},
   "source": [
    "# Worksheet 09\n",
    "\n",
    "Name:  Raktim Verma\n",
    "UID: U80157829\n",
    "\n",
    "### Topics\n",
    "\n",
    "- Clustering Review\n",
    "- Clustering Aggregation"
   ]
  },
  {
   "cell_type": "markdown",
   "metadata": {},
   "source": [
    "### Clustering Aggregation\n",
    "\n",
    "| Point | C | P |\n",
    "|-------|---|---|\n",
    "| A     | 0 | a |\n",
    "| B     | 0 | b |\n",
    "| C     | 2 | b |\n",
    "| D     | 1 | c |\n",
    "| E     | 1 | d |\n",
    "\n",
    "a) Fill in the following table where for each pair of points determine whether C and P agree or disagree on how to cluster that pair."
   ]
  },
  {
   "cell_type": "markdown",
   "metadata": {},
   "source": [
    "| Pair | Disagreement |\n",
    "|------|--------------|\n",
    "| A  B |      NO      |\n",
    "| A  C |      YES     |\n",
    "| A  D |      NO      |\n",
    "| A  E |      NO      |\n",
    "| B  C |      YES     |\n",
    "| B  D |      NO      |\n",
    "| B  E |      NO      |\n",
    "| C  D |      YES     |\n",
    "| C  E |      YES     |\n",
    "| D  E |      YES     |\n"
   ]
  },
  {
   "cell_type": "markdown",
   "metadata": {},
   "source": [
    "As datasets become very large, this process can become computationally challenging.\n",
    "\n",
    "b) Given N points, what is the formula for the number of unique pairs of points one can create?"
   ]
  },
  {
   "cell_type": "markdown",
   "metadata": {},
   "source": [
    "The unique pairs of points are determined by calculating the combinations of points taken two at a time, resulting in the simplified expression C(N, 2) = (N * (N - 1)) / 2."
   ]
  },
  {
   "cell_type": "markdown",
   "metadata": {},
   "source": [
    "Assume that clustering C clusters all points in the same cluster and clustering P clusters points as such:\n",
    "\n",
    "| Point | P |\n",
    "|-------|---|\n",
    "| A     | 0 |\n",
    "| B     | 0 |\n",
    "| C     | 0 |\n",
    "| D     | 1 |\n",
    "| E     | 1 |\n",
    "| F     | 2 |\n",
    "| G     | 2 |\n",
    "| H     | 2 |\n",
    "| I     | 2 |\n",
    "\n",
    "c) What is the maximum number of disagreements there could be for a dataset of this size? (use the formula from b)?"
   ]
  },
  {
   "cell_type": "markdown",
   "metadata": {},
   "source": [
    "By plugging in the given values into the formula: \n",
    "9×8/2=36\n",
    "​we find that there could be 36 potential conflicts."
   ]
  },
  {
   "cell_type": "markdown",
   "metadata": {},
   "source": [
    "d) If we look at cluster 0. There are (3 x 2) / 2 = 3 pairs that agree with C (since all points in C are in the same cluster). For each cluster, determine how many agreements there are. How many total agreements are there? How many disagreements does that mean there are between C and P?"
   ]
  },
  {
   "cell_type": "markdown",
   "metadata": {},
   "source": [
    "In cluster 0, there are 3 points represented as (A, B, C). Since all points belong to the same cluster according to clustering C, there are no disagreements among these points. Each point within cluster 0 agrees with every other point regarding their cluster membership in both C and P. Therefore, the number of agreements can be calculated using the combination formula: (3 * 2 / 2) = 3 agreements. Employing the same approach for the other clusters, we find 1 pair and 6 pairs respectively. Consequently, the total agreements amount to 1 + 3 + 6 = 10. With 36 potential disagreements and 10 agreements, the total number of disagreements is 26.\n"
   ]
  },
  {
   "cell_type": "markdown",
   "metadata": {},
   "source": [
    "e) Assuming that filtering the dataset by cluster number is a computationally easy operation, describe an algorithm inspired by the above process that can efficiently compute disagreement distances on large datasets."
   ]
  },
  {
   "cell_type": "markdown",
   "metadata": {},
   "source": [
    "Algorithm: Efficient Disagreement Distance Calculation\n",
    "\n",
    "Step 1: Preprocessing\n",
    "Input: Dataset (D) with points assigned to clusters according to two different clustering schemes (C) and (P).\n",
    "Operation: Compute and store the cluster memberships for each point under both clustering schemes. This involves creating two lists or arrays, (C[i]) and (P[i]), where (i) represents the index of a point in (D), and the values represent the cluster number to which point (i) is assigned in (C) and (P) respectively.\n",
    "\n",
    "Step 2: Filtering by Cluster\n",
    "Operation: For each cluster (k) in (C), retrieve all points that belong to (k). Repeat this operation for each cluster in (P). Efficient filtering can be achieved using hash tables or dictionaries where the keys are the cluster numbers and the values are lists of points belonging to those clusters.\n",
    "\n",
    "Step 3: Calculate Agreements\n",
    "Operation: For each cluster (k) in (C):\n",
    "For each cluster (j) in (P):\n",
    "Find the intersection of the sets of points in (C[k]) and (P[j]). The size of this intersection gives the number of pairwise agreements between points that both schemes agree are in the same cluster.\n",
    "The total number of agreements within these intersecting subsets can be calculated using the combination formula (C(n, 2)), where (n) is the number of points in the intersection.\n",
    "\n",
    "Step 4: Compute Disagreements\n",
    "Calculation: Knowing the total number of potential pairwise interactions in the dataset (using (C(N, 2)) where (N) is the total number of points in (D)) and the number of agreements from Step 3:\n",
    "Total disagreements = Total potential pairwise combinations - Total agreements.\n",
    "\n",
    "Step 5: Optimization Considerations\n",
    "Batch Processing: Process data in batches for very large datasets to minimize memory usage.\n",
    "Parallel Processing: Utilize multi-threading or distributed computing to handle different clusters or pairs of clusters in parallel, especially during intersecting and counting pairs.\n",
    "Data Structures: Employ efficient data structures like hash maps (for cluster memberships) and trees (for sorting and quickly finding intersections) to significantly speed up the process.\n",
    "\n",
    "Step 6: Output\n",
    "Return: The total number of disagreements suitable for large datasets.\n"
   ]
  }
 ],
 "metadata": {
  "interpreter": {
   "hash": "76ca05dc3ea24b2e3b98cdb7774adfbb40773424bf5109b477fd793f623715af"
  },
  "kernelspec": {
   "display_name": "Python 3 (ipykernel)",
   "language": "python",
   "name": "python3"
  },
  "language_info": {
   "codemirror_mode": {
    "name": "ipython",
    "version": 3
   },
   "file_extension": ".py",
   "mimetype": "text/x-python",
   "name": "python",
   "nbconvert_exporter": "python",
   "pygments_lexer": "ipython3",
   "version": "3.11.1"
  },
  "orig_nbformat": 4
 },
 "nbformat": 4,
 "nbformat_minor": 2
}
