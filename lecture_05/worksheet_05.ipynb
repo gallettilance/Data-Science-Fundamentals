{
  "cells": [
    {
      "cell_type": "markdown",
      "metadata": {
        "id": "NG5xg3LF7HtS"
      },
      "source": [
        "# Worksheet 06\n",
        "\n",
        "Name:  Quan Ho\n",
        "\n",
        "UID: U17207751\n",
        "\n",
        "### Topics\n",
        "\n",
        "- Kmeans ++\n",
        "- Hierarchical Clustering\n",
        "\n",
        "### Kmeans ++\n",
        "\n",
        "a) What is the difference between K means and K means ++?"
      ]
    },
    {
      "cell_type": "markdown",
      "metadata": {
        "id": "oTAOCayM7HtT"
      },
      "source": [
        "K means ++ chooses the initial K value means, and it chooses the center k through 2 methods:\n",
        "-Start with random center\n",
        "-Letting D(X) be the distance between x and cetners selected. Then it chooses the center with probability proportional to $D(x)^a$\n",
        "\n",
        "K means on the other hand chooses centroids randomly from data points.\n",
        "It assigns points to nearest centroid and updates centroids based on mean, continuing until convergence."
      ]
    },
    {
      "cell_type": "markdown",
      "metadata": {
        "id": "RTgPFX2J7HtT"
      },
      "source": [
        "b) What are some limitations of K means ++?"
      ]
    },
    {
      "cell_type": "markdown",
      "metadata": {
        "id": "wl8DKzGG7HtT"
      },
      "source": [
        "K means ++ prioritizes outliers as centers, which tend to favor cluster with similiar sizes so that it will take the whole region as one cluster.\n"
      ]
    },
    {
      "cell_type": "markdown",
      "metadata": {
        "id": "HJKorvyi7HtT"
      },
      "source": [
        "c) Interpret the silhouette plot below. It's a histogram where each bar corresponds to the silhouette score for that data point. Comment on which number of clusters K (2,3,4 or 5) you would choose and why. (the red dotted line is the average silhouette score over the entire dataset)."
      ]
    },
    {
      "cell_type": "code",
      "execution_count": 4,
      "metadata": {
        "colab": {
          "base_uri": "https://localhost:8080/",
          "height": 292
        },
        "id": "btMEeC7I7HtT",
        "outputId": "e832fd56-3650-4f5f-d52e-5722843bb575"
      },
      "outputs": [
        {
          "output_type": "error",
          "ename": "ValueError",
          "evalue": "Cannot embed the 'png ' image format",
          "traceback": [
            "\u001b[0;31m---------------------------------------------------------------------------\u001b[0m",
            "\u001b[0;31mValueError\u001b[0m                                Traceback (most recent call last)",
            "\u001b[0;32m<ipython-input-4-893e0a5379e7>\u001b[0m in \u001b[0;36m<cell line: 2>\u001b[0;34m()\u001b[0m\n\u001b[1;32m      1\u001b[0m \u001b[0;32mfrom\u001b[0m \u001b[0mIPython\u001b[0m\u001b[0;34m.\u001b[0m\u001b[0mdisplay\u001b[0m \u001b[0;32mimport\u001b[0m \u001b[0mImage\u001b[0m\u001b[0;34m\u001b[0m\u001b[0;34m\u001b[0m\u001b[0m\n\u001b[0;32m----> 2\u001b[0;31m \u001b[0mImage\u001b[0m\u001b[0;34m(\u001b[0m\u001b[0mfilename\u001b[0m\u001b[0;34m=\u001b[0m\u001b[0;34m\"silhouette.png \"\u001b[0m\u001b[0;34m,\u001b[0m \u001b[0mwidth\u001b[0m\u001b[0;34m=\u001b[0m\u001b[0;36m500\u001b[0m\u001b[0;34m,\u001b[0m \u001b[0mheight\u001b[0m\u001b[0;34m=\u001b[0m\u001b[0;36m500\u001b[0m\u001b[0;34m)\u001b[0m\u001b[0;34m\u001b[0m\u001b[0;34m\u001b[0m\u001b[0m\n\u001b[0m",
            "\u001b[0;32m/usr/local/lib/python3.10/dist-packages/IPython/core/display.py\u001b[0m in \u001b[0;36m__init__\u001b[0;34m(self, data, url, filename, format, embed, width, height, retina, unconfined, metadata)\u001b[0m\n\u001b[1;32m   1221\u001b[0m \u001b[0;34m\u001b[0m\u001b[0m\n\u001b[1;32m   1222\u001b[0m         \u001b[0;32mif\u001b[0m \u001b[0mself\u001b[0m\u001b[0;34m.\u001b[0m\u001b[0membed\u001b[0m \u001b[0;32mand\u001b[0m \u001b[0mself\u001b[0m\u001b[0;34m.\u001b[0m\u001b[0mformat\u001b[0m \u001b[0;32mnot\u001b[0m \u001b[0;32min\u001b[0m \u001b[0mself\u001b[0m\u001b[0;34m.\u001b[0m\u001b[0m_ACCEPTABLE_EMBEDDINGS\u001b[0m\u001b[0;34m:\u001b[0m\u001b[0;34m\u001b[0m\u001b[0;34m\u001b[0m\u001b[0m\n\u001b[0;32m-> 1223\u001b[0;31m             \u001b[0;32mraise\u001b[0m \u001b[0mValueError\u001b[0m\u001b[0;34m(\u001b[0m\u001b[0;34m\"Cannot embed the '%s' image format\"\u001b[0m \u001b[0;34m%\u001b[0m \u001b[0;34m(\u001b[0m\u001b[0mself\u001b[0m\u001b[0;34m.\u001b[0m\u001b[0mformat\u001b[0m\u001b[0;34m)\u001b[0m\u001b[0;34m)\u001b[0m\u001b[0;34m\u001b[0m\u001b[0;34m\u001b[0m\u001b[0m\n\u001b[0m\u001b[1;32m   1224\u001b[0m         \u001b[0;32mif\u001b[0m \u001b[0mself\u001b[0m\u001b[0;34m.\u001b[0m\u001b[0membed\u001b[0m\u001b[0;34m:\u001b[0m\u001b[0;34m\u001b[0m\u001b[0;34m\u001b[0m\u001b[0m\n\u001b[1;32m   1225\u001b[0m             \u001b[0mself\u001b[0m\u001b[0;34m.\u001b[0m\u001b[0m_mimetype\u001b[0m \u001b[0;34m=\u001b[0m \u001b[0mself\u001b[0m\u001b[0;34m.\u001b[0m\u001b[0m_MIMETYPES\u001b[0m\u001b[0;34m.\u001b[0m\u001b[0mget\u001b[0m\u001b[0;34m(\u001b[0m\u001b[0mself\u001b[0m\u001b[0;34m.\u001b[0m\u001b[0mformat\u001b[0m\u001b[0;34m)\u001b[0m\u001b[0;34m\u001b[0m\u001b[0;34m\u001b[0m\u001b[0m\n",
            "\u001b[0;31mValueError\u001b[0m: Cannot embed the 'png ' image format"
          ]
        }
      ],
      "source": [
        "from IPython.display import Image\n",
        "Image(filename=\"silhouette.png \", width=500, height=500)"
      ]
    },
    {
      "cell_type": "markdown",
      "metadata": {
        "id": "P2nCoygg7HtU"
      },
      "source": [
        "k=2 since it will produce the highest average silhouette score."
      ]
    },
    {
      "cell_type": "markdown",
      "metadata": {
        "id": "-HcCKGgD7HtU"
      },
      "source": [
        "### Hierarchical Clustering\n",
        "\n",
        "Using the following dataset:\n",
        "\n",
        "| Point | x | y |\n",
        "|-------|---|---|\n",
        "| A     | 0 | 0 |\n",
        "| B     | 1 | 1 |\n",
        "| C     | 3 | 0 |\n",
        "| D     | 0 | 1 |\n",
        "| E     | 2 | 2 |\n",
        "\n",
        "with\n",
        "\n",
        "d = Euclidean  \n",
        "D = Single-Link\n",
        "\n",
        "produce the distance matrix at every step of the hierarchical clustering algorithm."
      ]
    },
    {
      "cell_type": "markdown",
      "metadata": {
        "id": "6UIydk8w7HtU"
      },
      "source": [
        "Step 1\n",
        "\n",
        "|   | A | B | C | D | E |\n",
        "|---|---|---|---|---|---|\n",
        "| A | 0 |   |   |   |   |\n",
        "| B |   | 0 |   |   |   |\n",
        "| C |   |   | 0 |   |   |\n",
        "| D |   |   |   | 0 |   |\n",
        "| E |   |   |   |   | 0 |"
      ]
    },
    {
      "cell_type": "markdown",
      "metadata": {
        "id": "MfIYBIOu7HtU"
      },
      "source": [
        "Step 2\n",
        "\n",
        "|   |   |   |   |   |\n",
        "|---|---|---|---|---|\n",
        "|   | 0 |   |   |   |\n",
        "|   |   | 0 |   |   |\n",
        "|   |   |   | 0 |   |\n",
        "|   |   |   |   | 0 |"
      ]
    },
    {
      "cell_type": "markdown",
      "metadata": {
        "id": "TF--NDNT7HtU"
      },
      "source": [
        "Step 3\n",
        "\n",
        "|   |   |   |   |\n",
        "|---|---|---|---|\n",
        "|   | 0 |   |   |\n",
        "|   |   | 0 |   |\n",
        "|   |   |   | 0 |"
      ]
    },
    {
      "cell_type": "markdown",
      "metadata": {
        "id": "WIpai-9U7HtU"
      },
      "source": [
        "Step 4\n",
        "\n",
        "|   |   |   |\n",
        "|---|---|---|\n",
        "|   | 0 |   |\n",
        "|   |   | 0 |"
      ]
    },
    {
      "cell_type": "markdown",
      "metadata": {
        "id": "ISBUKBaF7HtU"
      },
      "source": [
        "Repeat the above with\n",
        "\n",
        "d = Euclidean  \n",
        "D = Complete-Link"
      ]
    },
    {
      "cell_type": "markdown",
      "metadata": {
        "id": "SBTjo6LJ7HtU"
      },
      "source": [
        "Step 1\n",
        "\n",
        "|   | A | B | C | D | E |\n",
        "|---|---|---|---|---|---|\n",
        "| A | 0 |   |   |   |   |\n",
        "| B |   | 0 |   |   |   |\n",
        "| C |   |   | 0 |   |   |\n",
        "| D |   |   |   | 0 |   |\n",
        "| E |   |   |   |   | 0 |"
      ]
    },
    {
      "cell_type": "markdown",
      "metadata": {
        "id": "CDQQrAmU7HtU"
      },
      "source": [
        "Step 2\n",
        "\n",
        "|   |   |   |   |   |\n",
        "|---|---|---|---|---|\n",
        "|   | 0 |   |   |   |\n",
        "|   |   | 0 |   |   |\n",
        "|   |   |   | 0 |   |\n",
        "|   |   |   |   | 0 |"
      ]
    },
    {
      "cell_type": "markdown",
      "metadata": {
        "id": "nWdw_M4N7HtV"
      },
      "source": [
        "Step 3\n",
        "\n",
        "|   |   |   |   |\n",
        "|---|---|---|---|\n",
        "|   | 0 |   |   |\n",
        "|   |   | 0 |   |\n",
        "|   |   |   | 0 |"
      ]
    },
    {
      "cell_type": "markdown",
      "metadata": {
        "id": "oaSVAUyo7HtV"
      },
      "source": [
        "Step 4\n",
        "\n",
        "|   |   |   |\n",
        "|---|---|---|\n",
        "|   | 0 |   |\n",
        "|   |   | 0 |"
      ]
    }
  ],
  "metadata": {
    "kernelspec": {
      "display_name": "env",
      "language": "python",
      "name": "python3"
    },
    "language_info": {
      "name": "python",
      "version": "3.11.1"
    },
    "orig_nbformat": 4,
    "vscode": {
      "interpreter": {
        "hash": "76ca05dc3ea24b2e3b98cdb7774adfbb40773424bf5109b477fd793f623715af"
      }
    },
    "colab": {
      "provenance": []
    }
  },
  "nbformat": 4,
  "nbformat_minor": 0
}
