{
 "cells": [
  {
   "attachments": {},
   "cell_type": "markdown",
   "metadata": {},
   "source": [
    "# Worksheet 17\n",
    "\n",
    "Name: Victor Verma\n",
    "UID: U86967149\n",
    "\n",
    "### Topics\n",
    "\n",
    "- Recommender Systems\n",
    "\n",
    "### Recommender Systems\n",
    "\n",
    "In the example in class of recommending movies to users we used the movie rating as a measure of similarity between users and movies and thus the predicted rating for a user is a proxy for how highly a movie should be recommended. So the higher the predicted rating for a user, the higher a recommendation it would be.\n",
    "\n",
    "a) Consider a streaming platform that only has \"like\" or \"dislike\" (no 1-5 rating). Describe how you would build a recommender system in this case."
   ]
  },
  {
   "cell_type": "markdown",
   "metadata": {},
   "source": [
    "First, I would make the user-rating matrix M, where the rows are the users and the columns are the movies. In some spot M[i][j], I would put a 1 if user i liked movie j, otherwise 0. In this case, because it seems like we have information both about the user and the movies, I would take a neighborhood-based approach. In this case, I think it makes the most sense to use a combination of a user, user similarity measure, because we have each user's ratings, but also an item, item similarity measure because we also have the movie information as the streaming service. I would personally value these equally, but the weightage of each could vary. Based on the combination of both of these similarity scores, I would get an overall predicted similarity score for any given unseen movie. Using the predicted rating as a proxy for recommendation, I would recommend the movie with the highest predicted rating."
   ]
  },
  {
   "cell_type": "markdown",
   "metadata": {},
   "source": [
    "b) Describe 3 challenges of building a recommender system"
   ]
  },
  {
   "cell_type": "markdown",
   "metadata": {},
   "source": [
    "- The first challenge can be the scale of the data. There could be millions of users and ratings, and so it may be too computationally intensive to use everything. How do you choose an accurate sample of the data that can still be generalized to everyone?\n",
    "- The user base and the thing being rating could constantly be changing. New users might join the platform, and new things might get added. To accomodate this, the system would need to be constantly updating (at some interval of time).\n",
    "- It might be hard to actually get data. To recommend things, users would need to rate them, and naturally most users do not rate things. This could also lead to the voluntary response bias, which is when only the most extreme opinions are present because people in the middle could not be bothered to give a rating."
   ]
  },
  {
   "cell_type": "markdown",
   "metadata": {},
   "source": [
    "c) Why is SVD not an option for collaborative filtering?"
   ]
  },
  {
   "cell_type": "markdown",
   "metadata": {},
   "source": [
    "The main problem with using SVD in this case is that the user-item matrix is sparse, and so this will lead to less accurate recommendations. "
   ]
  },
  {
   "attachments": {},
   "cell_type": "markdown",
   "metadata": {},
   "source": [
    "d) Use the code below to train a recommender system on a dataset of amazon movies"
   ]
  },
  {
   "cell_type": "code",
   "execution_count": 4,
   "metadata": {},
   "outputs": [
    {
     "name": "stdout",
     "output_type": "stream",
     "text": [
      "Requirement already satisfied: findspark in /usr/local/lib/python3.11/site-packages (2.0.1)\n",
      "\n",
      "\u001b[1m[\u001b[0m\u001b[34;49mnotice\u001b[0m\u001b[1;39;49m]\u001b[0m\u001b[39;49m A new release of pip is available: \u001b[0m\u001b[31;49m23.3.2\u001b[0m\u001b[39;49m -> \u001b[0m\u001b[32;49m24.0\u001b[0m\n",
      "\u001b[1m[\u001b[0m\u001b[34;49mnotice\u001b[0m\u001b[1;39;49m]\u001b[0m\u001b[39;49m To update, run: \u001b[0m\u001b[32;49mpython3.11 -m pip install --upgrade pip\u001b[0m\n",
      "Note: you may need to restart the kernel to use updated packages.\n",
      "Collecting pyspark\n",
      "  Downloading pyspark-3.5.1.tar.gz (317.0 MB)\n",
      "\u001b[2K     \u001b[90m━━━━━━━━━━━━━━━━━━━━━━━━━━━━━━━━━━━━━━━\u001b[0m \u001b[32m317.0/317.0 MB\u001b[0m \u001b[31m4.2 MB/s\u001b[0m eta \u001b[36m0:00:00\u001b[0m00:01\u001b[0m00:01\u001b[0m\n",
      "\u001b[?25h  Preparing metadata (setup.py) ... \u001b[?25ldone\n",
      "\u001b[?25hCollecting py4j==0.10.9.7 (from pyspark)\n",
      "  Downloading py4j-0.10.9.7-py2.py3-none-any.whl.metadata (1.5 kB)\n",
      "Downloading py4j-0.10.9.7-py2.py3-none-any.whl (200 kB)\n",
      "\u001b[2K   \u001b[90m━━━━━━━━━━━━━━━━━━━━━━━━━━━━━━━━━━━━━━━━\u001b[0m \u001b[32m200.5/200.5 kB\u001b[0m \u001b[31m6.8 MB/s\u001b[0m eta \u001b[36m0:00:00\u001b[0m\n",
      "\u001b[?25hBuilding wheels for collected packages: pyspark\n",
      "  Building wheel for pyspark (setup.py) ... \u001b[?25ldone\n",
      "\u001b[?25h  Created wheel for pyspark: filename=pyspark-3.5.1-py2.py3-none-any.whl size=317488497 sha256=b773cca65fcd9ea2cba24bbb2cbdf30440e1a9bc2e15aba1b0e1570c90b90575\n",
      "  Stored in directory: /Users/victor/Library/Caches/pip/wheels/95/13/41/f7f135ee114175605fb4f0a89e7389f3742aa6c1e1a5bcb657\n",
      "Successfully built pyspark\n",
      "Installing collected packages: py4j, pyspark\n",
      "Successfully installed py4j-0.10.9.7 pyspark-3.5.1\n",
      "\n",
      "\u001b[1m[\u001b[0m\u001b[34;49mnotice\u001b[0m\u001b[1;39;49m]\u001b[0m\u001b[39;49m A new release of pip is available: \u001b[0m\u001b[31;49m23.3.2\u001b[0m\u001b[39;49m -> \u001b[0m\u001b[32;49m24.0\u001b[0m\n",
      "\u001b[1m[\u001b[0m\u001b[34;49mnotice\u001b[0m\u001b[1;39;49m]\u001b[0m\u001b[39;49m To update, run: \u001b[0m\u001b[32;49mpython3.11 -m pip install --upgrade pip\u001b[0m\n",
      "Note: you may need to restart the kernel to use updated packages.\n"
     ]
    }
   ],
   "source": [
    "%pip install findspark\n",
    "%pip install pyspark"
   ]
  },
  {
   "cell_type": "code",
   "execution_count": 31,
   "metadata": {},
   "outputs": [
    {
     "name": "stderr",
     "output_type": "stream",
     "text": [
      "24/04/05 18:08:57 WARN TaskSetManager: Stage 5122 contains a task of very large size (1008 KiB). The maximum recommended task size is 1000 KiB.\n",
      "24/04/05 18:08:57 WARN TaskSetManager: Stage 5123 contains a task of very large size (1008 KiB). The maximum recommended task size is 1000 KiB.\n",
      "24/04/05 18:08:58 WARN TaskSetManager: Stage 5126 contains a task of very large size (1008 KiB). The maximum recommended task size is 1000 KiB.\n",
      "24/04/05 18:08:58 WARN TaskSetManager: Stage 5129 contains a task of very large size (1008 KiB). The maximum recommended task size is 1000 KiB.\n",
      "24/04/05 18:09:03 WARN TaskSetManager: Stage 5209 contains a task of very large size (1008 KiB). The maximum recommended task size is 1000 KiB.\n",
      "24/04/05 18:09:04 WARN TaskSetManager: Stage 5235 contains a task of very large size (1008 KiB). The maximum recommended task size is 1000 KiB.\n",
      "24/04/05 18:09:06 WARN TaskSetManager: Stage 5291 contains a task of very large size (1008 KiB). The maximum recommended task size is 1000 KiB.\n",
      "24/04/05 18:09:06 WARN TaskSetManager: Stage 5299 contains a task of very large size (1008 KiB). The maximum recommended task size is 1000 KiB.\n",
      "24/04/05 18:09:06 WARN TaskSetManager: Stage 5300 contains a task of very large size (1008 KiB). The maximum recommended task size is 1000 KiB.\n",
      "24/04/05 18:09:07 WARN TaskSetManager: Stage 5303 contains a task of very large size (1008 KiB). The maximum recommended task size is 1000 KiB.\n",
      "24/04/05 18:09:07 WARN TaskSetManager: Stage 5306 contains a task of very large size (1008 KiB). The maximum recommended task size is 1000 KiB.\n",
      "24/04/05 18:09:11 WARN TaskSetManager: Stage 5409 contains a task of very large size (1008 KiB). The maximum recommended task size is 1000 KiB.\n",
      "24/04/05 18:09:12 WARN TaskSetManager: Stage 5410 contains a task of very large size (1008 KiB). The maximum recommended task size is 1000 KiB.\n",
      "24/04/05 18:09:14 WARN TaskSetManager: Stage 5461 contains a task of very large size (1008 KiB). The maximum recommended task size is 1000 KiB.\n",
      "24/04/05 18:09:14 WARN TaskSetManager: Stage 5462 contains a task of very large size (1008 KiB). The maximum recommended task size is 1000 KiB.\n",
      "24/04/05 18:09:14 WARN TaskSetManager: Stage 5477 contains a task of very large size (1008 KiB). The maximum recommended task size is 1000 KiB.\n",
      "24/04/05 18:09:15 WARN TaskSetManager: Stage 5478 contains a task of very large size (1008 KiB). The maximum recommended task size is 1000 KiB.\n",
      "24/04/05 18:09:15 WARN TaskSetManager: Stage 5481 contains a task of very large size (1008 KiB). The maximum recommended task size is 1000 KiB.\n",
      "24/04/05 18:09:15 WARN TaskSetManager: Stage 5484 contains a task of very large size (1008 KiB). The maximum recommended task size is 1000 KiB.\n",
      "24/04/05 18:09:21 WARN TaskSetManager: Stage 5564 contains a task of very large size (1008 KiB). The maximum recommended task size is 1000 KiB.\n",
      "24/04/05 18:09:23 WARN TaskSetManager: Stage 5590 contains a task of very large size (1008 KiB). The maximum recommended task size is 1000 KiB.\n",
      "24/04/05 18:09:25 WARN TaskSetManager: Stage 5646 contains a task of very large size (1008 KiB). The maximum recommended task size is 1000 KiB.\n",
      "24/04/05 18:09:26 WARN TaskSetManager: Stage 5655 contains a task of very large size (1008 KiB). The maximum recommended task size is 1000 KiB.\n",
      "/usr/local/lib/python3.11/site-packages/sklearn/metrics/_regression.py:483: FutureWarning: 'squared' is deprecated in version 1.4 and will be removed in 1.6. To calculate the root mean squared error, use the function'root_mean_squared_error'.\n",
      "  warnings.warn(\n",
      "/usr/local/lib/python3.11/site-packages/sklearn/metrics/_regression.py:483: FutureWarning: 'squared' is deprecated in version 1.4 and will be removed in 1.6. To calculate the root mean squared error, use the function'root_mean_squared_error'.\n",
      "  warnings.warn(\n"
     ]
    },
    {
     "name": "stdout",
     "output_type": "stream",
     "text": [
      "Kaggle RMSE =  2.9578677263671036\n",
      "Kaggle RMSE (Rounded Predictions) =  3.306055050963308\n"
     ]
    },
    {
     "data": {
      "image/png": "[encoded data removed]",
      "text/plain": [
       "<Figure size 640x480 with 2 Axes>"
      ]
     },
     "metadata": {},
     "output_type": "display_data"
    }
   ],
   "source": [
    "# Note: requires py3.10\n",
    "import findspark\n",
    "import pandas as pd\n",
    "import seaborn as sns\n",
    "import matplotlib.pyplot as plt\n",
    "\n",
    "from sklearn.model_selection import train_test_split\n",
    "from sklearn.metrics import mean_squared_error, confusion_matrix\n",
    "\n",
    "from pyspark.sql import SparkSession\n",
    "from pyspark import SparkConf, SparkContext\n",
    "from pyspark.ml.recommendation import ALS\n",
    "from pyspark.ml.tuning import ParamGridBuilder, CrossValidator\n",
    "from pyspark.ml.evaluation import RegressionEvaluator\n",
    "\n",
    "findspark.init()\n",
    "conf = SparkConf()\n",
    "conf.set(\"spark.executor.memory\",\"28g\")\n",
    "conf.set(\"spark.driver.memory\", \"28g\")\n",
    "conf.set(\"spark.driver.cores\", \"8\")\n",
    "sc = SparkContext.getOrCreate(conf)\n",
    "spark = SparkSession.builder.getOrCreate()\n",
    "\n",
    "init_df = pd.read_csv(\"./train.csv\").dropna()\n",
    "init_df['UserId_fact'] = init_df['UserId'].astype('category').cat.codes\n",
    "init_df['ProductId_fact'] = init_df['ProductId'].astype('category').cat.codes\n",
    "init_df[\"Helpfulness\"] = init_df[\"HelpfulnessNumerator\"] / init_df[\"HelpfulnessDenominator\"]\n",
    "\n",
    "# Split training set into training and testing set\n",
    "X_train_processed, X_test_processed, Y_train, Y_test = train_test_split(\n",
    "        init_df.drop(['Score'], axis=1),\n",
    "        init_df['Score'],\n",
    "        test_size=1/4.0,\n",
    "        random_state=0\n",
    "    )\n",
    "X_train_processed['Score'] = Y_train\n",
    "df = spark.createDataFrame(X_train_processed[['UserId_fact', 'ProductId_fact', \"HelpfulnessNumerator\", \"HelpfulnessDenominator\", \"Helpfulness\", \"Summary\", \"Text\", \"Time\", 'Score']])\n",
    "als = ALS(\n",
    "    userCol=\"UserId_fact\",\n",
    "    itemCol=\"ProductId_fact\",\n",
    "    ratingCol=\"Score\",\n",
    "    coldStartStrategy=\"drop\",\n",
    "    nonnegative=True,\n",
    "    rank=100\n",
    ")\n",
    "param_grid = ParamGridBuilder().addGrid(\n",
    "        als.rank, [10, 50]).addGrid(\n",
    "        als.regParam, [.1]).addGrid(\n",
    "        als.maxIter, [10]).build()\n",
    "evaluator = RegressionEvaluator(\n",
    "        metricName=\"rmse\",\n",
    "        labelCol=\"Score\", \n",
    "        predictionCol=\"prediction\")\n",
    "cv = CrossValidator(estimator=als, estimatorParamMaps=param_grid, evaluator=evaluator, numFolds=3, parallelism = 6)\n",
    "cv_fit = cv.fit(df)\n",
    "rec_sys = cv_fit.bestModel\n",
    "\n",
    "# rec_sys = als.fit(df)\n",
    "# rec_sys.save('rec_sys.obj') # so we don't have to re-train it\n",
    "rec = rec_sys.transform(spark.createDataFrame(X_test_processed[['UserId_fact', 'ProductId_fact', \"HelpfulnessNumerator\", \"HelpfulnessDenominator\", \"Helpfulness\", \"Summary\", \"Text\", \"Time\"]])).toPandas()\n",
    "merged = X_test_processed[[\"UserId_fact\", \"ProductId_fact\"]].join(\n",
    "    rec.set_index([\"UserId_fact\", \"ProductId_fact\"]),\n",
    "    on=[\"UserId_fact\", \"ProductId_fact\"],\n",
    "    how=\"left\"\n",
    ")\n",
    "\n",
    "# Fill in the missing values with a default value (e.g., 0)\n",
    "merged[\"Score\"] = merged[\"prediction\"].fillna(merged[\"prediction\"].mean())\n",
    "print(\"Kaggle RMSE = \", mean_squared_error(merged[\"Score\"], Y_test, squared=False))\n",
    "\n",
    "merged[\"Score\"] = merged[\"Score\"].apply(lambda x: max(1, min(5, round(x))))\n",
    "print(\"Kaggle RMSE (Rounded Predictions) = \", mean_squared_error(merged[\"Score\"], Y_test, squared=False))\n",
    "\n",
    "cm = confusion_matrix(Y_test, merged['Score'], normalize='true')\n",
    "sns.heatmap(cm, annot=True)\n",
    "plt.title('Confusion matrix of the classifier')\n",
    "plt.xlabel('Predicted')\n",
    "plt.ylabel('True')\n",
    "plt.show()"
   ]
  }
 ],
 "metadata": {
  "kernelspec": {
   "display_name": "Python 3",
   "language": "python",
   "name": "python3"
  },
  "language_info": {
   "codemirror_mode": {
    "name": "ipython",
    "version": 3
   },
   "file_extension": ".py",
   "mimetype": "text/x-python",
   "name": "python",
   "nbconvert_exporter": "python",
   "pygments_lexer": "ipython3",
   "version": "3.11.3"
  },
  "orig_nbformat": 4,
  "vscode": {
   "interpreter": {
    "hash": "e7370f93d1d0cde622a1f8e1c04877d8463912d04d973331ad4851f04de6915a"
   }
  }
 },
 "nbformat": 4,
 "nbformat_minor": 2
}
