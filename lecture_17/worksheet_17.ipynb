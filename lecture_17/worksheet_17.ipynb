{
 "cells": [
  {
   "attachments": {},
   "cell_type": "markdown",
   "metadata": {},
   "source": [
    "# Worksheet 17\n",
    "\n",
    "Name:  Patrick Meade\n",
    "\n",
    "UID:   U31683289\n",
    "\n",
    "### Topics\n",
    "\n",
    "- Recommender Systems\n",
    "\n",
    "### Recommender Systems\n",
    "\n",
    "In the example in class of recommending movies to users we used the movie rating as a measure of similarity between users and movies and thus the predicted rating for a user is a proxy for how highly a movie should be recommended. So the higher the predicted rating for a user, the higher a recommendation it would be.\n",
    "\n",
    "a) Consider a streaming platform that only has \"like\" or \"dislike\" (no 1-5 rating). Describe how you would build a recommender system in this case."
   ]
  },
  {
   "cell_type": "markdown",
   "metadata": {},
   "source": [
    "The recommender system that I would build would either be based on a ratio of like:dislike/total amount of likes and dislikes. Through that I would also track the overal timeline of the likes and dislikes depending on the amount of likes and dislikes in a given period can increase or decrease the recomendation"
   ]
  },
  {
   "cell_type": "markdown",
   "metadata": {},
   "source": [
    "b) Describe 3 challenges of building a recommender system"
   ]
  },
  {
   "cell_type": "markdown",
   "metadata": {},
   "source": [
    "1. The data and the quality of data\n",
    "2. There be next to none starting data to begin with.\n",
    "3. You may not know what column of data is not being "
   ]
  },
  {
   "cell_type": "markdown",
   "metadata": {},
   "source": [
    "c) Why is SVD not an option for collaborative filtering?"
   ]
  },
  {
   "cell_type": "markdown",
   "metadata": {},
   "source": [
    "SVD is not an option due to the possibility of the data not being completely there or there isn't enough of a sample size for the SVD to accurate do collaborative filtering"
   ]
  },
  {
   "attachments": {},
   "cell_type": "markdown",
   "metadata": {},
   "source": [
    "d) Use the code below to train a recommender system on a dataset of amazon movies"
   ]
  },
  {
   "cell_type": "code",
   "execution_count": 3,
   "metadata": {},
   "outputs": [
    {
     "name": "stderr",
     "output_type": "stream",
     "text": [
      "                                                                                \r"
     ]
    },
    {
     "name": "stdout",
     "output_type": "stream",
     "text": [
      "Warning: Mismatched number of predictions and test instances.\n",
      "Error: NaN values found in predictions or actual scores.\n",
      "Kaggle RMSE =  1.2601625497985345\n"
     ]
    },
    {
     "name": "stderr",
     "output_type": "stream",
     "text": [
      "/var/folders/17/0r4lptpx477gnn898k7b6c3r0000gn/T/ipykernel_38344/114446703.py:44: FutureWarning: A value is trying to be set on a copy of a DataFrame or Series through chained assignment using an inplace method.\n",
      "The behavior will change in pandas 3.0. This inplace method will never work because the intermediate object on which we are setting values always behaves as a copy.\n",
      "\n",
      "For example, when doing 'df[col].method(value, inplace=True)', try using 'df.method({col: value}, inplace=True)' or df[col] = df[col].method(value) instead, to perform the operation inplace on the original object.\n",
      "\n",
      "\n",
      "  rec['prediction'].fillna(mean_score, inplace=True)\n",
      "/var/folders/17/0r4lptpx477gnn898k7b6c3r0000gn/T/ipykernel_38344/114446703.py:54: FutureWarning: A value is trying to be set on a copy of a DataFrame or Series through chained assignment using an inplace method.\n",
      "The behavior will change in pandas 3.0. This inplace method will never work because the intermediate object on which we are setting values always behaves as a copy.\n",
      "\n",
      "For example, when doing 'df[col].method(value, inplace=True)', try using 'df.method({col: value}, inplace=True)' or df[col] = df[col].method(value) instead, to perform the operation inplace on the original object.\n",
      "\n",
      "\n",
      "  X_test_processed['predicted_Score'].fillna(mean_score, inplace=True)\n",
      "/var/folders/17/0r4lptpx477gnn898k7b6c3r0000gn/T/ipykernel_38344/114446703.py:54: FutureWarning: Setting an item of incompatible dtype is deprecated and will raise an error in a future version of pandas. Value '4.097733333333333' has dtype incompatible with float32, please explicitly cast to a compatible dtype first.\n",
      "  X_test_processed['predicted_Score'].fillna(mean_score, inplace=True)\n"
     ]
    }
   ],
   "source": [
    "import findspark\n",
    "import pandas as pd\n",
    "from pyspark import SparkConf, SparkContext\n",
    "from pyspark.sql import SparkSession\n",
    "from sklearn.model_selection import train_test_split\n",
    "from pyspark.ml.recommendation import ALS\n",
    "from pyspark.ml.tuning import ParamGridBuilder, CrossValidator\n",
    "from pyspark.ml.evaluation import RegressionEvaluator\n",
    "\n",
    "findspark.init()\n",
    "conf = SparkConf().set(\"spark.executor.memory\", \"28g\").set(\"spark.driver.memory\", \"28g\").set(\"spark.driver.cores\", \"8\")\n",
    "sc = SparkContext.getOrCreate(conf)\n",
    "spark = SparkSession.builder.getOrCreate()\n",
    "\n",
    "init_df = pd.read_csv(\"./train.csv\").dropna()\n",
    "init_df['UserId_fact'] = init_df['UserId'].astype('category').cat.codes\n",
    "init_df['ProductId_fact'] = init_df['ProductId'].astype('category').cat.codes\n",
    "\n",
    "from sklearn.model_selection import train_test_split\n",
    "\n",
    "X_train_processed, X_test_processed, Y_train, Y_test = train_test_split(\n",
    "    init_df.drop(['Score'], axis=1),\n",
    "    init_df['Score'],\n",
    "    test_size=1/4.0,\n",
    "    random_state=0\n",
    ")\n",
    "\n",
    "X_train_processed['Score'] = Y_train\n",
    "\n",
    "df = spark.createDataFrame(X_train_processed[['UserId_fact', 'ProductId_fact', 'Score']])\n",
    "als = ALS(userCol=\"UserId_fact\", itemCol=\"ProductId_fact\", ratingCol=\"Score\", coldStartStrategy=\"drop\", nonnegative=True)\n",
    "\n",
    "param_grid = ParamGridBuilder()\\\n",
    "    .addGrid(als.rank, [50, 100])\\\n",
    "    .addGrid(als.regParam, [0.05, 0.1])\\\n",
    "    .build()\n",
    "\n",
    "evaluator = RegressionEvaluator(metricName=\"rmse\", labelCol=\"Score\")\n",
    "cv = CrossValidator(estimator=als, estimatorParamMaps=param_grid, evaluator=evaluator, numFolds=3)\n",
    "rec_sys = cv.fit(df).bestModel\n",
    "\n",
    "\n",
    "mean_score = Y_train.mean()\n",
    "rec['prediction'].fillna(mean_score, inplace=True)\n",
    "\n",
    "if len(rec) != len(X_test_processed):\n",
    "    print(\"Warning: Mismatched number of predictions and test instances.\")\n",
    "\n",
    "X_test_processed['predicted_Score'] = rec['prediction']\n",
    "\n",
    "if X_test_processed['predicted_Score'].isna().any() or Y_test.isna().any():\n",
    "    print(\"Error: NaN values found in predictions or actual scores.\")\n",
    "\n",
    "    X_test_processed['predicted_Score'].fillna(mean_score, inplace=True)\n",
    "\n",
    "try:\n",
    "    rmse = mean_squared_error(Y_test, X_test_processed['predicted_Score'], squared=False)\n",
    "    print(\"Kaggle RMSE = \", rmse)\n",
    "except ValueError as e:\n",
    "    print(\"Error during RMSE calculation:\", e)\n"
   ]
  }
 ],
 "metadata": {
  "kernelspec": {
   "display_name": "Python 3 (ipykernel)",
   "language": "python",
   "name": "python3"
  },
  "language_info": {
   "codemirror_mode": {
    "name": "ipython",
    "version": 3
   },
   "file_extension": ".py",
   "mimetype": "text/x-python",
   "name": "python",
   "nbconvert_exporter": "python",
   "pygments_lexer": "ipython3",
   "version": "3.9.12"
  },
  "vscode": {
   "interpreter": {
    "hash": "e7370f93d1d0cde622a1f8e1c04877d8463912d04d973331ad4851f04de6915a"
   }
  }
 },
 "nbformat": 4,
 "nbformat_minor": 4
}
