{
 "cells": [
  {
   "attachments": {},
   "cell_type": "markdown",
   "metadata": {},
   "source": [
    "# Worksheet 17\n",
    "\n",
    "Name: Hao Qi, Hui Zheng  \n",
    "UID: U96305250, U80896784\n",
    "\n",
    "### Topics\n",
    "\n",
    "- Recommender Systems\n",
    "\n",
    "### Recommender Systems\n",
    "\n",
    "In the class example of recommending movies to users, we used the movie rating as a measure of similarity between users and movies. Thus, the predicted rating for a user is a proxy for how highly a movie should be recommended. The higher the predicted rating for a user, the higher a recommendation it would be. \n",
    "\n",
    "a) Consider a streaming platform that only has \"like\" or \"dislike\" (no 1-5 rating). Describe how you would build a recommender system in this case."
   ]
  },
  {
   "cell_type": "markdown",
   "metadata": {},
   "source": [
    "Build a recommender system using item-based collaborative filtering with the Jaccard similarity metric, given its simplicity and direct applicability to binary data (like or dislike): \n",
    "\n",
    "* Collect user interactions with items (here movies) in a binary form \n",
    "* Create the User-Item Matrix\n",
    "    * Rows represent users\n",
    "    * Columns represent items\n",
    "    * Cells contain binary values: 1 if the user liked the item, 0 if the user disliked it\n",
    "* Calculate the Jaccard similarity\n",
    "* Generate recommendations\n",
    "    * For each user:\n",
    "        * Identify items they have not rated\n",
    "        * Calculate a predicted score for each unrated item by aggregating the similarities of rated items weighted by the user's ratings\n",
    "        * Sort these items by their predicted scores in descending order and generate the top K recommendations\n"
   ]
  },
  {
   "cell_type": "markdown",
   "metadata": {},
   "source": [
    "b) Describe 3 challenges of building a recommender system. "
   ]
  },
  {
   "cell_type": "markdown",
   "metadata": {},
   "source": [
    "- **Sparse Data**: Sparse data complicates recommendations because there are often more items than ratings.  \n",
    "- **Scalability and Performance**: As the number of users and items increases, the computational demands to generate recommendations escalate, requiring efficient algorithms to maintain performance.  \n",
    "- **Cold Start Problem**: Recommender systems struggle with new users or items that lack historical data, requiring reliance on metadata or demographic information to make initial recommendations.  "
   ]
  },
  {
   "cell_type": "markdown",
   "metadata": {},
   "source": [
    "c) Why is SVD not an option for collaborative filtering?"
   ]
  },
  {
   "cell_type": "markdown",
   "metadata": {},
   "source": [
    "Traditional SVD is not directly applicable to collaborative filtering primarily due to the sparse nature of user-item interaction matrices, where most entries are missing. This means SVD, which requires a fully populated matrix, cannot be used without modifications. Additionally, traditional SVD struggles with scalability and lacks flexibility in integrating additional user or item metadata. Consequently, adaptations such as FunkSVD or SVD++ have been explicitly developed to handle missing values and incorporate additional contextual information. "
   ]
  },
  {
   "attachments": {},
   "cell_type": "markdown",
   "metadata": {},
   "source": [
    "d) Use the code below to train a recommender system on a dataset of Amazon movies. "
   ]
  },
  {
   "cell_type": "code",
   "execution_count": 70,
   "metadata": {},
   "outputs": [],
   "source": [
    "# Note: requires py3.10\n",
    "import findspark\n",
    "import pandas as pd\n",
    "import seaborn as sns\n",
    "import matplotlib.pyplot as plt\n",
    "\n",
    "from sklearn.model_selection import train_test_split\n",
    "from sklearn.metrics import mean_squared_error, confusion_matrix\n",
    "\n",
    "from pyspark.sql import SparkSession\n",
    "from pyspark import SparkConf, SparkContext\n",
    "from pyspark.ml.recommendation import ALS\n",
    "from pyspark.ml.tuning import ParamGridBuilder, CrossValidator\n",
    "from pyspark.ml.evaluation import RegressionEvaluator\n",
    "\n",
    "findspark.init()\n",
    "conf = SparkConf()\n",
    "conf.set(\"spark.executor.memory\", \"28g\")\n",
    "conf.set(\"spark.driver.memory\", \"28g\")\n",
    "conf.set(\"spark.driver.cores\", \"8\")\n",
    "sc = SparkContext.getOrCreate(conf)\n",
    "spark = SparkSession.builder.getOrCreate()\n",
    "\n",
    "init_df = pd.read_csv(\"./train.csv\").dropna()\n",
    "init_df['UserId_fact'] = init_df['UserId'].astype('category').cat.codes\n",
    "init_df['ProductId_fact'] = init_df['ProductId'].astype('category').cat.codes\n",
    "\n",
    "# Split dataset into training and testing sets\n",
    "X_train_processed, X_test_processed, Y_train, Y_test = train_test_split(\n",
    "        init_df.drop(['Score'], axis=1),\n",
    "        init_df['Score'],\n",
    "        test_size=1/4.0,\n",
    "        random_state=0)\n",
    "\n",
    "X_train_processed['Score'] = Y_train\n",
    "df = spark.createDataFrame(X_train_processed[['UserId_fact', 'ProductId_fact', 'Score']])"
   ]
  },
  {
   "cell_type": "code",
   "execution_count": 65,
   "metadata": {},
   "outputs": [
    {
     "name": "stderr",
     "output_type": "stream",
     "text": [
      "                                                                                \r"
     ]
    }
   ],
   "source": [
    "als = ALS(\n",
    "        userCol=\"UserId_fact\",\n",
    "        itemCol=\"ProductId_fact\",\n",
    "        ratingCol=\"Score\",\n",
    "        coldStartStrategy=\"drop\",       # nan\n",
    "        nonnegative=True\n",
    ")\n",
    "param_grid = ParamGridBuilder().addGrid(\n",
    "        als.rank, [10, 50, 100]).addGrid(\n",
    "        als.regParam, [0.01, 0.1, 0.2]).addGrid(\n",
    "        als.maxIter, [5, 10, 20]).build()\n",
    "evaluator = RegressionEvaluator(\n",
    "        metricName=\"rmse\",\n",
    "        labelCol=\"Score\", \n",
    "        predictionCol=\"prediction\")\n",
    "cv = CrossValidator(estimator=als, estimatorParamMaps=param_grid, evaluator=evaluator, numFolds=3, parallelism=6)\n",
    "\n",
    "cv_fit = cv.fit(df)\n",
    "rec_sys = cv_fit.bestModel"
   ]
  },
  {
   "cell_type": "code",
   "execution_count": 71,
   "metadata": {},
   "outputs": [],
   "source": [
    "rec_sys = als.fit(df)"
   ]
  },
  {
   "cell_type": "code",
   "execution_count": 18,
   "metadata": {},
   "outputs": [],
   "source": [
    "# rec_sys.save('rec_sys.obj') "
   ]
  },
  {
   "cell_type": "code",
   "execution_count": 72,
   "metadata": {},
   "outputs": [
    {
     "data": {
      "text/html": [
       "<div>\n",
       "<style scoped>\n",
       "    .dataframe tbody tr th:only-of-type {\n",
       "        vertical-align: middle;\n",
       "    }\n",
       "\n",
       "    .dataframe tbody tr th {\n",
       "        vertical-align: top;\n",
       "    }\n",
       "\n",
       "    .dataframe thead th {\n",
       "        text-align: right;\n",
       "    }\n",
       "</style>\n",
       "<table border=\"1\" class=\"dataframe\">\n",
       "  <thead>\n",
       "    <tr style=\"text-align: right;\">\n",
       "      <th></th>\n",
       "      <th>UserId_fact</th>\n",
       "      <th>ProductId_fact</th>\n",
       "      <th>prediction</th>\n",
       "    </tr>\n",
       "  </thead>\n",
       "  <tbody>\n",
       "    <tr>\n",
       "      <th>0</th>\n",
       "      <td>1138</td>\n",
       "      <td>3918</td>\n",
       "      <td>3.023197</td>\n",
       "    </tr>\n",
       "    <tr>\n",
       "      <th>1</th>\n",
       "      <td>1118</td>\n",
       "      <td>3179</td>\n",
       "      <td>0.724142</td>\n",
       "    </tr>\n",
       "    <tr>\n",
       "      <th>2</th>\n",
       "      <td>6915</td>\n",
       "      <td>4190</td>\n",
       "      <td>2.890679</td>\n",
       "    </tr>\n",
       "    <tr>\n",
       "      <th>3</th>\n",
       "      <td>6169</td>\n",
       "      <td>1460</td>\n",
       "      <td>1.859119</td>\n",
       "    </tr>\n",
       "    <tr>\n",
       "      <th>4</th>\n",
       "      <td>5830</td>\n",
       "      <td>4186</td>\n",
       "      <td>1.299382</td>\n",
       "    </tr>\n",
       "    <tr>\n",
       "      <th>...</th>\n",
       "      <td>...</td>\n",
       "      <td>...</td>\n",
       "      <td>...</td>\n",
       "    </tr>\n",
       "    <tr>\n",
       "      <th>206</th>\n",
       "      <td>7447</td>\n",
       "      <td>6247</td>\n",
       "      <td>1.687569</td>\n",
       "    </tr>\n",
       "    <tr>\n",
       "      <th>207</th>\n",
       "      <td>7629</td>\n",
       "      <td>18</td>\n",
       "      <td>1.225082</td>\n",
       "    </tr>\n",
       "    <tr>\n",
       "      <th>208</th>\n",
       "      <td>4279</td>\n",
       "      <td>4106</td>\n",
       "      <td>0.277838</td>\n",
       "    </tr>\n",
       "    <tr>\n",
       "      <th>209</th>\n",
       "      <td>3756</td>\n",
       "      <td>6634</td>\n",
       "      <td>0.401776</td>\n",
       "    </tr>\n",
       "    <tr>\n",
       "      <th>210</th>\n",
       "      <td>6148</td>\n",
       "      <td>5806</td>\n",
       "      <td>2.431512</td>\n",
       "    </tr>\n",
       "  </tbody>\n",
       "</table>\n",
       "<p>211 rows × 3 columns</p>\n",
       "</div>"
      ],
      "text/plain": [
       "     UserId_fact  ProductId_fact  prediction\n",
       "0           1138            3918    3.023197\n",
       "1           1118            3179    0.724142\n",
       "2           6915            4190    2.890679\n",
       "3           6169            1460    1.859119\n",
       "4           5830            4186    1.299382\n",
       "..           ...             ...         ...\n",
       "206         7447            6247    1.687569\n",
       "207         7629              18    1.225082\n",
       "208         4279            4106    0.277838\n",
       "209         3756            6634    0.401776\n",
       "210         6148            5806    2.431512\n",
       "\n",
       "[211 rows x 3 columns]"
      ]
     },
     "execution_count": 72,
     "metadata": {},
     "output_type": "execute_result"
    }
   ],
   "source": [
    "rec = rec_sys.transform(spark.createDataFrame(X_test_processed[['UserId_fact', 'ProductId_fact']])).toPandas()\n",
    "\n",
    "# find cold start problem here\n",
    "rec"
   ]
  },
  {
   "cell_type": "code",
   "execution_count": 73,
   "metadata": {},
   "outputs": [
    {
     "name": "stdout",
     "output_type": "stream",
     "text": [
      "Kaggle RMSE =  1.6664933243190625\n"
     ]
    },
    {
     "data": {
      "image/png": "[encoded data removed]",
      "text/plain": [
       "<Figure size 640x480 with 2 Axes>"
      ]
     },
     "metadata": {},
     "output_type": "display_data"
    }
   ],
   "source": [
    "import random\n",
    "\n",
    "substitute = Y_train.value_counts().head(1).index.tolist()\n",
    "\n",
    "def fill_with_random(item):\n",
    "    if pd.isna(item):\n",
    "        return random.choice(substitute)\n",
    "    else:\n",
    "        return item\n",
    "\n",
    "X_test_processed = X_test_processed.merge(rec, on=['UserId_fact', 'ProductId_fact'], how='left')\n",
    "# X_test_processed['Score'] = X_test_processed['prediction'].fillna(X_test_processed['prediction'].mean()).round().astype(int)\n",
    "X_test_processed['Score'] = X_test_processed['prediction'].apply(fill_with_random).round().astype(int)\n",
    "\n",
    "print(\"Kaggle RMSE = \", mean_squared_error(X_test_processed['Score'], Y_test, squared=False))\n",
    "\n",
    "cm = confusion_matrix(Y_test, X_test_processed['Score'], normalize='true')\n",
    "sns.heatmap(cm, annot=True)\n",
    "plt.title('Confusion Matrix')\n",
    "plt.xlabel('Predicted')\n",
    "plt.ylabel('True')\n",
    "plt.show()"
   ]
  }
 ],
 "metadata": {
  "kernelspec": {
   "display_name": "Python 3",
   "language": "python",
   "name": "python3"
  },
  "language_info": {
   "codemirror_mode": {
    "name": "ipython",
    "version": 3
   },
   "file_extension": ".py",
   "mimetype": "text/x-python",
   "name": "python",
   "nbconvert_exporter": "python",
   "pygments_lexer": "ipython3",
   "version": "3.10.13"
  },
  "orig_nbformat": 4,
  "vscode": {
   "interpreter": {
    "hash": "e7370f93d1d0cde622a1f8e1c04877d8463912d04d973331ad4851f04de6915a"
   }
  }
 },
 "nbformat": 4,
 "nbformat_minor": 2
}
